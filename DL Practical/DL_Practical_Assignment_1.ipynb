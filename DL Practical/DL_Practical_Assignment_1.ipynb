{
  "cells": [
    {
      "cell_type": "markdown",
      "id": "06f10b11-8e8d-4a78-af31-42d3d40bacc8",
      "metadata": {
        "id": "06f10b11-8e8d-4a78-af31-42d3d40bacc8"
      },
      "source": [
        "# Assignment 1 Solution"
      ]
    },
    {
      "cell_type": "markdown",
      "id": "8b7f1fab-9a0d-4e7f-894a-76e99ca08edc",
      "metadata": {
        "id": "8b7f1fab-9a0d-4e7f-894a-76e99ca08edc"
      },
      "source": [
        "**Objective: -** Predict Next Sequence\n",
        "To start with deep learning, the very basic project that you can build is to\n",
        "predict the next digit in a sequence.\n",
        "\n",
        "**Dataset: -** Create a sequence like a list of odd numbers and then build a model\n",
        "and train it to predict the next digit in the sequence.\n",
        "\n",
        "**Task: -** A simple neural network with 2 layers would be sufficient to build the\n",
        "model."
      ]
    },
    {
      "cell_type": "code",
      "execution_count": null,
      "id": "9e0bb8ce-96a6-42ff-8c8d-30b23e93bb3f",
      "metadata": {
        "tags": [],
        "id": "9e0bb8ce-96a6-42ff-8c8d-30b23e93bb3f"
      },
      "outputs": [],
      "source": [
        "import numpy as np\n",
        "from tensorflow import keras\n",
        "from tensorflow.keras.models import Sequential\n",
        "from tensorflow.keras.layers import Dense"
      ]
    },
    {
      "cell_type": "code",
      "execution_count": null,
      "id": "634c9ab2-e0ba-405b-af7f-958cb03564c8",
      "metadata": {
        "tags": [],
        "id": "634c9ab2-e0ba-405b-af7f-958cb03564c8"
      },
      "outputs": [],
      "source": [
        "# Create a sequence of odd numbers\n",
        "data = np.array([1, 3, 5, 7, 9, 11, 13, 15])"
      ]
    },
    {
      "cell_type": "code",
      "execution_count": null,
      "id": "6c8849f7-d5dd-4a31-8a3a-241de8d40ae6",
      "metadata": {
        "tags": [],
        "id": "6c8849f7-d5dd-4a31-8a3a-241de8d40ae6"
      },
      "outputs": [],
      "source": [
        "# Split the data into input (X) and output (y) variables\n",
        "X = data[:-1]\n",
        "y = data[1:]"
      ]
    },
    {
      "cell_type": "code",
      "execution_count": null,
      "id": "e5419b7d-304b-4d10-91e5-ef6d4eba2dcf",
      "metadata": {
        "tags": [],
        "id": "e5419b7d-304b-4d10-91e5-ef6d4eba2dcf"
      },
      "outputs": [],
      "source": [
        "# Define the model\n",
        "model = Sequential()\n",
        "model.add(Dense(2, input_dim=1))\n",
        "model.add(Dense(1))\n",
        "model.compile(loss='mean_squared_error', optimizer='adam')"
      ]
    },
    {
      "cell_type": "code",
      "execution_count": null,
      "id": "07120b71-70a1-4d42-8529-76bebb71cd24",
      "metadata": {
        "tags": [],
        "id": "07120b71-70a1-4d42-8529-76bebb71cd24",
        "outputId": "b378471d-df64-4a7c-cac0-1fe018c75614"
      },
      "outputs": [
        {
          "data": {
            "text/plain": [
              "<tensorflow.python.keras.callbacks.History at 0x1e438752490>"
            ]
          },
          "execution_count": 5,
          "metadata": {},
          "output_type": "execute_result"
        }
      ],
      "source": [
        "# Fit the model to the data\n",
        "model.fit(X, y, epochs=2000, verbose=0)"
      ]
    },
    {
      "cell_type": "code",
      "execution_count": null,
      "id": "8ad04607-800a-46b3-b4bd-02fd2242f73c",
      "metadata": {
        "tags": [],
        "id": "8ad04607-800a-46b3-b4bd-02fd2242f73c",
        "outputId": "29d1207d-1b59-4be4-877b-b7d20ba8c5d1"
      },
      "outputs": [
        {
          "name": "stdout",
          "output_type": "stream",
          "text": [
            "Predicted: 19.004353\n"
          ]
        }
      ],
      "source": [
        "# Make a prediction for the next digit in the sequence\n",
        "x_input = np.array([17])\n",
        "x_input = x_input.reshape((1, 1))\n",
        "yhat = model.predict(x_input)\n",
        "print('Predicted:', yhat[0][0])"
      ]
    },
    {
      "cell_type": "code",
      "execution_count": null,
      "id": "871de228-fc0e-4ee8-ac41-498831fb13cc",
      "metadata": {
        "id": "871de228-fc0e-4ee8-ac41-498831fb13cc"
      },
      "outputs": [],
      "source": []
    }
  ],
  "metadata": {
    "kernelspec": {
      "display_name": "Python 3 (ipykernel)",
      "language": "python",
      "name": "python3"
    },
    "language_info": {
      "codemirror_mode": {
        "name": "ipython",
        "version": 3
      },
      "file_extension": ".py",
      "mimetype": "text/x-python",
      "name": "python",
      "nbconvert_exporter": "python",
      "pygments_lexer": "ipython3",
      "version": "3.8.0"
    },
    "colab": {
      "provenance": []
    }
  },
  "nbformat": 4,
  "nbformat_minor": 5
}