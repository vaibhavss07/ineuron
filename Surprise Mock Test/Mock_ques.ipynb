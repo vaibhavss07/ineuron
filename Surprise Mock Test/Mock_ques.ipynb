{
  "nbformat": 4,
  "nbformat_minor": 0,
  "metadata": {
    "colab": {
      "provenance": []
    },
    "kernelspec": {
      "name": "python3",
      "display_name": "Python 3"
    },
    "language_info": {
      "name": "python"
    }
  },
  "cells": [
    {
      "cell_type": "markdown",
      "source": [
        "1. Given an integer array nums, move all 0's to the end of it while maintaining the relative order of the non-zero elements.\n",
        "\n",
        "Note that you must do this in-place without making a copy of the array.\n",
        "\n",
        "Example 1:\n",
        "\n",
        "Input: nums = [0,1,0,3,12]\n",
        "\n",
        "Output: [1,3,12,0,0]\n",
        "\n",
        "Example 2:\n",
        "\n",
        "Input: nums = [0]\n",
        "\n",
        "Output: [0]\n",
        "\n",
        "Constraints:\n",
        "\n",
        "a. 1 <= nums.length <= 10^4\n",
        "\n",
        "b. -2^31 <= nums[i] <= 2^31 - 1"
      ],
      "metadata": {
        "id": "mKSZ9P90zWum"
      }
    },
    {
      "cell_type": "code",
      "execution_count": 1,
      "metadata": {
        "colab": {
          "base_uri": "https://localhost:8080/"
        },
        "id": "YCESZTKMzU3T",
        "outputId": "341fa600-ad81-4e27-af1d-96906ce6aa09"
      },
      "outputs": [
        {
          "output_type": "stream",
          "name": "stdout",
          "text": [
            "[1, 3, 12, 0, 0]\n",
            "[0]\n"
          ]
        }
      ],
      "source": [
        "def moveZeroes(nums):\n",
        "    zero_index = 0  # Index to keep track of the position to place the next non-zero element\n",
        "\n",
        "    # Iterate through the array\n",
        "    for i in range(len(nums)):\n",
        "        if nums[i] != 0:  # If the current element is non-zero\n",
        "            nums[i], nums[zero_index] = nums[zero_index], nums[i]\n",
        "            zero_index += 1\n",
        "\n",
        "    return nums\n",
        "\n",
        "# Test case 1\n",
        "nums1 = [0, 1, 0, 3, 12]\n",
        "print(moveZeroes(nums1))  # Output: [1, 3, 12, 0, 0]\n",
        "\n",
        "# Test case 2\n",
        "nums2 = [0]\n",
        "print(moveZeroes(nums2))  # Output: [0]"
      ]
    },
    {
      "cell_type": "markdown",
      "source": [
        "2. Given a string s, find the first non-repeating character in it and return its index. If it does not exist, return -1.\n",
        "\n",
        "Example 1:\n",
        "\n",
        "Input: s = \"leetcode\"\n",
        "\n",
        "Output: 0\n",
        "\n",
        "Example 2:\n",
        "\n",
        "Input: s = \"loveleetcode\"\n",
        "\n",
        "Output: 2\n",
        "\n",
        "Example 3:\n",
        "\n",
        "Input: s = \"aabb\"\n",
        "\n",
        "Output: -1\n",
        "\n",
        "Constraints:\n",
        "\n",
        "a. 1 <= s.length <= 10^5\n",
        "\n",
        "b. s consists of only lowercase English letters."
      ],
      "metadata": {
        "id": "FupZWeRt0Zqg"
      }
    },
    {
      "cell_type": "code",
      "source": [
        "def firstUniqChar(s):\n",
        "    char_count = {}  # Dictionary to store character counts\n",
        "\n",
        "    # Count the occurrences of each character in the string\n",
        "    for char in s:\n",
        "        if char in char_count:\n",
        "            char_count[char] += 1\n",
        "        else:\n",
        "            char_count[char] = 1\n",
        "\n",
        "    # Find the index of the first non-repeating character\n",
        "    for i in range(len(s)):\n",
        "        if char_count[s[i]] == 1:\n",
        "            return i\n",
        "\n",
        "    return -1  # If no non-repeating character is found\n",
        "\n",
        "# Test case 1\n",
        "s1 = \"leetcode\"\n",
        "print(firstUniqChar(s1))  # Output: 0\n",
        "\n",
        "# Test case 2\n",
        "s2 = \"loveleetcode\"\n",
        "print(firstUniqChar(s2))  # Output: 2\n",
        "\n",
        "# Test case 3\n",
        "s3 = \"aabb\"\n",
        "print(firstUniqChar(s3))  # Output: -1\n"
      ],
      "metadata": {
        "colab": {
          "base_uri": "https://localhost:8080/"
        },
        "id": "jfPtnNay0XfZ",
        "outputId": "064aaa3c-6bff-4633-d311-18594d1a4515"
      },
      "execution_count": 2,
      "outputs": [
        {
          "output_type": "stream",
          "name": "stdout",
          "text": [
            "0\n",
            "2\n",
            "-1\n"
          ]
        }
      ]
    }
  ]
}