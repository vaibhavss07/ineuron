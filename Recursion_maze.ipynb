{
  "nbformat": 4,
  "nbformat_minor": 0,
  "metadata": {
    "colab": {
      "provenance": []
    },
    "kernelspec": {
      "name": "python3",
      "display_name": "Python 3"
    },
    "language_info": {
      "name": "python"
    }
  },
  "cells": [
    {
      "cell_type": "code",
      "execution_count": 1,
      "metadata": {
        "id": "7GR47IO3rQbu"
      },
      "outputs": [],
      "source": [
        "maze=[['.','.','.','.'],\n",
        "      ['.','x','x','x'],\n",
        "      ['.','.','.','x'],\n",
        "      ['x','x','.','.']]\n",
        "\n",
        "def print_maze(maze):\n",
        "    for row in maze:\n",
        "        ar=''\n",
        "        for col in row:\n",
        "            ar=ar+col+' '\n",
        "        print(ar)\n",
        "\n",
        "def solve_maze(maze):\n",
        "    return solve_maze_helper(maze,[],0,0)\n",
        "\n",
        "def solve_maze_helper(maze,sol,pos_row,pos_col):\n",
        "    #get size of the maze\n",
        "    num_row=len(maze)\n",
        "    num_col=len(maze[0])\n",
        "\n",
        "    #base cases\n",
        "\n",
        "    #robot is already home\n",
        "    if pos_row==num_row-1 and pos_col==num_col-1:\n",
        "        return sol\n",
        "\n",
        "    #Out of bounds\n",
        "    if pos_row >=num_row or pos_col >=num_col:\n",
        "        return None\n",
        "\n",
        "    #is on an obstacle\n",
        "    if maze[pos_row][pos_col]=='x':\n",
        "        return None\n",
        "\n",
        "    #recursive case\n",
        "    #try going right\n",
        "    sol.append('r')\n",
        "\n",
        "    sol_going_right= solve_maze_helper(maze,sol,pos_row,pos_col+1)\n",
        "    if sol_going_right is not None:\n",
        "        return sol_going_right\n",
        "\n",
        "    #if going right doesnt work\n",
        "    sol.pop()\n",
        "\n",
        "    sol.append('d')\n",
        "\n",
        "    sol_going_down= solve_maze_helper(maze,sol,pos_row+1,pos_col)\n",
        "    if sol_going_down is not None:\n",
        "        return sol_going_down\n",
        "\n",
        "    #no solution\n",
        "    sol.pop()\n",
        "\n",
        "    return None"
      ]
    },
    {
      "cell_type": "code",
      "source": [
        "solve_maze(maze)"
      ],
      "metadata": {
        "colab": {
          "base_uri": "https://localhost:8080/"
        },
        "id": "jMZPau_trXbV",
        "outputId": "fe717cb7-797c-45f6-b891-920b2e4a4aaf"
      },
      "execution_count": 2,
      "outputs": [
        {
          "output_type": "execute_result",
          "data": {
            "text/plain": [
              "['d', 'd', 'r', 'r', 'd', 'r']"
            ]
          },
          "metadata": {},
          "execution_count": 2
        }
      ]
    },
    {
      "cell_type": "code",
      "source": [],
      "metadata": {
        "id": "xm9QIKuqrZ7l"
      },
      "execution_count": null,
      "outputs": []
    }
  ]
}