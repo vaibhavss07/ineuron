{
 "cells": [
  {
   "cell_type": "code",
   "execution_count": 1,
   "id": "31606010",
   "metadata": {
    "execution": {
     "iopub.execute_input": "2023-05-22T10:14:11.016942Z",
     "iopub.status.busy": "2023-05-22T10:14:11.016494Z",
     "iopub.status.idle": "2023-05-22T10:14:11.021990Z",
     "shell.execute_reply": "2023-05-22T10:14:11.020883Z"
    },
    "papermill": {
     "duration": 0.015768,
     "end_time": "2023-05-22T10:14:11.025531",
     "exception": false,
     "start_time": "2023-05-22T10:14:11.009763",
     "status": "completed"
    },
    "tags": []
   },
   "outputs": [],
   "source": [
    "## Comment\n",
    "## Observation"
   ]
  },
  {
   "cell_type": "code",
   "execution_count": 2,
   "id": "162bd661",
   "metadata": {
    "execution": {
     "iopub.execute_input": "2023-05-22T10:14:11.036765Z",
     "iopub.status.busy": "2023-05-22T10:14:11.035942Z",
     "iopub.status.idle": "2023-05-22T10:14:12.560695Z",
     "shell.execute_reply": "2023-05-22T10:14:12.559608Z"
    },
    "papermill": {
     "duration": 1.533467,
     "end_time": "2023-05-22T10:14:12.563376",
     "exception": false,
     "start_time": "2023-05-22T10:14:11.029909",
     "status": "completed"
    },
    "tags": []
   },
   "outputs": [
    {
     "name": "stderr",
     "output_type": "stream",
     "text": [
      "/opt/conda/lib/python3.10/site-packages/scipy/__init__.py:146: UserWarning: A NumPy version >=1.16.5 and <1.23.0 is required for this version of SciPy (detected version 1.23.5\n",
      "  warnings.warn(f\"A NumPy version >={np_minversion} and <{np_maxversion}\"\n"
     ]
    }
   ],
   "source": [
    "## Import the necessary libraries:-\n",
    "import pandas as pd\n",
    "from sklearn.feature_extraction.text import TfidfVectorizer\n",
    "from sklearn.metrics.pairwise import cosine_similarity, euclidean_distances, manhattan_distances\n"
   ]
  },
  {
   "cell_type": "code",
   "execution_count": 3,
   "id": "5679ed13",
   "metadata": {
    "execution": {
     "iopub.execute_input": "2023-05-22T10:14:12.574127Z",
     "iopub.status.busy": "2023-05-22T10:14:12.573630Z",
     "iopub.status.idle": "2023-05-22T10:14:16.255766Z",
     "shell.execute_reply": "2023-05-22T10:14:16.254364Z"
    },
    "papermill": {
     "duration": 3.691103,
     "end_time": "2023-05-22T10:14:16.258753",
     "exception": false,
     "start_time": "2023-05-22T10:14:12.567650",
     "status": "completed"
    },
    "tags": []
   },
   "outputs": [],
   "source": [
    "# Load the dataset\n",
    "data = pd.read_json(\"/kaggle/input/news-category-dataset/News_Category_Dataset_v3.json\", lines=True)"
   ]
  },
  {
   "cell_type": "code",
   "execution_count": 4,
   "id": "6b2fcf05",
   "metadata": {
    "execution": {
     "iopub.execute_input": "2023-05-22T10:14:16.271142Z",
     "iopub.status.busy": "2023-05-22T10:14:16.270657Z",
     "iopub.status.idle": "2023-05-22T10:14:16.303795Z",
     "shell.execute_reply": "2023-05-22T10:14:16.302779Z"
    },
    "papermill": {
     "duration": 0.043285,
     "end_time": "2023-05-22T10:14:16.306855",
     "exception": false,
     "start_time": "2023-05-22T10:14:16.263570",
     "status": "completed"
    },
    "tags": []
   },
   "outputs": [
    {
     "data": {
      "text/html": [
       "<div>\n",
       "<style scoped>\n",
       "    .dataframe tbody tr th:only-of-type {\n",
       "        vertical-align: middle;\n",
       "    }\n",
       "\n",
       "    .dataframe tbody tr th {\n",
       "        vertical-align: top;\n",
       "    }\n",
       "\n",
       "    .dataframe thead th {\n",
       "        text-align: right;\n",
       "    }\n",
       "</style>\n",
       "<table border=\"1\" class=\"dataframe\">\n",
       "  <thead>\n",
       "    <tr style=\"text-align: right;\">\n",
       "      <th></th>\n",
       "      <th>link</th>\n",
       "      <th>headline</th>\n",
       "      <th>category</th>\n",
       "      <th>short_description</th>\n",
       "      <th>authors</th>\n",
       "      <th>date</th>\n",
       "    </tr>\n",
       "  </thead>\n",
       "  <tbody>\n",
       "    <tr>\n",
       "      <th>0</th>\n",
       "      <td>https://www.huffpost.com/entry/covid-boosters-...</td>\n",
       "      <td>Over 4 Million Americans Roll Up Sleeves For O...</td>\n",
       "      <td>U.S. NEWS</td>\n",
       "      <td>Health experts said it is too early to predict...</td>\n",
       "      <td>Carla K. Johnson, AP</td>\n",
       "      <td>2022-09-23</td>\n",
       "    </tr>\n",
       "    <tr>\n",
       "      <th>1</th>\n",
       "      <td>https://www.huffpost.com/entry/american-airlin...</td>\n",
       "      <td>American Airlines Flyer Charged, Banned For Li...</td>\n",
       "      <td>U.S. NEWS</td>\n",
       "      <td>He was subdued by passengers and crew when he ...</td>\n",
       "      <td>Mary Papenfuss</td>\n",
       "      <td>2022-09-23</td>\n",
       "    </tr>\n",
       "    <tr>\n",
       "      <th>2</th>\n",
       "      <td>https://www.huffpost.com/entry/funniest-tweets...</td>\n",
       "      <td>23 Of The Funniest Tweets About Cats And Dogs ...</td>\n",
       "      <td>COMEDY</td>\n",
       "      <td>\"Until you have a dog you don't understand wha...</td>\n",
       "      <td>Elyse Wanshel</td>\n",
       "      <td>2022-09-23</td>\n",
       "    </tr>\n",
       "    <tr>\n",
       "      <th>3</th>\n",
       "      <td>https://www.huffpost.com/entry/funniest-parent...</td>\n",
       "      <td>The Funniest Tweets From Parents This Week (Se...</td>\n",
       "      <td>PARENTING</td>\n",
       "      <td>\"Accidentally put grown-up toothpaste on my to...</td>\n",
       "      <td>Caroline Bologna</td>\n",
       "      <td>2022-09-23</td>\n",
       "    </tr>\n",
       "    <tr>\n",
       "      <th>4</th>\n",
       "      <td>https://www.huffpost.com/entry/amy-cooper-lose...</td>\n",
       "      <td>Woman Who Called Cops On Black Bird-Watcher Lo...</td>\n",
       "      <td>U.S. NEWS</td>\n",
       "      <td>Amy Cooper accused investment firm Franklin Te...</td>\n",
       "      <td>Nina Golgowski</td>\n",
       "      <td>2022-09-22</td>\n",
       "    </tr>\n",
       "  </tbody>\n",
       "</table>\n",
       "</div>"
      ],
      "text/plain": [
       "                                                link  \\\n",
       "0  https://www.huffpost.com/entry/covid-boosters-...   \n",
       "1  https://www.huffpost.com/entry/american-airlin...   \n",
       "2  https://www.huffpost.com/entry/funniest-tweets...   \n",
       "3  https://www.huffpost.com/entry/funniest-parent...   \n",
       "4  https://www.huffpost.com/entry/amy-cooper-lose...   \n",
       "\n",
       "                                            headline   category  \\\n",
       "0  Over 4 Million Americans Roll Up Sleeves For O...  U.S. NEWS   \n",
       "1  American Airlines Flyer Charged, Banned For Li...  U.S. NEWS   \n",
       "2  23 Of The Funniest Tweets About Cats And Dogs ...     COMEDY   \n",
       "3  The Funniest Tweets From Parents This Week (Se...  PARENTING   \n",
       "4  Woman Who Called Cops On Black Bird-Watcher Lo...  U.S. NEWS   \n",
       "\n",
       "                                   short_description               authors  \\\n",
       "0  Health experts said it is too early to predict...  Carla K. Johnson, AP   \n",
       "1  He was subdued by passengers and crew when he ...        Mary Papenfuss   \n",
       "2  \"Until you have a dog you don't understand wha...         Elyse Wanshel   \n",
       "3  \"Accidentally put grown-up toothpaste on my to...      Caroline Bologna   \n",
       "4  Amy Cooper accused investment firm Franklin Te...        Nina Golgowski   \n",
       "\n",
       "        date  \n",
       "0 2022-09-23  \n",
       "1 2022-09-23  \n",
       "2 2022-09-23  \n",
       "3 2022-09-23  \n",
       "4 2022-09-22  "
      ]
     },
     "execution_count": 4,
     "metadata": {},
     "output_type": "execute_result"
    }
   ],
   "source": [
    "## Checking Top 5 Rows\n",
    "data.head()"
   ]
  },
  {
   "cell_type": "code",
   "execution_count": 5,
   "id": "bfeec142",
   "metadata": {
    "execution": {
     "iopub.execute_input": "2023-05-22T10:14:16.320246Z",
     "iopub.status.busy": "2023-05-22T10:14:16.319000Z",
     "iopub.status.idle": "2023-05-22T10:14:16.340424Z",
     "shell.execute_reply": "2023-05-22T10:14:16.339566Z"
    },
    "papermill": {
     "duration": 0.031311,
     "end_time": "2023-05-22T10:14:16.343344",
     "exception": false,
     "start_time": "2023-05-22T10:14:16.312033",
     "status": "completed"
    },
    "tags": []
   },
   "outputs": [],
   "source": [
    "# Select relevant columns for analysis\n",
    "data = data[['category', 'headline', 'short_description']]"
   ]
  },
  {
   "cell_type": "code",
   "execution_count": 6,
   "id": "8c981dbd",
   "metadata": {
    "execution": {
     "iopub.execute_input": "2023-05-22T10:14:16.355457Z",
     "iopub.status.busy": "2023-05-22T10:14:16.354549Z",
     "iopub.status.idle": "2023-05-22T10:14:16.489936Z",
     "shell.execute_reply": "2023-05-22T10:14:16.488727Z"
    },
    "papermill": {
     "duration": 0.1445,
     "end_time": "2023-05-22T10:14:16.492836",
     "exception": false,
     "start_time": "2023-05-22T10:14:16.348336",
     "status": "completed"
    },
    "tags": []
   },
   "outputs": [],
   "source": [
    "# Preprocess the data\n",
    "data['text'] = data['headline'] + ' ' + data['short_description']"
   ]
  },
  {
   "cell_type": "code",
   "execution_count": 7,
   "id": "c4367f81",
   "metadata": {
    "execution": {
     "iopub.execute_input": "2023-05-22T10:14:16.504391Z",
     "iopub.status.busy": "2023-05-22T10:14:16.503908Z",
     "iopub.status.idle": "2023-05-22T10:14:26.120523Z",
     "shell.execute_reply": "2023-05-22T10:14:26.119379Z"
    },
    "papermill": {
     "duration": 9.625877,
     "end_time": "2023-05-22T10:14:26.123477",
     "exception": false,
     "start_time": "2023-05-22T10:14:16.497600",
     "status": "completed"
    },
    "tags": []
   },
   "outputs": [],
   "source": [
    "# Vectorize the text data\n",
    "vectorizer = TfidfVectorizer()\n",
    "X = vectorizer.fit_transform(data['text'])"
   ]
  },
  {
   "cell_type": "code",
   "execution_count": 8,
   "id": "bc9aca48",
   "metadata": {
    "execution": {
     "iopub.execute_input": "2023-05-22T10:14:26.134486Z",
     "iopub.status.busy": "2023-05-22T10:14:26.134068Z",
     "iopub.status.idle": "2023-05-22T10:14:26.141776Z",
     "shell.execute_reply": "2023-05-22T10:14:26.140642Z"
    },
    "papermill": {
     "duration": 0.01608,
     "end_time": "2023-05-22T10:14:26.144226",
     "exception": false,
     "start_time": "2023-05-22T10:14:26.128146",
     "status": "completed"
    },
    "tags": []
   },
   "outputs": [],
   "source": [
    "# Function to find the most similar data using different similarity algorithms\n",
    "def find_similar_data(query, top_n=5):\n",
    "    # Vectorize the query\n",
    "    query_vector = vectorizer.transform([query])\n",
    "\n",
    "    # Calculate similarities using different algorithms\n",
    "    cosine_sim = cosine_similarity(X, query_vector).flatten()\n",
    "    euclidean_sim = euclidean_distances(X, query_vector).flatten()\n",
    "    manhattan_sim = manhattan_distances(X, query_vector).flatten()\n",
    "\n",
    "\n",
    "    # Combine similarities from different algorithms\n",
    "    similarity_scores = (cosine_sim + euclidean_sim + manhattan_sim ) / 4\n",
    "\n",
    "    # Find the indices of top similar data points\n",
    "    top_indices = similarity_scores.argsort()[-top_n:][::-1]\n",
    "\n",
    "    # Return the top similar data points\n",
    "    similar_data = data.iloc[top_indices]\n",
    "\n",
    "    return similar_data"
   ]
  },
  {
   "cell_type": "code",
   "execution_count": 9,
   "id": "4fb5fb7f",
   "metadata": {
    "execution": {
     "iopub.execute_input": "2023-05-22T10:14:26.156024Z",
     "iopub.status.busy": "2023-05-22T10:14:26.155631Z",
     "iopub.status.idle": "2023-05-22T10:14:26.542823Z",
     "shell.execute_reply": "2023-05-22T10:14:26.540617Z"
    },
    "papermill": {
     "duration": 0.396715,
     "end_time": "2023-05-22T10:14:26.545938",
     "exception": false,
     "start_time": "2023-05-22T10:14:26.149223",
     "status": "completed"
    },
    "tags": []
   },
   "outputs": [
    {
     "name": "stdout",
     "output_type": "stream",
     "text": [
      "         category                          headline  \\\n",
      "109802  WORLDPOST  Weekend Roundup: Laughing at God   \n",
      "66816    POLITICS                    Sunday Roundup   \n",
      "63109    POLITICS                    Sunday Roundup   \n",
      "107893   POLITICS                    Sunday Roundup   \n",
      "64398    POLITICS                    Sunday Roundup   \n",
      "\n",
      "                                        short_description  \\\n",
      "109802  The first principle of an open society is not ...   \n",
      "66816   This week the nation watched as the #NeverTrum...   \n",
      "63109   This week, the nation was reminded, in ways bo...   \n",
      "107893  This week began with \"The Horrible Call\" final...   \n",
      "64398   This week started off with the horror in Orlan...   \n",
      "\n",
      "                                                     text  \n",
      "109802  Weekend Roundup: Laughing at God The first pri...  \n",
      "66816   Sunday Roundup This week the nation watched as...  \n",
      "63109   Sunday Roundup This week, the nation was remin...  \n",
      "107893  Sunday Roundup This week began with \"The Horri...  \n",
      "64398   Sunday Roundup This week started off with the ...  \n"
     ]
    }
   ],
   "source": [
    "# Example usage\n",
    "query = \"New research on climate change\"\n",
    "similar_data = find_similar_data(query)\n",
    "print(similar_data)\n"
   ]
  },
  {
   "cell_type": "markdown",
   "id": "2bbd7c74",
   "metadata": {
    "papermill": {
     "duration": 0.004486,
     "end_time": "2023-05-22T10:14:26.555218",
     "exception": false,
     "start_time": "2023-05-22T10:14:26.550732",
     "status": "completed"
    },
    "tags": []
   },
   "source": [
    "# Thank You"
   ]
  }
 ],
 "metadata": {
  "kernelspec": {
   "display_name": "Python 3",
   "language": "python",
   "name": "python3"
  },
  "language_info": {
   "codemirror_mode": {
    "name": "ipython",
    "version": 3
   },
   "file_extension": ".py",
   "mimetype": "text/x-python",
   "name": "python",
   "nbconvert_exporter": "python",
   "pygments_lexer": "ipython3",
   "version": "3.10.10"
  },
  "papermill": {
   "default_parameters": {},
   "duration": 29.67185,
   "end_time": "2023-05-22T10:14:27.783592",
   "environment_variables": {},
   "exception": null,
   "input_path": "__notebook__.ipynb",
   "output_path": "__notebook__.ipynb",
   "parameters": {},
   "start_time": "2023-05-22T10:13:58.111742",
   "version": "2.4.0"
  }
 },
 "nbformat": 4,
 "nbformat_minor": 5
}
