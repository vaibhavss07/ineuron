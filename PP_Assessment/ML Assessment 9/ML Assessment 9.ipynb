{
 "cells": [
  {
   "cell_type": "markdown",
   "id": "b2e68835",
   "metadata": {
    "papermill": {
     "duration": 0.015996,
     "end_time": "2023-05-14T14:03:31.353058",
     "exception": false,
     "start_time": "2023-05-14T14:03:31.337062",
     "status": "completed"
    },
    "tags": []
   },
   "source": [
    "### Feature selection: [Use Chi-Square Test and LogReg for data](https://www.kaggle.com/code/maryiaznak/use-chi-square-test-and-logreg-for-data)"
   ]
  },
  {
   "cell_type": "code",
   "execution_count": 1,
   "id": "eecd4a55",
   "metadata": {
    "_cell_guid": "b1076dfc-b9ad-4769-8c92-a6c4dae69d19",
    "_uuid": "8f2839f25d086af736a60e9eeb907d3b93b6e0e5",
    "execution": {
     "iopub.execute_input": "2023-05-14T14:03:31.384929Z",
     "iopub.status.busy": "2023-05-14T14:03:31.384302Z",
     "iopub.status.idle": "2023-05-14T14:03:31.403580Z",
     "shell.execute_reply": "2023-05-14T14:03:31.402561Z"
    },
    "papermill": {
     "duration": 0.039306,
     "end_time": "2023-05-14T14:03:31.407254",
     "exception": false,
     "start_time": "2023-05-14T14:03:31.367948",
     "status": "completed"
    },
    "tags": []
   },
   "outputs": [
    {
     "name": "stdout",
     "output_type": "stream",
     "text": [
      "/kaggle/input/microsoft-malware-prediction/sample_submission.csv\n",
      "/kaggle/input/microsoft-malware-prediction/train.csv\n",
      "/kaggle/input/microsoft-malware-prediction/test.csv\n"
     ]
    }
   ],
   "source": [
    "import numpy as np # linear algebra\n",
    "import pandas as pd # data processing, CSV file I/O (e.g. pd.read_csv)\n",
    "import os\n",
    "\n",
    "for dirname, _, filenames in os.walk('/kaggle/input'):\n",
    "    for filename in filenames:\n",
    "        print(os.path.join(dirname, filename))"
   ]
  },
  {
   "cell_type": "code",
   "execution_count": 2,
   "id": "89abb808",
   "metadata": {
    "execution": {
     "iopub.execute_input": "2023-05-14T14:03:31.438141Z",
     "iopub.status.busy": "2023-05-14T14:03:31.437660Z",
     "iopub.status.idle": "2023-05-14T14:03:32.827216Z",
     "shell.execute_reply": "2023-05-14T14:03:32.825936Z"
    },
    "papermill": {
     "duration": 1.409066,
     "end_time": "2023-05-14T14:03:32.830727",
     "exception": false,
     "start_time": "2023-05-14T14:03:31.421661",
     "status": "completed"
    },
    "tags": []
   },
   "outputs": [],
   "source": [
    "import matplotlib.pyplot as plt\n",
    "import seaborn as sns"
   ]
  },
  {
   "cell_type": "markdown",
   "id": "26cddaab",
   "metadata": {
    "papermill": {
     "duration": 0.01505,
     "end_time": "2023-05-14T14:03:32.859860",
     "exception": false,
     "start_time": "2023-05-14T14:03:32.844810",
     "status": "completed"
    },
    "tags": []
   },
   "source": [
    "## 1. Data loading"
   ]
  },
  {
   "cell_type": "code",
   "execution_count": 3,
   "id": "8d7e269f",
   "metadata": {
    "execution": {
     "iopub.execute_input": "2023-05-14T14:03:32.890808Z",
     "iopub.status.busy": "2023-05-14T14:03:32.889830Z",
     "iopub.status.idle": "2023-05-14T14:03:32.899047Z",
     "shell.execute_reply": "2023-05-14T14:03:32.897561Z"
    },
    "papermill": {
     "duration": 0.028265,
     "end_time": "2023-05-14T14:03:32.902271",
     "exception": false,
     "start_time": "2023-05-14T14:03:32.874006",
     "status": "completed"
    },
    "tags": []
   },
   "outputs": [],
   "source": [
    "column_dtypes = {'IsBeta' : 'Int8',\n",
    "                 'RtpStateBitfield' : 'Int16',\n",
    "                 'IsSxsPassiveMode' : 'Int8',\n",
    "                 'HasTpm' : 'Int8',\n",
    "                 'CountryIdentifier' : 'Int64',\n",
    "                 'CityIdentifier' : 'Int64',\n",
    "                 'OrganizationIdentifier' : 'Int64',\n",
    "                 'IsProtected' : 'Int8',\n",
    "                 'AutoSampleOptIn' : 'Int8',\n",
    "                 'SMode' : 'Int8',\n",
    "                 'Firewall' : 'Int8',\n",
    "                 'Census_HasOpticalDiskDrive' : 'Int8',\n",
    "                 'Census_IsPortableOperatingSystem' : 'Int8',\n",
    "                 'Census_IsFlightsDisabled' : 'Int8',\n",
    "                 'Census_IsSecureBootEnabled' : 'Int8',\n",
    "                 'Census_IsWIMBootEnabled' : 'Int8',\n",
    "                 'Census_IsVirtualDevice' : 'Int8',\n",
    "                 'Census_IsTouchEnabled' : 'Int8',\n",
    "                 'Census_IsPenCapable' : 'Int8',\n",
    "                 'Census_IsAlwaysOnAlwaysConnectedCapable': 'Int8',\n",
    "                 'Wdft_IsGamer' : 'Int8',\n",
    "                 'HasDetections' : 'int'}"
   ]
  },
  {
   "cell_type": "code",
   "execution_count": 4,
   "id": "6121db8b",
   "metadata": {
    "execution": {
     "iopub.execute_input": "2023-05-14T14:03:32.932271Z",
     "iopub.status.busy": "2023-05-14T14:03:32.931799Z",
     "iopub.status.idle": "2023-05-14T14:03:32.940376Z",
     "shell.execute_reply": "2023-05-14T14:03:32.938894Z"
    },
    "papermill": {
     "duration": 0.027012,
     "end_time": "2023-05-14T14:03:32.943126",
     "exception": false,
     "start_time": "2023-05-14T14:03:32.916114",
     "status": "completed"
    },
    "tags": []
   },
   "outputs": [],
   "source": [
    "columns_to_ignore = ('DefaultBrowsersIdentifier',  # 95.14% NA values\n",
    "                     'PuaMode', # 99.97% NA values\n",
    "                     'Census_ProcessorClass', # 99.59% NA values.\n",
    "                     'Census_InternalBatteryType', # 71.05% NA values\n",
    "                     'Census_IsFlightingInternal', #83.04% NA values\n",
    "                     'Census_ThresholdOptIn', # 63.52% NA values\n",
    "                     \n",
    "                     # numerical features\n",
    "                     'Census_PrimaryDiskTotalCapacity', \n",
    "                     'Census_SystemVolumeTotalCapacity', \n",
    "                     'Census_TotalPhysicalRAM',        \n",
    "                     'Census_InternalPrimaryDisplayResolutionHorizontal',\n",
    "                     'Census_InternalPrimaryDisplayResolutionVertical',\n",
    "                     'Census_InternalPrimaryDiagonalDisplaySizeInInches',\n",
    "                     'Census_InternalBatteryNumberOfCharges',\n",
    "                     \n",
    "                     # see https://www.kaggle.com/code/maryiaznak/use-chi-square-test-and-logreg-for-data\n",
    "                     'IsBeta', \n",
    "                     'AutoSampleOptIn', \n",
    "                     'UacLuaenable', \n",
    "                     'Census_IsWIMBootEnabled',\n",
    "                     \n",
    "                     'Census_FlightRing_not',\n",
    "                     'Census_IsAlwaysOnAlwaysConnectedCapable',\n",
    "                     'Census_IsSecureBootEnabled',\n",
    "                     'Census_IsTouchEnabled',\n",
    "                     'Census_IsVirtualDevice',\n",
    "                     'SMode'\n",
    "                    )"
   ]
  },
  {
   "cell_type": "code",
   "execution_count": 5,
   "id": "88f83222",
   "metadata": {
    "execution": {
     "iopub.execute_input": "2023-05-14T14:03:32.974563Z",
     "iopub.status.busy": "2023-05-14T14:03:32.973753Z",
     "iopub.status.idle": "2023-05-14T14:03:32.979379Z",
     "shell.execute_reply": "2023-05-14T14:03:32.978414Z"
    },
    "papermill": {
     "duration": 0.02506,
     "end_time": "2023-05-14T14:03:32.982107",
     "exception": false,
     "start_time": "2023-05-14T14:03:32.957047",
     "status": "completed"
    },
    "tags": []
   },
   "outputs": [],
   "source": [
    "label_col = 'HasDetections'"
   ]
  },
  {
   "cell_type": "code",
   "execution_count": 6,
   "id": "9fe5dcac",
   "metadata": {
    "execution": {
     "iopub.execute_input": "2023-05-14T14:03:33.012392Z",
     "iopub.status.busy": "2023-05-14T14:03:33.011642Z",
     "iopub.status.idle": "2023-05-14T14:08:16.008147Z",
     "shell.execute_reply": "2023-05-14T14:08:16.006717Z"
    },
    "papermill": {
     "duration": 283.028564,
     "end_time": "2023-05-14T14:08:16.024367",
     "exception": false,
     "start_time": "2023-05-14T14:03:32.995803",
     "status": "completed"
    },
    "tags": []
   },
   "outputs": [
    {
     "data": {
      "text/html": [
       "<div>\n",
       "<style scoped>\n",
       "    .dataframe tbody tr th:only-of-type {\n",
       "        vertical-align: middle;\n",
       "    }\n",
       "\n",
       "    .dataframe tbody tr th {\n",
       "        vertical-align: top;\n",
       "    }\n",
       "\n",
       "    .dataframe thead th {\n",
       "        text-align: right;\n",
       "    }\n",
       "</style>\n",
       "<table border=\"1\" class=\"dataframe\">\n",
       "  <thead>\n",
       "    <tr style=\"text-align: right;\">\n",
       "      <th></th>\n",
       "      <th>MachineIdentifier</th>\n",
       "      <th>ProductName</th>\n",
       "      <th>EngineVersion</th>\n",
       "      <th>AppVersion</th>\n",
       "      <th>AvSigVersion</th>\n",
       "      <th>RtpStateBitfield</th>\n",
       "      <th>IsSxsPassiveMode</th>\n",
       "      <th>AVProductStatesIdentifier</th>\n",
       "      <th>AVProductsInstalled</th>\n",
       "      <th>AVProductsEnabled</th>\n",
       "      <th>...</th>\n",
       "      <th>Census_GenuineStateName</th>\n",
       "      <th>Census_ActivationChannel</th>\n",
       "      <th>Census_IsFlightsDisabled</th>\n",
       "      <th>Census_FlightRing</th>\n",
       "      <th>Census_FirmwareManufacturerIdentifier</th>\n",
       "      <th>Census_FirmwareVersionIdentifier</th>\n",
       "      <th>Census_IsPenCapable</th>\n",
       "      <th>Wdft_IsGamer</th>\n",
       "      <th>Wdft_RegionIdentifier</th>\n",
       "      <th>HasDetections</th>\n",
       "    </tr>\n",
       "  </thead>\n",
       "  <tbody>\n",
       "    <tr>\n",
       "      <th>0</th>\n",
       "      <td>0000028988387b115f69f31a3bf04f09</td>\n",
       "      <td>win8defender</td>\n",
       "      <td>1.1.15100.1</td>\n",
       "      <td>4.18.1807.18075</td>\n",
       "      <td>1.273.1735.0</td>\n",
       "      <td>7</td>\n",
       "      <td>0</td>\n",
       "      <td>53447.0</td>\n",
       "      <td>1.0</td>\n",
       "      <td>1.0</td>\n",
       "      <td>...</td>\n",
       "      <td>IS_GENUINE</td>\n",
       "      <td>Retail</td>\n",
       "      <td>0</td>\n",
       "      <td>Retail</td>\n",
       "      <td>628.0</td>\n",
       "      <td>36144.0</td>\n",
       "      <td>0</td>\n",
       "      <td>0</td>\n",
       "      <td>10.0</td>\n",
       "      <td>0</td>\n",
       "    </tr>\n",
       "    <tr>\n",
       "      <th>1</th>\n",
       "      <td>000007535c3f730efa9ea0b7ef1bd645</td>\n",
       "      <td>win8defender</td>\n",
       "      <td>1.1.14600.4</td>\n",
       "      <td>4.13.17134.1</td>\n",
       "      <td>1.263.48.0</td>\n",
       "      <td>7</td>\n",
       "      <td>0</td>\n",
       "      <td>53447.0</td>\n",
       "      <td>1.0</td>\n",
       "      <td>1.0</td>\n",
       "      <td>...</td>\n",
       "      <td>OFFLINE</td>\n",
       "      <td>Retail</td>\n",
       "      <td>0</td>\n",
       "      <td>NOT_SET</td>\n",
       "      <td>628.0</td>\n",
       "      <td>57858.0</td>\n",
       "      <td>0</td>\n",
       "      <td>0</td>\n",
       "      <td>8.0</td>\n",
       "      <td>0</td>\n",
       "    </tr>\n",
       "    <tr>\n",
       "      <th>2</th>\n",
       "      <td>000007905a28d863f6d0d597892cd692</td>\n",
       "      <td>win8defender</td>\n",
       "      <td>1.1.15100.1</td>\n",
       "      <td>4.18.1807.18075</td>\n",
       "      <td>1.273.1341.0</td>\n",
       "      <td>7</td>\n",
       "      <td>0</td>\n",
       "      <td>53447.0</td>\n",
       "      <td>1.0</td>\n",
       "      <td>1.0</td>\n",
       "      <td>...</td>\n",
       "      <td>IS_GENUINE</td>\n",
       "      <td>OEM:NONSLP</td>\n",
       "      <td>0</td>\n",
       "      <td>Retail</td>\n",
       "      <td>142.0</td>\n",
       "      <td>52682.0</td>\n",
       "      <td>0</td>\n",
       "      <td>0</td>\n",
       "      <td>3.0</td>\n",
       "      <td>0</td>\n",
       "    </tr>\n",
       "    <tr>\n",
       "      <th>3</th>\n",
       "      <td>00000b11598a75ea8ba1beea8459149f</td>\n",
       "      <td>win8defender</td>\n",
       "      <td>1.1.15100.1</td>\n",
       "      <td>4.18.1807.18075</td>\n",
       "      <td>1.273.1527.0</td>\n",
       "      <td>7</td>\n",
       "      <td>0</td>\n",
       "      <td>53447.0</td>\n",
       "      <td>1.0</td>\n",
       "      <td>1.0</td>\n",
       "      <td>...</td>\n",
       "      <td>IS_GENUINE</td>\n",
       "      <td>OEM:NONSLP</td>\n",
       "      <td>0</td>\n",
       "      <td>Retail</td>\n",
       "      <td>355.0</td>\n",
       "      <td>20050.0</td>\n",
       "      <td>0</td>\n",
       "      <td>0</td>\n",
       "      <td>3.0</td>\n",
       "      <td>1</td>\n",
       "    </tr>\n",
       "    <tr>\n",
       "      <th>4</th>\n",
       "      <td>000014a5f00daa18e76b81417eeb99fc</td>\n",
       "      <td>win8defender</td>\n",
       "      <td>1.1.15100.1</td>\n",
       "      <td>4.18.1807.18075</td>\n",
       "      <td>1.273.1379.0</td>\n",
       "      <td>7</td>\n",
       "      <td>0</td>\n",
       "      <td>53447.0</td>\n",
       "      <td>1.0</td>\n",
       "      <td>1.0</td>\n",
       "      <td>...</td>\n",
       "      <td>IS_GENUINE</td>\n",
       "      <td>Retail</td>\n",
       "      <td>0</td>\n",
       "      <td>Retail</td>\n",
       "      <td>355.0</td>\n",
       "      <td>19844.0</td>\n",
       "      <td>0</td>\n",
       "      <td>0</td>\n",
       "      <td>1.0</td>\n",
       "      <td>1</td>\n",
       "    </tr>\n",
       "  </tbody>\n",
       "</table>\n",
       "<p>5 rows × 61 columns</p>\n",
       "</div>"
      ],
      "text/plain": [
       "                  MachineIdentifier   ProductName EngineVersion  \\\n",
       "0  0000028988387b115f69f31a3bf04f09  win8defender   1.1.15100.1   \n",
       "1  000007535c3f730efa9ea0b7ef1bd645  win8defender   1.1.14600.4   \n",
       "2  000007905a28d863f6d0d597892cd692  win8defender   1.1.15100.1   \n",
       "3  00000b11598a75ea8ba1beea8459149f  win8defender   1.1.15100.1   \n",
       "4  000014a5f00daa18e76b81417eeb99fc  win8defender   1.1.15100.1   \n",
       "\n",
       "        AppVersion  AvSigVersion  RtpStateBitfield  IsSxsPassiveMode  \\\n",
       "0  4.18.1807.18075  1.273.1735.0                 7                 0   \n",
       "1     4.13.17134.1    1.263.48.0                 7                 0   \n",
       "2  4.18.1807.18075  1.273.1341.0                 7                 0   \n",
       "3  4.18.1807.18075  1.273.1527.0                 7                 0   \n",
       "4  4.18.1807.18075  1.273.1379.0                 7                 0   \n",
       "\n",
       "   AVProductStatesIdentifier  AVProductsInstalled  AVProductsEnabled  ...  \\\n",
       "0                    53447.0                  1.0                1.0  ...   \n",
       "1                    53447.0                  1.0                1.0  ...   \n",
       "2                    53447.0                  1.0                1.0  ...   \n",
       "3                    53447.0                  1.0                1.0  ...   \n",
       "4                    53447.0                  1.0                1.0  ...   \n",
       "\n",
       "   Census_GenuineStateName  Census_ActivationChannel  \\\n",
       "0               IS_GENUINE                    Retail   \n",
       "1                  OFFLINE                    Retail   \n",
       "2               IS_GENUINE                OEM:NONSLP   \n",
       "3               IS_GENUINE                OEM:NONSLP   \n",
       "4               IS_GENUINE                    Retail   \n",
       "\n",
       "   Census_IsFlightsDisabled  Census_FlightRing  \\\n",
       "0                         0             Retail   \n",
       "1                         0            NOT_SET   \n",
       "2                         0             Retail   \n",
       "3                         0             Retail   \n",
       "4                         0             Retail   \n",
       "\n",
       "   Census_FirmwareManufacturerIdentifier  Census_FirmwareVersionIdentifier  \\\n",
       "0                                  628.0                           36144.0   \n",
       "1                                  628.0                           57858.0   \n",
       "2                                  142.0                           52682.0   \n",
       "3                                  355.0                           20050.0   \n",
       "4                                  355.0                           19844.0   \n",
       "\n",
       "  Census_IsPenCapable Wdft_IsGamer Wdft_RegionIdentifier  HasDetections  \n",
       "0                   0            0                  10.0              0  \n",
       "1                   0            0                   8.0              0  \n",
       "2                   0            0                   3.0              0  \n",
       "3                   0            0                   3.0              1  \n",
       "4                   0            0                   1.0              1  \n",
       "\n",
       "[5 rows x 61 columns]"
      ]
     },
     "execution_count": 6,
     "metadata": {},
     "output_type": "execute_result"
    }
   ],
   "source": [
    "train_df = pd.read_csv('/kaggle/input/microsoft-malware-prediction/train.csv', \n",
    "                       usecols = lambda x: x not in columns_to_ignore,\n",
    "                       dtype = column_dtypes)\n",
    "train_df.head()"
   ]
  },
  {
   "cell_type": "markdown",
   "id": "ea212d1e",
   "metadata": {
    "papermill": {
     "duration": 0.013989,
     "end_time": "2023-05-14T14:08:16.052807",
     "exception": false,
     "start_time": "2023-05-14T14:08:16.038818",
     "status": "completed"
    },
    "tags": []
   },
   "source": [
    "## 2. Data investigation and preprocessing"
   ]
  },
  {
   "cell_type": "code",
   "execution_count": 7,
   "id": "5b0bdb47",
   "metadata": {
    "execution": {
     "iopub.execute_input": "2023-05-14T14:08:16.084202Z",
     "iopub.status.busy": "2023-05-14T14:08:16.083758Z",
     "iopub.status.idle": "2023-05-14T14:08:16.091254Z",
     "shell.execute_reply": "2023-05-14T14:08:16.090024Z"
    },
    "papermill": {
     "duration": 0.026962,
     "end_time": "2023-05-14T14:08:16.094105",
     "exception": false,
     "start_time": "2023-05-14T14:08:16.067143",
     "status": "completed"
    },
    "tags": []
   },
   "outputs": [
    {
     "data": {
      "text/plain": [
       "(8921483, 61)"
      ]
     },
     "execution_count": 7,
     "metadata": {},
     "output_type": "execute_result"
    }
   ],
   "source": [
    "train_df.shape"
   ]
  },
  {
   "cell_type": "code",
   "execution_count": 8,
   "id": "673607ce",
   "metadata": {
    "execution": {
     "iopub.execute_input": "2023-05-14T14:08:16.125143Z",
     "iopub.status.busy": "2023-05-14T14:08:16.124712Z",
     "iopub.status.idle": "2023-05-14T14:09:32.289643Z",
     "shell.execute_reply": "2023-05-14T14:09:32.287254Z"
    },
    "papermill": {
     "duration": 76.184615,
     "end_time": "2023-05-14T14:09:32.293133",
     "exception": false,
     "start_time": "2023-05-14T14:08:16.108518",
     "status": "completed"
    },
    "tags": []
   },
   "outputs": [
    {
     "name": "stdout",
     "output_type": "stream",
     "text": [
      "\"MachineIdentifier\" has 8921483 unique values and 0.00000% NA values.\n",
      "\"ProductName\" has 6 unique values and 0.00000% NA values.\n",
      "\"EngineVersion\" has 70 unique values and 0.00000% NA values.\n",
      "\"AppVersion\" has 110 unique values and 0.00000% NA values.\n",
      "\"AvSigVersion\" has 8531 unique values and 0.00000% NA values.\n",
      "\"RtpStateBitfield\" has 7 unique values and 0.36225% NA values.\n",
      "\"IsSxsPassiveMode\" has 2 unique values and 0.00000% NA values.\n",
      "\"AVProductStatesIdentifier\" has 28970 unique values and 0.40600% NA values.\n",
      "\"AVProductsInstalled\" has 8 unique values and 0.40600% NA values.\n",
      "\"AVProductsEnabled\" has 6 unique values and 0.40600% NA values.\n",
      "\"HasTpm\" has 2 unique values and 0.00000% NA values.\n",
      "\"CountryIdentifier\" has 222 unique values and 0.00000% NA values.\n",
      "\"CityIdentifier\" has 107366 unique values and 3.64748% NA values.\n",
      "\"OrganizationIdentifier\" has 49 unique values and 30.84149% NA values.\n",
      "\"GeoNameIdentifier\" has 292 unique values and 0.00239% NA values.\n",
      "\"LocaleEnglishNameIdentifier\" has 276 unique values and 0.00000% NA values.\n",
      "\"Platform\" has 4 unique values and 0.00000% NA values.\n",
      "\"Processor\" has 3 unique values and 0.00000% NA values.\n",
      "\"OsVer\" has 58 unique values and 0.00000% NA values.\n",
      "\"OsBuild\" has 76 unique values and 0.00000% NA values.\n",
      "\"OsSuite\" has 14 unique values and 0.00000% NA values.\n",
      "\"OsPlatformSubRelease\" has 9 unique values and 0.00000% NA values.\n",
      "\"OsBuildLab\" has 663 unique values and 0.00024% NA values.\n",
      "\"SkuEdition\" has 8 unique values and 0.00000% NA values.\n",
      "\"IsProtected\" has 2 unique values and 0.40401% NA values.\n",
      "\"IeVerIdentifier\" has 303 unique values and 0.66014% NA values.\n",
      "\"SmartScreen\" has 21 unique values and 35.61079% NA values.\n",
      "\"Firewall\" has 2 unique values and 1.02393% NA values.\n",
      "\"Census_MDC2FormFactor\" has 13 unique values and 0.00000% NA values.\n",
      "\"Census_DeviceFamily\" has 3 unique values and 0.00000% NA values.\n",
      "\"Census_OEMNameIdentifier\" has 3832 unique values and 1.07020% NA values.\n",
      "\"Census_OEMModelIdentifier\" has 175365 unique values and 1.14592% NA values.\n",
      "\"Census_ProcessorCoreCount\" has 45 unique values and 0.46299% NA values.\n",
      "\"Census_ProcessorManufacturerIdentifier\" has 7 unique values and 0.46307% NA values.\n",
      "\"Census_ProcessorModelIdentifier\" has 3428 unique values and 0.46341% NA values.\n",
      "\"Census_PrimaryDiskTypeName\" has 4 unique values and 0.14397% NA values.\n",
      "\"Census_HasOpticalDiskDrive\" has 2 unique values and 0.00000% NA values.\n",
      "\"Census_ChassisTypeName\" has 52 unique values and 0.00698% NA values.\n",
      "\"Census_PowerPlatformRoleName\" has 10 unique values and 0.00062% NA values.\n",
      "\"Census_OSVersion\" has 469 unique values and 0.00000% NA values.\n",
      "\"Census_OSArchitecture\" has 3 unique values and 0.00000% NA values.\n",
      "\"Census_OSBranch\" has 32 unique values and 0.00000% NA values.\n",
      "\"Census_OSBuildNumber\" has 165 unique values and 0.00000% NA values.\n",
      "\"Census_OSBuildRevision\" has 285 unique values and 0.00000% NA values.\n",
      "\"Census_OSEdition\" has 33 unique values and 0.00000% NA values.\n",
      "\"Census_OSSkuName\" has 30 unique values and 0.00000% NA values.\n",
      "\"Census_OSInstallTypeName\" has 9 unique values and 0.00000% NA values.\n",
      "\"Census_OSInstallLanguageIdentifier\" has 39 unique values and 0.67348% NA values.\n",
      "\"Census_OSUILocaleIdentifier\" has 147 unique values and 0.00000% NA values.\n",
      "\"Census_OSWUAutoUpdateOptionsName\" has 6 unique values and 0.00000% NA values.\n",
      "\"Census_IsPortableOperatingSystem\" has 2 unique values and 0.00000% NA values.\n",
      "\"Census_GenuineStateName\" has 5 unique values and 0.00000% NA values.\n",
      "\"Census_ActivationChannel\" has 6 unique values and 0.00000% NA values.\n",
      "\"Census_IsFlightsDisabled\" has 2 unique values and 1.79929% NA values.\n",
      "\"Census_FlightRing\" has 10 unique values and 0.00000% NA values.\n",
      "\"Census_FirmwareManufacturerIdentifier\" has 712 unique values and 2.05411% NA values.\n",
      "\"Census_FirmwareVersionIdentifier\" has 50494 unique values and 1.79491% NA values.\n",
      "\"Census_IsPenCapable\" has 2 unique values and 0.00000% NA values.\n",
      "\"Wdft_IsGamer\" has 2 unique values and 3.40135% NA values.\n",
      "\"Wdft_RegionIdentifier\" has 15 unique values and 3.40135% NA values.\n",
      "\"HasDetections\" has 2 unique values and 0.00000% NA values.\n"
     ]
    }
   ],
   "source": [
    "# (1 / 8921483) * 100% = 1.12e-5%\n",
    "# so we need 5 digit after a decimal point to find out at least one missing value\n",
    "\n",
    "for col in train_df.columns:\n",
    "    print(f'\"{col}\" has {train_df[col].nunique()} unique values and {train_df[col].isna().sum() / len(train_df) * 100:.5f}% NA values.')"
   ]
  },
  {
   "cell_type": "code",
   "execution_count": 9,
   "id": "4781f341",
   "metadata": {
    "execution": {
     "iopub.execute_input": "2023-05-14T14:09:32.333782Z",
     "iopub.status.busy": "2023-05-14T14:09:32.333211Z",
     "iopub.status.idle": "2023-05-14T14:09:33.192333Z",
     "shell.execute_reply": "2023-05-14T14:09:33.191149Z"
    },
    "papermill": {
     "duration": 0.884069,
     "end_time": "2023-05-14T14:09:33.195644",
     "exception": false,
     "start_time": "2023-05-14T14:09:32.311575",
     "status": "completed"
    },
    "tags": []
   },
   "outputs": [
    {
     "data": {
      "text/plain": [
       "<AxesSubplot:xlabel='HasDetections', ylabel='count'>"
      ]
     },
     "execution_count": 9,
     "metadata": {},
     "output_type": "execute_result"
    },
    {
     "data": {
      "image/png": "[encoded data removed]",
      "text/plain": [
       "<Figure size 640x480 with 1 Axes>"
      ]
     },
     "metadata": {},
     "output_type": "display_data"
    }
   ],
   "source": [
    "sns.countplot(x = train_df[label_col])"
   ]
  },
  {
   "cell_type": "markdown",
   "id": "f409bf6c",
   "metadata": {
    "papermill": {
     "duration": 0.018583,
     "end_time": "2023-05-14T14:09:33.234208",
     "exception": false,
     "start_time": "2023-05-14T14:09:33.215625",
     "status": "completed"
    },
    "tags": []
   },
   "source": [
    "## 3. Preprocessing"
   ]
  },
  {
   "cell_type": "code",
   "execution_count": 10,
   "id": "47608c75",
   "metadata": {
    "execution": {
     "iopub.execute_input": "2023-05-14T14:09:33.275665Z",
     "iopub.status.busy": "2023-05-14T14:09:33.274230Z",
     "iopub.status.idle": "2023-05-14T14:09:37.402036Z",
     "shell.execute_reply": "2023-05-14T14:09:37.400681Z"
    },
    "papermill": {
     "duration": 4.152018,
     "end_time": "2023-05-14T14:09:37.405561",
     "exception": false,
     "start_time": "2023-05-14T14:09:33.253543",
     "status": "completed"
    },
    "tags": []
   },
   "outputs": [],
   "source": [
    "train_df.drop(columns = ['MachineIdentifier'], inplace = True)"
   ]
  },
  {
   "cell_type": "code",
   "execution_count": 11,
   "id": "4ce37810",
   "metadata": {
    "execution": {
     "iopub.execute_input": "2023-05-14T14:09:37.446751Z",
     "iopub.status.busy": "2023-05-14T14:09:37.445811Z",
     "iopub.status.idle": "2023-05-14T14:09:37.462523Z",
     "shell.execute_reply": "2023-05-14T14:09:37.461502Z"
    },
    "papermill": {
     "duration": 0.040844,
     "end_time": "2023-05-14T14:09:37.465586",
     "exception": false,
     "start_time": "2023-05-14T14:09:37.424742",
     "status": "completed"
    },
    "tags": []
   },
   "outputs": [],
   "source": [
    "import sys\n",
    "\n",
    "def preprocess_cat_values(df):\n",
    "    temp = df.copy()\n",
    "    \n",
    "    cols = temp.select_dtypes(include = [object]).columns.tolist()   \n",
    "    \n",
    "    # use 'sys.intern' to reduce memory use\n",
    "    # see why here: https://stackoverflow.com/questions/76104472/python-str-lower-causes-memory-leak\n",
    "    temp[cols] = temp[cols].astype(str).apply(lambda x: x.str.lower().apply(sys.intern))\n",
    "    \n",
    "    os_build_lab_cat = 'OsBuildLab'\n",
    "    if os_build_lab_cat in temp.columns:\n",
    "        os_build_lab_df = temp[os_build_lab_cat].str.split(pat = '.', n = 5, expand = True)\n",
    "        os_build_lab_df = os_build_lab_df.astype(str).apply(lambda x: x.str.lower().apply(sys.intern))\n",
    "        os_build_lab_df = os_build_lab_df.add_prefix(os_build_lab_cat + '_')\n",
    "        \n",
    "        temp = pd.concat([temp, os_build_lab_df], axis = 1)\n",
    "        temp = temp.drop(columns = os_build_lab_cat)\n",
    "    \n",
    "    smart_screen_cat = 'SmartScreen'\n",
    "    if smart_screen_cat in temp.columns:\n",
    "        temp.loc[temp[smart_screen_cat] == 'promt', smart_screen_cat] = 'prompt'\n",
    "        temp.loc[temp[smart_screen_cat] == '00000000', smart_screen_cat] = '0'\n",
    "        temp[smart_screen_cat] = temp[smart_screen_cat].astype(str).apply(sys.intern)\n",
    "        \n",
    "    disk_type_cat = 'Census_PrimaryDiskTypeName'\n",
    "    if disk_type_cat in temp.columns:\n",
    "        disk_types = ['HDD', 'SSD']\n",
    "        temp.loc[~temp[disk_type_cat].isin(disk_types), disk_type_cat] == 'na'                                \n",
    "        temp[disk_type_cat] = temp[disk_type_cat].astype(str).apply(sys.intern)\n",
    "        \n",
    "    role_name_cat = 'Census_PowerPlatformRoleName'\n",
    "    if role_name_cat in temp.columns:\n",
    "        na_types = ['unspecified', 'unknown', np.nan]\n",
    "        temp.loc[temp[role_name_cat].isin(na_types), role_name_cat] == 'na'                             \n",
    "        temp[role_name_cat] = temp[role_name_cat].astype(str).apply(sys.intern)\n",
    "    \n",
    "    return temp"
   ]
  },
  {
   "cell_type": "code",
   "execution_count": 12,
   "id": "29af34fb",
   "metadata": {
    "execution": {
     "iopub.execute_input": "2023-05-14T14:09:37.506267Z",
     "iopub.status.busy": "2023-05-14T14:09:37.505312Z",
     "iopub.status.idle": "2023-05-14T14:15:14.863391Z",
     "shell.execute_reply": "2023-05-14T14:15:14.861872Z"
    },
    "papermill": {
     "duration": 337.382537,
     "end_time": "2023-05-14T14:15:14.867100",
     "exception": false,
     "start_time": "2023-05-14T14:09:37.484563",
     "status": "completed"
    },
    "tags": []
   },
   "outputs": [],
   "source": [
    "train_df = preprocess_cat_values(train_df)"
   ]
  },
  {
   "cell_type": "code",
   "execution_count": 13,
   "id": "c87ae1b5",
   "metadata": {
    "execution": {
     "iopub.execute_input": "2023-05-14T14:15:14.910606Z",
     "iopub.status.busy": "2023-05-14T14:15:14.909240Z",
     "iopub.status.idle": "2023-05-14T14:16:09.625122Z",
     "shell.execute_reply": "2023-05-14T14:16:09.623714Z"
    },
    "papermill": {
     "duration": 54.758828,
     "end_time": "2023-05-14T14:16:09.646690",
     "exception": false,
     "start_time": "2023-05-14T14:15:14.887862",
     "status": "completed"
    },
    "tags": []
   },
   "outputs": [
    {
     "data": {
      "text/plain": [
       "7727"
      ]
     },
     "execution_count": 13,
     "metadata": {},
     "output_type": "execute_result"
    }
   ],
   "source": [
    "train_df.duplicated().sum()"
   ]
  },
  {
   "cell_type": "code",
   "execution_count": 14,
   "id": "92856c9b",
   "metadata": {
    "execution": {
     "iopub.execute_input": "2023-05-14T14:16:09.688503Z",
     "iopub.status.busy": "2023-05-14T14:16:09.687161Z",
     "iopub.status.idle": "2023-05-14T14:17:10.252821Z",
     "shell.execute_reply": "2023-05-14T14:17:10.251251Z"
    },
    "papermill": {
     "duration": 60.59063,
     "end_time": "2023-05-14T14:17:10.256587",
     "exception": false,
     "start_time": "2023-05-14T14:16:09.665957",
     "status": "completed"
    },
    "tags": []
   },
   "outputs": [],
   "source": [
    "train_df.drop_duplicates(inplace = True)"
   ]
  },
  {
   "cell_type": "code",
   "execution_count": 15,
   "id": "7a44b847",
   "metadata": {
    "execution": {
     "iopub.execute_input": "2023-05-14T14:17:10.297821Z",
     "iopub.status.busy": "2023-05-14T14:17:10.297217Z",
     "iopub.status.idle": "2023-05-14T14:17:10.307633Z",
     "shell.execute_reply": "2023-05-14T14:17:10.306286Z"
    },
    "papermill": {
     "duration": 0.033894,
     "end_time": "2023-05-14T14:17:10.310312",
     "exception": false,
     "start_time": "2023-05-14T14:17:10.276418",
     "status": "completed"
    },
    "tags": []
   },
   "outputs": [
    {
     "data": {
      "text/plain": [
       "(8913756,)"
      ]
     },
     "execution_count": 15,
     "metadata": {},
     "output_type": "execute_result"
    }
   ],
   "source": [
    "y = train_df.pop(label_col)\n",
    "y.shape"
   ]
  },
  {
   "cell_type": "code",
   "execution_count": 16,
   "id": "6b569522",
   "metadata": {
    "execution": {
     "iopub.execute_input": "2023-05-14T14:17:10.352562Z",
     "iopub.status.busy": "2023-05-14T14:17:10.351624Z",
     "iopub.status.idle": "2023-05-14T14:17:25.242298Z",
     "shell.execute_reply": "2023-05-14T14:17:25.240514Z"
    },
    "papermill": {
     "duration": 14.915677,
     "end_time": "2023-05-14T14:17:25.245641",
     "exception": false,
     "start_time": "2023-05-14T14:17:10.329964",
     "status": "completed"
    },
    "tags": []
   },
   "outputs": [],
   "source": [
    "str_cols = train_df.select_dtypes(include = 'object').columns\n",
    "non_str_cols = train_df.select_dtypes(exclude = 'object').columns"
   ]
  },
  {
   "cell_type": "code",
   "execution_count": 17,
   "id": "da3bb2f5",
   "metadata": {
    "execution": {
     "iopub.execute_input": "2023-05-14T14:17:25.286989Z",
     "iopub.status.busy": "2023-05-14T14:17:25.286465Z",
     "iopub.status.idle": "2023-05-14T14:18:43.104210Z",
     "shell.execute_reply": "2023-05-14T14:18:43.102434Z"
    },
    "papermill": {
     "duration": 77.916504,
     "end_time": "2023-05-14T14:18:43.181702",
     "exception": false,
     "start_time": "2023-05-14T14:17:25.265198",
     "status": "completed"
    },
    "tags": []
   },
   "outputs": [
    {
     "data": {
      "text/plain": [
       "ProductName         0\n",
       "EngineVersion       0\n",
       "AppVersion          0\n",
       "AvSigVersion        0\n",
       "RtpStateBitfield    0\n",
       "                   ..\n",
       "OsBuildLab_0        0\n",
       "OsBuildLab_1        0\n",
       "OsBuildLab_2        0\n",
       "OsBuildLab_3        0\n",
       "OsBuildLab_4        0\n",
       "Length: 63, dtype: int64"
      ]
     },
     "execution_count": 17,
     "metadata": {},
     "output_type": "execute_result"
    }
   ],
   "source": [
    "na_value = -1\n",
    "\n",
    "train_df[str_cols] = train_df[str_cols].fillna('na')\n",
    "train_df[non_str_cols] = train_df[non_str_cols].fillna(na_value)\n",
    "train_df.isna().sum()"
   ]
  },
  {
   "cell_type": "code",
   "execution_count": 18,
   "id": "fcc5ec31",
   "metadata": {
    "execution": {
     "iopub.execute_input": "2023-05-14T14:18:43.306431Z",
     "iopub.status.busy": "2023-05-14T14:18:43.304330Z",
     "iopub.status.idle": "2023-05-14T14:19:25.925212Z",
     "shell.execute_reply": "2023-05-14T14:19:25.923731Z"
    },
    "papermill": {
     "duration": 42.693907,
     "end_time": "2023-05-14T14:19:25.928925",
     "exception": false,
     "start_time": "2023-05-14T14:18:43.235018",
     "status": "completed"
    },
    "tags": []
   },
   "outputs": [],
   "source": [
    "from sklearn.model_selection import train_test_split\n",
    "\n",
    "X_train, X_val, y_train, y_val = train_test_split(train_df, y, test_size = 0.2, random_state = 42)"
   ]
  },
  {
   "cell_type": "code",
   "execution_count": 19,
   "id": "c84b4add",
   "metadata": {
    "execution": {
     "iopub.execute_input": "2023-05-14T14:19:25.971111Z",
     "iopub.status.busy": "2023-05-14T14:19:25.969570Z",
     "iopub.status.idle": "2023-05-14T14:19:26.977756Z",
     "shell.execute_reply": "2023-05-14T14:19:26.976381Z"
    },
    "papermill": {
     "duration": 1.032229,
     "end_time": "2023-05-14T14:19:26.980651",
     "exception": false,
     "start_time": "2023-05-14T14:19:25.948422",
     "status": "completed"
    },
    "tags": []
   },
   "outputs": [],
   "source": [
    "del train_df, y"
   ]
  },
  {
   "cell_type": "code",
   "execution_count": 20,
   "id": "1a3d9980",
   "metadata": {
    "execution": {
     "iopub.execute_input": "2023-05-14T14:19:27.021501Z",
     "iopub.status.busy": "2023-05-14T14:19:27.021002Z",
     "iopub.status.idle": "2023-05-14T14:19:27.027198Z",
     "shell.execute_reply": "2023-05-14T14:19:27.025797Z"
    },
    "papermill": {
     "duration": 0.029831,
     "end_time": "2023-05-14T14:19:27.029907",
     "exception": false,
     "start_time": "2023-05-14T14:19:27.000076",
     "status": "completed"
    },
    "tags": []
   },
   "outputs": [],
   "source": [
    "cols = X_train.columns.tolist()"
   ]
  },
  {
   "cell_type": "code",
   "execution_count": 21,
   "id": "0d17cb41",
   "metadata": {
    "execution": {
     "iopub.execute_input": "2023-05-14T14:19:27.071721Z",
     "iopub.status.busy": "2023-05-14T14:19:27.070329Z",
     "iopub.status.idle": "2023-05-14T14:22:49.173461Z",
     "shell.execute_reply": "2023-05-14T14:22:49.171903Z"
    },
    "papermill": {
     "duration": 202.127702,
     "end_time": "2023-05-14T14:22:49.176989",
     "exception": false,
     "start_time": "2023-05-14T14:19:27.049287",
     "status": "completed"
    },
    "tags": []
   },
   "outputs": [],
   "source": [
    "# encoding\n",
    "from sklearn.preprocessing import OrdinalEncoder\n",
    "\n",
    "unknown_value = -100\n",
    "oe = OrdinalEncoder(handle_unknown = 'use_encoded_value', dtype = 'int32', unknown_value = unknown_value)\n",
    "X_train_encoded = oe.fit_transform(X_train)\n",
    "X_val_encoded = oe.transform(X_val)"
   ]
  },
  {
   "cell_type": "code",
   "execution_count": 22,
   "id": "eb7b580a",
   "metadata": {
    "execution": {
     "iopub.execute_input": "2023-05-14T14:22:49.218869Z",
     "iopub.status.busy": "2023-05-14T14:22:49.218352Z",
     "iopub.status.idle": "2023-05-14T14:22:49.954652Z",
     "shell.execute_reply": "2023-05-14T14:22:49.953154Z"
    },
    "papermill": {
     "duration": 0.7606,
     "end_time": "2023-05-14T14:22:49.957880",
     "exception": false,
     "start_time": "2023-05-14T14:22:49.197280",
     "status": "completed"
    },
    "tags": []
   },
   "outputs": [],
   "source": [
    "max_vals = X_train_encoded.max(axis = 0) + 1\n",
    "X_val_encoded = np.where(X_val_encoded == unknown_value, max_vals, X_val_encoded)"
   ]
  },
  {
   "cell_type": "code",
   "execution_count": 23,
   "id": "caf05518",
   "metadata": {
    "execution": {
     "iopub.execute_input": "2023-05-14T14:22:49.999437Z",
     "iopub.status.busy": "2023-05-14T14:22:49.998926Z",
     "iopub.status.idle": "2023-05-14T14:22:51.143095Z",
     "shell.execute_reply": "2023-05-14T14:22:51.141870Z"
    },
    "papermill": {
     "duration": 1.168172,
     "end_time": "2023-05-14T14:22:51.146117",
     "exception": false,
     "start_time": "2023-05-14T14:22:49.977945",
     "status": "completed"
    },
    "tags": []
   },
   "outputs": [],
   "source": [
    "del X_train, X_val"
   ]
  },
  {
   "cell_type": "markdown",
   "id": "643f9dde",
   "metadata": {
    "papermill": {
     "duration": 0.019029,
     "end_time": "2023-05-14T14:22:51.184471",
     "exception": false,
     "start_time": "2023-05-14T14:22:51.165442",
     "status": "completed"
    },
    "tags": []
   },
   "source": [
    "## 4. LightGBM"
   ]
  },
  {
   "cell_type": "markdown",
   "id": "c6e22f23",
   "metadata": {
    "papermill": {
     "duration": 0.019178,
     "end_time": "2023-05-14T14:22:51.222948",
     "exception": false,
     "start_time": "2023-05-14T14:22:51.203770",
     "status": "completed"
    },
    "tags": []
   },
   "source": [
    "### 4.1 Searching for the best parameters"
   ]
  },
  {
   "cell_type": "code",
   "execution_count": 24,
   "id": "6a3c349c",
   "metadata": {
    "execution": {
     "iopub.execute_input": "2023-05-14T14:22:51.264177Z",
     "iopub.status.busy": "2023-05-14T14:22:51.263036Z",
     "iopub.status.idle": "2023-05-14T14:22:53.350893Z",
     "shell.execute_reply": "2023-05-14T14:22:53.349543Z"
    },
    "papermill": {
     "duration": 2.112202,
     "end_time": "2023-05-14T14:22:53.354352",
     "exception": false,
     "start_time": "2023-05-14T14:22:51.242150",
     "status": "completed"
    },
    "tags": []
   },
   "outputs": [
    {
     "data": {
      "text/html": [
       "<style type='text/css'>\n",
       ".datatable table.frame { margin-bottom: 0; }\n",
       ".datatable table.frame thead { border-bottom: none; }\n",
       ".datatable table.frame tr.coltypes td {  color: #FFFFFF;  line-height: 6px;  padding: 0 0.5em;}\n",
       ".datatable .bool    { background: #DDDD99; }\n",
       ".datatable .object  { background: #565656; }\n",
       ".datatable .int     { background: #5D9E5D; }\n",
       ".datatable .float   { background: #4040CC; }\n",
       ".datatable .str     { background: #CC4040; }\n",
       ".datatable .time    { background: #40CC40; }\n",
       ".datatable .row_index {  background: var(--jp-border-color3);  border-right: 1px solid var(--jp-border-color0);  color: var(--jp-ui-font-color3);  font-size: 9px;}\n",
       ".datatable .frame tbody td { text-align: left; }\n",
       ".datatable .frame tr.coltypes .row_index {  background: var(--jp-border-color0);}\n",
       ".datatable th:nth-child(2) { padding-left: 12px; }\n",
       ".datatable .hellipsis {  color: var(--jp-cell-editor-border-color);}\n",
       ".datatable .vellipsis {  background: var(--jp-layout-color0);  color: var(--jp-cell-editor-border-color);}\n",
       ".datatable .na {  color: var(--jp-cell-editor-border-color);  font-size: 80%;}\n",
       ".datatable .sp {  opacity: 0.25;}\n",
       ".datatable .footer { font-size: 9px; }\n",
       ".datatable .frame_dimensions {  background: var(--jp-border-color3);  border-top: 1px solid var(--jp-border-color0);  color: var(--jp-ui-font-color3);  display: inline-block;  opacity: 0.6;  padding: 1px 10px 1px 5px;}\n",
       "</style>\n"
      ],
      "text/plain": [
       "<IPython.core.display.HTML object>"
      ]
     },
     "metadata": {},
     "output_type": "display_data"
    }
   ],
   "source": [
    "import lightgbm as lgb\n",
    "from sklearn.model_selection import GridSearchCV"
   ]
  },
  {
   "cell_type": "code",
   "execution_count": 25,
   "id": "a4331d2e",
   "metadata": {
    "execution": {
     "iopub.execute_input": "2023-05-14T14:22:53.397743Z",
     "iopub.status.busy": "2023-05-14T14:22:53.396643Z",
     "iopub.status.idle": "2023-05-14T14:22:54.948422Z",
     "shell.execute_reply": "2023-05-14T14:22:54.946970Z"
    },
    "papermill": {
     "duration": 1.576617,
     "end_time": "2023-05-14T14:22:54.951509",
     "exception": false,
     "start_time": "2023-05-14T14:22:53.374892",
     "status": "completed"
    },
    "tags": []
   },
   "outputs": [
    {
     "data": {
      "text/plain": [
       "(713100, 63)"
      ]
     },
     "execution_count": 25,
     "metadata": {},
     "output_type": "execute_result"
    }
   ],
   "source": [
    "X_sample, _, y_sample, _ = train_test_split(X_train_encoded, y_train, train_size = 0.1, random_state = 42)\n",
    "X_sample.shape"
   ]
  },
  {
   "cell_type": "code",
   "execution_count": 26,
   "id": "e5a9ab39",
   "metadata": {
    "execution": {
     "iopub.execute_input": "2023-05-14T14:22:54.993299Z",
     "iopub.status.busy": "2023-05-14T14:22:54.992847Z",
     "iopub.status.idle": "2023-05-14T20:31:00.358400Z",
     "shell.execute_reply": "2023-05-14T20:31:00.355005Z"
    },
    "papermill": {
     "duration": 22085.425567,
     "end_time": "2023-05-14T20:31:00.396728",
     "exception": false,
     "start_time": "2023-05-14T14:22:54.971161",
     "status": "completed"
    },
    "tags": []
   },
   "outputs": [
    {
     "data": {
      "text/plain": [
       "GridSearchCV(estimator=LGBMClassifier(),\n",
       "             param_grid={'colsample_bytree': [0.5, 0.6, 0.7],\n",
       "                         'max_depth': [6, 7, 8],\n",
       "                         'n_estimators': [550, 600, 650],\n",
       "                         'num_leaves': [60, 70, 80]})"
      ]
     },
     "execution_count": 26,
     "metadata": {},
     "output_type": "execute_result"
    }
   ],
   "source": [
    "parameters = {'max_depth' : [6, 7, 8], \n",
    "              'n_estimators': [550, 600, 650],\n",
    "              'colsample_bytree' : [0.5, 0.6, 0.7],\n",
    "              'num_leaves' : [60, 70, 80]\n",
    "             }\n",
    "\n",
    "clf = lgb.LGBMClassifier(learning_rate = 0.1)\n",
    "grid_search_clf = GridSearchCV(clf, parameters)\n",
    "grid_search_clf.fit(X_sample, y_sample)"
   ]
  },
  {
   "cell_type": "code",
   "execution_count": 27,
   "id": "4023945f",
   "metadata": {
    "execution": {
     "iopub.execute_input": "2023-05-14T20:31:00.443938Z",
     "iopub.status.busy": "2023-05-14T20:31:00.443276Z",
     "iopub.status.idle": "2023-05-14T20:31:00.455644Z",
     "shell.execute_reply": "2023-05-14T20:31:00.454394Z"
    },
    "papermill": {
     "duration": 0.041067,
     "end_time": "2023-05-14T20:31:00.458151",
     "exception": false,
     "start_time": "2023-05-14T20:31:00.417084",
     "status": "completed"
    },
    "tags": []
   },
   "outputs": [
    {
     "data": {
      "text/plain": [
       "{'colsample_bytree': 0.5,\n",
       " 'max_depth': 7,\n",
       " 'n_estimators': 600,\n",
       " 'num_leaves': 80}"
      ]
     },
     "execution_count": 27,
     "metadata": {},
     "output_type": "execute_result"
    }
   ],
   "source": [
    "grid_search_clf.best_params_"
   ]
  },
  {
   "cell_type": "markdown",
   "id": "ab68d5de",
   "metadata": {
    "papermill": {
     "duration": 0.01964,
     "end_time": "2023-05-14T20:31:00.498060",
     "exception": false,
     "start_time": "2023-05-14T20:31:00.478420",
     "status": "completed"
    },
    "tags": []
   },
   "source": [
    "### 4.2 Model fitting"
   ]
  },
  {
   "cell_type": "code",
   "execution_count": 28,
   "id": "40d49fec",
   "metadata": {
    "execution": {
     "iopub.execute_input": "2023-05-14T20:31:00.540374Z",
     "iopub.status.busy": "2023-05-14T20:31:00.539886Z",
     "iopub.status.idle": "2023-05-14T20:31:00.544842Z",
     "shell.execute_reply": "2023-05-14T20:31:00.543960Z"
    },
    "papermill": {
     "duration": 0.029217,
     "end_time": "2023-05-14T20:31:00.547245",
     "exception": false,
     "start_time": "2023-05-14T20:31:00.518028",
     "status": "completed"
    },
    "tags": []
   },
   "outputs": [],
   "source": [
    "clf_gb = grid_search_clf.best_estimator_"
   ]
  },
  {
   "cell_type": "code",
   "execution_count": 29,
   "id": "5b4e205d",
   "metadata": {
    "execution": {
     "iopub.execute_input": "2023-05-14T20:31:00.590463Z",
     "iopub.status.busy": "2023-05-14T20:31:00.589984Z",
     "iopub.status.idle": "2023-05-14T20:53:46.825750Z",
     "shell.execute_reply": "2023-05-14T20:53:46.822796Z"
    },
    "papermill": {
     "duration": 1366.262318,
     "end_time": "2023-05-14T20:53:46.829897",
     "exception": false,
     "start_time": "2023-05-14T20:31:00.567579",
     "status": "completed"
    },
    "tags": []
   },
   "outputs": [
    {
     "name": "stdout",
     "output_type": "stream",
     "text": [
      "Training until validation scores don't improve for 5 rounds\n",
      "[50]\ttrain's auc: 0.707335\ttrain's binary_logloss: 0.620202\tval's auc: 0.707102\tval's binary_logloss: 0.62042\n",
      "[100]\ttrain's auc: 0.716615\ttrain's binary_logloss: 0.613324\tval's auc: 0.715958\tval's binary_logloss: 0.613809\n",
      "[150]\ttrain's auc: 0.721365\ttrain's binary_logloss: 0.609876\tval's auc: 0.720359\tval's binary_logloss: 0.610604\n",
      "[200]\ttrain's auc: 0.724486\ttrain's binary_logloss: 0.607524\tval's auc: 0.723105\tval's binary_logloss: 0.608501\n",
      "[250]\ttrain's auc: 0.727229\ttrain's binary_logloss: 0.605408\tval's auc: 0.725526\tval's binary_logloss: 0.606635\n",
      "[300]\ttrain's auc: 0.729261\ttrain's binary_logloss: 0.603856\tval's auc: 0.7272\tval's binary_logloss: 0.605348\n",
      "[350]\ttrain's auc: 0.731074\ttrain's binary_logloss: 0.602445\tval's auc: 0.728652\tval's binary_logloss: 0.6042\n",
      "[400]\ttrain's auc: 0.73264\ttrain's binary_logloss: 0.601221\tval's auc: 0.729855\tval's binary_logloss: 0.603249\n",
      "[450]\ttrain's auc: 0.734011\ttrain's binary_logloss: 0.600125\tval's auc: 0.730885\tval's binary_logloss: 0.602409\n",
      "[500]\ttrain's auc: 0.735101\ttrain's binary_logloss: 0.599257\tval's auc: 0.731633\tval's binary_logloss: 0.601808\n",
      "[550]\ttrain's auc: 0.736135\ttrain's binary_logloss: 0.598413\tval's auc: 0.732291\tval's binary_logloss: 0.601255\n",
      "[600]\ttrain's auc: 0.737008\ttrain's binary_logloss: 0.59771\tval's auc: 0.732812\tval's binary_logloss: 0.600827\n",
      "Did not meet early stopping. Best iteration is:\n",
      "[600]\ttrain's auc: 0.737008\ttrain's binary_logloss: 0.59771\tval's auc: 0.732812\tval's binary_logloss: 0.600827\n"
     ]
    },
    {
     "data": {
      "text/plain": [
       "LGBMClassifier(colsample_bytree=0.5, max_depth=7, n_estimators=600,\n",
       "               num_leaves=80)"
      ]
     },
     "execution_count": 29,
     "metadata": {},
     "output_type": "execute_result"
    }
   ],
   "source": [
    "clf_gb.fit(X_train_encoded, y_train, \n",
    "           eval_set = [(X_train_encoded, y_train), (X_val_encoded, y_val)],\n",
    "           eval_names = ['train', 'val'],\n",
    "           eval_metric ='auc',\n",
    "           callbacks = [lgb.log_evaluation(50), lgb.early_stopping(5)])"
   ]
  },
  {
   "cell_type": "code",
   "execution_count": 30,
   "id": "1cf1975b",
   "metadata": {
    "execution": {
     "iopub.execute_input": "2023-05-14T20:53:46.880556Z",
     "iopub.status.busy": "2023-05-14T20:53:46.879913Z",
     "iopub.status.idle": "2023-05-14T20:53:47.378140Z",
     "shell.execute_reply": "2023-05-14T20:53:47.376542Z"
    },
    "papermill": {
     "duration": 0.528707,
     "end_time": "2023-05-14T20:53:47.381060",
     "exception": false,
     "start_time": "2023-05-14T20:53:46.852353",
     "status": "completed"
    },
    "tags": []
   },
   "outputs": [
    {
     "data": {
      "image/png": "[encoded data removed]",
      "text/plain": [
       "<Figure size 1400x500 with 2 Axes>"
      ]
     },
     "metadata": {},
     "output_type": "display_data"
    }
   ],
   "source": [
    "plt.figure(figsize=(14, 5))\n",
    "\n",
    "# auc\n",
    "train_auc = clf_gb.evals_result_['train']['auc']\n",
    "val_auc = clf_gb.evals_result_['val']['auc']\n",
    "\n",
    "plt.subplot(1,2,1)\n",
    "plt.plot(train_auc,  'bo', label = 'Training AUC')\n",
    "plt.plot(val_auc,  'r', label = 'Validation AUC')\n",
    "plt.title('Gradient Boosting Decision Tree: AUC')\n",
    "plt.legend()\n",
    "\n",
    "# loss\n",
    "train_loss = clf_gb.evals_result_['train']['binary_logloss']\n",
    "val_loss = clf_gb.evals_result_['val']['binary_logloss']\n",
    "\n",
    "plt.subplot(1,2,2)\n",
    "plt.plot(train_loss, 'bo', label = 'Trainig loss')\n",
    "plt.plot(val_loss, 'r', label = 'Validation loss')\n",
    "plt.title('Gradient Boosting Decision Tree: Loss')\n",
    "plt.legend()\n",
    "    \n",
    "plt.show()"
   ]
  },
  {
   "cell_type": "code",
   "execution_count": 31,
   "id": "cc6fd1a9",
   "metadata": {
    "execution": {
     "iopub.execute_input": "2023-05-14T20:53:47.430658Z",
     "iopub.status.busy": "2023-05-14T20:53:47.430149Z",
     "iopub.status.idle": "2023-05-14T20:53:47.448984Z",
     "shell.execute_reply": "2023-05-14T20:53:47.447420Z"
    },
    "papermill": {
     "duration": 0.046782,
     "end_time": "2023-05-14T20:53:47.451717",
     "exception": false,
     "start_time": "2023-05-14T20:53:47.404935",
     "status": "completed"
    },
    "tags": []
   },
   "outputs": [],
   "source": [
    "del y_train, y_val, X_train_encoded, X_val_encoded"
   ]
  },
  {
   "cell_type": "markdown",
   "id": "d1459475",
   "metadata": {
    "papermill": {
     "duration": 0.02284,
     "end_time": "2023-05-14T20:53:47.497584",
     "exception": false,
     "start_time": "2023-05-14T20:53:47.474744",
     "status": "completed"
    },
    "tags": []
   },
   "source": [
    "## 5. Test"
   ]
  },
  {
   "cell_type": "code",
   "execution_count": 32,
   "id": "5f89b261",
   "metadata": {
    "execution": {
     "iopub.execute_input": "2023-05-14T20:53:47.545641Z",
     "iopub.status.busy": "2023-05-14T20:53:47.545120Z",
     "iopub.status.idle": "2023-05-14T20:58:01.409519Z",
     "shell.execute_reply": "2023-05-14T20:58:01.408124Z"
    },
    "papermill": {
     "duration": 253.915387,
     "end_time": "2023-05-14T20:58:01.435899",
     "exception": false,
     "start_time": "2023-05-14T20:53:47.520512",
     "status": "completed"
    },
    "tags": []
   },
   "outputs": [
    {
     "data": {
      "text/html": [
       "<div>\n",
       "<style scoped>\n",
       "    .dataframe tbody tr th:only-of-type {\n",
       "        vertical-align: middle;\n",
       "    }\n",
       "\n",
       "    .dataframe tbody tr th {\n",
       "        vertical-align: top;\n",
       "    }\n",
       "\n",
       "    .dataframe thead th {\n",
       "        text-align: right;\n",
       "    }\n",
       "</style>\n",
       "<table border=\"1\" class=\"dataframe\">\n",
       "  <thead>\n",
       "    <tr style=\"text-align: right;\">\n",
       "      <th></th>\n",
       "      <th>MachineIdentifier</th>\n",
       "      <th>ProductName</th>\n",
       "      <th>EngineVersion</th>\n",
       "      <th>AppVersion</th>\n",
       "      <th>AvSigVersion</th>\n",
       "      <th>RtpStateBitfield</th>\n",
       "      <th>IsSxsPassiveMode</th>\n",
       "      <th>AVProductStatesIdentifier</th>\n",
       "      <th>AVProductsInstalled</th>\n",
       "      <th>AVProductsEnabled</th>\n",
       "      <th>...</th>\n",
       "      <th>Census_IsPortableOperatingSystem</th>\n",
       "      <th>Census_GenuineStateName</th>\n",
       "      <th>Census_ActivationChannel</th>\n",
       "      <th>Census_IsFlightsDisabled</th>\n",
       "      <th>Census_FlightRing</th>\n",
       "      <th>Census_FirmwareManufacturerIdentifier</th>\n",
       "      <th>Census_FirmwareVersionIdentifier</th>\n",
       "      <th>Census_IsPenCapable</th>\n",
       "      <th>Wdft_IsGamer</th>\n",
       "      <th>Wdft_RegionIdentifier</th>\n",
       "    </tr>\n",
       "  </thead>\n",
       "  <tbody>\n",
       "    <tr>\n",
       "      <th>0</th>\n",
       "      <td>0000010489e3af074adeac69c53e555e</td>\n",
       "      <td>win8defender</td>\n",
       "      <td>1.1.15400.5</td>\n",
       "      <td>4.18.1810.5</td>\n",
       "      <td>1.281.501.0</td>\n",
       "      <td>7</td>\n",
       "      <td>0</td>\n",
       "      <td>53447.0</td>\n",
       "      <td>1.0</td>\n",
       "      <td>1.0</td>\n",
       "      <td>...</td>\n",
       "      <td>0</td>\n",
       "      <td>IS_GENUINE</td>\n",
       "      <td>OEM:DM</td>\n",
       "      <td>0</td>\n",
       "      <td>Retail</td>\n",
       "      <td>807.0</td>\n",
       "      <td>8554.0</td>\n",
       "      <td>0</td>\n",
       "      <td>0</td>\n",
       "      <td>7.0</td>\n",
       "    </tr>\n",
       "    <tr>\n",
       "      <th>1</th>\n",
       "      <td>00000176ac758d54827acd545b6315a5</td>\n",
       "      <td>win8defender</td>\n",
       "      <td>1.1.15400.4</td>\n",
       "      <td>4.18.1809.2</td>\n",
       "      <td>1.279.301.0</td>\n",
       "      <td>7</td>\n",
       "      <td>0</td>\n",
       "      <td>53447.0</td>\n",
       "      <td>1.0</td>\n",
       "      <td>1.0</td>\n",
       "      <td>...</td>\n",
       "      <td>0</td>\n",
       "      <td>IS_GENUINE</td>\n",
       "      <td>Retail</td>\n",
       "      <td>0</td>\n",
       "      <td>Retail</td>\n",
       "      <td>554.0</td>\n",
       "      <td>33105.0</td>\n",
       "      <td>0</td>\n",
       "      <td>1</td>\n",
       "      <td>12.0</td>\n",
       "    </tr>\n",
       "    <tr>\n",
       "      <th>2</th>\n",
       "      <td>0000019dcefc128c2d4387c1273dae1d</td>\n",
       "      <td>win8defender</td>\n",
       "      <td>1.1.15300.6</td>\n",
       "      <td>4.18.1809.2</td>\n",
       "      <td>1.277.230.0</td>\n",
       "      <td>7</td>\n",
       "      <td>0</td>\n",
       "      <td>49480.0</td>\n",
       "      <td>2.0</td>\n",
       "      <td>1.0</td>\n",
       "      <td>...</td>\n",
       "      <td>0</td>\n",
       "      <td>IS_GENUINE</td>\n",
       "      <td>OEM:DM</td>\n",
       "      <td>0</td>\n",
       "      <td>Retail</td>\n",
       "      <td>556.0</td>\n",
       "      <td>63396.0</td>\n",
       "      <td>0</td>\n",
       "      <td>1</td>\n",
       "      <td>11.0</td>\n",
       "    </tr>\n",
       "    <tr>\n",
       "      <th>3</th>\n",
       "      <td>0000055553dc51b1295785415f1a224d</td>\n",
       "      <td>win8defender</td>\n",
       "      <td>1.1.15400.5</td>\n",
       "      <td>4.18.1810.5</td>\n",
       "      <td>1.281.664.0</td>\n",
       "      <td>7</td>\n",
       "      <td>0</td>\n",
       "      <td>42160.0</td>\n",
       "      <td>2.0</td>\n",
       "      <td>1.0</td>\n",
       "      <td>...</td>\n",
       "      <td>0</td>\n",
       "      <td>IS_GENUINE</td>\n",
       "      <td>OEM:DM</td>\n",
       "      <td>0</td>\n",
       "      <td>Retail</td>\n",
       "      <td>628.0</td>\n",
       "      <td>26320.0</td>\n",
       "      <td>0</td>\n",
       "      <td>0</td>\n",
       "      <td>10.0</td>\n",
       "    </tr>\n",
       "    <tr>\n",
       "      <th>4</th>\n",
       "      <td>00000574cefffeca83ec8adf9285b2bf</td>\n",
       "      <td>win8defender</td>\n",
       "      <td>1.1.15400.4</td>\n",
       "      <td>4.18.1809.2</td>\n",
       "      <td>1.279.236.0</td>\n",
       "      <td>7</td>\n",
       "      <td>0</td>\n",
       "      <td>53447.0</td>\n",
       "      <td>1.0</td>\n",
       "      <td>1.0</td>\n",
       "      <td>...</td>\n",
       "      <td>0</td>\n",
       "      <td>IS_GENUINE</td>\n",
       "      <td>Retail</td>\n",
       "      <td>0</td>\n",
       "      <td>Retail</td>\n",
       "      <td>556.0</td>\n",
       "      <td>63269.0</td>\n",
       "      <td>0</td>\n",
       "      <td>1</td>\n",
       "      <td>3.0</td>\n",
       "    </tr>\n",
       "  </tbody>\n",
       "</table>\n",
       "<p>5 rows × 60 columns</p>\n",
       "</div>"
      ],
      "text/plain": [
       "                  MachineIdentifier   ProductName EngineVersion   AppVersion  \\\n",
       "0  0000010489e3af074adeac69c53e555e  win8defender   1.1.15400.5  4.18.1810.5   \n",
       "1  00000176ac758d54827acd545b6315a5  win8defender   1.1.15400.4  4.18.1809.2   \n",
       "2  0000019dcefc128c2d4387c1273dae1d  win8defender   1.1.15300.6  4.18.1809.2   \n",
       "3  0000055553dc51b1295785415f1a224d  win8defender   1.1.15400.5  4.18.1810.5   \n",
       "4  00000574cefffeca83ec8adf9285b2bf  win8defender   1.1.15400.4  4.18.1809.2   \n",
       "\n",
       "  AvSigVersion  RtpStateBitfield  IsSxsPassiveMode  AVProductStatesIdentifier  \\\n",
       "0  1.281.501.0                 7                 0                    53447.0   \n",
       "1  1.279.301.0                 7                 0                    53447.0   \n",
       "2  1.277.230.0                 7                 0                    49480.0   \n",
       "3  1.281.664.0                 7                 0                    42160.0   \n",
       "4  1.279.236.0                 7                 0                    53447.0   \n",
       "\n",
       "   AVProductsInstalled  AVProductsEnabled  ...  \\\n",
       "0                  1.0                1.0  ...   \n",
       "1                  1.0                1.0  ...   \n",
       "2                  2.0                1.0  ...   \n",
       "3                  2.0                1.0  ...   \n",
       "4                  1.0                1.0  ...   \n",
       "\n",
       "   Census_IsPortableOperatingSystem  Census_GenuineStateName  \\\n",
       "0                                 0               IS_GENUINE   \n",
       "1                                 0               IS_GENUINE   \n",
       "2                                 0               IS_GENUINE   \n",
       "3                                 0               IS_GENUINE   \n",
       "4                                 0               IS_GENUINE   \n",
       "\n",
       "   Census_ActivationChannel  Census_IsFlightsDisabled  Census_FlightRing  \\\n",
       "0                    OEM:DM                         0             Retail   \n",
       "1                    Retail                         0             Retail   \n",
       "2                    OEM:DM                         0             Retail   \n",
       "3                    OEM:DM                         0             Retail   \n",
       "4                    Retail                         0             Retail   \n",
       "\n",
       "   Census_FirmwareManufacturerIdentifier Census_FirmwareVersionIdentifier  \\\n",
       "0                                  807.0                           8554.0   \n",
       "1                                  554.0                          33105.0   \n",
       "2                                  556.0                          63396.0   \n",
       "3                                  628.0                          26320.0   \n",
       "4                                  556.0                          63269.0   \n",
       "\n",
       "  Census_IsPenCapable Wdft_IsGamer  Wdft_RegionIdentifier  \n",
       "0                   0            0                    7.0  \n",
       "1                   0            1                   12.0  \n",
       "2                   0            1                   11.0  \n",
       "3                   0            0                   10.0  \n",
       "4                   0            1                    3.0  \n",
       "\n",
       "[5 rows x 60 columns]"
      ]
     },
     "execution_count": 32,
     "metadata": {},
     "output_type": "execute_result"
    }
   ],
   "source": [
    "test_df = pd.read_csv('/kaggle/input/microsoft-malware-prediction/test.csv',\n",
    "                      usecols = lambda x: x not in columns_to_ignore,\n",
    "                      dtype = column_dtypes)\n",
    "test_df.head()"
   ]
  },
  {
   "cell_type": "code",
   "execution_count": 33,
   "id": "0860fff9",
   "metadata": {
    "execution": {
     "iopub.execute_input": "2023-05-14T20:58:01.486453Z",
     "iopub.status.busy": "2023-05-14T20:58:01.485959Z",
     "iopub.status.idle": "2023-05-14T20:58:01.594436Z",
     "shell.execute_reply": "2023-05-14T20:58:01.593038Z"
    },
    "papermill": {
     "duration": 0.137417,
     "end_time": "2023-05-14T20:58:01.597722",
     "exception": false,
     "start_time": "2023-05-14T20:58:01.460305",
     "status": "completed"
    },
    "tags": []
   },
   "outputs": [],
   "source": [
    "sub = test_df.pop('MachineIdentifier').to_frame()"
   ]
  },
  {
   "cell_type": "code",
   "execution_count": 34,
   "id": "b241d6a3",
   "metadata": {
    "execution": {
     "iopub.execute_input": "2023-05-14T20:58:01.648530Z",
     "iopub.status.busy": "2023-05-14T20:58:01.648047Z",
     "iopub.status.idle": "2023-05-14T21:03:14.031305Z",
     "shell.execute_reply": "2023-05-14T21:03:14.029836Z"
    },
    "papermill": {
     "duration": 312.413765,
     "end_time": "2023-05-14T21:03:14.035003",
     "exception": false,
     "start_time": "2023-05-14T20:58:01.621238",
     "status": "completed"
    },
    "tags": []
   },
   "outputs": [],
   "source": [
    "test_df = preprocess_cat_values(test_df)"
   ]
  },
  {
   "cell_type": "code",
   "execution_count": 35,
   "id": "dd50944d",
   "metadata": {
    "execution": {
     "iopub.execute_input": "2023-05-14T21:03:14.084751Z",
     "iopub.status.busy": "2023-05-14T21:03:14.084264Z",
     "iopub.status.idle": "2023-05-14T21:04:22.486375Z",
     "shell.execute_reply": "2023-05-14T21:04:22.485012Z"
    },
    "papermill": {
     "duration": 68.452847,
     "end_time": "2023-05-14T21:04:22.511974",
     "exception": false,
     "start_time": "2023-05-14T21:03:14.059127",
     "status": "completed"
    },
    "tags": []
   },
   "outputs": [
    {
     "data": {
      "text/plain": [
       "ProductName         0\n",
       "EngineVersion       0\n",
       "AppVersion          0\n",
       "AvSigVersion        0\n",
       "RtpStateBitfield    0\n",
       "                   ..\n",
       "OsBuildLab_0        0\n",
       "OsBuildLab_1        0\n",
       "OsBuildLab_2        0\n",
       "OsBuildLab_3        0\n",
       "OsBuildLab_4        0\n",
       "Length: 63, dtype: int64"
      ]
     },
     "execution_count": 35,
     "metadata": {},
     "output_type": "execute_result"
    }
   ],
   "source": [
    "test_df[str_cols] = test_df[str_cols].fillna('na')\n",
    "test_df[non_str_cols] = test_df[non_str_cols].fillna(na_value)\n",
    "test_df.isna().sum()"
   ]
  },
  {
   "cell_type": "code",
   "execution_count": 36,
   "id": "cc341ba7",
   "metadata": {
    "execution": {
     "iopub.execute_input": "2023-05-14T21:04:22.561647Z",
     "iopub.status.busy": "2023-05-14T21:04:22.561100Z",
     "iopub.status.idle": "2023-05-14T21:08:22.222222Z",
     "shell.execute_reply": "2023-05-14T21:08:22.220540Z"
    },
    "papermill": {
     "duration": 239.69082,
     "end_time": "2023-05-14T21:08:22.225896",
     "exception": false,
     "start_time": "2023-05-14T21:04:22.535076",
     "status": "completed"
    },
    "tags": []
   },
   "outputs": [],
   "source": [
    "test_df = oe.transform(test_df)\n",
    "test_df = np.where(test_df == unknown_value, max_vals, test_df)"
   ]
  },
  {
   "cell_type": "code",
   "execution_count": 37,
   "id": "585573a4",
   "metadata": {
    "execution": {
     "iopub.execute_input": "2023-05-14T21:08:22.277904Z",
     "iopub.status.busy": "2023-05-14T21:08:22.277077Z",
     "iopub.status.idle": "2023-05-14T21:12:28.946752Z",
     "shell.execute_reply": "2023-05-14T21:12:28.945266Z"
    },
    "papermill": {
     "duration": 246.718734,
     "end_time": "2023-05-14T21:12:28.969868",
     "exception": false,
     "start_time": "2023-05-14T21:08:22.251134",
     "status": "completed"
    },
    "tags": []
   },
   "outputs": [
    {
     "data": {
      "text/html": [
       "<div>\n",
       "<style scoped>\n",
       "    .dataframe tbody tr th:only-of-type {\n",
       "        vertical-align: middle;\n",
       "    }\n",
       "\n",
       "    .dataframe tbody tr th {\n",
       "        vertical-align: top;\n",
       "    }\n",
       "\n",
       "    .dataframe thead th {\n",
       "        text-align: right;\n",
       "    }\n",
       "</style>\n",
       "<table border=\"1\" class=\"dataframe\">\n",
       "  <thead>\n",
       "    <tr style=\"text-align: right;\">\n",
       "      <th></th>\n",
       "      <th>MachineIdentifier</th>\n",
       "      <th>HasDetections</th>\n",
       "    </tr>\n",
       "  </thead>\n",
       "  <tbody>\n",
       "    <tr>\n",
       "      <th>0</th>\n",
       "      <td>0000010489e3af074adeac69c53e555e</td>\n",
       "      <td>0.407217</td>\n",
       "    </tr>\n",
       "    <tr>\n",
       "      <th>1</th>\n",
       "      <td>00000176ac758d54827acd545b6315a5</td>\n",
       "      <td>0.507656</td>\n",
       "    </tr>\n",
       "    <tr>\n",
       "      <th>2</th>\n",
       "      <td>0000019dcefc128c2d4387c1273dae1d</td>\n",
       "      <td>0.466250</td>\n",
       "    </tr>\n",
       "    <tr>\n",
       "      <th>3</th>\n",
       "      <td>0000055553dc51b1295785415f1a224d</td>\n",
       "      <td>0.428849</td>\n",
       "    </tr>\n",
       "    <tr>\n",
       "      <th>4</th>\n",
       "      <td>00000574cefffeca83ec8adf9285b2bf</td>\n",
       "      <td>0.541166</td>\n",
       "    </tr>\n",
       "  </tbody>\n",
       "</table>\n",
       "</div>"
      ],
      "text/plain": [
       "                  MachineIdentifier  HasDetections\n",
       "0  0000010489e3af074adeac69c53e555e       0.407217\n",
       "1  00000176ac758d54827acd545b6315a5       0.507656\n",
       "2  0000019dcefc128c2d4387c1273dae1d       0.466250\n",
       "3  0000055553dc51b1295785415f1a224d       0.428849\n",
       "4  00000574cefffeca83ec8adf9285b2bf       0.541166"
      ]
     },
     "execution_count": 37,
     "metadata": {},
     "output_type": "execute_result"
    }
   ],
   "source": [
    "# predictions\n",
    "sub[label_col] = clf_gb.predict_proba(test_df)[:, 1]\n",
    "sub.head()"
   ]
  },
  {
   "cell_type": "code",
   "execution_count": 38,
   "id": "6a9b70f0",
   "metadata": {
    "execution": {
     "iopub.execute_input": "2023-05-14T21:12:29.020725Z",
     "iopub.status.busy": "2023-05-14T21:12:29.020218Z",
     "iopub.status.idle": "2023-05-14T21:13:06.199692Z",
     "shell.execute_reply": "2023-05-14T21:13:06.198502Z"
    },
    "papermill": {
     "duration": 37.208934,
     "end_time": "2023-05-14T21:13:06.202978",
     "exception": false,
     "start_time": "2023-05-14T21:12:28.994044",
     "status": "completed"
    },
    "tags": []
   },
   "outputs": [],
   "source": [
    "sub.to_csv('submission.csv', index = False)"
   ]
  }
 ],
 "metadata": {
  "kernelspec": {
   "display_name": "Python 3",
   "language": "python",
   "name": "python3"
  },
  "language_info": {
   "codemirror_mode": {
    "name": "ipython",
    "version": 3
   },
   "file_extension": ".py",
   "mimetype": "text/x-python",
   "name": "python",
   "nbconvert_exporter": "python",
   "pygments_lexer": "ipython3",
   "version": "3.7.12"
  },
  "papermill": {
   "default_parameters": {},
   "duration": 25792.003824,
   "end_time": "2023-05-14T21:13:09.392203",
   "environment_variables": {},
   "exception": null,
   "input_path": "__notebook__.ipynb",
   "output_path": "__notebook__.ipynb",
   "parameters": {},
   "start_time": "2023-05-14T14:03:17.388379",
   "version": "2.4.0"
  }
 },
 "nbformat": 4,
 "nbformat_minor": 5
}
