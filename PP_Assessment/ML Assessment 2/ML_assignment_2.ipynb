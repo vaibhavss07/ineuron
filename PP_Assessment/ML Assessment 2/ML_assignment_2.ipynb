{
  "cells": [
    {
      "cell_type": "code",
      "execution_count": null,
      "id": "6aa724ae",
      "metadata": {
        "execution": {
          "iopub.execute_input": "2023-05-22T10:05:06.228491Z",
          "iopub.status.busy": "2023-05-22T10:05:06.227986Z",
          "iopub.status.idle": "2023-05-22T10:05:06.234985Z",
          "shell.execute_reply": "2023-05-22T10:05:06.233475Z"
        },
        "papermill": {
          "duration": 0.016907,
          "end_time": "2023-05-22T10:05:06.237448",
          "exception": false,
          "start_time": "2023-05-22T10:05:06.220541",
          "status": "completed"
        },
        "tags": [],
        "id": "6aa724ae"
      },
      "outputs": [],
      "source": [
        "## Comment\n",
        "## Observation"
      ]
    },
    {
      "cell_type": "code",
      "execution_count": 3,
      "id": "19e9f89f",
      "metadata": {
        "execution": {
          "iopub.execute_input": "2023-05-22T10:05:06.250201Z",
          "iopub.status.busy": "2023-05-22T10:05:06.249802Z",
          "iopub.status.idle": "2023-05-22T10:05:08.087915Z",
          "shell.execute_reply": "2023-05-22T10:05:08.086157Z"
        },
        "papermill": {
          "duration": 1.84734,
          "end_time": "2023-05-22T10:05:08.090464",
          "exception": false,
          "start_time": "2023-05-22T10:05:06.243124",
          "status": "completed"
        },
        "tags": [],
        "colab": {
          "base_uri": "https://localhost:8080/",
          "height": 73
        },
        "id": "19e9f89f",
        "outputId": "43a367cc-24ec-4035-8012-d10036fed6f1"
      },
      "outputs": [
        {
          "output_type": "display_data",
          "data": {
            "text/plain": [
              "<IPython.core.display.HTML object>"
            ],
            "text/html": [
              "\n",
              "     <input type=\"file\" id=\"files-c3af2e9c-1e8e-4c2b-b4ab-5714ec9403eb\" name=\"files[]\" multiple disabled\n",
              "        style=\"border:none\" />\n",
              "     <output id=\"result-c3af2e9c-1e8e-4c2b-b4ab-5714ec9403eb\">\n",
              "      Upload widget is only available when the cell has been executed in the\n",
              "      current browser session. Please rerun this cell to enable.\n",
              "      </output>\n",
              "      <script>// Copyright 2017 Google LLC\n",
              "//\n",
              "// Licensed under the Apache License, Version 2.0 (the \"License\");\n",
              "// you may not use this file except in compliance with the License.\n",
              "// You may obtain a copy of the License at\n",
              "//\n",
              "//      http://www.apache.org/licenses/LICENSE-2.0\n",
              "//\n",
              "// Unless required by applicable law or agreed to in writing, software\n",
              "// distributed under the License is distributed on an \"AS IS\" BASIS,\n",
              "// WITHOUT WARRANTIES OR CONDITIONS OF ANY KIND, either express or implied.\n",
              "// See the License for the specific language governing permissions and\n",
              "// limitations under the License.\n",
              "\n",
              "/**\n",
              " * @fileoverview Helpers for google.colab Python module.\n",
              " */\n",
              "(function(scope) {\n",
              "function span(text, styleAttributes = {}) {\n",
              "  const element = document.createElement('span');\n",
              "  element.textContent = text;\n",
              "  for (const key of Object.keys(styleAttributes)) {\n",
              "    element.style[key] = styleAttributes[key];\n",
              "  }\n",
              "  return element;\n",
              "}\n",
              "\n",
              "// Max number of bytes which will be uploaded at a time.\n",
              "const MAX_PAYLOAD_SIZE = 100 * 1024;\n",
              "\n",
              "function _uploadFiles(inputId, outputId) {\n",
              "  const steps = uploadFilesStep(inputId, outputId);\n",
              "  const outputElement = document.getElementById(outputId);\n",
              "  // Cache steps on the outputElement to make it available for the next call\n",
              "  // to uploadFilesContinue from Python.\n",
              "  outputElement.steps = steps;\n",
              "\n",
              "  return _uploadFilesContinue(outputId);\n",
              "}\n",
              "\n",
              "// This is roughly an async generator (not supported in the browser yet),\n",
              "// where there are multiple asynchronous steps and the Python side is going\n",
              "// to poll for completion of each step.\n",
              "// This uses a Promise to block the python side on completion of each step,\n",
              "// then passes the result of the previous step as the input to the next step.\n",
              "function _uploadFilesContinue(outputId) {\n",
              "  const outputElement = document.getElementById(outputId);\n",
              "  const steps = outputElement.steps;\n",
              "\n",
              "  const next = steps.next(outputElement.lastPromiseValue);\n",
              "  return Promise.resolve(next.value.promise).then((value) => {\n",
              "    // Cache the last promise value to make it available to the next\n",
              "    // step of the generator.\n",
              "    outputElement.lastPromiseValue = value;\n",
              "    return next.value.response;\n",
              "  });\n",
              "}\n",
              "\n",
              "/**\n",
              " * Generator function which is called between each async step of the upload\n",
              " * process.\n",
              " * @param {string} inputId Element ID of the input file picker element.\n",
              " * @param {string} outputId Element ID of the output display.\n",
              " * @return {!Iterable<!Object>} Iterable of next steps.\n",
              " */\n",
              "function* uploadFilesStep(inputId, outputId) {\n",
              "  const inputElement = document.getElementById(inputId);\n",
              "  inputElement.disabled = false;\n",
              "\n",
              "  const outputElement = document.getElementById(outputId);\n",
              "  outputElement.innerHTML = '';\n",
              "\n",
              "  const pickedPromise = new Promise((resolve) => {\n",
              "    inputElement.addEventListener('change', (e) => {\n",
              "      resolve(e.target.files);\n",
              "    });\n",
              "  });\n",
              "\n",
              "  const cancel = document.createElement('button');\n",
              "  inputElement.parentElement.appendChild(cancel);\n",
              "  cancel.textContent = 'Cancel upload';\n",
              "  const cancelPromise = new Promise((resolve) => {\n",
              "    cancel.onclick = () => {\n",
              "      resolve(null);\n",
              "    };\n",
              "  });\n",
              "\n",
              "  // Wait for the user to pick the files.\n",
              "  const files = yield {\n",
              "    promise: Promise.race([pickedPromise, cancelPromise]),\n",
              "    response: {\n",
              "      action: 'starting',\n",
              "    }\n",
              "  };\n",
              "\n",
              "  cancel.remove();\n",
              "\n",
              "  // Disable the input element since further picks are not allowed.\n",
              "  inputElement.disabled = true;\n",
              "\n",
              "  if (!files) {\n",
              "    return {\n",
              "      response: {\n",
              "        action: 'complete',\n",
              "      }\n",
              "    };\n",
              "  }\n",
              "\n",
              "  for (const file of files) {\n",
              "    const li = document.createElement('li');\n",
              "    li.append(span(file.name, {fontWeight: 'bold'}));\n",
              "    li.append(span(\n",
              "        `(${file.type || 'n/a'}) - ${file.size} bytes, ` +\n",
              "        `last modified: ${\n",
              "            file.lastModifiedDate ? file.lastModifiedDate.toLocaleDateString() :\n",
              "                                    'n/a'} - `));\n",
              "    const percent = span('0% done');\n",
              "    li.appendChild(percent);\n",
              "\n",
              "    outputElement.appendChild(li);\n",
              "\n",
              "    const fileDataPromise = new Promise((resolve) => {\n",
              "      const reader = new FileReader();\n",
              "      reader.onload = (e) => {\n",
              "        resolve(e.target.result);\n",
              "      };\n",
              "      reader.readAsArrayBuffer(file);\n",
              "    });\n",
              "    // Wait for the data to be ready.\n",
              "    let fileData = yield {\n",
              "      promise: fileDataPromise,\n",
              "      response: {\n",
              "        action: 'continue',\n",
              "      }\n",
              "    };\n",
              "\n",
              "    // Use a chunked sending to avoid message size limits. See b/62115660.\n",
              "    let position = 0;\n",
              "    do {\n",
              "      const length = Math.min(fileData.byteLength - position, MAX_PAYLOAD_SIZE);\n",
              "      const chunk = new Uint8Array(fileData, position, length);\n",
              "      position += length;\n",
              "\n",
              "      const base64 = btoa(String.fromCharCode.apply(null, chunk));\n",
              "      yield {\n",
              "        response: {\n",
              "          action: 'append',\n",
              "          file: file.name,\n",
              "          data: base64,\n",
              "        },\n",
              "      };\n",
              "\n",
              "      let percentDone = fileData.byteLength === 0 ?\n",
              "          100 :\n",
              "          Math.round((position / fileData.byteLength) * 100);\n",
              "      percent.textContent = `${percentDone}% done`;\n",
              "\n",
              "    } while (position < fileData.byteLength);\n",
              "  }\n",
              "\n",
              "  // All done.\n",
              "  yield {\n",
              "    response: {\n",
              "      action: 'complete',\n",
              "    }\n",
              "  };\n",
              "}\n",
              "\n",
              "scope.google = scope.google || {};\n",
              "scope.google.colab = scope.google.colab || {};\n",
              "scope.google.colab._files = {\n",
              "  _uploadFiles,\n",
              "  _uploadFilesContinue,\n",
              "};\n",
              "})(self);\n",
              "</script> "
            ]
          },
          "metadata": {}
        },
        {
          "output_type": "stream",
          "name": "stdout",
          "text": [
            "Saving ObesityDataSet_raw_and_data_sinthetic.csv to ObesityDataSet_raw_and_data_sinthetic.csv\n"
          ]
        }
      ],
      "source": [
        "## Import the necessary libraries:-\n",
        "import pandas as pd\n",
        "from sklearn.model_selection import train_test_split\n",
        "from sklearn.tree import DecisionTreeClassifier\n",
        "from sklearn.linear_model import LogisticRegression\n",
        "from sklearn.ensemble import RandomForestClassifier\n",
        "from sklearn.svm import SVC\n",
        "from sklearn.neighbors import KNeighborsClassifier\n",
        "from sklearn.metrics import classification_report\n",
        "from sklearn.preprocessing import LabelEncoder\n",
        "import warnings\n",
        "warnings.filterwarnings('ignore')\n",
        "from google.colab import files\n",
        "uploaded = files.upload()"
      ]
    },
    {
      "cell_type": "code",
      "execution_count": 5,
      "id": "8be2db7b",
      "metadata": {
        "execution": {
          "iopub.execute_input": "2023-05-22T10:05:08.103001Z",
          "iopub.status.busy": "2023-05-22T10:05:08.102604Z",
          "iopub.status.idle": "2023-05-22T10:05:08.144960Z",
          "shell.execute_reply": "2023-05-22T10:05:08.143555Z"
        },
        "papermill": {
          "duration": 0.051719,
          "end_time": "2023-05-22T10:05:08.147627",
          "exception": false,
          "start_time": "2023-05-22T10:05:08.095908",
          "status": "completed"
        },
        "tags": [],
        "id": "8be2db7b"
      },
      "outputs": [],
      "source": [
        "# Load the dataset\n",
        "data = pd.read_csv(\"ObesityDataSet_raw_and_data_sinthetic.csv\")"
      ]
    },
    {
      "cell_type": "code",
      "execution_count": 6,
      "id": "28517b16",
      "metadata": {
        "execution": {
          "iopub.execute_input": "2023-05-22T10:05:08.160171Z",
          "iopub.status.busy": "2023-05-22T10:05:08.159796Z",
          "iopub.status.idle": "2023-05-22T10:05:08.204615Z",
          "shell.execute_reply": "2023-05-22T10:05:08.203842Z"
        },
        "papermill": {
          "duration": 0.053192,
          "end_time": "2023-05-22T10:05:08.206629",
          "exception": false,
          "start_time": "2023-05-22T10:05:08.153437",
          "status": "completed"
        },
        "tags": [],
        "colab": {
          "base_uri": "https://localhost:8080/",
          "height": 206
        },
        "id": "28517b16",
        "outputId": "6202a88a-a5a7-43c1-9569-a17ffe66d5a3"
      },
      "outputs": [
        {
          "output_type": "execute_result",
          "data": {
            "text/plain": [
              "   Gender   Age  Height  Weight family_history_with_overweight FAVC  FCVC  \\\n",
              "0  Female  21.0    1.62    64.0                            yes   no   2.0   \n",
              "1  Female  21.0    1.52    56.0                            yes   no   3.0   \n",
              "2    Male  23.0    1.80    77.0                            yes   no   2.0   \n",
              "3    Male  27.0    1.80    87.0                             no   no   3.0   \n",
              "4    Male  22.0    1.78    89.8                             no   no   2.0   \n",
              "\n",
              "   NCP       CAEC SMOKE  CH2O  SCC  FAF  TUE        CALC  \\\n",
              "0  3.0  Sometimes    no   2.0   no  0.0  1.0          no   \n",
              "1  3.0  Sometimes   yes   3.0  yes  3.0  0.0   Sometimes   \n",
              "2  3.0  Sometimes    no   2.0   no  2.0  1.0  Frequently   \n",
              "3  3.0  Sometimes    no   2.0   no  2.0  0.0  Frequently   \n",
              "4  1.0  Sometimes    no   2.0   no  0.0  0.0   Sometimes   \n",
              "\n",
              "                  MTRANS           NObeyesdad  \n",
              "0  Public_Transportation        Normal_Weight  \n",
              "1  Public_Transportation        Normal_Weight  \n",
              "2  Public_Transportation        Normal_Weight  \n",
              "3                Walking   Overweight_Level_I  \n",
              "4  Public_Transportation  Overweight_Level_II  "
            ],
            "text/html": [
              "\n",
              "  <div id=\"df-edf178dc-ab68-42d6-b87d-eb6d35cfad28\">\n",
              "    <div class=\"colab-df-container\">\n",
              "      <div>\n",
              "<style scoped>\n",
              "    .dataframe tbody tr th:only-of-type {\n",
              "        vertical-align: middle;\n",
              "    }\n",
              "\n",
              "    .dataframe tbody tr th {\n",
              "        vertical-align: top;\n",
              "    }\n",
              "\n",
              "    .dataframe thead th {\n",
              "        text-align: right;\n",
              "    }\n",
              "</style>\n",
              "<table border=\"1\" class=\"dataframe\">\n",
              "  <thead>\n",
              "    <tr style=\"text-align: right;\">\n",
              "      <th></th>\n",
              "      <th>Gender</th>\n",
              "      <th>Age</th>\n",
              "      <th>Height</th>\n",
              "      <th>Weight</th>\n",
              "      <th>family_history_with_overweight</th>\n",
              "      <th>FAVC</th>\n",
              "      <th>FCVC</th>\n",
              "      <th>NCP</th>\n",
              "      <th>CAEC</th>\n",
              "      <th>SMOKE</th>\n",
              "      <th>CH2O</th>\n",
              "      <th>SCC</th>\n",
              "      <th>FAF</th>\n",
              "      <th>TUE</th>\n",
              "      <th>CALC</th>\n",
              "      <th>MTRANS</th>\n",
              "      <th>NObeyesdad</th>\n",
              "    </tr>\n",
              "  </thead>\n",
              "  <tbody>\n",
              "    <tr>\n",
              "      <th>0</th>\n",
              "      <td>Female</td>\n",
              "      <td>21.0</td>\n",
              "      <td>1.62</td>\n",
              "      <td>64.0</td>\n",
              "      <td>yes</td>\n",
              "      <td>no</td>\n",
              "      <td>2.0</td>\n",
              "      <td>3.0</td>\n",
              "      <td>Sometimes</td>\n",
              "      <td>no</td>\n",
              "      <td>2.0</td>\n",
              "      <td>no</td>\n",
              "      <td>0.0</td>\n",
              "      <td>1.0</td>\n",
              "      <td>no</td>\n",
              "      <td>Public_Transportation</td>\n",
              "      <td>Normal_Weight</td>\n",
              "    </tr>\n",
              "    <tr>\n",
              "      <th>1</th>\n",
              "      <td>Female</td>\n",
              "      <td>21.0</td>\n",
              "      <td>1.52</td>\n",
              "      <td>56.0</td>\n",
              "      <td>yes</td>\n",
              "      <td>no</td>\n",
              "      <td>3.0</td>\n",
              "      <td>3.0</td>\n",
              "      <td>Sometimes</td>\n",
              "      <td>yes</td>\n",
              "      <td>3.0</td>\n",
              "      <td>yes</td>\n",
              "      <td>3.0</td>\n",
              "      <td>0.0</td>\n",
              "      <td>Sometimes</td>\n",
              "      <td>Public_Transportation</td>\n",
              "      <td>Normal_Weight</td>\n",
              "    </tr>\n",
              "    <tr>\n",
              "      <th>2</th>\n",
              "      <td>Male</td>\n",
              "      <td>23.0</td>\n",
              "      <td>1.80</td>\n",
              "      <td>77.0</td>\n",
              "      <td>yes</td>\n",
              "      <td>no</td>\n",
              "      <td>2.0</td>\n",
              "      <td>3.0</td>\n",
              "      <td>Sometimes</td>\n",
              "      <td>no</td>\n",
              "      <td>2.0</td>\n",
              "      <td>no</td>\n",
              "      <td>2.0</td>\n",
              "      <td>1.0</td>\n",
              "      <td>Frequently</td>\n",
              "      <td>Public_Transportation</td>\n",
              "      <td>Normal_Weight</td>\n",
              "    </tr>\n",
              "    <tr>\n",
              "      <th>3</th>\n",
              "      <td>Male</td>\n",
              "      <td>27.0</td>\n",
              "      <td>1.80</td>\n",
              "      <td>87.0</td>\n",
              "      <td>no</td>\n",
              "      <td>no</td>\n",
              "      <td>3.0</td>\n",
              "      <td>3.0</td>\n",
              "      <td>Sometimes</td>\n",
              "      <td>no</td>\n",
              "      <td>2.0</td>\n",
              "      <td>no</td>\n",
              "      <td>2.0</td>\n",
              "      <td>0.0</td>\n",
              "      <td>Frequently</td>\n",
              "      <td>Walking</td>\n",
              "      <td>Overweight_Level_I</td>\n",
              "    </tr>\n",
              "    <tr>\n",
              "      <th>4</th>\n",
              "      <td>Male</td>\n",
              "      <td>22.0</td>\n",
              "      <td>1.78</td>\n",
              "      <td>89.8</td>\n",
              "      <td>no</td>\n",
              "      <td>no</td>\n",
              "      <td>2.0</td>\n",
              "      <td>1.0</td>\n",
              "      <td>Sometimes</td>\n",
              "      <td>no</td>\n",
              "      <td>2.0</td>\n",
              "      <td>no</td>\n",
              "      <td>0.0</td>\n",
              "      <td>0.0</td>\n",
              "      <td>Sometimes</td>\n",
              "      <td>Public_Transportation</td>\n",
              "      <td>Overweight_Level_II</td>\n",
              "    </tr>\n",
              "  </tbody>\n",
              "</table>\n",
              "</div>\n",
              "      <button class=\"colab-df-convert\" onclick=\"convertToInteractive('df-edf178dc-ab68-42d6-b87d-eb6d35cfad28')\"\n",
              "              title=\"Convert this dataframe to an interactive table.\"\n",
              "              style=\"display:none;\">\n",
              "        \n",
              "  <svg xmlns=\"http://www.w3.org/2000/svg\" height=\"24px\"viewBox=\"0 0 24 24\"\n",
              "       width=\"24px\">\n",
              "    <path d=\"M0 0h24v24H0V0z\" fill=\"none\"/>\n",
              "    <path d=\"M18.56 5.44l.94 2.06.94-2.06 2.06-.94-2.06-.94-.94-2.06-.94 2.06-2.06.94zm-11 1L8.5 8.5l.94-2.06 2.06-.94-2.06-.94L8.5 2.5l-.94 2.06-2.06.94zm10 10l.94 2.06.94-2.06 2.06-.94-2.06-.94-.94-2.06-.94 2.06-2.06.94z\"/><path d=\"M17.41 7.96l-1.37-1.37c-.4-.4-.92-.59-1.43-.59-.52 0-1.04.2-1.43.59L10.3 9.45l-7.72 7.72c-.78.78-.78 2.05 0 2.83L4 21.41c.39.39.9.59 1.41.59.51 0 1.02-.2 1.41-.59l7.78-7.78 2.81-2.81c.8-.78.8-2.07 0-2.86zM5.41 20L4 18.59l7.72-7.72 1.47 1.35L5.41 20z\"/>\n",
              "  </svg>\n",
              "      </button>\n",
              "      \n",
              "  <style>\n",
              "    .colab-df-container {\n",
              "      display:flex;\n",
              "      flex-wrap:wrap;\n",
              "      gap: 12px;\n",
              "    }\n",
              "\n",
              "    .colab-df-convert {\n",
              "      background-color: #E8F0FE;\n",
              "      border: none;\n",
              "      border-radius: 50%;\n",
              "      cursor: pointer;\n",
              "      display: none;\n",
              "      fill: #1967D2;\n",
              "      height: 32px;\n",
              "      padding: 0 0 0 0;\n",
              "      width: 32px;\n",
              "    }\n",
              "\n",
              "    .colab-df-convert:hover {\n",
              "      background-color: #E2EBFA;\n",
              "      box-shadow: 0px 1px 2px rgba(60, 64, 67, 0.3), 0px 1px 3px 1px rgba(60, 64, 67, 0.15);\n",
              "      fill: #174EA6;\n",
              "    }\n",
              "\n",
              "    [theme=dark] .colab-df-convert {\n",
              "      background-color: #3B4455;\n",
              "      fill: #D2E3FC;\n",
              "    }\n",
              "\n",
              "    [theme=dark] .colab-df-convert:hover {\n",
              "      background-color: #434B5C;\n",
              "      box-shadow: 0px 1px 3px 1px rgba(0, 0, 0, 0.15);\n",
              "      filter: drop-shadow(0px 1px 2px rgba(0, 0, 0, 0.3));\n",
              "      fill: #FFFFFF;\n",
              "    }\n",
              "  </style>\n",
              "\n",
              "      <script>\n",
              "        const buttonEl =\n",
              "          document.querySelector('#df-edf178dc-ab68-42d6-b87d-eb6d35cfad28 button.colab-df-convert');\n",
              "        buttonEl.style.display =\n",
              "          google.colab.kernel.accessAllowed ? 'block' : 'none';\n",
              "\n",
              "        async function convertToInteractive(key) {\n",
              "          const element = document.querySelector('#df-edf178dc-ab68-42d6-b87d-eb6d35cfad28');\n",
              "          const dataTable =\n",
              "            await google.colab.kernel.invokeFunction('convertToInteractive',\n",
              "                                                     [key], {});\n",
              "          if (!dataTable) return;\n",
              "\n",
              "          const docLinkHtml = 'Like what you see? Visit the ' +\n",
              "            '<a target=\"_blank\" href=https://colab.research.google.com/notebooks/data_table.ipynb>data table notebook</a>'\n",
              "            + ' to learn more about interactive tables.';\n",
              "          element.innerHTML = '';\n",
              "          dataTable['output_type'] = 'display_data';\n",
              "          await google.colab.output.renderOutput(dataTable, element);\n",
              "          const docLink = document.createElement('div');\n",
              "          docLink.innerHTML = docLinkHtml;\n",
              "          element.appendChild(docLink);\n",
              "        }\n",
              "      </script>\n",
              "    </div>\n",
              "  </div>\n",
              "  "
            ]
          },
          "metadata": {},
          "execution_count": 6
        }
      ],
      "source": [
        "## Checking top 5 rows\n",
        "data.head()"
      ]
    },
    {
      "cell_type": "code",
      "execution_count": 7,
      "id": "818a6762",
      "metadata": {
        "execution": {
          "iopub.execute_input": "2023-05-22T10:05:08.222440Z",
          "iopub.status.busy": "2023-05-22T10:05:08.221627Z",
          "iopub.status.idle": "2023-05-22T10:05:08.227786Z",
          "shell.execute_reply": "2023-05-22T10:05:08.227029Z"
        },
        "papermill": {
          "duration": 0.025486,
          "end_time": "2023-05-22T10:05:08.238120",
          "exception": false,
          "start_time": "2023-05-22T10:05:08.212634",
          "status": "completed"
        },
        "tags": [],
        "colab": {
          "base_uri": "https://localhost:8080/"
        },
        "id": "818a6762",
        "outputId": "46767399-6210-4124-a697-233113b4b007"
      },
      "outputs": [
        {
          "output_type": "execute_result",
          "data": {
            "text/plain": [
              "(2111, 17)"
            ]
          },
          "metadata": {},
          "execution_count": 7
        }
      ],
      "source": [
        "## Checking Rows & Columns Availabale in Dataset\n",
        "data.shape"
      ]
    },
    {
      "cell_type": "code",
      "execution_count": 8,
      "id": "21ea76e2",
      "metadata": {
        "execution": {
          "iopub.execute_input": "2023-05-22T10:05:08.251738Z",
          "iopub.status.busy": "2023-05-22T10:05:08.251437Z",
          "iopub.status.idle": "2023-05-22T10:05:08.282032Z",
          "shell.execute_reply": "2023-05-22T10:05:08.281013Z"
        },
        "papermill": {
          "duration": 0.040234,
          "end_time": "2023-05-22T10:05:08.285046",
          "exception": false,
          "start_time": "2023-05-22T10:05:08.244812",
          "status": "completed"
        },
        "tags": [],
        "colab": {
          "base_uri": "https://localhost:8080/"
        },
        "id": "21ea76e2",
        "outputId": "8f448fae-acc7-4ccd-de57-8fefed0120c1"
      },
      "outputs": [
        {
          "output_type": "stream",
          "name": "stdout",
          "text": [
            "<class 'pandas.core.frame.DataFrame'>\n",
            "RangeIndex: 2111 entries, 0 to 2110\n",
            "Data columns (total 17 columns):\n",
            " #   Column                          Non-Null Count  Dtype  \n",
            "---  ------                          --------------  -----  \n",
            " 0   Gender                          2111 non-null   object \n",
            " 1   Age                             2111 non-null   float64\n",
            " 2   Height                          2111 non-null   float64\n",
            " 3   Weight                          2111 non-null   float64\n",
            " 4   family_history_with_overweight  2111 non-null   object \n",
            " 5   FAVC                            2111 non-null   object \n",
            " 6   FCVC                            2111 non-null   float64\n",
            " 7   NCP                             2111 non-null   float64\n",
            " 8   CAEC                            2111 non-null   object \n",
            " 9   SMOKE                           2111 non-null   object \n",
            " 10  CH2O                            2111 non-null   float64\n",
            " 11  SCC                             2111 non-null   object \n",
            " 12  FAF                             2111 non-null   float64\n",
            " 13  TUE                             2111 non-null   float64\n",
            " 14  CALC                            2111 non-null   object \n",
            " 15  MTRANS                          2111 non-null   object \n",
            " 16  NObeyesdad                      2111 non-null   object \n",
            "dtypes: float64(8), object(9)\n",
            "memory usage: 280.5+ KB\n"
          ]
        }
      ],
      "source": [
        "## Checking Details Information related with Dataset\n",
        "data.info()"
      ]
    },
    {
      "cell_type": "code",
      "execution_count": 9,
      "id": "0432ef78",
      "metadata": {
        "execution": {
          "iopub.execute_input": "2023-05-22T10:05:08.305148Z",
          "iopub.status.busy": "2023-05-22T10:05:08.304405Z",
          "iopub.status.idle": "2023-05-22T10:05:08.312178Z",
          "shell.execute_reply": "2023-05-22T10:05:08.311199Z"
        },
        "papermill": {
          "duration": 0.023034,
          "end_time": "2023-05-22T10:05:08.314239",
          "exception": false,
          "start_time": "2023-05-22T10:05:08.291205",
          "status": "completed"
        },
        "tags": [],
        "colab": {
          "base_uri": "https://localhost:8080/"
        },
        "id": "0432ef78",
        "outputId": "22cecbc7-f2be-4614-d24b-7e32c786eef8"
      },
      "outputs": [
        {
          "output_type": "execute_result",
          "data": {
            "text/plain": [
              "Index(['Gender', 'Age', 'Height', 'Weight', 'family_history_with_overweight',\n",
              "       'FAVC', 'FCVC', 'NCP', 'CAEC', 'SMOKE', 'CH2O', 'SCC', 'FAF', 'TUE',\n",
              "       'CALC', 'MTRANS', 'NObeyesdad'],\n",
              "      dtype='object')"
            ]
          },
          "metadata": {},
          "execution_count": 9
        }
      ],
      "source": [
        "## Checking All Columns name present in dataset\n",
        "data.columns"
      ]
    },
    {
      "cell_type": "code",
      "execution_count": 10,
      "id": "3cb67c8a",
      "metadata": {
        "execution": {
          "iopub.execute_input": "2023-05-22T10:05:08.330237Z",
          "iopub.status.busy": "2023-05-22T10:05:08.329474Z",
          "iopub.status.idle": "2023-05-22T10:05:08.364012Z",
          "shell.execute_reply": "2023-05-22T10:05:08.362932Z"
        },
        "papermill": {
          "duration": 0.04509,
          "end_time": "2023-05-22T10:05:08.366100",
          "exception": false,
          "start_time": "2023-05-22T10:05:08.321010",
          "status": "completed"
        },
        "tags": [],
        "colab": {
          "base_uri": "https://localhost:8080/",
          "height": 300
        },
        "id": "3cb67c8a",
        "outputId": "baea2373-d118-49eb-e6a6-58edf103e7af"
      },
      "outputs": [
        {
          "output_type": "execute_result",
          "data": {
            "text/plain": [
              "               Age       Height       Weight         FCVC          NCP  \\\n",
              "count  2111.000000  2111.000000  2111.000000  2111.000000  2111.000000   \n",
              "mean     24.312600     1.701677    86.586058     2.419043     2.685628   \n",
              "std       6.345968     0.093305    26.191172     0.533927     0.778039   \n",
              "min      14.000000     1.450000    39.000000     1.000000     1.000000   \n",
              "25%      19.947192     1.630000    65.473343     2.000000     2.658738   \n",
              "50%      22.777890     1.700499    83.000000     2.385502     3.000000   \n",
              "75%      26.000000     1.768464   107.430682     3.000000     3.000000   \n",
              "max      61.000000     1.980000   173.000000     3.000000     4.000000   \n",
              "\n",
              "              CH2O          FAF          TUE  \n",
              "count  2111.000000  2111.000000  2111.000000  \n",
              "mean      2.008011     1.010298     0.657866  \n",
              "std       0.612953     0.850592     0.608927  \n",
              "min       1.000000     0.000000     0.000000  \n",
              "25%       1.584812     0.124505     0.000000  \n",
              "50%       2.000000     1.000000     0.625350  \n",
              "75%       2.477420     1.666678     1.000000  \n",
              "max       3.000000     3.000000     2.000000  "
            ],
            "text/html": [
              "\n",
              "  <div id=\"df-b1029266-4015-4a8e-80e0-1fd88a11f485\">\n",
              "    <div class=\"colab-df-container\">\n",
              "      <div>\n",
              "<style scoped>\n",
              "    .dataframe tbody tr th:only-of-type {\n",
              "        vertical-align: middle;\n",
              "    }\n",
              "\n",
              "    .dataframe tbody tr th {\n",
              "        vertical-align: top;\n",
              "    }\n",
              "\n",
              "    .dataframe thead th {\n",
              "        text-align: right;\n",
              "    }\n",
              "</style>\n",
              "<table border=\"1\" class=\"dataframe\">\n",
              "  <thead>\n",
              "    <tr style=\"text-align: right;\">\n",
              "      <th></th>\n",
              "      <th>Age</th>\n",
              "      <th>Height</th>\n",
              "      <th>Weight</th>\n",
              "      <th>FCVC</th>\n",
              "      <th>NCP</th>\n",
              "      <th>CH2O</th>\n",
              "      <th>FAF</th>\n",
              "      <th>TUE</th>\n",
              "    </tr>\n",
              "  </thead>\n",
              "  <tbody>\n",
              "    <tr>\n",
              "      <th>count</th>\n",
              "      <td>2111.000000</td>\n",
              "      <td>2111.000000</td>\n",
              "      <td>2111.000000</td>\n",
              "      <td>2111.000000</td>\n",
              "      <td>2111.000000</td>\n",
              "      <td>2111.000000</td>\n",
              "      <td>2111.000000</td>\n",
              "      <td>2111.000000</td>\n",
              "    </tr>\n",
              "    <tr>\n",
              "      <th>mean</th>\n",
              "      <td>24.312600</td>\n",
              "      <td>1.701677</td>\n",
              "      <td>86.586058</td>\n",
              "      <td>2.419043</td>\n",
              "      <td>2.685628</td>\n",
              "      <td>2.008011</td>\n",
              "      <td>1.010298</td>\n",
              "      <td>0.657866</td>\n",
              "    </tr>\n",
              "    <tr>\n",
              "      <th>std</th>\n",
              "      <td>6.345968</td>\n",
              "      <td>0.093305</td>\n",
              "      <td>26.191172</td>\n",
              "      <td>0.533927</td>\n",
              "      <td>0.778039</td>\n",
              "      <td>0.612953</td>\n",
              "      <td>0.850592</td>\n",
              "      <td>0.608927</td>\n",
              "    </tr>\n",
              "    <tr>\n",
              "      <th>min</th>\n",
              "      <td>14.000000</td>\n",
              "      <td>1.450000</td>\n",
              "      <td>39.000000</td>\n",
              "      <td>1.000000</td>\n",
              "      <td>1.000000</td>\n",
              "      <td>1.000000</td>\n",
              "      <td>0.000000</td>\n",
              "      <td>0.000000</td>\n",
              "    </tr>\n",
              "    <tr>\n",
              "      <th>25%</th>\n",
              "      <td>19.947192</td>\n",
              "      <td>1.630000</td>\n",
              "      <td>65.473343</td>\n",
              "      <td>2.000000</td>\n",
              "      <td>2.658738</td>\n",
              "      <td>1.584812</td>\n",
              "      <td>0.124505</td>\n",
              "      <td>0.000000</td>\n",
              "    </tr>\n",
              "    <tr>\n",
              "      <th>50%</th>\n",
              "      <td>22.777890</td>\n",
              "      <td>1.700499</td>\n",
              "      <td>83.000000</td>\n",
              "      <td>2.385502</td>\n",
              "      <td>3.000000</td>\n",
              "      <td>2.000000</td>\n",
              "      <td>1.000000</td>\n",
              "      <td>0.625350</td>\n",
              "    </tr>\n",
              "    <tr>\n",
              "      <th>75%</th>\n",
              "      <td>26.000000</td>\n",
              "      <td>1.768464</td>\n",
              "      <td>107.430682</td>\n",
              "      <td>3.000000</td>\n",
              "      <td>3.000000</td>\n",
              "      <td>2.477420</td>\n",
              "      <td>1.666678</td>\n",
              "      <td>1.000000</td>\n",
              "    </tr>\n",
              "    <tr>\n",
              "      <th>max</th>\n",
              "      <td>61.000000</td>\n",
              "      <td>1.980000</td>\n",
              "      <td>173.000000</td>\n",
              "      <td>3.000000</td>\n",
              "      <td>4.000000</td>\n",
              "      <td>3.000000</td>\n",
              "      <td>3.000000</td>\n",
              "      <td>2.000000</td>\n",
              "    </tr>\n",
              "  </tbody>\n",
              "</table>\n",
              "</div>\n",
              "      <button class=\"colab-df-convert\" onclick=\"convertToInteractive('df-b1029266-4015-4a8e-80e0-1fd88a11f485')\"\n",
              "              title=\"Convert this dataframe to an interactive table.\"\n",
              "              style=\"display:none;\">\n",
              "        \n",
              "  <svg xmlns=\"http://www.w3.org/2000/svg\" height=\"24px\"viewBox=\"0 0 24 24\"\n",
              "       width=\"24px\">\n",
              "    <path d=\"M0 0h24v24H0V0z\" fill=\"none\"/>\n",
              "    <path d=\"M18.56 5.44l.94 2.06.94-2.06 2.06-.94-2.06-.94-.94-2.06-.94 2.06-2.06.94zm-11 1L8.5 8.5l.94-2.06 2.06-.94-2.06-.94L8.5 2.5l-.94 2.06-2.06.94zm10 10l.94 2.06.94-2.06 2.06-.94-2.06-.94-.94-2.06-.94 2.06-2.06.94z\"/><path d=\"M17.41 7.96l-1.37-1.37c-.4-.4-.92-.59-1.43-.59-.52 0-1.04.2-1.43.59L10.3 9.45l-7.72 7.72c-.78.78-.78 2.05 0 2.83L4 21.41c.39.39.9.59 1.41.59.51 0 1.02-.2 1.41-.59l7.78-7.78 2.81-2.81c.8-.78.8-2.07 0-2.86zM5.41 20L4 18.59l7.72-7.72 1.47 1.35L5.41 20z\"/>\n",
              "  </svg>\n",
              "      </button>\n",
              "      \n",
              "  <style>\n",
              "    .colab-df-container {\n",
              "      display:flex;\n",
              "      flex-wrap:wrap;\n",
              "      gap: 12px;\n",
              "    }\n",
              "\n",
              "    .colab-df-convert {\n",
              "      background-color: #E8F0FE;\n",
              "      border: none;\n",
              "      border-radius: 50%;\n",
              "      cursor: pointer;\n",
              "      display: none;\n",
              "      fill: #1967D2;\n",
              "      height: 32px;\n",
              "      padding: 0 0 0 0;\n",
              "      width: 32px;\n",
              "    }\n",
              "\n",
              "    .colab-df-convert:hover {\n",
              "      background-color: #E2EBFA;\n",
              "      box-shadow: 0px 1px 2px rgba(60, 64, 67, 0.3), 0px 1px 3px 1px rgba(60, 64, 67, 0.15);\n",
              "      fill: #174EA6;\n",
              "    }\n",
              "\n",
              "    [theme=dark] .colab-df-convert {\n",
              "      background-color: #3B4455;\n",
              "      fill: #D2E3FC;\n",
              "    }\n",
              "\n",
              "    [theme=dark] .colab-df-convert:hover {\n",
              "      background-color: #434B5C;\n",
              "      box-shadow: 0px 1px 3px 1px rgba(0, 0, 0, 0.15);\n",
              "      filter: drop-shadow(0px 1px 2px rgba(0, 0, 0, 0.3));\n",
              "      fill: #FFFFFF;\n",
              "    }\n",
              "  </style>\n",
              "\n",
              "      <script>\n",
              "        const buttonEl =\n",
              "          document.querySelector('#df-b1029266-4015-4a8e-80e0-1fd88a11f485 button.colab-df-convert');\n",
              "        buttonEl.style.display =\n",
              "          google.colab.kernel.accessAllowed ? 'block' : 'none';\n",
              "\n",
              "        async function convertToInteractive(key) {\n",
              "          const element = document.querySelector('#df-b1029266-4015-4a8e-80e0-1fd88a11f485');\n",
              "          const dataTable =\n",
              "            await google.colab.kernel.invokeFunction('convertToInteractive',\n",
              "                                                     [key], {});\n",
              "          if (!dataTable) return;\n",
              "\n",
              "          const docLinkHtml = 'Like what you see? Visit the ' +\n",
              "            '<a target=\"_blank\" href=https://colab.research.google.com/notebooks/data_table.ipynb>data table notebook</a>'\n",
              "            + ' to learn more about interactive tables.';\n",
              "          element.innerHTML = '';\n",
              "          dataTable['output_type'] = 'display_data';\n",
              "          await google.colab.output.renderOutput(dataTable, element);\n",
              "          const docLink = document.createElement('div');\n",
              "          docLink.innerHTML = docLinkHtml;\n",
              "          element.appendChild(docLink);\n",
              "        }\n",
              "      </script>\n",
              "    </div>\n",
              "  </div>\n",
              "  "
            ]
          },
          "metadata": {},
          "execution_count": 10
        }
      ],
      "source": [
        "## Checking Statistical Analysis of Dataset\n",
        "data.describe()"
      ]
    },
    {
      "cell_type": "code",
      "execution_count": 11,
      "id": "bde48e3b",
      "metadata": {
        "execution": {
          "iopub.execute_input": "2023-05-22T10:05:08.379583Z",
          "iopub.status.busy": "2023-05-22T10:05:08.379215Z",
          "iopub.status.idle": "2023-05-22T10:05:08.393306Z",
          "shell.execute_reply": "2023-05-22T10:05:08.392046Z"
        },
        "papermill": {
          "duration": 0.023467,
          "end_time": "2023-05-22T10:05:08.395570",
          "exception": false,
          "start_time": "2023-05-22T10:05:08.372103",
          "status": "completed"
        },
        "tags": [],
        "colab": {
          "base_uri": "https://localhost:8080/"
        },
        "id": "bde48e3b",
        "outputId": "c862a47e-8923-4e0a-f7b3-e9e5cdb13cf3"
      },
      "outputs": [
        {
          "output_type": "stream",
          "name": "stdout",
          "text": [
            "<class 'pandas.core.frame.DataFrame'>\n",
            "RangeIndex: 2111 entries, 0 to 2110\n",
            "Data columns (total 17 columns):\n",
            " #   Column                          Non-Null Count  Dtype  \n",
            "---  ------                          --------------  -----  \n",
            " 0   Gender                          2111 non-null   object \n",
            " 1   Age                             2111 non-null   float64\n",
            " 2   Height                          2111 non-null   float64\n",
            " 3   Weight                          2111 non-null   float64\n",
            " 4   family_history_with_overweight  2111 non-null   object \n",
            " 5   FAVC                            2111 non-null   object \n",
            " 6   FCVC                            2111 non-null   float64\n",
            " 7   NCP                             2111 non-null   float64\n",
            " 8   CAEC                            2111 non-null   object \n",
            " 9   SMOKE                           2111 non-null   object \n",
            " 10  CH2O                            2111 non-null   float64\n",
            " 11  SCC                             2111 non-null   object \n",
            " 12  FAF                             2111 non-null   float64\n",
            " 13  TUE                             2111 non-null   float64\n",
            " 14  CALC                            2111 non-null   object \n",
            " 15  MTRANS                          2111 non-null   object \n",
            " 16  NObeyesdad                      2111 non-null   object \n",
            "dtypes: float64(8), object(9)\n",
            "memory usage: 280.5+ KB\n"
          ]
        }
      ],
      "source": [
        "## Checking Information Related with Dataset\n",
        "data.info()"
      ]
    },
    {
      "cell_type": "code",
      "execution_count": 12,
      "id": "8063e6fa",
      "metadata": {
        "execution": {
          "iopub.execute_input": "2023-05-22T10:05:08.412851Z",
          "iopub.status.busy": "2023-05-22T10:05:08.411887Z",
          "iopub.status.idle": "2023-05-22T10:05:08.418025Z",
          "shell.execute_reply": "2023-05-22T10:05:08.416960Z"
        },
        "papermill": {
          "duration": 0.017287,
          "end_time": "2023-05-22T10:05:08.420021",
          "exception": false,
          "start_time": "2023-05-22T10:05:08.402734",
          "status": "completed"
        },
        "tags": [],
        "colab": {
          "base_uri": "https://localhost:8080/"
        },
        "id": "8063e6fa",
        "outputId": "6bbc81b5-5706-481e-d48e-823f257d6494"
      },
      "outputs": [
        {
          "output_type": "execute_result",
          "data": {
            "text/plain": [
              "Index(['Gender', 'Age', 'Height', 'Weight', 'family_history_with_overweight',\n",
              "       'FAVC', 'FCVC', 'NCP', 'CAEC', 'SMOKE', 'CH2O', 'SCC', 'FAF', 'TUE',\n",
              "       'CALC', 'MTRANS', 'NObeyesdad'],\n",
              "      dtype='object')"
            ]
          },
          "metadata": {},
          "execution_count": 12
        }
      ],
      "source": [
        "## Checking All Columns Available in dataset\n",
        "data.columns"
      ]
    },
    {
      "cell_type": "code",
      "execution_count": 13,
      "id": "9a7ee3e9",
      "metadata": {
        "execution": {
          "iopub.execute_input": "2023-05-22T10:05:08.437472Z",
          "iopub.status.busy": "2023-05-22T10:05:08.436732Z",
          "iopub.status.idle": "2023-05-22T10:05:08.455877Z",
          "shell.execute_reply": "2023-05-22T10:05:08.454097Z"
        },
        "papermill": {
          "duration": 0.030513,
          "end_time": "2023-05-22T10:05:08.458711",
          "exception": false,
          "start_time": "2023-05-22T10:05:08.428198",
          "status": "completed"
        },
        "tags": [],
        "id": "9a7ee3e9"
      },
      "outputs": [],
      "source": [
        "# Preprocess the dataset\n",
        "encoder = LabelEncoder()\n",
        "data['Gender'] = encoder.fit_transform(data['Gender'])\n",
        "data['family_history_with_overweight'] = encoder.fit_transform(data['family_history_with_overweight'])\n",
        "data['FAVC'] = encoder.fit_transform(data['FAVC'])\n",
        "data['CAEC'] = encoder.fit_transform(data['CAEC'])\n",
        "data['SMOKE'] = encoder.fit_transform(data['SMOKE'])\n",
        "data['SCC'] = encoder.fit_transform(data['SCC'])\n",
        "data['CALC'] = encoder.fit_transform(data['CALC'])\n",
        "data['MTRANS'] = encoder.fit_transform(data['MTRANS'])\n",
        "data['NObeyesdad'] = encoder.fit_transform(data['NObeyesdad'])"
      ]
    },
    {
      "cell_type": "code",
      "execution_count": 14,
      "id": "76fdbf13",
      "metadata": {
        "execution": {
          "iopub.execute_input": "2023-05-22T10:05:08.473641Z",
          "iopub.status.busy": "2023-05-22T10:05:08.472634Z",
          "iopub.status.idle": "2023-05-22T10:05:08.491829Z",
          "shell.execute_reply": "2023-05-22T10:05:08.490116Z"
        },
        "papermill": {
          "duration": 0.029192,
          "end_time": "2023-05-22T10:05:08.494342",
          "exception": false,
          "start_time": "2023-05-22T10:05:08.465150",
          "status": "completed"
        },
        "tags": [],
        "colab": {
          "base_uri": "https://localhost:8080/"
        },
        "id": "76fdbf13",
        "outputId": "a4112ee9-770e-4d0d-841a-534b039f1866"
      },
      "outputs": [
        {
          "output_type": "stream",
          "name": "stdout",
          "text": [
            "<class 'pandas.core.frame.DataFrame'>\n",
            "RangeIndex: 2111 entries, 0 to 2110\n",
            "Data columns (total 17 columns):\n",
            " #   Column                          Non-Null Count  Dtype  \n",
            "---  ------                          --------------  -----  \n",
            " 0   Gender                          2111 non-null   int64  \n",
            " 1   Age                             2111 non-null   float64\n",
            " 2   Height                          2111 non-null   float64\n",
            " 3   Weight                          2111 non-null   float64\n",
            " 4   family_history_with_overweight  2111 non-null   int64  \n",
            " 5   FAVC                            2111 non-null   int64  \n",
            " 6   FCVC                            2111 non-null   float64\n",
            " 7   NCP                             2111 non-null   float64\n",
            " 8   CAEC                            2111 non-null   int64  \n",
            " 9   SMOKE                           2111 non-null   int64  \n",
            " 10  CH2O                            2111 non-null   float64\n",
            " 11  SCC                             2111 non-null   int64  \n",
            " 12  FAF                             2111 non-null   float64\n",
            " 13  TUE                             2111 non-null   float64\n",
            " 14  CALC                            2111 non-null   int64  \n",
            " 15  MTRANS                          2111 non-null   int64  \n",
            " 16  NObeyesdad                      2111 non-null   int64  \n",
            "dtypes: float64(8), int64(9)\n",
            "memory usage: 280.5 KB\n"
          ]
        }
      ],
      "source": [
        "## Checking Details Information related with Dataset\n",
        "data.info()"
      ]
    },
    {
      "cell_type": "code",
      "execution_count": 15,
      "id": "3d44603b",
      "metadata": {
        "execution": {
          "iopub.execute_input": "2023-05-22T10:05:08.513616Z",
          "iopub.status.busy": "2023-05-22T10:05:08.512696Z",
          "iopub.status.idle": "2023-05-22T10:05:08.522394Z",
          "shell.execute_reply": "2023-05-22T10:05:08.521275Z"
        },
        "papermill": {
          "duration": 0.022769,
          "end_time": "2023-05-22T10:05:08.524906",
          "exception": false,
          "start_time": "2023-05-22T10:05:08.502137",
          "status": "completed"
        },
        "tags": [],
        "id": "3d44603b"
      },
      "outputs": [],
      "source": [
        "# Split the dataset into features (X) and target (y)\n",
        "X = data.drop('NObeyesdad', axis=1)\n",
        "y = data['NObeyesdad']"
      ]
    },
    {
      "cell_type": "code",
      "execution_count": 16,
      "id": "9511c725",
      "metadata": {
        "execution": {
          "iopub.execute_input": "2023-05-22T10:05:08.542443Z",
          "iopub.status.busy": "2023-05-22T10:05:08.542020Z",
          "iopub.status.idle": "2023-05-22T10:05:08.548610Z",
          "shell.execute_reply": "2023-05-22T10:05:08.547773Z"
        },
        "papermill": {
          "duration": 0.017844,
          "end_time": "2023-05-22T10:05:08.550500",
          "exception": false,
          "start_time": "2023-05-22T10:05:08.532656",
          "status": "completed"
        },
        "tags": [],
        "id": "9511c725"
      },
      "outputs": [],
      "source": [
        "# Split the data into training and testing sets\n",
        "X_train, X_test, y_train, y_test = train_test_split(X, y, test_size=0.2, random_state=42)\n"
      ]
    },
    {
      "cell_type": "code",
      "execution_count": 17,
      "id": "98701171",
      "metadata": {
        "execution": {
          "iopub.execute_input": "2023-05-22T10:05:08.567732Z",
          "iopub.status.busy": "2023-05-22T10:05:08.566922Z",
          "iopub.status.idle": "2023-05-22T10:05:08.589011Z",
          "shell.execute_reply": "2023-05-22T10:05:08.587515Z"
        },
        "papermill": {
          "duration": 0.033692,
          "end_time": "2023-05-22T10:05:08.592027",
          "exception": false,
          "start_time": "2023-05-22T10:05:08.558335",
          "status": "completed"
        },
        "tags": [],
        "id": "98701171"
      },
      "outputs": [],
      "source": [
        "# Decision Tree Classifier\n",
        "dt_clf = DecisionTreeClassifier()\n",
        "dt_clf.fit(X_train, y_train)\n",
        "dt_predictions = dt_clf.predict(X_test)"
      ]
    },
    {
      "cell_type": "code",
      "execution_count": 18,
      "id": "186fde5e",
      "metadata": {
        "execution": {
          "iopub.execute_input": "2023-05-22T10:05:08.610302Z",
          "iopub.status.busy": "2023-05-22T10:05:08.609257Z",
          "iopub.status.idle": "2023-05-22T10:05:08.681136Z",
          "shell.execute_reply": "2023-05-22T10:05:08.680272Z"
        },
        "papermill": {
          "duration": 0.083836,
          "end_time": "2023-05-22T10:05:08.683781",
          "exception": false,
          "start_time": "2023-05-22T10:05:08.599945",
          "status": "completed"
        },
        "tags": [],
        "id": "186fde5e"
      },
      "outputs": [],
      "source": [
        "# Logistic Regression Classifier\n",
        "lr_clf = LogisticRegression()\n",
        "lr_clf.fit(X_train, y_train)\n",
        "lr_predictions = lr_clf.predict(X_test)\n"
      ]
    },
    {
      "cell_type": "code",
      "execution_count": 19,
      "id": "155abe72",
      "metadata": {
        "execution": {
          "iopub.execute_input": "2023-05-22T10:05:08.702552Z",
          "iopub.status.busy": "2023-05-22T10:05:08.701893Z",
          "iopub.status.idle": "2023-05-22T10:05:09.062201Z",
          "shell.execute_reply": "2023-05-22T10:05:09.061180Z"
        },
        "papermill": {
          "duration": 0.371953,
          "end_time": "2023-05-22T10:05:09.064525",
          "exception": false,
          "start_time": "2023-05-22T10:05:08.692572",
          "status": "completed"
        },
        "tags": [],
        "id": "155abe72"
      },
      "outputs": [],
      "source": [
        "# Random Forest Classifier\n",
        "rf_clf = RandomForestClassifier()\n",
        "rf_clf.fit(X_train, y_train)\n",
        "rf_predictions = rf_clf.predict(X_test)"
      ]
    },
    {
      "cell_type": "code",
      "execution_count": 20,
      "id": "86e9957f",
      "metadata": {
        "execution": {
          "iopub.execute_input": "2023-05-22T10:05:09.078372Z",
          "iopub.status.busy": "2023-05-22T10:05:09.078000Z",
          "iopub.status.idle": "2023-05-22T10:05:09.181542Z",
          "shell.execute_reply": "2023-05-22T10:05:09.180332Z"
        },
        "papermill": {
          "duration": 0.113255,
          "end_time": "2023-05-22T10:05:09.184112",
          "exception": false,
          "start_time": "2023-05-22T10:05:09.070857",
          "status": "completed"
        },
        "tags": [],
        "id": "86e9957f"
      },
      "outputs": [],
      "source": [
        "# Support Vector Machine (SVM) Classifier\n",
        "svm_clf = SVC()\n",
        "svm_clf.fit(X_train, y_train)\n",
        "svm_predictions = svm_clf.predict(X_test)"
      ]
    },
    {
      "cell_type": "code",
      "execution_count": 21,
      "id": "adaeb5ec",
      "metadata": {
        "execution": {
          "iopub.execute_input": "2023-05-22T10:05:09.198972Z",
          "iopub.status.busy": "2023-05-22T10:05:09.198580Z",
          "iopub.status.idle": "2023-05-22T10:05:09.213095Z",
          "shell.execute_reply": "2023-05-22T10:05:09.211751Z"
        },
        "papermill": {
          "duration": 0.025486,
          "end_time": "2023-05-22T10:05:09.215963",
          "exception": false,
          "start_time": "2023-05-22T10:05:09.190477",
          "status": "completed"
        },
        "tags": [],
        "colab": {
          "base_uri": "https://localhost:8080/"
        },
        "id": "adaeb5ec",
        "outputId": "0ed128af-e252-48b5-e184-5b89eb29c073"
      },
      "outputs": [
        {
          "output_type": "stream",
          "name": "stdout",
          "text": [
            "Decision Tree Classifier:\n",
            "              precision    recall  f1-score   support\n",
            "\n",
            "           0       0.92      0.96      0.94        56\n",
            "           1       0.89      0.89      0.89        62\n",
            "           2       0.95      0.92      0.94        78\n",
            "           3       0.93      0.95      0.94        58\n",
            "           4       1.00      1.00      1.00        63\n",
            "           5       0.91      0.91      0.91        56\n",
            "           6       0.98      0.94      0.96        50\n",
            "\n",
            "    accuracy                           0.94       423\n",
            "   macro avg       0.94      0.94      0.94       423\n",
            "weighted avg       0.94      0.94      0.94       423\n",
            "\n"
          ]
        }
      ],
      "source": [
        "# Print classification reports for each classifier\n",
        "print(\"Decision Tree Classifier:\")\n",
        "print(classification_report(y_test, dt_predictions))"
      ]
    },
    {
      "cell_type": "code",
      "execution_count": 22,
      "id": "5fe910df",
      "metadata": {
        "execution": {
          "iopub.execute_input": "2023-05-22T10:05:09.234030Z",
          "iopub.status.busy": "2023-05-22T10:05:09.232583Z",
          "iopub.status.idle": "2023-05-22T10:05:09.249869Z",
          "shell.execute_reply": "2023-05-22T10:05:09.247963Z"
        },
        "papermill": {
          "duration": 0.029,
          "end_time": "2023-05-22T10:05:09.252415",
          "exception": false,
          "start_time": "2023-05-22T10:05:09.223415",
          "status": "completed"
        },
        "tags": [],
        "colab": {
          "base_uri": "https://localhost:8080/"
        },
        "id": "5fe910df",
        "outputId": "1a84162e-51f6-4352-dfa4-2b3c560ed165"
      },
      "outputs": [
        {
          "output_type": "stream",
          "name": "stdout",
          "text": [
            "Logistic Regression Classifier:\n",
            "              precision    recall  f1-score   support\n",
            "\n",
            "           0       0.74      0.93      0.83        56\n",
            "           1       0.53      0.42      0.47        62\n",
            "           2       0.58      0.60      0.59        78\n",
            "           3       0.82      0.84      0.83        58\n",
            "           4       0.90      1.00      0.95        63\n",
            "           5       0.54      0.38      0.44        56\n",
            "           6       0.35      0.38      0.37        50\n",
            "\n",
            "    accuracy                           0.65       423\n",
            "   macro avg       0.64      0.65      0.64       423\n",
            "weighted avg       0.64      0.65      0.64       423\n",
            "\n"
          ]
        }
      ],
      "source": [
        "# Print classification reports for each classifier\n",
        "print(\"Logistic Regression Classifier:\")\n",
        "print(classification_report(y_test, lr_predictions))"
      ]
    },
    {
      "cell_type": "code",
      "execution_count": 23,
      "id": "0bb886b2",
      "metadata": {
        "execution": {
          "iopub.execute_input": "2023-05-22T10:05:09.268655Z",
          "iopub.status.busy": "2023-05-22T10:05:09.267382Z",
          "iopub.status.idle": "2023-05-22T10:05:09.279793Z",
          "shell.execute_reply": "2023-05-22T10:05:09.279036Z"
        },
        "papermill": {
          "duration": 0.022664,
          "end_time": "2023-05-22T10:05:09.281831",
          "exception": false,
          "start_time": "2023-05-22T10:05:09.259167",
          "status": "completed"
        },
        "tags": [],
        "colab": {
          "base_uri": "https://localhost:8080/"
        },
        "id": "0bb886b2",
        "outputId": "39a94a87-8605-479d-e202-a979a3466e59"
      },
      "outputs": [
        {
          "output_type": "stream",
          "name": "stdout",
          "text": [
            "Random Forest Classifier:\n",
            "              precision    recall  f1-score   support\n",
            "\n",
            "           0       0.98      0.98      0.98        56\n",
            "           1       0.91      0.94      0.92        62\n",
            "           2       0.99      0.97      0.98        78\n",
            "           3       0.97      0.98      0.97        58\n",
            "           4       1.00      1.00      1.00        63\n",
            "           5       0.93      0.89      0.91        56\n",
            "           6       0.98      0.98      0.98        50\n",
            "\n",
            "    accuracy                           0.96       423\n",
            "   macro avg       0.96      0.96      0.96       423\n",
            "weighted avg       0.96      0.96      0.96       423\n",
            "\n"
          ]
        }
      ],
      "source": [
        "print(\"Random Forest Classifier:\")\n",
        "print(classification_report(y_test, rf_predictions))"
      ]
    },
    {
      "cell_type": "code",
      "execution_count": 24,
      "id": "23228625",
      "metadata": {
        "execution": {
          "iopub.execute_input": "2023-05-22T10:05:09.297721Z",
          "iopub.status.busy": "2023-05-22T10:05:09.297163Z",
          "iopub.status.idle": "2023-05-22T10:05:09.310353Z",
          "shell.execute_reply": "2023-05-22T10:05:09.309109Z"
        },
        "papermill": {
          "duration": 0.023892,
          "end_time": "2023-05-22T10:05:09.312764",
          "exception": false,
          "start_time": "2023-05-22T10:05:09.288872",
          "status": "completed"
        },
        "tags": [],
        "colab": {
          "base_uri": "https://localhost:8080/"
        },
        "id": "23228625",
        "outputId": "294a4090-90cb-4b40-a2c0-468db4ca6e2b"
      },
      "outputs": [
        {
          "output_type": "stream",
          "name": "stdout",
          "text": [
            "SVM Classifier:\n",
            "              precision    recall  f1-score   support\n",
            "\n",
            "           0       0.71      0.88      0.78        56\n",
            "           1       0.48      0.34      0.40        62\n",
            "           2       0.65      0.33      0.44        78\n",
            "           3       0.77      0.41      0.54        58\n",
            "           4       0.56      1.00      0.72        63\n",
            "           5       0.47      0.48      0.47        56\n",
            "           6       0.43      0.58      0.49        50\n",
            "\n",
            "    accuracy                           0.57       423\n",
            "   macro avg       0.58      0.57      0.55       423\n",
            "weighted avg       0.59      0.57      0.54       423\n",
            "\n"
          ]
        }
      ],
      "source": [
        "print(\"SVM Classifier:\")\n",
        "print(classification_report(y_test, svm_predictions))"
      ]
    },
    {
      "cell_type": "markdown",
      "id": "13970d8c",
      "metadata": {
        "papermill": {
          "duration": 0.00649,
          "end_time": "2023-05-22T10:05:09.326506",
          "exception": false,
          "start_time": "2023-05-22T10:05:09.320016",
          "status": "completed"
        },
        "tags": [],
        "id": "13970d8c"
      },
      "source": [
        "# Thank You"
      ]
    }
  ],
  "metadata": {
    "kernelspec": {
      "display_name": "Python 3",
      "language": "python",
      "name": "python3"
    },
    "language_info": {
      "codemirror_mode": {
        "name": "ipython",
        "version": 3
      },
      "file_extension": ".py",
      "mimetype": "text/x-python",
      "name": "python",
      "nbconvert_exporter": "python",
      "pygments_lexer": "ipython3",
      "version": "3.10.10"
    },
    "papermill": {
      "default_parameters": {},
      "duration": 14.776227,
      "end_time": "2023-05-22T10:05:10.456376",
      "environment_variables": {},
      "exception": null,
      "input_path": "__notebook__.ipynb",
      "output_path": "__notebook__.ipynb",
      "parameters": {},
      "start_time": "2023-05-22T10:04:55.680149",
      "version": "2.4.0"
    },
    "colab": {
      "provenance": []
    }
  },
  "nbformat": 4,
  "nbformat_minor": 5
}