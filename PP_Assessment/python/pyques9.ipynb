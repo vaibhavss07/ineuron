{
  "nbformat": 4,
  "nbformat_minor": 0,
  "metadata": {
    "colab": {
      "provenance": []
    },
    "kernelspec": {
      "name": "python3",
      "display_name": "Python 3"
    },
    "language_info": {
      "name": "python"
    }
  },
  "cells": [
    {
      "cell_type": "code",
      "execution_count": 27,
      "metadata": {
        "id": "FFcqJ9-nFrFY"
      },
      "outputs": [],
      "source": [
        "import pandas as pd\n",
        "import matplotlib.pyplot as plt\n",
        "\n",
        "# Read the data from the link\n",
        "url = 'https://data.wa.gov/api/views/f6w7-q2d2/rows.csv?accessType=DOWNLOAD'\n",
        "df = pd.read_csv(url)\n",
        "\n",
        "# Get all the cars and their types that do not qualify for clean alternative fuel vehicle\n",
        "non_clean_cars = df[df['QualifiesforCleanAlternativeFuelVehicle'] == 'No'][['Make', 'Model Type']]\n",
        "\n",
        "\n",
        "# Get all TESLA cars with the model year, and model type made in Bothell City\n",
        "tesla_cars_bothell = df[(df['Make'] == 'TESLA') & (df['City'] == 'BOTHELL')][['Model Year', 'Model Type']]\n",
        "\n",
        "# Get all the cars that have an electric range of more than 100, and were made after 2015\n",
        "cars_electric_range_gt_100 = df[(df['ElectricRange'] > 100) & (df['Model Year'] > 2015)][['Make', 'Model Type']]\n",
        "\n",
        "# Draw plots to show the distribution between city and electric vehicle type\n",
        "city_ev_type_distribution = df.groupby(['City', 'ElectricVehicleType']).size().unstack().fillna(0)\n",
        "\n",
        "# Plotting the analysis\n",
        "\n",
        "# Plotting distribution between city and electric vehicle type\n",
        "city_ev_type_distribution.plot(kind='bar', stacked=True, figsize=(10, 6))\n",
        "plt.xlabel('City')\n",
        "plt.ylabel('Count')\n",
        "plt.title('Distribution Between City and Electric Vehicle Type')\n",
        "plt.legend(title='Electric Vehicle Type')\n",
        "plt.show()\n",
        "\n",
        "# Print the results\n",
        "print(\"Cars and Types that do not qualify for clean alternative fuel vehicle:\")\n",
        "print(non_clean_cars)\n",
        "\n",
        "print(\"\\nTESLA cars with model year and model type made in Bothell City:\")\n",
        "print(tesla_cars_bothell)\n",
        "\n",
        "print(\"\\nCars with electric range > 100 and made after 2015:\")\n",
        "print(cars_electric_range_gt_100)\n"
      ]
    }
  ]
}