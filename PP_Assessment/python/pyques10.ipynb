{
  "nbformat": 4,
  "nbformat_minor": 0,
  "metadata": {
    "colab": {
      "provenance": []
    },
    "kernelspec": {
      "name": "python3",
      "display_name": "Python 3"
    },
    "language_info": {
      "name": "python"
    }
  },
  "cells": [
    {
      "cell_type": "code",
      "execution_count": 31,
      "metadata": {
        "colab": {
          "base_uri": "https://localhost:8080/"
        },
        "id": "FFcqJ9-nFrFY",
        "outputId": "317f7dc8-a12f-426a-818d-e39fd5126e1e"
      },
      "outputs": [
        {
          "output_type": "stream",
          "name": "stderr",
          "text": [
            "[nltk_data] Downloading package punkt to /root/nltk_data...\n",
            "[nltk_data]   Package punkt is already up-to-date!\n",
            "[nltk_data] Downloading package averaged_perceptron_tagger to\n",
            "[nltk_data]     /root/nltk_data...\n"
          ]
        },
        {
          "output_type": "stream",
          "name": "stdout",
          "text": [
            "{'verbs': 2, 'nouns': 1, 'pronouns': 1, 'adjectives': 1}\n",
            "{'verbs': 3, 'nouns': 5, 'pronouns': 1, 'adjectives': 2}\n",
            "{'verbs': 1, 'nouns': 3, 'pronouns': 2, 'adjectives': 0}\n"
          ]
        },
        {
          "output_type": "stream",
          "name": "stderr",
          "text": [
            "[nltk_data]   Unzipping taggers/averaged_perceptron_tagger.zip.\n"
          ]
        }
      ],
      "source": [
        "import nltk\n",
        "\n",
        "nltk.download('punkt')\n",
        "\n",
        "nltk.download('averaged_perceptron_tagger')\n",
        "\n",
        "\n",
        "from nltk import pos_tag\n",
        "from nltk.tokenize import word_tokenize\n",
        "\n",
        "def count_pos_tags(text):\n",
        "    # Tokenize the text into words\n",
        "    words = word_tokenize(text)\n",
        "    \n",
        "    # Perform part-of-speech tagging\n",
        "    tagged_words = pos_tag(words)\n",
        "    \n",
        "    # Initialize counts for verbs, nouns, pronouns, and adjectives\n",
        "    verb_count = 0\n",
        "    noun_count = 0\n",
        "    pronoun_count = 0\n",
        "    adjective_count = 0\n",
        "    \n",
        "    # Iterate over tagged words and count the respective part-of-speech\n",
        "    for word, tag in tagged_words:\n",
        "        if tag.startswith('VB'):\n",
        "            verb_count += 1\n",
        "        elif tag.startswith('NN'):\n",
        "            noun_count += 1\n",
        "        elif tag.startswith('PRP'):\n",
        "            pronoun_count += 1\n",
        "        elif tag.startswith('JJ'):\n",
        "            adjective_count += 1\n",
        "    \n",
        "    # Create a dictionary with the counts\n",
        "    pos_counts = {\n",
        "        'verbs': verb_count,\n",
        "        'nouns': noun_count,\n",
        "        'pronouns': pronoun_count,\n",
        "        'adjectives': adjective_count\n",
        "    }\n",
        "    \n",
        "    return pos_counts\n",
        "\n",
        "# Test the function with a given phrase\n",
        "phrase = \"I love eating delicious food.\"\n",
        "counts = count_pos_tags(phrase)\n",
        "print(counts)\n",
        "\n",
        "# Additional Test Case 1\n",
        "# Explanation: The given paragraph contains multiple verbs, nouns, pronouns, and adjectives.\n",
        "paragraph = \"The cat sat on the mat. It was a sunny day. The tall tree provided shade.\"\n",
        "counts = count_pos_tags(paragraph)\n",
        "print(counts)\n",
        "\n",
        "# Additional Test Case 2\n",
        "# Explanation: The given phrase contains one verb, two nouns, one pronoun, and one adjective.\n",
        "phrase = \"She runs in the park with her cute dog.\"\n",
        "counts = count_pos_tags(phrase)\n",
        "print(counts)\n"
      ]
    },
    {
      "cell_type": "code",
      "source": [],
      "metadata": {
        "id": "-iFmrlkEOE5s"
      },
      "execution_count": null,
      "outputs": []
    }
  ]
}