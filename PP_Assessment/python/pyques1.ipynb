{
  "nbformat": 4,
  "nbformat_minor": 0,
  "metadata": {
    "colab": {
      "provenance": []
    },
    "kernelspec": {
      "name": "python3",
      "display_name": "Python 3"
    },
    "language_info": {
      "name": "python"
    }
  },
  "cells": [
    {
      "cell_type": "code",
      "execution_count": 6,
      "metadata": {
        "colab": {
          "base_uri": "https://localhost:8080/"
        },
        "id": "YCESZTKMzU3T",
        "outputId": "6f958c95-7f94-4e89-f088-d85ca74ed27d"
      },
      "outputs": [
        {
          "output_type": "stream",
          "name": "stdout",
          "text": [
            "Enter a string:write write write all the number from from from 1 to 100\n",
            "Length of the highest-frequency word: ('write', 5)\n"
          ]
        }
      ],
      "source": [
        "from collections import Counter\n",
        "\n",
        "def find_highest_frequency_length(string):\n",
        "# Split the string into words\n",
        "  words = string.split()\n",
        "\n",
        "# Count the frequency of each word\n",
        "  word_counts = Counter(words)\n",
        "\n",
        "# Find the highest frequency\n",
        "  highest_frequency = max(word_counts.values())\n",
        "\n",
        "# Find the length of the highest-frequency word\n",
        "  highest_frequency_word = [word for word, count in word_counts.items() if count ==\n",
        "  highest_frequency]\n",
        "  highest_frequency_word_length = len(highest_frequency_word[0])\n",
        "\n",
        "  return highest_frequency_word[0],highest_frequency_word_length\n",
        "\n",
        "# Test the function\n",
        "input_string = input('Enter a string:')\n",
        "result = find_highest_frequency_length(input_string)\n",
        "print('Length of the highest-frequency word:', result)  "
      ]
    }
  ]
}