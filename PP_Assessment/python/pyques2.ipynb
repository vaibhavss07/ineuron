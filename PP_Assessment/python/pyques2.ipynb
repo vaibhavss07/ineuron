{
  "nbformat": 4,
  "nbformat_minor": 0,
  "metadata": {
    "colab": {
      "provenance": []
    },
    "kernelspec": {
      "name": "python3",
      "display_name": "Python 3"
    },
    "language_info": {
      "name": "python"
    }
  },
  "cells": [
    {
      "cell_type": "code",
      "execution_count": 7,
      "metadata": {
        "colab": {
          "base_uri": "https://localhost:8080/"
        },
        "id": "YCESZTKMzU3T",
        "outputId": "031c6776-1666-4269-91f7-3f449a421636"
      },
      "outputs": [
        {
          "output_type": "stream",
          "name": "stdout",
          "text": [
            "YES\n",
            "NO\n",
            "YES\n",
            "YES\n"
          ]
        }
      ],
      "source": [
        "def isValidString(s):\n",
        "    char_freq = {}\n",
        "    \n",
        "    # Count the frequency of each character in the string\n",
        "    for char in s:\n",
        "        if char in char_freq:\n",
        "            char_freq[char] += 1\n",
        "        else:\n",
        "            char_freq[char] = 1\n",
        "    \n",
        "    # Count the frequency of frequencies\n",
        "    freq_freq = {}\n",
        "    for freq in char_freq.values():\n",
        "        if freq in freq_freq:\n",
        "            freq_freq[freq] += 1\n",
        "        else:\n",
        "            freq_freq[freq] = 1\n",
        "    \n",
        "    # If there is only one unique frequency, the string is valid\n",
        "    if len(freq_freq) == 1:\n",
        "        return \"YES\"\n",
        "    \n",
        "    # If there are more than two unique frequencies, the string is not valid\n",
        "    if len(freq_freq) >= 2:\n",
        "        return \"NO\"\n",
        "    \n",
        "    # If there are exactly two unique frequencies, check if we can remove one character to make the string valid\n",
        "    freq1, freq2 = freq_freq.keys()\n",
        "    count1, count2 = freq_freq.values()\n",
        "    \n",
        "    # If either frequency occurs only once and has a count of 1, we can remove one character to make the string valid\n",
        "    if (count1 == 1 and freq1 == 1) or (count2 == 1 and freq2 == 1):\n",
        "        return \"YES\"\n",
        "    \n",
        "    # If the difference between the frequencies is 1 and one of them occurs only once, we can remove one character to make the string valid\n",
        "    if (freq1 == freq2 + 1 or freq1 == freq2 - 1) and (count1 == 1 or count2 == 1):\n",
        "        return \"YES\"\n",
        "    \n",
        "    return \"NO\"\n",
        "\n",
        "# Example test cases\n",
        "print(isValidString(\"abc\"))  # YES\n",
        "print(isValidString(\"abcc\"))  # NO\n",
        "# Additional test case 1\n",
        "print(isValidString(\"aabbcc\"))  # YES\n",
        "# Explanation: All characters appear the same number of times (2). The string is valid.\n",
        "\n",
        "# Additional test case 2\n",
        "print(isValidString(\"aabbccdd\"))  # YES\n",
        "# Explanation: All characters appear the same number of times \n",
        "\n"
      ]
    }
  ]
}