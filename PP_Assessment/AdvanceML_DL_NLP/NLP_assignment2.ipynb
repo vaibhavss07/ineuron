{
  "nbformat": 4,
  "nbformat_minor": 0,
  "metadata": {
    "colab": {
      "provenance": []
    },
    "kernelspec": {
      "name": "python3",
      "display_name": "Python 3"
    },
    "language_info": {
      "name": "python"
    }
  },
  "cells": [
    {
      "cell_type": "code",
      "execution_count": 38,
      "metadata": {
        "id": "_wZgXQ79fvyB"
      },
      "outputs": [],
      "source": [
        "\n",
        "\n",
        "import os\n",
        "import csv\n",
        "import pandas as pd\n",
        "import nltk\n",
        "from nltk.corpus import stopwords\n",
        "from PyPDF2 import PdfFileReader\n"
      ]
    },
    {
      "cell_type": "code",
      "source": [
        "def extract_text_from_pdf(file_path):\n",
        "    with open(file_path, 'rb') as file:\n",
        "        pdf = PdfFileReader(file)\n",
        "        text = ''\n",
        "        for page in range(pdf.getNumPages()):\n",
        "            text += pdf.getPage(page).extractText()\n",
        "        return text\n",
        "        \n",
        "def clean_text(text):\n",
        "    # Download stopwords\n",
        "    nltk.download('stopwords')\n",
        "    \n",
        "    stop_words = set(stopwords.words('english'))\n",
        "    cleaned_text = ''\n",
        "\n",
        "    # Remove punctuation and convert to lowercase\n",
        "    cleaned_text = ''.join([char for char in text if char.isalnum() or char.isspace()]).lower()\n",
        "    # Remove stopwords\n",
        "    cleaned_text = ' '.join([word for word in cleaned_text.split() if word not in stop_words])\n",
        "\n",
        "    return cleaned_text\n"
      ],
      "metadata": {
        "id": "TfmKF5Y0lXCJ"
      },
      "execution_count": 30,
      "outputs": []
    },
    {
      "cell_type": "code",
      "source": [
        "def find_most_repeated_word(text):\n",
        "    word_counts = {}\n",
        "\n",
        "    # Count occurrences of words\n",
        "    for word in text.split():\n",
        "        if word in word_counts:\n",
        "            word_counts[word] += 1\n",
        "        else:\n",
        "            word_counts[word] = 1\n",
        "\n",
        "    # Sort words by their counts in descending order\n",
        "    sorted_words = sorted(word_counts.items(), key=lambda x: x[1], reverse=True)\n",
        "\n",
        "    # Return the most repeated word\n",
        "    return sorted_words[0][0]\n"
      ],
      "metadata": {
        "id": "QIY6YCAyk8sr"
      },
      "execution_count": 31,
      "outputs": []
    },
    {
      "cell_type": "code",
      "source": [
        "def main():\n",
        "    # Prompt the user to enter the PDF file path\n",
        "    file_path = input('Enter the PDF file path: ')\n",
        "\n",
        "    # Extract text from the PDF\n",
        "    extracted_text = extract_text_from_pdf(file_path)\n",
        "\n",
        "    # Clean the extracted text\n",
        "    cleaned_text = clean_text(extracted_text)\n",
        "\n",
        "    # Find the most repeated word\n",
        "    most_repeated_word = find_most_repeated_word(cleaned_text)\n",
        "\n",
        "    # Print the most repeated word\n",
        "    print('The most repeated word in the PDF is:', most_repeated_word)\n",
        "\n",
        "    # Store the extracted text in a CSV file\n",
        "    df = pd.DataFrame({'Text': [extracted_text]})\n",
        "    df.to_csv('pdf_text.csv', index=False, quoting=csv.QUOTE_ALL)\n",
        "    print('Text saved to pdf_text.csv')\n",
        "\n",
        "\n",
        "if __name__ == '__main__':\n",
        "    main()\n"
      ],
      "metadata": {
        "id": "f9JGsRnCEhn-"
      },
      "execution_count": 37,
      "outputs": []
    }
  ]
}