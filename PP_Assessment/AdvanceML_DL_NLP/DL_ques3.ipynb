{
  "cells": [
    {
      "cell_type": "markdown",
      "source": [
        "Pytorch implemenation"
      ],
      "metadata": {
        "id": "Cp671lmzGrFn"
      },
      "id": "Cp671lmzGrFn"
    },
    {
      "cell_type": "code",
      "execution_count": 7,
      "id": "06505332",
      "metadata": {
        "_cell_guid": "b1076dfc-b9ad-4769-8c92-a6c4dae69d19",
        "_uuid": "8f2839f25d086af736a60e9eeb907d3b93b6e0e5",
        "execution": {
          "iopub.execute_input": "2023-05-29T08:02:53.702365Z",
          "iopub.status.busy": "2023-05-29T08:02:53.701411Z",
          "iopub.status.idle": "2023-05-29T08:02:55.301662Z",
          "shell.execute_reply": "2023-05-29T08:02:55.300505Z"
        },
        "papermill": {
          "duration": 1.614403,
          "end_time": "2023-05-29T08:02:55.304598",
          "exception": false,
          "start_time": "2023-05-29T08:02:53.690195",
          "status": "completed"
        },
        "tags": [],
        "colab": {
          "base_uri": "https://localhost:8080/"
        },
        "id": "06505332",
        "outputId": "77f88bfa-ba43-42f3-8892-fccc1f205c1d"
      },
      "outputs": [
        {
          "output_type": "stream",
          "name": "stdout",
          "text": [
            "Downloading http://yann.lecun.com/exdb/mnist/train-images-idx3-ubyte.gz\n",
            "Downloading http://yann.lecun.com/exdb/mnist/train-images-idx3-ubyte.gz to ./data/MNIST/raw/train-images-idx3-ubyte.gz\n"
          ]
        },
        {
          "output_type": "stream",
          "name": "stderr",
          "text": [
            "100%|██████████| 9912422/9912422 [00:00<00:00, 72037480.06it/s]\n"
          ]
        },
        {
          "output_type": "stream",
          "name": "stdout",
          "text": [
            "Extracting ./data/MNIST/raw/train-images-idx3-ubyte.gz to ./data/MNIST/raw\n",
            "\n",
            "Downloading http://yann.lecun.com/exdb/mnist/train-labels-idx1-ubyte.gz\n",
            "Downloading http://yann.lecun.com/exdb/mnist/train-labels-idx1-ubyte.gz to ./data/MNIST/raw/train-labels-idx1-ubyte.gz\n"
          ]
        },
        {
          "output_type": "stream",
          "name": "stderr",
          "text": [
            "100%|██████████| 28881/28881 [00:00<00:00, 65942130.55it/s]\n"
          ]
        },
        {
          "output_type": "stream",
          "name": "stdout",
          "text": [
            "Extracting ./data/MNIST/raw/train-labels-idx1-ubyte.gz to ./data/MNIST/raw\n",
            "\n",
            "Downloading http://yann.lecun.com/exdb/mnist/t10k-images-idx3-ubyte.gz\n",
            "Downloading http://yann.lecun.com/exdb/mnist/t10k-images-idx3-ubyte.gz to ./data/MNIST/raw/t10k-images-idx3-ubyte.gz\n"
          ]
        },
        {
          "output_type": "stream",
          "name": "stderr",
          "text": [
            "100%|██████████| 1648877/1648877 [00:00<00:00, 28060224.93it/s]\n"
          ]
        },
        {
          "output_type": "stream",
          "name": "stdout",
          "text": [
            "Extracting ./data/MNIST/raw/t10k-images-idx3-ubyte.gz to ./data/MNIST/raw\n",
            "\n",
            "Downloading http://yann.lecun.com/exdb/mnist/t10k-labels-idx1-ubyte.gz\n",
            "Downloading http://yann.lecun.com/exdb/mnist/t10k-labels-idx1-ubyte.gz to ./data/MNIST/raw/t10k-labels-idx1-ubyte.gz\n"
          ]
        },
        {
          "output_type": "stream",
          "name": "stderr",
          "text": [
            "100%|██████████| 4542/4542 [00:00<00:00, 4327698.49it/s]\n"
          ]
        },
        {
          "output_type": "stream",
          "name": "stdout",
          "text": [
            "Extracting ./data/MNIST/raw/t10k-labels-idx1-ubyte.gz to ./data/MNIST/raw\n",
            "\n",
            "Model parameters: 27562\n",
            "[1,   200] loss: 0.765\n",
            "[1,   400] loss: 0.229\n",
            "[1,   600] loss: 0.151\n",
            "[1,   800] loss: 0.123\n",
            "[2,   200] loss: 0.087\n",
            "[2,   400] loss: 0.082\n",
            "[2,   600] loss: 0.077\n",
            "[2,   800] loss: 0.069\n",
            "[3,   200] loss: 0.053\n",
            "[3,   400] loss: 0.054\n",
            "[3,   600] loss: 0.055\n",
            "[3,   800] loss: 0.060\n",
            "[4,   200] loss: 0.044\n",
            "[4,   400] loss: 0.043\n",
            "[4,   600] loss: 0.049\n",
            "[4,   800] loss: 0.042\n",
            "[5,   200] loss: 0.035\n",
            "[5,   400] loss: 0.039\n",
            "[5,   600] loss: 0.036\n",
            "[5,   800] loss: 0.034\n",
            "[6,   200] loss: 0.028\n",
            "[6,   400] loss: 0.031\n",
            "[6,   600] loss: 0.029\n",
            "[6,   800] loss: 0.034\n",
            "[7,   200] loss: 0.024\n",
            "[7,   400] loss: 0.027\n",
            "[7,   600] loss: 0.028\n",
            "[7,   800] loss: 0.027\n",
            "[8,   200] loss: 0.021\n",
            "[8,   400] loss: 0.022\n",
            "[8,   600] loss: 0.025\n",
            "[8,   800] loss: 0.021\n",
            "[9,   200] loss: 0.015\n",
            "[9,   400] loss: 0.024\n",
            "[9,   600] loss: 0.018\n",
            "[9,   800] loss: 0.022\n",
            "[10,   200] loss: 0.013\n",
            "[10,   400] loss: 0.015\n",
            "[10,   600] loss: 0.017\n",
            "[10,   800] loss: 0.020\n",
            "Validation accuracy: 98.97 %\n"
          ]
        }
      ],
      "source": [
        "import torch\n",
        "import torch.nn as nn\n",
        "import torchvision\n",
        "import torchvision.transforms as transforms\n",
        "\n",
        "# Define the device for training\n",
        "device = torch.device(\"cuda\" if torch.cuda.is_available() else \"cpu\")\n",
        "\n",
        "# Define the transform to normalize the data\n",
        "transform = transforms.Compose([\n",
        "    transforms.ToTensor(),\n",
        "    transforms.Normalize((0.5,), (0.5,))\n",
        "])\n",
        "\n",
        "# Load and preprocess the MNIST dataset\n",
        "train_dataset = torchvision.datasets.MNIST(\n",
        "    root=\"./data\", train=True, download=True, transform=transform\n",
        ")\n",
        "train_loader = torch.utils.data.DataLoader(\n",
        "    train_dataset, batch_size=64, shuffle=True, num_workers=2\n",
        ")\n",
        "\n",
        "test_dataset = torchvision.datasets.MNIST(\n",
        "    root=\"./data\", train=False, download=True, transform=transform\n",
        ")\n",
        "test_loader = torch.utils.data.DataLoader(\n",
        "    test_dataset, batch_size=64, shuffle=False, num_workers=2\n",
        ")\n",
        "\n",
        "# Function to count the number of model parameters\n",
        "def count_parameters(model):\n",
        "    return sum(p.numel() for p in model.parameters() if p.requires_grad)\n",
        "\n",
        "# Define the CNN model\n",
        "class CNN(nn.Module):\n",
        "    def __init__(self):\n",
        "        super(CNN, self).__init__()\n",
        "        self.conv1 = nn.Conv2d(1, 8, 3)\n",
        "        self.pool = nn.MaxPool2d(2, 2)\n",
        "        self.conv2 = nn.Conv2d(8, 16, 3)\n",
        "        self.fc1 = nn.Linear(16 * 5 * 5, 64)\n",
        "        self.fc2 = nn.Linear(64, 10)\n",
        "\n",
        "    def forward(self, x):\n",
        "        x = self.pool(torch.relu(self.conv1(x)))\n",
        "        x = self.pool(torch.relu(self.conv2(x)))\n",
        "        x = x.view(-1, 16 * 5 * 5)\n",
        "        x = torch.relu(self.fc1(x))\n",
        "        x = self.fc2(x)\n",
        "        return x\n",
        "\n",
        "# Create the model instance\n",
        "model = CNN().to(device)\n",
        "\n",
        "# Print the model summary\n",
        "print(\"Model parameters:\", count_parameters(model))\n",
        "\n",
        "# Define the loss function and optimizer\n",
        "criterion = nn.CrossEntropyLoss()\n",
        "optimizer = torch.optim.Adam(model.parameters())\n",
        "\n",
        "# Training loop\n",
        "def train():\n",
        "    model.train()\n",
        "    for epoch in range(10):\n",
        "        running_loss = 0.0\n",
        "        for i, (inputs, labels) in enumerate(train_loader, 0):\n",
        "            inputs, labels = inputs.to(device), labels.to(device)\n",
        "\n",
        "            optimizer.zero_grad()\n",
        "            outputs = model(inputs)\n",
        "            loss = criterion(outputs, labels)\n",
        "            loss.backward()\n",
        "            optimizer.step()\n",
        "\n",
        "            running_loss += loss.item()\n",
        "            if i % 200 == 199:\n",
        "                print(\"[%d, %5d] loss: %.3f\" % (epoch + 1, i + 1, running_loss / 200))\n",
        "                running_loss = 0.0\n",
        "\n",
        "# Train the model\n",
        "train()\n",
        "\n",
        "# Evaluation on the test set\n",
        "def evaluate():\n",
        "    model.eval()\n",
        "    correct = 0\n",
        "    total = 0\n",
        "    with torch.no_grad():\n",
        "        for inputs, labels in test_loader:\n",
        "            inputs, labels = inputs.to(device), labels.to(device)\n",
        "            outputs = model(inputs)\n",
        "            _, predicted = torch.max(outputs.data, 1)\n",
        "            total += labels.size(0)\n",
        "            correct += (predicted == labels).sum().item()\n",
        "    accuracy = 100 * correct / total\n",
        "    return accuracy\n",
        "\n",
        "# Print the accuracy\n",
        "print(\"Validation accuracy:\", evaluate(), \"%\")\n"
      ]
    },
    {
      "cell_type": "markdown",
      "source": [
        "Tensorflow implementation"
      ],
      "metadata": {
        "id": "nHkwyT_9GypH"
      },
      "id": "nHkwyT_9GypH"
    },
    {
      "cell_type": "code",
      "source": [
        "import tensorflow as tf\n",
        "from tensorflow.keras import layers\n",
        "from tensorflow.keras.datasets import mnist\n",
        "\n",
        "# Load and preprocess the MNIST dataset\n",
        "(train_images, train_labels), (test_images, test_labels) = mnist.load_data()\n",
        "train_images = train_images.reshape(-1, 28, 28, 1).astype(\"float32\") / 255.0\n",
        "test_images = test_images.reshape(-1, 28, 28, 1).astype(\"float32\") / 255.0\n",
        "\n",
        "# Define the CNN model\n",
        "model = tf.keras.Sequential([\n",
        "    layers.Conv2D(8, (3, 3), activation=\"relu\", input_shape=(28, 28, 1)),\n",
        "    layers.MaxPooling2D((2, 2)),\n",
        "    layers.Conv2D(16, (3, 3), activation=\"relu\"),\n",
        "    layers.Flatten(),\n",
        "    layers.Dense(64, activation=\"relu\"),\n",
        "    layers.Dense(10, activation=\"softmax\")\n",
        "])\n",
        "\n",
        "# Print the model summary\n",
        "model.summary()\n",
        "\n",
        "# Define the loss function and optimizer\n",
        "loss_fn = tf.keras.losses.SparseCategoricalCrossentropy()\n",
        "optimizer = tf.keras.optimizers.Adam()\n",
        "\n",
        "# Compile the model\n",
        "model.compile(optimizer=optimizer, loss=loss_fn, metrics=[\"accuracy\"])\n",
        "\n",
        "# Training loop\n",
        "model.fit(train_images, train_labels, epochs=10, batch_size=64, verbose=1)\n",
        "\n",
        "# Evaluation on the test set\n",
        "_, accuracy = model.evaluate(test_images, test_labels)\n",
        "print(\"Validation accuracy:\", accuracy * 100, \"%\")\n"
      ],
      "metadata": {
        "colab": {
          "base_uri": "https://localhost:8080/"
        },
        "id": "BNv4mpmiHA1b",
        "outputId": "51dbedd4-8f09-498a-cd01-2b1d399de809"
      },
      "id": "BNv4mpmiHA1b",
      "execution_count": 8,
      "outputs": [
        {
          "output_type": "stream",
          "name": "stdout",
          "text": [
            "Downloading data from https://storage.googleapis.com/tensorflow/tf-keras-datasets/mnist.npz\n",
            "11490434/11490434 [==============================] - 0s 0us/step\n",
            "Model: \"sequential\"\n",
            "_________________________________________________________________\n",
            " Layer (type)                Output Shape              Param #   \n",
            "=================================================================\n",
            " conv2d (Conv2D)             (None, 26, 26, 8)         80        \n",
            "                                                                 \n",
            " max_pooling2d (MaxPooling2D  (None, 13, 13, 8)        0         \n",
            " )                                                               \n",
            "                                                                 \n",
            " conv2d_1 (Conv2D)           (None, 11, 11, 16)        1168      \n",
            "                                                                 \n",
            " flatten (Flatten)           (None, 1936)              0         \n",
            "                                                                 \n",
            " dense (Dense)               (None, 64)                123968    \n",
            "                                                                 \n",
            " dense_1 (Dense)             (None, 10)                650       \n",
            "                                                                 \n",
            "=================================================================\n",
            "Total params: 125,866\n",
            "Trainable params: 125,866\n",
            "Non-trainable params: 0\n",
            "_________________________________________________________________\n",
            "Epoch 1/10\n",
            "938/938 [==============================] - 27s 26ms/step - loss: 0.2179 - accuracy: 0.9366\n",
            "Epoch 2/10\n",
            "938/938 [==============================] - 24s 26ms/step - loss: 0.0680 - accuracy: 0.9790\n",
            "Epoch 3/10\n",
            "938/938 [==============================] - 24s 26ms/step - loss: 0.0486 - accuracy: 0.9847\n",
            "Epoch 4/10\n",
            "938/938 [==============================] - 26s 27ms/step - loss: 0.0365 - accuracy: 0.9887\n",
            "Epoch 5/10\n",
            "938/938 [==============================] - 26s 28ms/step - loss: 0.0294 - accuracy: 0.9905\n",
            "Epoch 6/10\n",
            "938/938 [==============================] - 23s 25ms/step - loss: 0.0230 - accuracy: 0.9926\n",
            "Epoch 7/10\n",
            "938/938 [==============================] - 24s 26ms/step - loss: 0.0188 - accuracy: 0.9937\n",
            "Epoch 8/10\n",
            "938/938 [==============================] - 24s 25ms/step - loss: 0.0153 - accuracy: 0.9950\n",
            "Epoch 9/10\n",
            "938/938 [==============================] - 24s 26ms/step - loss: 0.0130 - accuracy: 0.9956\n",
            "Epoch 10/10\n",
            "938/938 [==============================] - 24s 26ms/step - loss: 0.0103 - accuracy: 0.9965\n",
            "313/313 [==============================] - 2s 6ms/step - loss: 0.0427 - accuracy: 0.9891\n",
            "Validation accuracy: 98.90999794006348 %\n"
          ]
        }
      ]
    }
  ],
  "metadata": {
    "kernelspec": {
      "display_name": "Python 3",
      "language": "python",
      "name": "python3"
    },
    "language_info": {
      "codemirror_mode": {
        "name": "ipython",
        "version": 3
      },
      "file_extension": ".py",
      "mimetype": "text/x-python",
      "name": "python",
      "nbconvert_exporter": "python",
      "pygments_lexer": "ipython3",
      "version": "3.10.10"
    },
    "papermill": {
      "default_parameters": {},
      "duration": 21.275928,
      "end_time": "2023-05-29T08:03:02.413700",
      "environment_variables": {},
      "exception": null,
      "input_path": "__notebook__.ipynb",
      "output_path": "__notebook__.ipynb",
      "parameters": {},
      "start_time": "2023-05-29T08:02:41.137772",
      "version": "2.4.0"
    },
    "colab": {
      "provenance": []
    }
  },
  "nbformat": 4,
  "nbformat_minor": 5
}