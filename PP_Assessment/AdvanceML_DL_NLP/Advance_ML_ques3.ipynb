{
  "cells": [
    {
      "cell_type": "code",
      "execution_count": null,
      "id": "06505332",
      "metadata": {
        "_cell_guid": "b1076dfc-b9ad-4769-8c92-a6c4dae69d19",
        "_uuid": "8f2839f25d086af736a60e9eeb907d3b93b6e0e5",
        "execution": {
          "iopub.execute_input": "2023-05-29T08:02:53.702365Z",
          "iopub.status.busy": "2023-05-29T08:02:53.701411Z",
          "iopub.status.idle": "2023-05-29T08:02:55.301662Z",
          "shell.execute_reply": "2023-05-29T08:02:55.300505Z"
        },
        "papermill": {
          "duration": 1.614403,
          "end_time": "2023-05-29T08:02:55.304598",
          "exception": false,
          "start_time": "2023-05-29T08:02:53.690195",
          "status": "completed"
        },
        "tags": [],
        "id": "06505332"
      },
      "outputs": [],
      "source": [
        "import warnings\n",
        "warnings.filterwarnings(\"ignore\")\n",
        "\n",
        "import pandas as pd\n",
        "import numpy as np\n",
        "\n",
        "import matplotlib.pyplot as plt\n",
        "import seaborn as sns"
      ]
    },
    {
      "cell_type": "code",
      "execution_count": null,
      "id": "54846c2d",
      "metadata": {
        "execution": {
          "iopub.execute_input": "2023-05-29T08:02:55.323935Z",
          "iopub.status.busy": "2023-05-29T08:02:55.323544Z",
          "iopub.status.idle": "2023-05-29T08:02:55.378160Z",
          "shell.execute_reply": "2023-05-29T08:02:55.377290Z"
        },
        "papermill": {
          "duration": 0.067113,
          "end_time": "2023-05-29T08:02:55.380683",
          "exception": false,
          "start_time": "2023-05-29T08:02:55.313570",
          "status": "completed"
        },
        "tags": [],
        "id": "54846c2d",
        "outputId": "d5e359b2-9568-47c6-ddc0-65ee95170e52"
      },
      "outputs": [
        {
          "data": {
            "text/html": [
              "<div>\n",
              "<style scoped>\n",
              "    .dataframe tbody tr th:only-of-type {\n",
              "        vertical-align: middle;\n",
              "    }\n",
              "\n",
              "    .dataframe tbody tr th {\n",
              "        vertical-align: top;\n",
              "    }\n",
              "\n",
              "    .dataframe thead th {\n",
              "        text-align: right;\n",
              "    }\n",
              "</style>\n",
              "<table border=\"1\" class=\"dataframe\">\n",
              "  <thead>\n",
              "    <tr style=\"text-align: right;\">\n",
              "      <th></th>\n",
              "      <th>TV</th>\n",
              "      <th>Radio</th>\n",
              "      <th>Newspaper</th>\n",
              "      <th>Sales</th>\n",
              "    </tr>\n",
              "  </thead>\n",
              "  <tbody>\n",
              "    <tr>\n",
              "      <th>0</th>\n",
              "      <td>230.1</td>\n",
              "      <td>37.8</td>\n",
              "      <td>69.2</td>\n",
              "      <td>22.1</td>\n",
              "    </tr>\n",
              "    <tr>\n",
              "      <th>1</th>\n",
              "      <td>44.5</td>\n",
              "      <td>39.3</td>\n",
              "      <td>45.1</td>\n",
              "      <td>10.4</td>\n",
              "    </tr>\n",
              "    <tr>\n",
              "      <th>2</th>\n",
              "      <td>17.2</td>\n",
              "      <td>45.9</td>\n",
              "      <td>69.3</td>\n",
              "      <td>12.0</td>\n",
              "    </tr>\n",
              "    <tr>\n",
              "      <th>3</th>\n",
              "      <td>151.5</td>\n",
              "      <td>41.3</td>\n",
              "      <td>58.5</td>\n",
              "      <td>16.5</td>\n",
              "    </tr>\n",
              "    <tr>\n",
              "      <th>4</th>\n",
              "      <td>180.8</td>\n",
              "      <td>10.8</td>\n",
              "      <td>58.4</td>\n",
              "      <td>17.9</td>\n",
              "    </tr>\n",
              "  </tbody>\n",
              "</table>\n",
              "</div>"
            ],
            "text/plain": [
              "      TV  Radio  Newspaper  Sales\n",
              "0  230.1   37.8       69.2   22.1\n",
              "1   44.5   39.3       45.1   10.4\n",
              "2   17.2   45.9       69.3   12.0\n",
              "3  151.5   41.3       58.5   16.5\n",
              "4  180.8   10.8       58.4   17.9"
            ]
          },
          "execution_count": 2,
          "metadata": {},
          "output_type": "execute_result"
        }
      ],
      "source": [
        "df = pd.DataFrame(pd.read_csv(\"/kaggle/input/advertising-dataset/advertising.csv\"))\n",
        "df.head()"
      ]
    },
    {
      "cell_type": "code",
      "execution_count": null,
      "id": "a90899a1",
      "metadata": {
        "execution": {
          "iopub.execute_input": "2023-05-29T08:02:55.400607Z",
          "iopub.status.busy": "2023-05-29T08:02:55.400237Z",
          "iopub.status.idle": "2023-05-29T08:02:55.407460Z",
          "shell.execute_reply": "2023-05-29T08:02:55.406257Z"
        },
        "papermill": {
          "duration": 0.020313,
          "end_time": "2023-05-29T08:02:55.409994",
          "exception": false,
          "start_time": "2023-05-29T08:02:55.389681",
          "status": "completed"
        },
        "tags": [],
        "id": "a90899a1",
        "outputId": "0f79dd78-fdd6-4aa9-b7ee-5739f9cc1b65"
      },
      "outputs": [
        {
          "data": {
            "text/plain": [
              "(200, 4)"
            ]
          },
          "execution_count": 3,
          "metadata": {},
          "output_type": "execute_result"
        }
      ],
      "source": [
        "df.shape"
      ]
    },
    {
      "cell_type": "code",
      "execution_count": null,
      "id": "69639a45",
      "metadata": {
        "execution": {
          "iopub.execute_input": "2023-05-29T08:02:55.432320Z",
          "iopub.status.busy": "2023-05-29T08:02:55.431218Z",
          "iopub.status.idle": "2023-05-29T08:02:55.460716Z",
          "shell.execute_reply": "2023-05-29T08:02:55.459532Z"
        },
        "papermill": {
          "duration": 0.042619,
          "end_time": "2023-05-29T08:02:55.463359",
          "exception": false,
          "start_time": "2023-05-29T08:02:55.420740",
          "status": "completed"
        },
        "tags": [],
        "id": "69639a45",
        "outputId": "4a744f06-eafd-43d7-c4b6-e66f0fdec558"
      },
      "outputs": [
        {
          "data": {
            "text/html": [
              "<div>\n",
              "<style scoped>\n",
              "    .dataframe tbody tr th:only-of-type {\n",
              "        vertical-align: middle;\n",
              "    }\n",
              "\n",
              "    .dataframe tbody tr th {\n",
              "        vertical-align: top;\n",
              "    }\n",
              "\n",
              "    .dataframe thead th {\n",
              "        text-align: right;\n",
              "    }\n",
              "</style>\n",
              "<table border=\"1\" class=\"dataframe\">\n",
              "  <thead>\n",
              "    <tr style=\"text-align: right;\">\n",
              "      <th></th>\n",
              "      <th>TV</th>\n",
              "      <th>Radio</th>\n",
              "      <th>Newspaper</th>\n",
              "      <th>Sales</th>\n",
              "    </tr>\n",
              "  </thead>\n",
              "  <tbody>\n",
              "    <tr>\n",
              "      <th>count</th>\n",
              "      <td>200.000000</td>\n",
              "      <td>200.000000</td>\n",
              "      <td>200.000000</td>\n",
              "      <td>200.000000</td>\n",
              "    </tr>\n",
              "    <tr>\n",
              "      <th>mean</th>\n",
              "      <td>147.042500</td>\n",
              "      <td>23.264000</td>\n",
              "      <td>30.554000</td>\n",
              "      <td>15.130500</td>\n",
              "    </tr>\n",
              "    <tr>\n",
              "      <th>std</th>\n",
              "      <td>85.854236</td>\n",
              "      <td>14.846809</td>\n",
              "      <td>21.778621</td>\n",
              "      <td>5.283892</td>\n",
              "    </tr>\n",
              "    <tr>\n",
              "      <th>min</th>\n",
              "      <td>0.700000</td>\n",
              "      <td>0.000000</td>\n",
              "      <td>0.300000</td>\n",
              "      <td>1.600000</td>\n",
              "    </tr>\n",
              "    <tr>\n",
              "      <th>25%</th>\n",
              "      <td>74.375000</td>\n",
              "      <td>9.975000</td>\n",
              "      <td>12.750000</td>\n",
              "      <td>11.000000</td>\n",
              "    </tr>\n",
              "    <tr>\n",
              "      <th>50%</th>\n",
              "      <td>149.750000</td>\n",
              "      <td>22.900000</td>\n",
              "      <td>25.750000</td>\n",
              "      <td>16.000000</td>\n",
              "    </tr>\n",
              "    <tr>\n",
              "      <th>75%</th>\n",
              "      <td>218.825000</td>\n",
              "      <td>36.525000</td>\n",
              "      <td>45.100000</td>\n",
              "      <td>19.050000</td>\n",
              "    </tr>\n",
              "    <tr>\n",
              "      <th>max</th>\n",
              "      <td>296.400000</td>\n",
              "      <td>49.600000</td>\n",
              "      <td>114.000000</td>\n",
              "      <td>27.000000</td>\n",
              "    </tr>\n",
              "  </tbody>\n",
              "</table>\n",
              "</div>"
            ],
            "text/plain": [
              "               TV       Radio   Newspaper       Sales\n",
              "count  200.000000  200.000000  200.000000  200.000000\n",
              "mean   147.042500   23.264000   30.554000   15.130500\n",
              "std     85.854236   14.846809   21.778621    5.283892\n",
              "min      0.700000    0.000000    0.300000    1.600000\n",
              "25%     74.375000    9.975000   12.750000   11.000000\n",
              "50%    149.750000   22.900000   25.750000   16.000000\n",
              "75%    218.825000   36.525000   45.100000   19.050000\n",
              "max    296.400000   49.600000  114.000000   27.000000"
            ]
          },
          "execution_count": 4,
          "metadata": {},
          "output_type": "execute_result"
        }
      ],
      "source": [
        "df.describe()"
      ]
    },
    {
      "cell_type": "code",
      "execution_count": null,
      "id": "dbb83450",
      "metadata": {
        "execution": {
          "iopub.execute_input": "2023-05-29T08:02:55.483983Z",
          "iopub.status.busy": "2023-05-29T08:02:55.483551Z",
          "iopub.status.idle": "2023-05-29T08:02:55.508039Z",
          "shell.execute_reply": "2023-05-29T08:02:55.506415Z"
        },
        "papermill": {
          "duration": 0.037575,
          "end_time": "2023-05-29T08:02:55.510470",
          "exception": false,
          "start_time": "2023-05-29T08:02:55.472895",
          "status": "completed"
        },
        "tags": [],
        "id": "dbb83450",
        "outputId": "35526849-cda3-43d0-8c5a-2043566a7b42"
      },
      "outputs": [
        {
          "name": "stdout",
          "output_type": "stream",
          "text": [
            "<class 'pandas.core.frame.DataFrame'>\n",
            "RangeIndex: 200 entries, 0 to 199\n",
            "Data columns (total 4 columns):\n",
            " #   Column     Non-Null Count  Dtype  \n",
            "---  ------     --------------  -----  \n",
            " 0   TV         200 non-null    float64\n",
            " 1   Radio      200 non-null    float64\n",
            " 2   Newspaper  200 non-null    float64\n",
            " 3   Sales      200 non-null    float64\n",
            "dtypes: float64(4)\n",
            "memory usage: 6.4 KB\n"
          ]
        }
      ],
      "source": [
        "df.info()"
      ]
    },
    {
      "cell_type": "code",
      "execution_count": null,
      "id": "2d6de95e",
      "metadata": {
        "execution": {
          "iopub.execute_input": "2023-05-29T08:02:55.532624Z",
          "iopub.status.busy": "2023-05-29T08:02:55.531953Z",
          "iopub.status.idle": "2023-05-29T08:02:55.542388Z",
          "shell.execute_reply": "2023-05-29T08:02:55.541162Z"
        },
        "papermill": {
          "duration": 0.02404,
          "end_time": "2023-05-29T08:02:55.544871",
          "exception": false,
          "start_time": "2023-05-29T08:02:55.520831",
          "status": "completed"
        },
        "tags": [],
        "id": "2d6de95e",
        "outputId": "9d343a78-277a-4e65-97a1-d07e3c165cb4"
      },
      "outputs": [
        {
          "data": {
            "text/plain": [
              "TV           0.0\n",
              "Radio        0.0\n",
              "Newspaper    0.0\n",
              "Sales        0.0\n",
              "dtype: float64"
            ]
          },
          "execution_count": 6,
          "metadata": {},
          "output_type": "execute_result"
        }
      ],
      "source": [
        "df.isnull().sum() / len(df) * 100"
      ]
    },
    {
      "cell_type": "code",
      "execution_count": null,
      "id": "f363a88f",
      "metadata": {
        "execution": {
          "iopub.execute_input": "2023-05-29T08:02:55.566185Z",
          "iopub.status.busy": "2023-05-29T08:02:55.565792Z",
          "iopub.status.idle": "2023-05-29T08:02:56.082398Z",
          "shell.execute_reply": "2023-05-29T08:02:56.081214Z"
        },
        "papermill": {
          "duration": 0.53048,
          "end_time": "2023-05-29T08:02:56.085145",
          "exception": false,
          "start_time": "2023-05-29T08:02:55.554665",
          "status": "completed"
        },
        "tags": [],
        "id": "f363a88f",
        "outputId": "a008f8eb-855c-4fec-86ee-8f8f40a44aba"
      },
      "outputs": [
        {
          "data": {
            "image/png": "[encoded data removed]",
            "text/plain": [
              "<Figure size 500x500 with 3 Axes>"
            ]
          },
          "metadata": {},
          "output_type": "display_data"
        }
      ],
      "source": [
        "# OA\n",
        "fig, ax = plt.subplots(3, figsize = (5, 5))\n",
        "plt1 = sns.boxplot(df[\"TV\"], ax = ax[0])\n",
        "plt2 = sns.boxplot(df[\"Radio\"], ax = ax[1])\n",
        "plt3 = sns.boxplot(df[\"Newspaper\"], ax = ax[2])\n",
        "plt.tight_layout()"
      ]
    },
    {
      "cell_type": "code",
      "execution_count": null,
      "id": "36f64c46",
      "metadata": {
        "execution": {
          "iopub.execute_input": "2023-05-29T08:02:56.107579Z",
          "iopub.status.busy": "2023-05-29T08:02:56.106408Z",
          "iopub.status.idle": "2023-05-29T08:02:56.968298Z",
          "shell.execute_reply": "2023-05-29T08:02:56.967104Z"
        },
        "papermill": {
          "duration": 0.876413,
          "end_time": "2023-05-29T08:02:56.971467",
          "exception": false,
          "start_time": "2023-05-29T08:02:56.095054",
          "status": "completed"
        },
        "tags": [],
        "id": "36f64c46",
        "outputId": "12917ac3-7de4-44c5-c585-ffbe6ecc9e56"
      },
      "outputs": [
        {
          "data": {
            "image/png": "[encoded data removed]",
            "text/plain": [
              "<Figure size 1200x400 with 3 Axes>"
            ]
          },
          "metadata": {},
          "output_type": "display_data"
        }
      ],
      "source": [
        "sns.pairplot(df, x_vars = [\"TV\", \"Newspaper\", \"Radio\"], y_vars = \"Sales\", height = 4, aspect = 1, kind = \"scatter\")\n",
        "plt.show()"
      ]
    },
    {
      "cell_type": "code",
      "execution_count": null,
      "id": "3351d2eb",
      "metadata": {
        "execution": {
          "iopub.execute_input": "2023-05-29T08:02:56.995283Z",
          "iopub.status.busy": "2023-05-29T08:02:56.994841Z",
          "iopub.status.idle": "2023-05-29T08:02:57.346898Z",
          "shell.execute_reply": "2023-05-29T08:02:57.345791Z"
        },
        "papermill": {
          "duration": 0.366375,
          "end_time": "2023-05-29T08:02:57.349133",
          "exception": false,
          "start_time": "2023-05-29T08:02:56.982758",
          "status": "completed"
        },
        "tags": [],
        "id": "3351d2eb",
        "outputId": "10d6a521-6827-4dfa-f095-2ce4268fe98d"
      },
      "outputs": [
        {
          "data": {
            "image/png": "[encoded data removed]",
            "text/plain": [
              "<Figure size 1000x700 with 2 Axes>"
            ]
          },
          "metadata": {},
          "output_type": "display_data"
        }
      ],
      "source": [
        "plt.figure(figsize = (10, 7))\n",
        "sns.heatmap(df.corr(), cmap = \"YlGnBu\", annot = True)\n",
        "plt.show()"
      ]
    },
    {
      "cell_type": "code",
      "execution_count": null,
      "id": "af410a53",
      "metadata": {
        "execution": {
          "iopub.execute_input": "2023-05-29T08:02:57.373519Z",
          "iopub.status.busy": "2023-05-29T08:02:57.373071Z",
          "iopub.status.idle": "2023-05-29T08:02:57.378172Z",
          "shell.execute_reply": "2023-05-29T08:02:57.377057Z"
        },
        "papermill": {
          "duration": 0.020129,
          "end_time": "2023-05-29T08:02:57.380546",
          "exception": false,
          "start_time": "2023-05-29T08:02:57.360417",
          "status": "completed"
        },
        "tags": [],
        "id": "af410a53"
      },
      "outputs": [],
      "source": [
        "X = df[\"TV\"]\n",
        "y = df[\"Sales\"]"
      ]
    },
    {
      "cell_type": "code",
      "execution_count": null,
      "id": "1e2842e1",
      "metadata": {
        "execution": {
          "iopub.execute_input": "2023-05-29T08:02:57.406014Z",
          "iopub.status.busy": "2023-05-29T08:02:57.405037Z",
          "iopub.status.idle": "2023-05-29T08:02:57.411113Z",
          "shell.execute_reply": "2023-05-29T08:02:57.410001Z"
        },
        "papermill": {
          "duration": 0.021642,
          "end_time": "2023-05-29T08:02:57.413747",
          "exception": false,
          "start_time": "2023-05-29T08:02:57.392105",
          "status": "completed"
        },
        "tags": [],
        "id": "1e2842e1",
        "outputId": "695a3c56-5d74-4e6a-aefc-c853a80ae075"
      },
      "outputs": [
        {
          "name": "stdout",
          "output_type": "stream",
          "text": [
            "(200,) (200,)\n"
          ]
        }
      ],
      "source": [
        "print(X.shape, y.shape)"
      ]
    },
    {
      "cell_type": "code",
      "execution_count": null,
      "id": "8e95d552",
      "metadata": {
        "execution": {
          "iopub.execute_input": "2023-05-29T08:02:57.438474Z",
          "iopub.status.busy": "2023-05-29T08:02:57.437809Z",
          "iopub.status.idle": "2023-05-29T08:02:57.725901Z",
          "shell.execute_reply": "2023-05-29T08:02:57.724685Z"
        },
        "papermill": {
          "duration": 0.303692,
          "end_time": "2023-05-29T08:02:57.728809",
          "exception": false,
          "start_time": "2023-05-29T08:02:57.425117",
          "status": "completed"
        },
        "tags": [],
        "id": "8e95d552"
      },
      "outputs": [],
      "source": [
        "from sklearn.model_selection import train_test_split\n",
        "X_train, X_test, y_train, y_test = train_test_split(X, y, train_size = 0.7, random_state = 100)"
      ]
    },
    {
      "cell_type": "code",
      "execution_count": null,
      "id": "aa7825eb",
      "metadata": {
        "execution": {
          "iopub.execute_input": "2023-05-29T08:02:57.755850Z",
          "iopub.status.busy": "2023-05-29T08:02:57.755454Z",
          "iopub.status.idle": "2023-05-29T08:02:57.761363Z",
          "shell.execute_reply": "2023-05-29T08:02:57.760247Z"
        },
        "papermill": {
          "duration": 0.022277,
          "end_time": "2023-05-29T08:02:57.763596",
          "exception": false,
          "start_time": "2023-05-29T08:02:57.741319",
          "status": "completed"
        },
        "tags": [],
        "id": "aa7825eb",
        "outputId": "e6a9bf6d-77be-4af1-cfb4-4e3df22e281f"
      },
      "outputs": [
        {
          "name": "stdout",
          "output_type": "stream",
          "text": [
            "(140,) (60,) (140,) (60,)\n"
          ]
        }
      ],
      "source": [
        "print(X_train.shape, X_test.shape, y_train.shape, y_test.shape)"
      ]
    },
    {
      "cell_type": "code",
      "execution_count": null,
      "id": "fa77d3c2",
      "metadata": {
        "execution": {
          "iopub.execute_input": "2023-05-29T08:02:57.788498Z",
          "iopub.status.busy": "2023-05-29T08:02:57.787801Z",
          "iopub.status.idle": "2023-05-29T08:02:59.734347Z",
          "shell.execute_reply": "2023-05-29T08:02:59.733289Z"
        },
        "papermill": {
          "duration": 1.962157,
          "end_time": "2023-05-29T08:02:59.737165",
          "exception": false,
          "start_time": "2023-05-29T08:02:57.775008",
          "status": "completed"
        },
        "tags": [],
        "id": "fa77d3c2"
      },
      "outputs": [],
      "source": [
        "import statsmodels.api as sm\n",
        "X_train_sm = sm.add_constant(X_train)\n",
        "lr = sm.OLS(y_train, X_train_sm).fit()"
      ]
    },
    {
      "cell_type": "code",
      "execution_count": null,
      "id": "7456a98a",
      "metadata": {
        "execution": {
          "iopub.execute_input": "2023-05-29T08:02:59.763365Z",
          "iopub.status.busy": "2023-05-29T08:02:59.762390Z",
          "iopub.status.idle": "2023-05-29T08:02:59.771915Z",
          "shell.execute_reply": "2023-05-29T08:02:59.770693Z"
        },
        "papermill": {
          "duration": 0.026048,
          "end_time": "2023-05-29T08:02:59.775020",
          "exception": false,
          "start_time": "2023-05-29T08:02:59.748972",
          "status": "completed"
        },
        "tags": [],
        "id": "7456a98a",
        "outputId": "d2a37f61-c046-402e-b0db-646d1efbb4ae"
      },
      "outputs": [
        {
          "data": {
            "text/plain": [
              "const    6.948683\n",
              "TV       0.054546\n",
              "dtype: float64"
            ]
          },
          "execution_count": 15,
          "metadata": {},
          "output_type": "execute_result"
        }
      ],
      "source": [
        "lr.params"
      ]
    },
    {
      "cell_type": "code",
      "execution_count": null,
      "id": "30da847c",
      "metadata": {
        "execution": {
          "iopub.execute_input": "2023-05-29T08:02:59.801565Z",
          "iopub.status.busy": "2023-05-29T08:02:59.800629Z",
          "iopub.status.idle": "2023-05-29T08:02:59.832167Z",
          "shell.execute_reply": "2023-05-29T08:02:59.831012Z"
        },
        "papermill": {
          "duration": 0.048348,
          "end_time": "2023-05-29T08:02:59.835389",
          "exception": false,
          "start_time": "2023-05-29T08:02:59.787041",
          "status": "completed"
        },
        "tags": [],
        "id": "30da847c",
        "outputId": "7d7dd7e6-f898-4b1a-fc6a-7281d771bd8b"
      },
      "outputs": [
        {
          "data": {
            "text/html": [
              "<table class=\"simpletable\">\n",
              "<caption>OLS Regression Results</caption>\n",
              "<tr>\n",
              "  <th>Dep. Variable:</th>          <td>Sales</td>      <th>  R-squared:         </th> <td>   0.816</td>\n",
              "</tr>\n",
              "<tr>\n",
              "  <th>Model:</th>                   <td>OLS</td>       <th>  Adj. R-squared:    </th> <td>   0.814</td>\n",
              "</tr>\n",
              "<tr>\n",
              "  <th>Method:</th>             <td>Least Squares</td>  <th>  F-statistic:       </th> <td>   611.2</td>\n",
              "</tr>\n",
              "<tr>\n",
              "  <th>Date:</th>             <td>Mon, 29 May 2023</td> <th>  Prob (F-statistic):</th> <td>1.52e-52</td>\n",
              "</tr>\n",
              "<tr>\n",
              "  <th>Time:</th>                 <td>08:02:59</td>     <th>  Log-Likelihood:    </th> <td> -321.12</td>\n",
              "</tr>\n",
              "<tr>\n",
              "  <th>No. Observations:</th>      <td>   140</td>      <th>  AIC:               </th> <td>   646.2</td>\n",
              "</tr>\n",
              "<tr>\n",
              "  <th>Df Residuals:</th>          <td>   138</td>      <th>  BIC:               </th> <td>   652.1</td>\n",
              "</tr>\n",
              "<tr>\n",
              "  <th>Df Model:</th>              <td>     1</td>      <th>                     </th>     <td> </td>   \n",
              "</tr>\n",
              "<tr>\n",
              "  <th>Covariance Type:</th>      <td>nonrobust</td>    <th>                     </th>     <td> </td>   \n",
              "</tr>\n",
              "</table>\n",
              "<table class=\"simpletable\">\n",
              "<tr>\n",
              "    <td></td>       <th>coef</th>     <th>std err</th>      <th>t</th>      <th>P>|t|</th>  <th>[0.025</th>    <th>0.975]</th>  \n",
              "</tr>\n",
              "<tr>\n",
              "  <th>const</th> <td>    6.9487</td> <td>    0.385</td> <td>   18.068</td> <td> 0.000</td> <td>    6.188</td> <td>    7.709</td>\n",
              "</tr>\n",
              "<tr>\n",
              "  <th>TV</th>    <td>    0.0545</td> <td>    0.002</td> <td>   24.722</td> <td> 0.000</td> <td>    0.050</td> <td>    0.059</td>\n",
              "</tr>\n",
              "</table>\n",
              "<table class=\"simpletable\">\n",
              "<tr>\n",
              "  <th>Omnibus:</th>       <td> 0.027</td> <th>  Durbin-Watson:     </th> <td>   2.196</td>\n",
              "</tr>\n",
              "<tr>\n",
              "  <th>Prob(Omnibus):</th> <td> 0.987</td> <th>  Jarque-Bera (JB):  </th> <td>   0.150</td>\n",
              "</tr>\n",
              "<tr>\n",
              "  <th>Skew:</th>          <td>-0.006</td> <th>  Prob(JB):          </th> <td>   0.928</td>\n",
              "</tr>\n",
              "<tr>\n",
              "  <th>Kurtosis:</th>      <td> 2.840</td> <th>  Cond. No.          </th> <td>    328.</td>\n",
              "</tr>\n",
              "</table><br/><br/>Notes:<br/>[1] Standard Errors assume that the covariance matrix of the errors is correctly specified."
            ],
            "text/plain": [
              "<class 'statsmodels.iolib.summary.Summary'>\n",
              "\"\"\"\n",
              "                            OLS Regression Results                            \n",
              "==============================================================================\n",
              "Dep. Variable:                  Sales   R-squared:                       0.816\n",
              "Model:                            OLS   Adj. R-squared:                  0.814\n",
              "Method:                 Least Squares   F-statistic:                     611.2\n",
              "Date:                Mon, 29 May 2023   Prob (F-statistic):           1.52e-52\n",
              "Time:                        08:02:59   Log-Likelihood:                -321.12\n",
              "No. Observations:                 140   AIC:                             646.2\n",
              "Df Residuals:                     138   BIC:                             652.1\n",
              "Df Model:                           1                                         \n",
              "Covariance Type:            nonrobust                                         \n",
              "==============================================================================\n",
              "                 coef    std err          t      P>|t|      [0.025      0.975]\n",
              "------------------------------------------------------------------------------\n",
              "const          6.9487      0.385     18.068      0.000       6.188       7.709\n",
              "TV             0.0545      0.002     24.722      0.000       0.050       0.059\n",
              "==============================================================================\n",
              "Omnibus:                        0.027   Durbin-Watson:                   2.196\n",
              "Prob(Omnibus):                  0.987   Jarque-Bera (JB):                0.150\n",
              "Skew:                          -0.006   Prob(JB):                        0.928\n",
              "Kurtosis:                       2.840   Cond. No.                         328.\n",
              "==============================================================================\n",
              "\n",
              "Notes:\n",
              "[1] Standard Errors assume that the covariance matrix of the errors is correctly specified.\n",
              "\"\"\""
            ]
          },
          "execution_count": 16,
          "metadata": {},
          "output_type": "execute_result"
        }
      ],
      "source": [
        "lr.summary()"
      ]
    },
    {
      "cell_type": "code",
      "execution_count": null,
      "id": "6c41220d",
      "metadata": {
        "execution": {
          "iopub.execute_input": "2023-05-29T08:02:59.864803Z",
          "iopub.status.busy": "2023-05-29T08:02:59.864403Z",
          "iopub.status.idle": "2023-05-29T08:03:00.132064Z",
          "shell.execute_reply": "2023-05-29T08:03:00.130943Z"
        },
        "papermill": {
          "duration": 0.283587,
          "end_time": "2023-05-29T08:03:00.134698",
          "exception": false,
          "start_time": "2023-05-29T08:02:59.851111",
          "status": "completed"
        },
        "tags": [],
        "id": "6c41220d",
        "outputId": "844b4983-a141-4f0b-eeac-5034a4514c84"
      },
      "outputs": [
        {
          "data": {
            "image/png": "[encoded data removed]",
            "text/plain": [
              "<Figure size 640x480 with 1 Axes>"
            ]
          },
          "metadata": {},
          "output_type": "display_data"
        }
      ],
      "source": [
        "plt.scatter(X_train, y_train)\n",
        "plt.plot(X_train, 6.9487+ 0.055 * X_train, \"r\")\n",
        "plt.show()"
      ]
    },
    {
      "cell_type": "code",
      "execution_count": null,
      "id": "baed96d8",
      "metadata": {
        "execution": {
          "iopub.execute_input": "2023-05-29T08:03:00.162577Z",
          "iopub.status.busy": "2023-05-29T08:03:00.161525Z",
          "iopub.status.idle": "2023-05-29T08:03:00.168144Z",
          "shell.execute_reply": "2023-05-29T08:03:00.166882Z"
        },
        "papermill": {
          "duration": 0.022808,
          "end_time": "2023-05-29T08:03:00.170667",
          "exception": false,
          "start_time": "2023-05-29T08:03:00.147859",
          "status": "completed"
        },
        "tags": [],
        "id": "baed96d8"
      },
      "outputs": [],
      "source": [
        "y_train_pred = lr.predict(X_train_sm)\n",
        "res = (y_train - y_train_pred)"
      ]
    },
    {
      "cell_type": "code",
      "execution_count": null,
      "id": "7d1d59df",
      "metadata": {
        "execution": {
          "iopub.execute_input": "2023-05-29T08:03:00.199900Z",
          "iopub.status.busy": "2023-05-29T08:03:00.199499Z",
          "iopub.status.idle": "2023-05-29T08:03:00.556351Z",
          "shell.execute_reply": "2023-05-29T08:03:00.555417Z"
        },
        "papermill": {
          "duration": 0.37567,
          "end_time": "2023-05-29T08:03:00.558692",
          "exception": false,
          "start_time": "2023-05-29T08:03:00.183022",
          "status": "completed"
        },
        "tags": [],
        "id": "7d1d59df",
        "outputId": "881861fc-1878-4b0e-87dc-50f9c9d378ad"
      },
      "outputs": [
        {
          "data": {
            "image/png": "[encoded data removed]",
            "text/plain": [
              "<Figure size 640x480 with 1 Axes>"
            ]
          },
          "metadata": {},
          "output_type": "display_data"
        }
      ],
      "source": [
        "fig = plt.figure()\n",
        "sns.distplot(res, bins = 15)\n",
        "fig.suptitle(\"Error Terms\", fontsize = 15)\n",
        "plt.xlabel(\"y_train - y_train_pred\", fontsize = 15)\n",
        "plt.show()"
      ]
    },
    {
      "cell_type": "code",
      "execution_count": null,
      "id": "8f2c2649",
      "metadata": {
        "execution": {
          "iopub.execute_input": "2023-05-29T08:03:00.586835Z",
          "iopub.status.busy": "2023-05-29T08:03:00.586096Z",
          "iopub.status.idle": "2023-05-29T08:03:00.801762Z",
          "shell.execute_reply": "2023-05-29T08:03:00.800562Z"
        },
        "papermill": {
          "duration": 0.232957,
          "end_time": "2023-05-29T08:03:00.804431",
          "exception": false,
          "start_time": "2023-05-29T08:03:00.571474",
          "status": "completed"
        },
        "tags": [],
        "id": "8f2c2649",
        "outputId": "08d10d1b-7674-4089-ade0-de2942164b5a"
      },
      "outputs": [
        {
          "data": {
            "image/png": "[encoded data removed]",
            "text/plain": [
              "<Figure size 640x480 with 1 Axes>"
            ]
          },
          "metadata": {},
          "output_type": "display_data"
        }
      ],
      "source": [
        "plt.scatter(X_train, res)\n",
        "plt.show()"
      ]
    },
    {
      "cell_type": "code",
      "execution_count": null,
      "id": "ee2f48c5",
      "metadata": {
        "execution": {
          "iopub.execute_input": "2023-05-29T08:03:00.833304Z",
          "iopub.status.busy": "2023-05-29T08:03:00.832871Z",
          "iopub.status.idle": "2023-05-29T08:03:00.841396Z",
          "shell.execute_reply": "2023-05-29T08:03:00.840120Z"
        },
        "papermill": {
          "duration": 0.025896,
          "end_time": "2023-05-29T08:03:00.843811",
          "exception": false,
          "start_time": "2023-05-29T08:03:00.817915",
          "status": "completed"
        },
        "tags": [],
        "id": "ee2f48c5"
      },
      "outputs": [],
      "source": [
        "X_test_sm = sm.add_constant(X_test)\n",
        "y_pred = lr.predict(X_test_sm)"
      ]
    },
    {
      "cell_type": "code",
      "execution_count": null,
      "id": "74f322a0",
      "metadata": {
        "execution": {
          "iopub.execute_input": "2023-05-29T08:03:00.872251Z",
          "iopub.status.busy": "2023-05-29T08:03:00.871822Z",
          "iopub.status.idle": "2023-05-29T08:03:00.880761Z",
          "shell.execute_reply": "2023-05-29T08:03:00.879557Z"
        },
        "papermill": {
          "duration": 0.02627,
          "end_time": "2023-05-29T08:03:00.883347",
          "exception": false,
          "start_time": "2023-05-29T08:03:00.857077",
          "status": "completed"
        },
        "tags": [],
        "id": "74f322a0",
        "outputId": "49097325-7083-4447-c7c4-68e4c0f94ddc"
      },
      "outputs": [
        {
          "data": {
            "text/plain": [
              "126     7.374140\n",
              "104    19.941482\n",
              "99     14.323269\n",
              "92     18.823294\n",
              "111    20.132392\n",
              "dtype: float64"
            ]
          },
          "execution_count": 22,
          "metadata": {},
          "output_type": "execute_result"
        }
      ],
      "source": [
        "y_pred.head()"
      ]
    },
    {
      "cell_type": "code",
      "execution_count": null,
      "id": "48324f6d",
      "metadata": {
        "execution": {
          "iopub.execute_input": "2023-05-29T08:03:00.912749Z",
          "iopub.status.busy": "2023-05-29T08:03:00.912363Z",
          "iopub.status.idle": "2023-05-29T08:03:00.917068Z",
          "shell.execute_reply": "2023-05-29T08:03:00.916242Z"
        },
        "papermill": {
          "duration": 0.022017,
          "end_time": "2023-05-29T08:03:00.919409",
          "exception": false,
          "start_time": "2023-05-29T08:03:00.897392",
          "status": "completed"
        },
        "tags": [],
        "id": "48324f6d"
      },
      "outputs": [],
      "source": [
        "from sklearn.metrics import mean_squared_error\n",
        "from sklearn.metrics import r2_score"
      ]
    },
    {
      "cell_type": "code",
      "execution_count": null,
      "id": "dbdc385d",
      "metadata": {
        "execution": {
          "iopub.execute_input": "2023-05-29T08:03:00.949035Z",
          "iopub.status.busy": "2023-05-29T08:03:00.948260Z",
          "iopub.status.idle": "2023-05-29T08:03:00.955147Z",
          "shell.execute_reply": "2023-05-29T08:03:00.954298Z"
        },
        "papermill": {
          "duration": 0.024232,
          "end_time": "2023-05-29T08:03:00.957591",
          "exception": false,
          "start_time": "2023-05-29T08:03:00.933359",
          "status": "completed"
        },
        "tags": [],
        "id": "dbdc385d",
        "outputId": "2d59c006-180b-4649-f8e5-9944cc910fbd"
      },
      "outputs": [
        {
          "data": {
            "text/plain": [
              "2.019296008966232"
            ]
          },
          "execution_count": 24,
          "metadata": {},
          "output_type": "execute_result"
        }
      ],
      "source": [
        "np.sqrt(mean_squared_error(y_test, y_pred))"
      ]
    },
    {
      "cell_type": "code",
      "execution_count": null,
      "id": "dbf67c45",
      "metadata": {
        "execution": {
          "iopub.execute_input": "2023-05-29T08:03:00.987549Z",
          "iopub.status.busy": "2023-05-29T08:03:00.987146Z",
          "iopub.status.idle": "2023-05-29T08:03:00.994828Z",
          "shell.execute_reply": "2023-05-29T08:03:00.993703Z"
        },
        "papermill": {
          "duration": 0.026101,
          "end_time": "2023-05-29T08:03:00.997600",
          "exception": false,
          "start_time": "2023-05-29T08:03:00.971499",
          "status": "completed"
        },
        "tags": [],
        "id": "dbf67c45",
        "outputId": "de863324-3d69-4732-8623-430c91d733c4"
      },
      "outputs": [
        {
          "data": {
            "text/plain": [
              "0.792103160124566"
            ]
          },
          "execution_count": 25,
          "metadata": {},
          "output_type": "execute_result"
        }
      ],
      "source": [
        "r_squared = r2_score(y_test, y_pred)\n",
        "r_squared"
      ]
    },
    {
      "cell_type": "code",
      "execution_count": null,
      "id": "6e03da62",
      "metadata": {
        "execution": {
          "iopub.execute_input": "2023-05-29T08:03:01.027603Z",
          "iopub.status.busy": "2023-05-29T08:03:01.026320Z",
          "iopub.status.idle": "2023-05-29T08:03:01.245362Z",
          "shell.execute_reply": "2023-05-29T08:03:01.244164Z"
        },
        "papermill": {
          "duration": 0.236801,
          "end_time": "2023-05-29T08:03:01.247976",
          "exception": false,
          "start_time": "2023-05-29T08:03:01.011175",
          "status": "completed"
        },
        "tags": [],
        "id": "6e03da62",
        "outputId": "37c49f1b-700d-4dec-e94a-f80791cbefd2"
      },
      "outputs": [
        {
          "data": {
            "image/png": "[encoded data removed]",
            "text/plain": [
              "<Figure size 640x480 with 1 Axes>"
            ]
          },
          "metadata": {},
          "output_type": "display_data"
        }
      ],
      "source": [
        "plt.scatter(X_test, y_test)\n",
        "plt.plot(X_test, 6.9487+ 0.055 * X_test, \"r\")\n",
        "plt.show()"
      ]
    },
    {
      "cell_type": "markdown",
      "source": [
        "You can use Docker to build and deploy your model. To do this, you will need to create a Dockerfile that defines the environment and dependencies needed to run your model. Once you have created a Dockerfile, you can build a Docker image using the docker build command. You can then deploy your model to a Docker container using the docker run command.\n",
        "\n",
        "Here is an example of a Dockerfile that can be used to build a Docker image for your model:"
      ],
      "metadata": {
        "id": "tEFlnXrgT-J_"
      },
      "id": "tEFlnXrgT-J_"
    },
    {
      "cell_type": "code",
      "execution_count": null,
      "id": "e76a50bc",
      "metadata": {
        "papermill": {
          "duration": 0.013903,
          "end_time": "2023-05-29T08:03:01.276190",
          "exception": false,
          "start_time": "2023-05-29T08:03:01.262287",
          "status": "completed"
        },
        "tags": [],
        "id": "e76a50bc"
      },
      "outputs": [],
      "source": [
        "FROM pyspark\n",
        "\n",
        "COPY requirements.txt /tmp/\n",
        "RUN pip install -r /tmp/requirements.txt\n",
        "\n",
        "COPY model.py /app/\n",
        "\n",
        "CMD [\"spark-submit\", \"-m\", \"local\", \"-n\", \"1\", \"-c\", \"app.py\"]\n"
      ]
    },
    {
      "cell_type": "markdown",
      "source": [
        "This Dockerfile defines the environment and dependencies needed to run the model.py script. The CMD line specifies the command that will be executed when the Docker container is started. In this case, the spark-submit command will be used to submit the model.py script to a Spark cluster.\n",
        "\n",
        "Once you have built a Docker image, you can deploy it to a Docker container using the following command:"
      ],
      "metadata": {
        "id": "2RN2-WYfUC-B"
      },
      "id": "2RN2-WYfUC-B"
    },
    {
      "cell_type": "code",
      "source": [
        "docker run -p 8080:8080 my-model\n"
      ],
      "metadata": {
        "id": "_7CApJqVUJqa"
      },
      "id": "_7CApJqVUJqa",
      "execution_count": null,
      "outputs": []
    },
    {
      "cell_type": "markdown",
      "source": [
        "This command will start a Docker container that exposes port 8080. You can then access your model using a web browser by navigating to http://localhost:8080."
      ],
      "metadata": {
        "id": "WeS6WmdyUSuk"
      },
      "id": "WeS6WmdyUSuk"
    },
    {
      "cell_type": "code",
      "source": [],
      "metadata": {
        "id": "SXS4g3cxUL3O"
      },
      "id": "SXS4g3cxUL3O",
      "execution_count": null,
      "outputs": []
    }
  ],
  "metadata": {
    "kernelspec": {
      "display_name": "Python 3",
      "language": "python",
      "name": "python3"
    },
    "language_info": {
      "codemirror_mode": {
        "name": "ipython",
        "version": 3
      },
      "file_extension": ".py",
      "mimetype": "text/x-python",
      "name": "python",
      "nbconvert_exporter": "python",
      "pygments_lexer": "ipython3",
      "version": "3.10.10"
    },
    "papermill": {
      "default_parameters": {},
      "duration": 21.275928,
      "end_time": "2023-05-29T08:03:02.413700",
      "environment_variables": {},
      "exception": null,
      "input_path": "__notebook__.ipynb",
      "output_path": "__notebook__.ipynb",
      "parameters": {},
      "start_time": "2023-05-29T08:02:41.137772",
      "version": "2.4.0"
    },
    "colab": {
      "provenance": []
    }
  },
  "nbformat": 4,
  "nbformat_minor": 5
}