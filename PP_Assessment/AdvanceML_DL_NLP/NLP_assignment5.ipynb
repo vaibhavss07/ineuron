{
  "nbformat": 4,
  "nbformat_minor": 0,
  "metadata": {
    "colab": {
      "provenance": []
    },
    "kernelspec": {
      "name": "python3",
      "display_name": "Python 3"
    },
    "language_info": {
      "name": "python"
    }
  },
  "cells": [
    {
      "cell_type": "code",
      "execution_count": 50,
      "metadata": {
        "colab": {
          "base_uri": "https://localhost:8080/"
        },
        "id": "_wZgXQ79fvyB",
        "outputId": "10333188-2de4-494a-8dee-835ded08bd3e"
      },
      "outputs": [
        {
          "output_type": "stream",
          "name": "stdout",
          "text": [
            "Looking in indexes: https://pypi.org/simple, https://us-python.pkg.dev/colab-wheels/public/simple/\n",
            "Collecting fasttext\n",
            "  Downloading fasttext-0.9.2.tar.gz (68 kB)\n",
            "\u001b[2K     \u001b[90m━━━━━━━━━━━━━━━━━━━━━━━━━━━━━━━━━━━━━━━━\u001b[0m \u001b[32m68.8/68.8 kB\u001b[0m \u001b[31m2.8 MB/s\u001b[0m eta \u001b[36m0:00:00\u001b[0m\n",
            "\u001b[?25h  Preparing metadata (setup.py) ... \u001b[?25l\u001b[?25hdone\n",
            "Collecting pybind11>=2.2 (from fasttext)\n",
            "  Using cached pybind11-2.10.4-py3-none-any.whl (222 kB)\n",
            "Requirement already satisfied: setuptools>=0.7.0 in /usr/local/lib/python3.10/dist-packages (from fasttext) (67.7.2)\n",
            "Requirement already satisfied: numpy in /usr/local/lib/python3.10/dist-packages (from fasttext) (1.22.4)\n",
            "Building wheels for collected packages: fasttext\n",
            "  Building wheel for fasttext (setup.py) ... \u001b[?25l\u001b[?25hdone\n",
            "  Created wheel for fasttext: filename=fasttext-0.9.2-cp310-cp310-linux_x86_64.whl size=4393248 sha256=fe3e6b995400d07e27f423fa9c770a0092fd6f7f0f804c59daf744f8634ac93a\n",
            "  Stored in directory: /root/.cache/pip/wheels/a5/13/75/f811c84a8ab36eedbaef977a6a58a98990e8e0f1967f98f394\n",
            "Successfully built fasttext\n",
            "Installing collected packages: pybind11, fasttext\n",
            "Successfully installed fasttext-0.9.2 pybind11-2.10.4\n"
          ]
        }
      ],
      "source": [
        "!pip install fasttext\n"
      ]
    },
    {
      "cell_type": "markdown",
      "source": [
        "Prepare the training data:\n",
        "FastText expects the training data to be in a specific format where each line starts with the __label__ prefix followed by the language label and then the corresponding text.\n",
        "Here's an example of how the training data should look:"
      ],
      "metadata": {
        "id": "VWgfT0KUe915"
      }
    },
    {
      "cell_type": "code",
      "source": [
        "__label__en This is an English text.\n",
        "__label__fr Cest un texte en français.\n",
        "__label__de Dies ist ein deutscher Text.\n"
      ],
      "metadata": {
        "id": "TfmKF5Y0lXCJ"
      },
      "execution_count": 52,
      "outputs": []
    },
    {
      "cell_type": "code",
      "source": [
        "import fasttext\n",
        "\n",
        "# Set up paths and file names\n",
        "train_data_path = 'path/to/training_data.txt'\n",
        "model_path = 'path/to/model.bin'\n",
        "\n",
        "# Train the FastText language detection model\n",
        "model = fasttext.train_supervised(input=train_data_path, lr=1.0, epoch=25, wordNgrams=2, bucket=200000, dim=50, loss='softmax')\n",
        "\n",
        "# Save the trained model\n",
        "model.save_model(model_path)\n"
      ],
      "metadata": {
        "id": "QIY6YCAyk8sr"
      },
      "execution_count": 46,
      "outputs": []
    },
    {
      "cell_type": "code",
      "source": [
        "# Load the trained model\n",
        "loaded_model = fasttext.load_model(model_path)\n"
      ],
      "metadata": {
        "id": "f9JGsRnCEhn-"
      },
      "execution_count": 47,
      "outputs": []
    },
    {
      "cell_type": "code",
      "source": [
        "# Text to classify\n",
        "text = \"This is a sample text.\"\n",
        "\n",
        "# Perform language detection\n",
        "result = loaded_model.predict(text)\n",
        "predicted_language = result[0][0].replace('__label__', '')\n",
        "\n",
        "# Print the predicted language\n",
        "print(\"Predicted language:\", predicted_language)\n"
      ],
      "metadata": {
        "id": "RJGIz6KTLHex"
      },
      "execution_count": 48,
      "outputs": []
    },
    {
      "cell_type": "code",
      "source": [],
      "metadata": {
        "id": "xk5epq_aLR1f"
      },
      "execution_count": 49,
      "outputs": []
    }
  ]
}