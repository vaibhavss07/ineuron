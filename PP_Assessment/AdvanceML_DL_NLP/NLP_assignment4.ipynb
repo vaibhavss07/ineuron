{
  "nbformat": 4,
  "nbformat_minor": 0,
  "metadata": {
    "colab": {
      "provenance": []
    },
    "kernelspec": {
      "name": "python3",
      "display_name": "Python 3"
    },
    "language_info": {
      "name": "python"
    }
  },
  "cells": [
    {
      "cell_type": "code",
      "execution_count": 44,
      "metadata": {
        "id": "_wZgXQ79fvyB"
      },
      "outputs": [],
      "source": [
        "import nltk\n",
        "from nltk.corpus import stopwords\n",
        "from nltk.tokenize import sent_tokenize, word_tokenize\n",
        "from nltk.stem import PorterStemmer\n",
        "from sklearn.metrics.pairwise import cosine_similarity\n",
        "from sklearn.feature_extraction.text import TfidfVectorizer\n"
      ]
    },
    {
      "cell_type": "code",
      "source": [
        "nltk.download('punkt')\n",
        "nltk.download('stopwords')\n"
      ],
      "metadata": {
        "id": "TfmKF5Y0lXCJ",
        "colab": {
          "base_uri": "https://localhost:8080/"
        },
        "outputId": "0f59a63b-56d5-44a1-e27c-619f86e52d05"
      },
      "execution_count": 45,
      "outputs": [
        {
          "output_type": "stream",
          "name": "stderr",
          "text": [
            "[nltk_data] Downloading package punkt to /root/nltk_data...\n",
            "[nltk_data]   Unzipping tokenizers/punkt.zip.\n",
            "[nltk_data] Downloading package stopwords to /root/nltk_data...\n",
            "[nltk_data]   Package stopwords is already up-to-date!\n"
          ]
        },
        {
          "output_type": "execute_result",
          "data": {
            "text/plain": [
              "True"
            ]
          },
          "metadata": {},
          "execution_count": 45
        }
      ]
    },
    {
      "cell_type": "code",
      "source": [
        "def preprocess_text(text):\n",
        "    # Tokenize the text into sentences\n",
        "    sentences = sent_tokenize(text)\n",
        "    \n",
        "    # Tokenize the sentences into words and remove stopwords\n",
        "    stop_words = set(stopwords.words('english'))\n",
        "    ps = PorterStemmer()\n",
        "    preprocessed_sentences = []\n",
        "    for sentence in sentences:\n",
        "        words = [ps.stem(word.lower()) for word in word_tokenize(sentence) if word.isalnum()]\n",
        "        words = [word for word in words if word not in stop_words]\n",
        "        preprocessed_sentences.append(' '.join(words))\n",
        "    \n",
        "    return preprocessed_sentences\n"
      ],
      "metadata": {
        "id": "QIY6YCAyk8sr"
      },
      "execution_count": 46,
      "outputs": []
    },
    {
      "cell_type": "code",
      "source": [
        "def calculate_textrank_scores(sentences):\n",
        "    # Vectorize the preprocessed sentences using TF-IDF\n",
        "    vectorizer = TfidfVectorizer()\n",
        "    tfidf_matrix = vectorizer.fit_transform(sentences)\n",
        "    \n",
        "    # Compute the similarity matrix based on cosine similarity\n",
        "    similarity_matrix = cosine_similarity(tfidf_matrix, tfidf_matrix)\n",
        "    \n",
        "    # Apply PageRank algorithm to the similarity matrix\n",
        "    damping_factor = 0.85\n",
        "    scores = [1.0] * len(sentences)\n",
        "    convergence_threshold = 0.001\n",
        "    iteration_count = 10\n",
        "    \n",
        "    for _ in range(iteration_count):\n",
        "        prev_scores = list(scores)\n",
        "        for i in range(len(sentences)):\n",
        "            score = 0.0\n",
        "            for j in range(len(sentences)):\n",
        "                if i != j:\n",
        "                    score += (similarity_matrix[i][j] / sum(similarity_matrix[j]))\n",
        "            scores[i] = (1 - damping_factor) + damping_factor * score\n",
        "        \n",
        "        if sum([abs(scores[i] - prev_scores[i]) for i in range(len(sentences))]) <= convergence_threshold:\n",
        "            break\n",
        "    \n",
        "    return scores\n"
      ],
      "metadata": {
        "id": "f9JGsRnCEhn-"
      },
      "execution_count": 47,
      "outputs": []
    },
    {
      "cell_type": "code",
      "source": [
        "def generate_summary(sentences, scores, num_sentences):\n",
        "    ranked_sentences = sorted(((scores[i], sentence) for i, sentence in enumerate(sentences)), reverse=True)\n",
        "    summary_sentences = [sentence for score, sentence in ranked_sentences[:num_sentences]]\n",
        "    summary = ' '.join(summary_sentences)\n",
        "    return summary\n"
      ],
      "metadata": {
        "id": "RJGIz6KTLHex"
      },
      "execution_count": 48,
      "outputs": []
    },
    {
      "cell_type": "code",
      "source": [
        "def main():\n",
        "    # Prompt the user to enter the text file path\n",
        "    file_path = input('Enter the text file path: ')\n",
        "\n",
        "    # Read the text from the file\n",
        "    with open(file_path, 'r', encoding='utf-8') as file:\n",
        "        text = file.read()\n",
        "\n",
        "    # Preprocess the text\n",
        "    preprocessed_sentences = preprocess_text(text)\n",
        "\n",
        "    # Calculate the TextRank scores\n",
        "    scores = calculate_textrank_scores(preprocessed_sentences)\n",
        "\n",
        "    # Generate the summary\n",
        "    num_sentences = 3  # Adjust the number of sentences in the summary as desired\n",
        "    summary = generate_summary(preprocessed_sentences, scores, num_sentences)\n",
        "\n",
        "    # Print the summary\n",
        "    print('Summary:')\n",
        "    print(summary)\n",
        "\n",
        "\n",
        "if __name__ == '__main__':\n",
        "    main()\n"
      ],
      "metadata": {
        "id": "xk5epq_aLR1f"
      },
      "execution_count": 49,
      "outputs": []
    }
  ]
}