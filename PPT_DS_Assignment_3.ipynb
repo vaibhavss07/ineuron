{
  "nbformat": 4,
  "nbformat_minor": 0,
  "metadata": {
    "colab": {
      "provenance": []
    },
    "kernelspec": {
      "name": "python3",
      "display_name": "Python 3"
    },
    "language_info": {
      "name": "python"
    }
  },
  "cells": [
    {
      "cell_type": "markdown",
      "source": [
        "\n",
        "1. Scenario: A company wants to analyze the sales performance of its products in different regions. They have collected the following data:\n",
        "   Region A: [10, 15, 12, 8, 14]\n",
        "   Region B: [18, 20, 16, 22, 25]\n",
        "   Calculate the mean sales for each region.\n"
      ],
      "metadata": {
        "id": "TJNl4h_bjymR"
      }
    },
    {
      "cell_type": "code",
      "source": [
        "import statistics\n",
        "\n",
        "region_a_sales = [10, 15, 12, 8, 14]\n",
        "region_b_sales = [18, 20, 16, 22, 25]\n",
        "\n",
        "mean_region_a = statistics.mean(region_a_sales)\n",
        "mean_region_b = statistics.mean(region_b_sales)\n",
        "\n",
        "print(\"Mean sales for Region A:\", mean_region_a)\n",
        "print(\"Mean sales for Region B:\", mean_region_b)"
      ],
      "metadata": {
        "colab": {
          "base_uri": "https://localhost:8080/"
        },
        "id": "Y0cFHw1zjoNy",
        "outputId": "5490d978-8629-4dd6-dd78-1ab12339c60d"
      },
      "execution_count": 1,
      "outputs": [
        {
          "output_type": "stream",
          "name": "stdout",
          "text": [
            "Mean sales for Region A: 11.8\n",
            "Mean sales for Region B: 20.2\n"
          ]
        }
      ]
    },
    {
      "cell_type": "markdown",
      "source": [
        "2. Scenario: A survey is conducted to measure customer satisfaction on a scale of 1 to 5. The data collected is as follows:\n",
        "   [4, 5, 2, 3, 5, 4, 3, 2, 4, 5]\n",
        "   Calculate the mode of the survey responses.\n"
      ],
      "metadata": {
        "id": "r_fD-eLQj3Qo"
      }
    },
    {
      "cell_type": "code",
      "source": [
        "import statistics\n",
        "\n",
        "survey_responses = [4, 5, 2, 3, 5, 4, 3, 2, 4, 5]\n",
        "\n",
        "mode_response = statistics.mode(survey_responses)\n",
        "\n",
        "print(\"Mode of survey responses:\", mode_response)\n"
      ],
      "metadata": {
        "colab": {
          "base_uri": "https://localhost:8080/"
        },
        "id": "kVpPd7DVj89u",
        "outputId": "86507411-efed-48fe-cd75-e96af6305982"
      },
      "execution_count": 2,
      "outputs": [
        {
          "output_type": "stream",
          "name": "stdout",
          "text": [
            "Mode of survey responses: 4\n"
          ]
        }
      ]
    },
    {
      "cell_type": "markdown",
      "source": [
        "3. Scenario: A company wants to compare the salaries of two departments. The salary data for Department A and Department B are as follows:\n",
        "   Department A: [5000, 6000, 5500, 7000]\n",
        "   Department B: [4500, 5500, 5800, 6000, 5200]\n",
        "   Calculate the median salary for each department.\n"
      ],
      "metadata": {
        "id": "grEUl_8nkLBX"
      }
    },
    {
      "cell_type": "code",
      "source": [
        "import statistics\n",
        "\n",
        "department_a_salaries = [5000, 6000, 5500, 7000]\n",
        "department_b_salaries = [4500, 5500, 5800, 6000, 5200]\n",
        "\n",
        "median_department_a = statistics.median(department_a_salaries)\n",
        "median_department_b = statistics.median(department_b_salaries)\n",
        "\n",
        "print(\"Median salary for Department A:\", median_department_a)\n",
        "print(\"Median salary for Department B:\", median_department_b)\n"
      ],
      "metadata": {
        "colab": {
          "base_uri": "https://localhost:8080/"
        },
        "id": "FrbzGF_AkKnB",
        "outputId": "79e60ed4-e78d-4bee-c853-cdd9def28e3b"
      },
      "execution_count": 3,
      "outputs": [
        {
          "output_type": "stream",
          "name": "stdout",
          "text": [
            "Median salary for Department A: 5750.0\n",
            "Median salary for Department B: 5500\n"
          ]
        }
      ]
    },
    {
      "cell_type": "markdown",
      "source": [
        "4. Scenario: A data analyst wants to determine the variability in the daily stock prices of a company. The data collected is as follows:\n",
        "   [25.5, 24.8, 26.1, 25.3, 24.9]\n",
        "   Calculate the range of the stock prices.\n"
      ],
      "metadata": {
        "id": "05sgyRBTkc3V"
      }
    },
    {
      "cell_type": "code",
      "source": [
        "stock_prices = [25.5, 24.8, 26.1, 25.3, 24.9]\n",
        "\n",
        "price_range = max(stock_prices) - min(stock_prices)\n",
        "\n",
        "print(\"Range of stock prices:\", price_range)\n"
      ],
      "metadata": {
        "colab": {
          "base_uri": "https://localhost:8080/"
        },
        "id": "1SOHCXwikhFD",
        "outputId": "a82dd343-e096-470a-bcc8-1d2655d7e3ce"
      },
      "execution_count": 4,
      "outputs": [
        {
          "output_type": "stream",
          "name": "stdout",
          "text": [
            "Range of stock prices: 1.3000000000000007\n"
          ]
        }
      ]
    },
    {
      "cell_type": "markdown",
      "source": [
        "5. Scenario: A study is conducted to compare the performance of two different teaching methods. The test scores of the students in each group are as follows:\n",
        "   Group A: [85, 90, 92, 88, 91]\n",
        "   Group B: [82, 88, 90, 86, 87]\n",
        "   Perform a t-test to determine if there is a significant difference in the mean scores between the two groups.\n"
      ],
      "metadata": {
        "id": "zOre9HSVlGNm"
      }
    },
    {
      "cell_type": "code",
      "source": [
        "from scipy import stats\n",
        "\n",
        "group_a_scores = [85, 90, 92, 88, 91]\n",
        "group_b_scores = [82, 88, 90, 86, 87]\n",
        "\n",
        "t_statistic, p_value = stats.ttest_ind(group_a_scores, group_b_scores)\n",
        "\n",
        "alpha = 0.05  # significance level\n",
        "\n",
        "print(\"T-statistic:\", t_statistic)\n",
        "print(\"P-value:\", p_value)\n",
        "\n",
        "if p_value < alpha:\n",
        "    print(\"There is a significant difference in the mean scores between the two groups.\")\n",
        "else:\n",
        "    print(\"There is no significant difference in the mean scores between the two groups.\")\n"
      ],
      "metadata": {
        "colab": {
          "base_uri": "https://localhost:8080/"
        },
        "id": "S-NjaAXBlNP6",
        "outputId": "d0ee4b19-ae8e-4b66-8e36-1489c28f000d"
      },
      "execution_count": 5,
      "outputs": [
        {
          "output_type": "stream",
          "name": "stdout",
          "text": [
            "T-statistic: 1.4312528946642733\n",
            "P-value: 0.19023970239078333\n",
            "There is no significant difference in the mean scores between the two groups.\n"
          ]
        }
      ]
    },
    {
      "cell_type": "markdown",
      "source": [
        "6. Scenario: A company wants to analyze the relationship between advertising expenditure and sales. The data collected is as follows:\n",
        "   Advertising Expenditure (in thousands): [10, 15, 12, 8, 14]\n",
        "   Sales (in thousands): [25, 30, 28, 20, 26]\n",
        "   Calculate the correlation coefficient between advertising expenditure and sales.\n"
      ],
      "metadata": {
        "id": "3JUPuENPlf0H"
      }
    },
    {
      "cell_type": "code",
      "source": [
        "import numpy as np\n",
        "\n",
        "advertising_expenditure = [10, 15, 12, 8, 14]\n",
        "sales = [25, 30, 28, 20, 26]\n",
        "\n",
        "correlation_coefficient = np.corrcoef(advertising_expenditure, sales)[0, 1]\n",
        "\n",
        "print(\"Correlation coefficient:\", correlation_coefficient)\n"
      ],
      "metadata": {
        "colab": {
          "base_uri": "https://localhost:8080/"
        },
        "id": "AcPpA3AvljHv",
        "outputId": "91e30599-e0f1-41b9-ca64-7bde030dda7a"
      },
      "execution_count": 6,
      "outputs": [
        {
          "output_type": "stream",
          "name": "stdout",
          "text": [
            "Correlation coefficient: 0.8757511375750132\n"
          ]
        }
      ]
    },
    {
      "cell_type": "markdown",
      "source": [
        "\n",
        "7. Scenario: A survey is conducted to measure the heights of a group of people. The data collected is as follows:\n",
        "   [160, 170, 165, 155, 175, 180, 170]\n",
        "   Calculate the standard deviation of the heights.\n"
      ],
      "metadata": {
        "id": "IL8xvV35luBR"
      }
    },
    {
      "cell_type": "code",
      "source": [
        "import statistics\n",
        "\n",
        "heights = [160, 170, 165, 155, 175, 180, 170]\n",
        "\n",
        "standard_deviation = statistics.stdev(heights)\n",
        "\n",
        "print(\"Standard deviation of heights:\", standard_deviation)\n"
      ],
      "metadata": {
        "colab": {
          "base_uri": "https://localhost:8080/"
        },
        "id": "yoniU0vGl1bb",
        "outputId": "114803db-36eb-4b70-e371-c4abfc3d65cf"
      },
      "execution_count": 7,
      "outputs": [
        {
          "output_type": "stream",
          "name": "stdout",
          "text": [
            "Standard deviation of heights: 8.591246929842246\n"
          ]
        }
      ]
    },
    {
      "cell_type": "markdown",
      "source": [
        "8. Scenario: A company wants to analyze the relationship between employee tenure and job satisfaction. The data collected is as follows:\n",
        "   Employee Tenure (in years): [2, 3, 5, 4, 6, 2, 4]\n",
        "   Job Satisfaction (on a scale of 1 to 10): [7, 8, 6, 9, 5, 7, 6]\n",
        "   Perform a linear regression analysis to predict job satisfaction based on employee tenure.\n"
      ],
      "metadata": {
        "id": "cE7LBVR7l9Mb"
      }
    },
    {
      "cell_type": "code",
      "source": [
        "import numpy as np\n",
        "from scipy import stats\n",
        "\n",
        "employee_tenure = [2, 3, 5, 4, 6, 2, 4]\n",
        "job_satisfaction = [7, 8, 6, 9, 5, 7, 6]\n",
        "\n",
        "slope, intercept, r_value, p_value, std_err = stats.linregress(employee_tenure, job_satisfaction)\n",
        "\n",
        "print(\"Slope:\", slope)\n",
        "print(\"Intercept:\", intercept)\n",
        "print(\"R-value:\", r_value)\n",
        "print(\"P-value:\", p_value)\n",
        "print(\"Standard error:\", std_err)\n",
        "\n",
        "# Predict job satisfaction for a new employee tenure value\n",
        "new_tenure = 3\n",
        "predicted_satisfaction = intercept + slope * new_tenure\n",
        "print(\"Predicted job satisfaction for tenure\", new_tenure, \":\", predicted_satisfaction)\n"
      ],
      "metadata": {
        "colab": {
          "base_uri": "https://localhost:8080/"
        },
        "id": "6-hZW4w9mBcm",
        "outputId": "ff8bb05e-2453-4df6-fc42-96afee0d0864"
      },
      "execution_count": 8,
      "outputs": [
        {
          "output_type": "stream",
          "name": "stdout",
          "text": [
            "Slope: -0.4680851063829787\n",
            "Intercept: 8.595744680851062\n",
            "R-value: -0.520573376708331\n",
            "P-value: 0.23095550952297988\n",
            "Standard error: 0.34333860006713723\n",
            "Predicted job satisfaction for tenure 3 : 7.191489361702127\n"
          ]
        }
      ]
    },
    {
      "cell_type": "markdown",
      "source": [
        "9. Scenario: A study is conducted to compare the effectiveness of two different medications. The recovery times of the patients in each group are as follows:\n",
        "   Medication A: [10, 12, 14, 11, 13]\n",
        "   Medication B: [15, 17, 16, 14, 18]\n",
        "   Perform an analysis of variance (ANOVA) to determine if there is a significant difference in the mean recovery times between the two medications.\n"
      ],
      "metadata": {
        "id": "NTz1ItnkmNTi"
      }
    },
    {
      "cell_type": "code",
      "source": [
        "from scipy import stats\n",
        "\n",
        "medication_a_recovery_times = [10, 12, 14, 11, 13]\n",
        "medication_b_recovery_times = [15, 17, 16, 14, 18]\n",
        "\n",
        "f_statistic, p_value = stats.f_oneway(medication_a_recovery_times, medication_b_recovery_times)\n",
        "\n",
        "alpha = 0.05  # significance level\n",
        "\n",
        "print(\"F-statistic:\", f_statistic)\n",
        "print(\"P-value:\", p_value)\n",
        "\n",
        "if p_value < alpha:\n",
        "    print(\"There is a significant difference in the mean recovery times between the two medications.\")\n",
        "else:\n",
        "    print(\"There is no significant difference in the mean recovery times between the two medications.\")\n"
      ],
      "metadata": {
        "colab": {
          "base_uri": "https://localhost:8080/"
        },
        "id": "vH1hLjWfmM65",
        "outputId": "6789d192-58de-4415-f8dc-c836116fb574"
      },
      "execution_count": 9,
      "outputs": [
        {
          "output_type": "stream",
          "name": "stdout",
          "text": [
            "F-statistic: 16.0\n",
            "P-value: 0.003949772803445326\n",
            "There is a significant difference in the mean recovery times between the two medications.\n"
          ]
        }
      ]
    },
    {
      "cell_type": "markdown",
      "source": [
        "10. Scenario: A company wants to analyze customer feedback ratings on a scale of 1 to 10. The data collected is\n",
        "\n",
        " as follows:\n",
        "    [8, 9, 7, 6, 8, 10, 9, 8, 7, 8]\n",
        "    Calculate the 75th percentile of the feedback ratings.\n"
      ],
      "metadata": {
        "id": "GjbZaeGhmj69"
      }
    },
    {
      "cell_type": "code",
      "source": [
        "import numpy as np\n",
        "\n",
        "feedback_ratings = [8, 9, 7, 6, 8, 10, 9, 8, 7, 8]\n",
        "\n",
        "percentile_75 = np.percentile(feedback_ratings, 75)\n",
        "\n",
        "print(\"75th percentile of feedback ratings:\", percentile_75)\n"
      ],
      "metadata": {
        "colab": {
          "base_uri": "https://localhost:8080/"
        },
        "id": "waXIB_37mpJW",
        "outputId": "2ccec81e-a268-4e22-f999-ca013add78d6"
      },
      "execution_count": 10,
      "outputs": [
        {
          "output_type": "stream",
          "name": "stdout",
          "text": [
            "75th percentile of feedback ratings: 8.75\n"
          ]
        }
      ]
    },
    {
      "cell_type": "markdown",
      "source": [
        "11. Scenario: A quality control department wants to test the weight consistency of a product. The weights of a sample of products are as follows:\n",
        "    [10.2, 9.8, 10.0, 10.5, 10.3, 10.1]\n",
        "    Perform a hypothesis test to determine if the mean weight differs significantly from 10 grams.\n"
      ],
      "metadata": {
        "id": "7P5NZ030m1cq"
      }
    },
    {
      "cell_type": "code",
      "source": [
        "from scipy import stats\n",
        "\n",
        "weights = [10.2, 9.8, 10.0, 10.5, 10.3, 10.1]\n",
        "population_mean = 10\n",
        "\n",
        "t_statistic, p_value = stats.ttest_1samp(weights, population_mean)\n",
        "\n",
        "alpha = 0.05  # significance level\n",
        "\n",
        "print(\"T-statistic:\", t_statistic)\n",
        "print(\"P-value:\", p_value)\n",
        "\n",
        "if p_value < alpha:\n",
        "    print(\"The mean weight differs significantly from 10 grams.\")\n",
        "else:\n",
        "    print(\"The mean weight does not differ significantly from 10 grams.\")\n"
      ],
      "metadata": {
        "colab": {
          "base_uri": "https://localhost:8080/"
        },
        "id": "po9_hF8dm5KJ",
        "outputId": "fcae581d-8e5b-4af3-dd72-7fdb48574998"
      },
      "execution_count": 11,
      "outputs": [
        {
          "output_type": "stream",
          "name": "stdout",
          "text": [
            "T-statistic: 1.5126584522688367\n",
            "P-value: 0.19077595151110102\n",
            "The mean weight does not differ significantly from 10 grams.\n"
          ]
        }
      ]
    },
    {
      "cell_type": "markdown",
      "source": [
        "12. Scenario: A company wants to analyze the click-through rates of two different website designs. The number of clicks for each design is as follows:\n",
        "    Design A: [100, 120, 110, 90, 95]\n",
        "    Design B: [80, 85, 90, 95, 100]\n",
        "    Perform a chi-square test to determine if there is a significant difference in the click-through rates between the two designs.\n"
      ],
      "metadata": {
        "id": "WtnQ-UpwnGis"
      }
    },
    {
      "cell_type": "code",
      "source": [
        "from scipy import stats\n",
        "import numpy as np\n",
        "\n",
        "design_a_clicks = [100, 120, 110, 90, 95]\n",
        "design_b_clicks = [80, 85, 90, 95, 100]\n",
        "\n",
        "observed = np.array([design_a_clicks, design_b_clicks])\n",
        "\n",
        "chi2_statistic, p_value, dof, expected = stats.chi2_contingency(observed)\n",
        "\n",
        "alpha = 0.05  # significance level\n",
        "\n",
        "print(\"Chi-square statistic:\", chi2_statistic)\n",
        "print(\"P-value:\", p_value)\n",
        "\n",
        "if p_value < alpha:\n",
        "    print(\"There is a significant difference in the click-through rates between the two designs.\")\n",
        "else:\n",
        "    print(\"There is no significant difference in the click-through rates between the two designs.\")\n"
      ],
      "metadata": {
        "colab": {
          "base_uri": "https://localhost:8080/"
        },
        "id": "pBWhFvHUnS_c",
        "outputId": "5f70ecb4-7b88-4dc2-b883-24e6252ed361"
      },
      "execution_count": 12,
      "outputs": [
        {
          "output_type": "stream",
          "name": "stdout",
          "text": [
            "Chi-square statistic: 6.110658166925435\n",
            "P-value: 0.19103526314060293\n",
            "There is no significant difference in the click-through rates between the two designs.\n"
          ]
        }
      ]
    },
    {
      "cell_type": "markdown",
      "source": [
        "13. Scenario: A survey is conducted to measure customer satisfaction with a product on a scale of 1 to 10. The data collected is as follows:\n",
        "    [7, 9, 6, 8, 10, 7, 8, 9, 7, 8]\n",
        "    Calculate the 95% confidence interval for the population mean satisfaction score.\n"
      ],
      "metadata": {
        "id": "B-WnWfWKnWmK"
      }
    },
    {
      "cell_type": "code",
      "source": [
        "from scipy import stats\n",
        "import numpy as np\n",
        "\n",
        "satisfaction_scores = [7, 9, 6, 8, 10, 7, 8, 9, 7, 8]\n",
        "\n",
        "sample_mean = np.mean(satisfaction_scores)\n",
        "sample_std = np.std(satisfaction_scores)\n",
        "sample_size = len(satisfaction_scores)\n",
        "\n",
        "confidence_level = 0.95\n",
        "\n",
        "confidence_interval = stats.t.interval(confidence_level, df=sample_size-1, loc=sample_mean, scale=sample_std/np.sqrt(sample_size))\n",
        "\n",
        "print(\"95% Confidence Interval for the population mean satisfaction score:\", confidence_interval)\n"
      ],
      "metadata": {
        "colab": {
          "base_uri": "https://localhost:8080/"
        },
        "id": "AfGU1pZHna5N",
        "outputId": "9b9e8d4b-0b18-4996-8d1f-f29a87756898"
      },
      "execution_count": 13,
      "outputs": [
        {
          "output_type": "stream",
          "name": "stdout",
          "text": [
            "95% Confidence Interval for the population mean satisfaction score: (7.087510739312016, 8.712489260687985)\n"
          ]
        }
      ]
    },
    {
      "cell_type": "markdown",
      "source": [
        "14. Scenario: A company wants to analyze the effect of temperature on product performance. The data collected is as follows:\n",
        "    Temperature (in degrees Celsius): [20, 22, 23, 19, 21]\n",
        "    Performance (on a scale of 1 to 10): [8, 7, 9, 6, 8]\n",
        "    Perform a simple linear regression to predict performance based on temperature.\n"
      ],
      "metadata": {
        "id": "pMOvYNf5nmKc"
      }
    },
    {
      "cell_type": "code",
      "source": [
        "from scipy import stats\n",
        "\n",
        "temperature = [20, 22, 23, 19, 21]\n",
        "performance = [8, 7, 9, 6, 8]\n",
        "\n",
        "slope, intercept, r_value, p_value, std_err = stats.linregress(temperature, performance)\n",
        "\n",
        "print(\"Slope:\", slope)\n",
        "print(\"Intercept:\", intercept)\n",
        "print(\"R-value:\", r_value)\n",
        "print(\"P-value:\", p_value)\n",
        "print(\"Standard error:\", std_err)\n",
        "\n",
        "# Predict performance for a new temperature value\n",
        "new_temperature = 24\n",
        "predicted_performance = intercept + slope * new_temperature\n",
        "print(\"Predicted performance for temperature\", new_temperature, \":\", predicted_performance)\n"
      ],
      "metadata": {
        "colab": {
          "base_uri": "https://localhost:8080/"
        },
        "id": "i7JHF0Gunpxs",
        "outputId": "0e577332-1be3-485c-fd11-c1e44f4d86da"
      },
      "execution_count": 14,
      "outputs": [
        {
          "output_type": "stream",
          "name": "stdout",
          "text": [
            "Slope: 0.5\n",
            "Intercept: -2.9000000000000004\n",
            "R-value: 0.6933752452815364\n",
            "P-value: 0.19417134561205843\n",
            "Standard error: 0.30000000000000004\n",
            "Predicted performance for temperature 24 : 9.1\n"
          ]
        }
      ]
    },
    {
      "cell_type": "markdown",
      "source": [
        "15. Scenario: A study is conducted to compare the preferences of two groups of participants. The preferences are measured on a Likert scale from 1 to 5. The data collected is as follows:\n",
        "    Group A: [4, 3, 5, 2, 4]\n",
        "    Group B: [3, 2, 4, 3, 3]\n",
        "    Perform a Mann-Whitney U test to determine if there is a significant difference in the median preferences between the two groups.\n"
      ],
      "metadata": {
        "id": "IZwUmyBhn3WC"
      }
    },
    {
      "cell_type": "code",
      "source": [
        "from scipy import stats\n",
        "\n",
        "group_a_preferences = [4, 3, 5, 2, 4]\n",
        "group_b_preferences = [3, 2, 4, 3, 3]\n",
        "\n",
        "U_statistic, p_value = stats.mannwhitneyu(group_a_preferences, group_b_preferences)\n",
        "\n",
        "alpha = 0.05  # significance level\n",
        "\n",
        "print(\"U-statistic:\", U_statistic)\n",
        "print(\"P-value:\", p_value)\n",
        "\n",
        "if p_value < alpha:\n",
        "    print(\"There is a significant difference in the median preferences between the two groups.\")\n",
        "else:\n",
        "    print(\"There is no significant difference in the median preferences between the two groups.\")\n"
      ],
      "metadata": {
        "colab": {
          "base_uri": "https://localhost:8080/"
        },
        "id": "c88NKjSKn8yv",
        "outputId": "225ec19b-93e5-45c0-a17a-1b5893f5aa06"
      },
      "execution_count": 15,
      "outputs": [
        {
          "output_type": "stream",
          "name": "stdout",
          "text": [
            "U-statistic: 17.0\n",
            "P-value: 0.380836480306712\n",
            "There is no significant difference in the median preferences between the two groups.\n"
          ]
        }
      ]
    },
    {
      "cell_type": "markdown",
      "source": [
        "16. Scenario: A company wants to analyze the distribution of customer ages. The data collected is as follows:\n",
        "    [25, 30, 35, 40, 45, 50, 55, 60, 65, 70]\n",
        "    Calculate the interquartile range (IQR) of the ages.\n"
      ],
      "metadata": {
        "id": "5fHpeSy2oKA5"
      }
    },
    {
      "cell_type": "code",
      "source": [
        "from scipy import stats\n",
        "\n",
        "ages = [25, 30, 35, 40, 45, 50, 55, 60, 65, 70]\n",
        "\n",
        "iqr = stats.iqr(ages)\n",
        "\n",
        "print(\"Interquartile Range (IQR) of the ages:\", iqr)\n"
      ],
      "metadata": {
        "colab": {
          "base_uri": "https://localhost:8080/"
        },
        "id": "bgW37QY_oJN9",
        "outputId": "362b12a0-cb04-48c5-944f-3cee9d797a21"
      },
      "execution_count": 16,
      "outputs": [
        {
          "output_type": "stream",
          "name": "stdout",
          "text": [
            "Interquartile Range (IQR) of the ages: 22.5\n"
          ]
        }
      ]
    },
    {
      "cell_type": "markdown",
      "source": [
        "17. Scenario: A study is conducted to compare the performance of three different machine learning algorithms. The accuracy scores for each algorithm are as follows:\n",
        "    Algorithm A: [0.85, 0.80, 0.82, 0.87, 0.83]\n",
        "    Algorithm B: [0.78, 0.82, 0.84, 0.80, 0.79]\n",
        "    Algorithm C: [0.90, 0.88, 0.89, 0.86, 0.87]\n",
        "    Perform a Kruskal-Wallis test to determine if there is a significant difference in the median accuracy scores between the algorithms.\n"
      ],
      "metadata": {
        "id": "jKDcbTwXoYZT"
      }
    },
    {
      "cell_type": "code",
      "source": [
        "from scipy import stats\n",
        "\n",
        "algorithm_a_scores = [0.85, 0.80, 0.82, 0.87, 0.83]\n",
        "algorithm_b_scores = [0.78, 0.82, 0.84, 0.80, 0.79]\n",
        "algorithm_c_scores = [0.90, 0.88, 0.89, 0.86, 0.87]\n",
        "\n",
        "h_statistic, p_value = stats.kruskal(algorithm_a_scores, algorithm_b_scores, algorithm_c_scores)\n",
        "\n",
        "alpha = 0.05  # significance level\n",
        "\n",
        "print(\"H-statistic:\", h_statistic)\n",
        "print(\"P-value:\", p_value)\n",
        "\n",
        "if p_value < alpha:\n",
        "    print(\"There is a significant difference in the median accuracy scores between the algorithms.\")\n",
        "else:\n",
        "    print(\"There is no significant difference in the median accuracy scores between the algorithms.\")\n"
      ],
      "metadata": {
        "colab": {
          "base_uri": "https://localhost:8080/"
        },
        "id": "O7i1H61codgE",
        "outputId": "e5b022fb-aee5-4e42-ca99-311fc2e23bb7"
      },
      "execution_count": 17,
      "outputs": [
        {
          "output_type": "stream",
          "name": "stdout",
          "text": [
            "H-statistic: 9.696947935368053\n",
            "P-value: 0.007840333026249539\n",
            "There is a significant difference in the median accuracy scores between the algorithms.\n"
          ]
        }
      ]
    },
    {
      "cell_type": "markdown",
      "source": [
        "18. Scenario: A company wants to analyze the effect of price on sales. The data collected is as follows:\n",
        "    Price (in dollars): [10, 15, 12, 8, 14]\n",
        "    Sales: [100, 80, 90, 110, 95]\n",
        "    Perform a simple linear regression to predict\n",
        "\n",
        " sales based on price.\n"
      ],
      "metadata": {
        "id": "yDVc80n4op27"
      }
    },
    {
      "cell_type": "code",
      "source": [
        "from scipy import stats\n",
        "\n",
        "price = [10, 15, 12, 8, 14]\n",
        "sales = [100, 80, 90, 110, 95]\n",
        "\n",
        "slope, intercept, r_value, p_value, std_err = stats.linregress(price, sales)\n",
        "\n",
        "print(\"Slope:\", slope)\n",
        "print(\"Intercept:\", intercept)\n",
        "print(\"R-value:\", r_value)\n",
        "print(\"P-value:\", p_value)\n",
        "print(\"Standard error:\", std_err)\n",
        "\n",
        "# Predict sales for a new price value\n",
        "new_price = 13\n",
        "predicted_sales = intercept + slope * new_price\n",
        "print(\"Predicted sales for price\", new_price, \":\", predicted_sales)\n"
      ],
      "metadata": {
        "colab": {
          "base_uri": "https://localhost:8080/"
        },
        "id": "QrgCnLejotBY",
        "outputId": "a9bf8c2c-ee4c-4eaa-bc0d-6127e68f9071"
      },
      "execution_count": 18,
      "outputs": [
        {
          "output_type": "stream",
          "name": "stdout",
          "text": [
            "Slope: -3.506097560975609\n",
            "Intercept: 136.3719512195122\n",
            "R-value: -0.8979991308594848\n",
            "P-value: 0.03850178234753776\n",
            "Standard error: 0.9918303504036147\n",
            "Predicted sales for price 13 : 90.79268292682929\n"
          ]
        }
      ]
    },
    {
      "cell_type": "markdown",
      "source": [
        "19. Scenario: A survey is conducted to measure the satisfaction levels of customers with a new product. The data collected is as follows:\n",
        "    [7, 8, 9, 6, 8, 7, 9, 7, 8, 7]\n",
        "    Calculate the standard error of the mean satisfaction score.\n"
      ],
      "metadata": {
        "id": "nm2eDRxOpJ22"
      }
    },
    {
      "cell_type": "code",
      "source": [
        "from scipy import stats\n",
        "import numpy as np\n",
        "\n",
        "satisfaction_scores = [7, 8, 9, 6, 8, 7, 9, 7, 8, 7]\n",
        "\n",
        "standard_error = stats.sem(satisfaction_scores)\n",
        "\n",
        "print(\"Standard Error of the Mean satisfaction score:\", standard_error)\n"
      ],
      "metadata": {
        "colab": {
          "base_uri": "https://localhost:8080/"
        },
        "id": "ld8llvUEpNR2",
        "outputId": "25c1443b-9949-4f12-8282-f3faa7078449"
      },
      "execution_count": 19,
      "outputs": [
        {
          "output_type": "stream",
          "name": "stdout",
          "text": [
            "Standard Error of the Mean satisfaction score: 0.30550504633038933\n"
          ]
        }
      ]
    },
    {
      "cell_type": "markdown",
      "source": [
        "20. Scenario: A company wants to analyze the relationship between advertising expenditure and sales. The data collected is as follows:\n",
        "    Advertising Expenditure (in thousands): [10, 15, 12, 8, 14]\n",
        "    Sales (in thousands): [25, 30, 28, 20, 26]\n",
        "    Perform a multiple regression analysis to predict sales based on advertising expenditure.\n"
      ],
      "metadata": {
        "id": "fPW272VXpWTm"
      }
    },
    {
      "cell_type": "code",
      "source": [
        "import numpy as np\n",
        "import matplotlib.pyplot as plt\n",
        "from sklearn.linear_model import LinearRegression\n",
        "\n",
        "# Create the data\n",
        "advertising_expenditure = np.array([10, 15, 12, 8, 14]).reshape(-1, 1)\n",
        "sales = np.array([25, 30, 28, 20, 26]).reshape(-1, 1)\n",
        "\n",
        "# Create the linear regression model\n",
        "model = LinearRegression()\n",
        "model.fit(advertising_expenditure, sales)\n",
        "\n",
        "# Print the coefficients\n",
        "print(model.coef_)\n",
        "print(model.intercept_)\n",
        "\n",
        "# Plot the data and the regression line\n",
        "plt.plot(advertising_expenditure, sales, 'o')\n",
        "plt.plot(advertising_expenditure, model.coef_[0] * advertising_expenditure + model.intercept_, 'r')\n",
        "plt.show()\n"
      ],
      "metadata": {
        "colab": {
          "base_uri": "https://localhost:8080/",
          "height": 466
        },
        "id": "x_PfdGswqrdI",
        "outputId": "128b77a4-b0e8-4aba-d868-a79b3e65b7e3"
      },
      "execution_count": 26,
      "outputs": [
        {
          "output_type": "stream",
          "name": "stdout",
          "text": [
            "[[1.15243902]]\n",
            "[12.20121951]\n"
          ]
        },
        {
          "output_type": "display_data",
          "data": {
            "text/plain": [
              "<Figure size 640x480 with 1 Axes>"
            ],
            "image/png": "[encoded data removed]"
          },
          "metadata": {}
        }
      ]
    }
  ]
}