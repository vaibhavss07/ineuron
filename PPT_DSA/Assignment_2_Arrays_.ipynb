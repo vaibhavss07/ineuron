{
  "cells": [
    {
      "cell_type": "markdown",
      "id": "eca3784b",
      "metadata": {
        "id": "eca3784b"
      },
      "source": [
        "# Assignment 2 - Arrays\n",
        "\n"
      ]
    },
    {
      "cell_type": "markdown",
      "id": "9f20678a",
      "metadata": {
        "id": "9f20678a"
      },
      "source": [
        "**Q1. Given an integer array nums of 2n integers, group these integers into n pairs (a1, b1), (a2, b2),..., (an, bn) such that the sum of min(ai, bi) for all i is maximized. Return the maximized sum.**\n",
        "\n",
        "Example 1:\n",
        "Input: nums = [1,4,3,2]\n",
        "Output: 4"
      ]
    },
    {
      "cell_type": "code",
      "execution_count": null,
      "id": "afdc7138",
      "metadata": {
        "id": "afdc7138",
        "outputId": "fb396141-aa47-42fa-a491-17a2c2bb5cae"
      },
      "outputs": [
        {
          "name": "stdout",
          "output_type": "stream",
          "text": [
            "4\n"
          ]
        }
      ],
      "source": [
        "def array_pair_sum(nums):\n",
        "    nums.sort()\n",
        "    max_sum = 0\n",
        "    for i in range(0, len(nums), 2):\n",
        "        max_sum += nums[i]\n",
        "    return max_sum\n",
        "\n",
        "nums = [1, 4, 3, 2]\n",
        "print(array_pair_sum(nums))"
      ]
    },
    {
      "cell_type": "markdown",
      "id": "8f87e4a8",
      "metadata": {
        "id": "8f87e4a8"
      },
      "source": [
        "**Q2. Alice has n candies, where the ith candy is of type candyType[i]. Alice noticed that she started to gain weight, so she visited a doctor. The doctor advised Alice to only eat n / 2 of the candies she has (n is always even). Alice likes her candies very much, and she wants to eat the maximum number of different types of candies while still following the doctor's advice.  Given the integer array candyType of length n, return the maximum number of different types of candies she can eat if she only eats n / 2 of them.**\n",
        "\n",
        "Example 1:\n",
        "Input: candyType = [1,1,2,2,3,3]\n",
        "Output: 3\n",
        "\n",
        "Explanation: Alice can only eat 6 / 2 = 3 candies. Since there are only 3 types, she can eat one of each type."
      ]
    },
    {
      "cell_type": "code",
      "execution_count": null,
      "id": "c5f97d71",
      "metadata": {
        "id": "c5f97d71",
        "outputId": "c06f08a5-ad0f-494f-c932-26304ebce0a8"
      },
      "outputs": [
        {
          "name": "stdout",
          "output_type": "stream",
          "text": [
            "3\n"
          ]
        }
      ],
      "source": [
        "def max_candies(candyType):\n",
        "    unique_types = set(candyType)\n",
        "    max_types = len(unique_types)\n",
        "    limit = len(candyType) // 2\n",
        "    return min(max_types, limit)\n",
        "\n",
        "candyType = [1, 1, 2, 2, 3, 3]\n",
        "print(max_candies(candyType))"
      ]
    },
    {
      "cell_type": "markdown",
      "id": "cd557609",
      "metadata": {
        "id": "cd557609"
      },
      "source": [
        "**Q3. We define a harmonious array as an array where the difference between its maximum value and its minimum value is exactly 1. Given an integer array nums, return the length of its longest harmonious subsequence among all its possible subsequences. A subsequence of an array is a sequence that can be derived from the array by deleting some or no elements without changing the order of the remaining elements.**\n",
        "\n",
        "Example 1:\n",
        "Input: nums = [1,3,2,2,5,2,3,7]\n",
        "Output: 5\n",
        "\n",
        "Explanation: The longest harmonious subsequence is [3,2,2,2,3]."
      ]
    },
    {
      "cell_type": "code",
      "execution_count": null,
      "id": "615c9fee",
      "metadata": {
        "id": "615c9fee",
        "outputId": "832db820-5e66-421b-fe37-2c443fdcb962"
      },
      "outputs": [
        {
          "name": "stdout",
          "output_type": "stream",
          "text": [
            "5\n"
          ]
        }
      ],
      "source": [
        "def findLHS(nums):\n",
        "    counter = {}\n",
        "    for num in nums:\n",
        "        counter[num] = counter.get(num, 0) + 1\n",
        "\n",
        "    max_length = 0\n",
        "    for num in counter:\n",
        "        if num + 1 in counter:\n",
        "            length = counter[num] + counter[num + 1]\n",
        "            max_length = max(max_length, length)\n",
        "\n",
        "    return max_length\n",
        "\n",
        "nums = [1, 3, 2, 2, 5, 2, 3, 7]\n",
        "print(findLHS(nums))"
      ]
    },
    {
      "cell_type": "markdown",
      "id": "228081f0",
      "metadata": {
        "id": "228081f0"
      },
      "source": [
        "**Q4. You have a long flowerbed in which some of the plots are planted, and some are not. However, flowers cannot be planted in adjacent plots.Given an integer array flowerbed containing 0's and 1's, where 0 means empty and 1 means not empty, and an integer n, return true if n new flowers can be planted in the flowerbed without violating the no-adjacent-flowers rule and false otherwise.**\n",
        "\n",
        "Example 1:\n",
        "Input: flowerbed = [1,0,0,0,1], n = 1\n",
        "Output: true"
      ]
    },
    {
      "cell_type": "code",
      "execution_count": null,
      "id": "92cd7b60",
      "metadata": {
        "id": "92cd7b60",
        "outputId": "89fcc81a-6dea-486b-fe32-1ef8bc62e44c"
      },
      "outputs": [
        {
          "name": "stdout",
          "output_type": "stream",
          "text": [
            "True\n"
          ]
        }
      ],
      "source": [
        "def canPlaceFlowers(flowerbed, n):\n",
        "    count = 0\n",
        "    i = 0\n",
        "    while i < len(flowerbed):\n",
        "        if flowerbed[i] == 0 and (i == 0 or flowerbed[i - 1] == 0) and (i == len(flowerbed) - 1 or flowerbed[i + 1] == 0):\n",
        "            flowerbed[i] = 1\n",
        "            count += 1\n",
        "            if count == n:\n",
        "                return True\n",
        "        i += 1\n",
        "    return False\n",
        "\n",
        "flowerbed = [1, 0, 0, 0, 1]\n",
        "n = 1\n",
        "print(canPlaceFlowers(flowerbed, n))"
      ]
    },
    {
      "cell_type": "markdown",
      "id": "481b748a",
      "metadata": {
        "id": "481b748a"
      },
      "source": [
        "**Q5. Given an integer array nums, find three numbers whose product is maximum and return the maximum product.**\n",
        "\n",
        "Example 1:\n",
        "Input: nums = [1,2,3]\n",
        "Output: 6"
      ]
    },
    {
      "cell_type": "code",
      "execution_count": null,
      "id": "bbce5497",
      "metadata": {
        "id": "bbce5497",
        "outputId": "c98e41a8-b462-48c4-f2dd-1b5c34588018"
      },
      "outputs": [
        {
          "name": "stdout",
          "output_type": "stream",
          "text": [
            "6\n"
          ]
        }
      ],
      "source": [
        "def maximumProduct(nums):\n",
        "    nums.sort()\n",
        "    n = len(nums)\n",
        "    product1 = nums[n - 1] * nums[n - 2] * nums[n - 3]\n",
        "    product2 = nums[0] * nums[1] * nums[n - 1]\n",
        "    return max(product1, product2)\n",
        "\n",
        "nums = [1, 2, 3]\n",
        "print(maximumProduct(nums))"
      ]
    },
    {
      "cell_type": "markdown",
      "id": "8d9379a7",
      "metadata": {
        "id": "8d9379a7"
      },
      "source": [
        "**Q6. Given an array of integers nums which is sorted in ascending order, and an integer target, write a function to search target in nums. If target exists, then return its index. Otherwise, return -1. You must write an algorithm with O(log n) runtime complexity.**\n",
        "\n",
        "Input: nums = [-1,0,3,5,9,12], target = 9\n",
        "Output: 4\n",
        "\n",
        "Explanation: 9 exists in nums and its index is 4"
      ]
    },
    {
      "cell_type": "code",
      "execution_count": null,
      "id": "99099b7d",
      "metadata": {
        "id": "99099b7d",
        "outputId": "09ab9f68-064e-42e7-acdf-5b94c5c1d238"
      },
      "outputs": [
        {
          "name": "stdout",
          "output_type": "stream",
          "text": [
            "4\n"
          ]
        }
      ],
      "source": [
        "def search(nums, target):\n",
        "    left, right = 0, len(nums) - 1\n",
        "\n",
        "    while left <= right:\n",
        "        mid = (left + right) // 2\n",
        "        if nums[mid] == target:\n",
        "            return mid\n",
        "        elif nums[mid] < target:\n",
        "            left = mid + 1\n",
        "        else:\n",
        "            right = mid - 1\n",
        "\n",
        "    return -1\n",
        "\n",
        "nums = [-1, 0, 3, 5, 9, 12]\n",
        "target = 9\n",
        "print(search(nums, target))"
      ]
    },
    {
      "cell_type": "markdown",
      "id": "34436f72",
      "metadata": {
        "id": "34436f72"
      },
      "source": [
        "**Q7. An array is monotonic if it is either monotone increasing or monotone decreasing. An array nums is monotone increasing if for all i <= j, nums[i] <= nums[j]. An array nums is monotone decreasing if for all i <= j, nums[i] >= nums[j]. Given an integer array nums, return true if the given array is monotonic, or false otherwise.**\n",
        "\n",
        "Example 1:\n",
        "Input: nums = [1,2,2,3]\n",
        "Output: true"
      ]
    },
    {
      "cell_type": "code",
      "execution_count": null,
      "id": "0b868d85",
      "metadata": {
        "id": "0b868d85",
        "outputId": "fc4313ec-a1e3-4dc8-b73e-1ef37481220d"
      },
      "outputs": [
        {
          "name": "stdout",
          "output_type": "stream",
          "text": [
            "True\n"
          ]
        }
      ],
      "source": [
        "def isMonotonic(nums):\n",
        "    isIncreasing = True\n",
        "    isDecreasing = True\n",
        "\n",
        "    for i in range(1, len(nums)):\n",
        "        if nums[i] < nums[i - 1]:\n",
        "            isIncreasing = False\n",
        "        if nums[i] > nums[i - 1]:\n",
        "            isDecreasing = False\n",
        "        if not isIncreasing and not isDecreasing:\n",
        "            return False\n",
        "\n",
        "    return True\n",
        "\n",
        "nums = [1, 2, 2, 3]\n",
        "print(isMonotonic(nums))"
      ]
    },
    {
      "cell_type": "markdown",
      "id": "daa2c9e4",
      "metadata": {
        "id": "daa2c9e4"
      },
      "source": [
        "**Q8. You are given an integer array nums and an integer k. In one operation, you can choose any index i where 0 <= i < nums.length and change nums[i] to nums[i] + x where x is an integer from the range [-k, k]. You can apply this operation at most once for each index i. The score of nums is the difference between the maximum and minimum elements in nums. Return the minimum score of nums after applying the mentioned operation at most once for each index in it.**\n",
        "\n",
        "Example 1:\n",
        "Input: nums = [1], k = 0\n",
        "Output: 0\n",
        "\n",
        "Explanation: The score is max(nums) - min(nums) = 1 - 1 = 0."
      ]
    },
    {
      "cell_type": "code",
      "execution_count": null,
      "id": "da2fbb06",
      "metadata": {
        "id": "da2fbb06",
        "outputId": "78d72950-4ffc-426f-8848-0f290f209af6"
      },
      "outputs": [
        {
          "name": "stdout",
          "output_type": "stream",
          "text": [
            "0\n"
          ]
        }
      ],
      "source": [
        "def minimumScore(nums, k):\n",
        "    minimum = min(nums)\n",
        "    maximum = max(nums)\n",
        "\n",
        "    if maximum - minimum <= 2 * k:\n",
        "        return 0\n",
        "\n",
        "    mid = (minimum + maximum) // 2\n",
        "\n",
        "    for i in range(len(nums)):\n",
        "        if nums[i] <= mid:\n",
        "            nums[i] = mid - k\n",
        "        else:\n",
        "            nums[i] = mid + k\n",
        "\n",
        "    newMinimum = min(nums)\n",
        "    newMaximum = max(nums)\n",
        "\n",
        "    return newMaximum - newMinimum\n",
        "\n",
        "nums = [1]\n",
        "k = 0\n",
        "print(minimumScore(nums, k))"
      ]
    },
    {
      "cell_type": "code",
      "execution_count": null,
      "id": "07ae23d4",
      "metadata": {
        "id": "07ae23d4"
      },
      "outputs": [],
      "source": []
    }
  ],
  "metadata": {
    "kernelspec": {
      "display_name": "Python 3 (ipykernel)",
      "language": "python",
      "name": "python3"
    },
    "language_info": {
      "codemirror_mode": {
        "name": "ipython",
        "version": 3
      },
      "file_extension": ".py",
      "mimetype": "text/x-python",
      "name": "python",
      "nbconvert_exporter": "python",
      "pygments_lexer": "ipython3",
      "version": "3.10.11"
    },
    "colab": {
      "provenance": []
    }
  },
  "nbformat": 4,
  "nbformat_minor": 5
}