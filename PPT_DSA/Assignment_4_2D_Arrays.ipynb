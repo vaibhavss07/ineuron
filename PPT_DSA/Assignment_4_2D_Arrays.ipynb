{
  "cells": [
    {
      "cell_type": "markdown",
      "id": "717101e5",
      "metadata": {
        "id": "717101e5"
      },
      "source": [
        "# Assignment 4 - 2D Arrays\n",
        "\n"
      ]
    },
    {
      "cell_type": "markdown",
      "id": "b04cb5b4",
      "metadata": {
        "id": "b04cb5b4"
      },
      "source": [
        "**Q1. Given three integer arrays arr1, arr2 and arr3 **sorted** in **strictly increasing** order, return a sorted array of **only** the integers that appeared in **all** three arrays.**\n",
        "\n",
        "**Example 1:**\n",
        "\n",
        "Input: arr1 = [1,2,3,4,5], arr2 = [1,2,5,7,9], arr3 = [1,3,4,5,8]\n",
        "\n",
        "Output: [1,5]\n",
        "\n",
        "**Explanation:** Only 1 and 5 appeared in the three arrays."
      ]
    },
    {
      "cell_type": "code",
      "execution_count": null,
      "id": "b39fbe2e",
      "metadata": {
        "id": "b39fbe2e",
        "outputId": "8898fbac-7bcb-451c-fcba-19aa2d62659a"
      },
      "outputs": [
        {
          "name": "stdout",
          "output_type": "stream",
          "text": [
            "[1, 5]\n"
          ]
        }
      ],
      "source": [
        "def arraysIntersection(arr1, arr2, arr3):\n",
        "    p1, p2, p3 = 0, 0, 0\n",
        "    result = []\n",
        "\n",
        "    while p1 < len(arr1) and p2 < len(arr2) and p3 < len(arr3):\n",
        "        if arr1[p1] == arr2[p2] == arr3[p3]:\n",
        "            result.append(arr1[p1])\n",
        "            p1 += 1\n",
        "            p2 += 1\n",
        "            p3 += 1\n",
        "        elif arr1[p1] < arr2[p2] or arr1[p1] < arr3[p3]:\n",
        "            p1 += 1\n",
        "        elif arr2[p2] < arr1[p1] or arr2[p2] < arr3[p3]:\n",
        "            p2 += 1\n",
        "        else:\n",
        "            p3 += 1\n",
        "\n",
        "    return result\n",
        "\n",
        "arr1 = [1, 2, 3, 4, 5]\n",
        "arr2 = [1, 2, 5, 7, 9]\n",
        "arr3 = [1, 3, 4, 5, 8]\n",
        "print(arraysIntersection(arr1, arr2, arr3))"
      ]
    },
    {
      "cell_type": "markdown",
      "id": "e00f9f86",
      "metadata": {
        "id": "e00f9f86"
      },
      "source": [
        "**Q2. Given two 0-indexed integer arrays nums1 and nums2, return a list answer of size 2 where: - answer[0] is a list of all distinct integers in nums1 which are not present in nums2. - answer[1] is a list of all distinct integers in nums2 which are not present in nums1.**\n",
        "\n",
        "**Note** that the integers in the lists may be returned in **any** order.\n",
        "\n",
        "**Example 1:**\n",
        "\n",
        "**Input:** nums1 = [1,2,3], nums2 = [2,4,6]\n",
        "\n",
        "**Output:** [[1,3],[4,6]]\n",
        "\n",
        "**Explanation:**\n",
        "\n",
        "For nums1, nums1[1] = 2 is present at index 0 of nums2, whereas nums1[0] = 1 and nums1[2] = 3 are not present in nums2. Therefore, answer[0] = [1,3].\n",
        "\n",
        "For nums2, nums2[0] = 2 is present at index 1 of nums1, whereas nums2[1] = 4 and nums2[2] = 6 are not present in nums2. Therefore, answer[1] = [4,6].\n",
        "\n",
        "</aside>"
      ]
    },
    {
      "cell_type": "code",
      "execution_count": null,
      "id": "1961101c",
      "metadata": {
        "id": "1961101c",
        "outputId": "aaf8451e-af91-46e0-9076-aad3d6c887f1"
      },
      "outputs": [
        {
          "name": "stdout",
          "output_type": "stream",
          "text": [
            "[[1, 3], [4, 6]]\n"
          ]
        }
      ],
      "source": [
        "def findDisappearedNumbers(nums1, nums2):\n",
        "    set1 = set(nums1)\n",
        "    set2 = set(nums2)\n",
        "    distinct_nums1 = list(set1 - set2)\n",
        "    distinct_nums2 = list(set2 - set1)\n",
        "    return [distinct_nums1, distinct_nums2]\n",
        "\n",
        "nums1 = [1, 2, 3]\n",
        "nums2 = [2, 4, 6]\n",
        "print(findDisappearedNumbers(nums1, nums2))"
      ]
    },
    {
      "cell_type": "markdown",
      "id": "15fa45ed",
      "metadata": {
        "id": "15fa45ed"
      },
      "source": [
        "**Q3. Given a 2D integer array matrix, return *the **transpose** of* matrix.**\n",
        "\n",
        "The **transpose** of a matrix is the matrix flipped over its main diagonal, switching the matrix's row and column indices.\n",
        "\n",
        "**Example 1:**\n",
        "\n",
        "Input: matrix = [[1,2,3],[4,5,6],[7,8,9]]\n",
        "\n",
        "Output: [[1,4,7],[2,5,8],[3,6,9]]\n",
        "\n",
        "![iamge_v3.png](attachment:ae3b452a-8408-4513-97e1-b095cf558c3d.png)"
      ]
    },
    {
      "cell_type": "code",
      "execution_count": null,
      "id": "cb1e1bd9",
      "metadata": {
        "id": "cb1e1bd9",
        "outputId": "97ac5418-43b6-472d-ac1c-6f617537c1d0"
      },
      "outputs": [
        {
          "name": "stdout",
          "output_type": "stream",
          "text": [
            "[[1, 4, 7], [2, 5, 8], [3, 6, 9]]\n"
          ]
        }
      ],
      "source": [
        "def transpose(matrix):\n",
        "    n = len(matrix)\n",
        "    m = len(matrix[0])\n",
        "    result = [[0] * n for _ in range(m)]\n",
        "    for i in range(n):\n",
        "        for j in range(m):\n",
        "            result[j][i] = matrix[i][j]\n",
        "    return result\n",
        "\n",
        "matrix = [[1, 2, 3], [4, 5, 6], [7, 8, 9]]\n",
        "print(transpose(matrix))"
      ]
    },
    {
      "cell_type": "markdown",
      "id": "a7a444a3",
      "metadata": {
        "id": "a7a444a3"
      },
      "source": [
        "**Q4. Given an integer array nums of 2n integers, group these integers into n pairs (a1, b1), (a2, b2), ..., (an, bn) such that the sum of min(ai, bi) for all i is maximized. Return the maximized sum.**\n",
        "\n",
        "**Example 1:**\n",
        "\n",
        "Input: nums = [1,4,3,2]\n",
        "\n",
        "Output: 4\n",
        "\n",
        "**Explanation:** All possible pairings (ignoring the ordering of elements) are:\n",
        "\n",
        "1. (1, 4), (2, 3) -> min(1, 4) + min(2, 3) = 1 + 2 = 3\n",
        "\n",
        "2. (1, 3), (2, 4) -> min(1, 3) + min(2, 4) = 1 + 2 = 3\n",
        "\n",
        "3. (1, 2), (3, 4) -> min(1, 2) + min(3, 4) = 1 + 3 = 4\n",
        "\n",
        "So the maximum possible sum is 4.\n",
        "\n",
        "</aside>"
      ]
    },
    {
      "cell_type": "code",
      "execution_count": null,
      "id": "6d54b79a",
      "metadata": {
        "id": "6d54b79a",
        "outputId": "c50fedb0-4f70-4a95-d7ea-41bbc5e1f0c5"
      },
      "outputs": [
        {
          "name": "stdout",
          "output_type": "stream",
          "text": [
            "4\n"
          ]
        }
      ],
      "source": [
        "def arrayPairSum(nums):\n",
        "    nums.sort()\n",
        "    max_sum = 0\n",
        "    for i in range(0, len(nums), 2):\n",
        "        max_sum += nums[i]\n",
        "    return max_sum\n",
        "\n",
        "nums = [1, 4, 3, 2]\n",
        "print(arrayPairSum(nums))"
      ]
    },
    {
      "cell_type": "markdown",
      "id": "af0b4ee4",
      "metadata": {
        "id": "af0b4ee4"
      },
      "source": [
        "**Q5. You have n coins and you want to build a staircase with these coins. The staircase consists of k rows where the ith row has exactly i coins. The last row of the staircase may be incomplete. Given the integer n, return the number of complete rows of the staircase you will build.**\n",
        "\n",
        "**Example 1:**\n",
        "\n",
        "![v2.jpg](attachment:da4aafad-e4b8-46d2-ba4a-5b403ca7ae6a.jpg)\n",
        "\n",
        "**Input:** n = 5\n",
        "\n",
        "**Output:** 2\n",
        "\n",
        "**Explanation:** Because the 3rd row is incomplete, we return 2.\n",
        "\n",
        "</aside>"
      ]
    },
    {
      "cell_type": "code",
      "execution_count": null,
      "id": "5d45be84",
      "metadata": {
        "id": "5d45be84",
        "outputId": "5fe1fe1c-f662-4ffa-b2a6-ee7db0ef5b2e"
      },
      "outputs": [
        {
          "name": "stdout",
          "output_type": "stream",
          "text": [
            "2\n"
          ]
        }
      ],
      "source": [
        "def arrangeCoins(n):\n",
        "    left, right = 1, n\n",
        "    while left <= right:\n",
        "        midpoint = (left + right) // 2\n",
        "        coins_required = (midpoint * (midpoint + 1)) // 2\n",
        "        if coins_required > n:\n",
        "            right = midpoint - 1\n",
        "        else:\n",
        "            left = midpoint + 1\n",
        "    return right\n",
        "\n",
        "n = 5\n",
        "print(arrangeCoins(n))"
      ]
    },
    {
      "cell_type": "markdown",
      "id": "952ac217",
      "metadata": {
        "id": "952ac217"
      },
      "source": [
        "**Q6. Given an integer array nums sorted in non-decreasing order, return an array of the squares of each number sorted in non-decreasing order.**\n",
        "\n",
        "**Example 1:**\n",
        "\n",
        "Input: nums = [-4,-1,0,3,10]\n",
        "\n",
        "Output: [0,1,9,16,100]\n",
        "\n",
        "**Explanation:** After squaring, the array becomes [16,1,0,9,100].\n",
        "After sorting, it becomes [0,1,9,16,100]\n",
        "\n",
        "</aside>"
      ]
    },
    {
      "cell_type": "code",
      "execution_count": null,
      "id": "4fc75f28",
      "metadata": {
        "id": "4fc75f28",
        "outputId": "d48b0082-87ea-4148-c18f-b67cd2afa2b4"
      },
      "outputs": [
        {
          "name": "stdout",
          "output_type": "stream",
          "text": [
            "[0, 1, 9, 16, 100]\n"
          ]
        }
      ],
      "source": [
        "def sortedSquares(nums):\n",
        "    n = len(nums)\n",
        "    result = [0] * n\n",
        "    left, right = 0, n - 1\n",
        "    for p in range(n - 1, -1, -1):\n",
        "        if abs(nums[left]) > abs(nums[right]):\n",
        "            result[p] = nums[left] ** 2\n",
        "            left += 1\n",
        "        else:\n",
        "            result[p] = nums[right] ** 2\n",
        "            right -= 1\n",
        "    return result\n",
        "\n",
        "nums = [-4, -1, 0, 3, 10]\n",
        "print(sortedSquares(nums))"
      ]
    },
    {
      "cell_type": "markdown",
      "id": "6b6bce5d",
      "metadata": {
        "id": "6b6bce5d"
      },
      "source": [
        "**Q7. You are given an m x n matrix M initialized with all 0's and an array of operations ops, where ops[i] = [ai, bi] means M[x][y] should be incremented by one for all 0 <= x < ai and 0 <= y < bi.Count and return the number of maximum integers in the matrix after performing all the operations**\n",
        "\n",
        "**Example 1:**\n",
        "\n",
        "![q4.jpg](attachment:108955be-2d6e-4c40-8524-9400ecd0d23c.jpg)\n",
        "\n",
        "**Input:** m = 3, n = 3, ops = [[2,2],[3,3]]\n",
        "\n",
        "**Output:** 4\n",
        "\n",
        "**Explanation:** The maximum integer in M is 2, and there are four of it in M. So return 4."
      ]
    },
    {
      "cell_type": "code",
      "execution_count": null,
      "id": "27f3346b",
      "metadata": {
        "id": "27f3346b",
        "outputId": "e597f69d-a8ed-456e-dc24-f7115762f816"
      },
      "outputs": [
        {
          "name": "stdout",
          "output_type": "stream",
          "text": [
            "4\n"
          ]
        }
      ],
      "source": [
        "def maxCount(m, n, ops):\n",
        "    min_a = m\n",
        "    min_b = n\n",
        "    for op in ops:\n",
        "        min_a = min(min_a, op[0])\n",
        "        min_b = min(min_b, op[1])\n",
        "    return min_a * min_b\n",
        "\n",
        "m = 3\n",
        "n = 3\n",
        "ops = [[2, 2], [3, 3]]\n",
        "print(maxCount(m, n, ops))"
      ]
    },
    {
      "cell_type": "markdown",
      "id": "6f9111a2",
      "metadata": {
        "id": "6f9111a2"
      },
      "source": [
        "**Q8. Given the array nums consisting of 2n elements in the form [x1,x2,...,xn,y1,y2,...,yn].Return the array in the form [x1,y1,x2,y2,...,xn,yn].**\n",
        "\n",
        "**Example 1:**\n",
        "\n",
        "**Input:** nums = [2,5,1,3,4,7], n = 3\n",
        "\n",
        "**Output:** [2,3,5,4,1,7]\n",
        "\n",
        "**Explanation:** Since x1=2, x2=5, x3=1, y1=3, y2=4, y3=7 then the answer is [2,3,5,4,1,7].\n",
        "\n",
        "</aside>"
      ]
    },
    {
      "cell_type": "code",
      "execution_count": null,
      "id": "1c79522a",
      "metadata": {
        "id": "1c79522a",
        "outputId": "bec0f47d-8970-4a92-c45b-2e152a9dc057"
      },
      "outputs": [
        {
          "name": "stdout",
          "output_type": "stream",
          "text": [
            "[2, 3, 5, 4, 1, 7]\n"
          ]
        }
      ],
      "source": [
        "def shuffle(nums, n):\n",
        "    result = []\n",
        "    for i in range(n):\n",
        "        result.append(nums[i])\n",
        "        result.append(nums[i + n])\n",
        "    return result\n",
        "\n",
        "nums = [2, 5, 1, 3, 4, 7]\n",
        "n = 3\n",
        "print(shuffle(nums, n))"
      ]
    },
    {
      "cell_type": "code",
      "execution_count": null,
      "id": "1b5896d5",
      "metadata": {
        "id": "1b5896d5"
      },
      "outputs": [],
      "source": []
    }
  ],
  "metadata": {
    "kernelspec": {
      "display_name": "Python 3 (ipykernel)",
      "language": "python",
      "name": "python3"
    },
    "language_info": {
      "codemirror_mode": {
        "name": "ipython",
        "version": 3
      },
      "file_extension": ".py",
      "mimetype": "text/x-python",
      "name": "python",
      "nbconvert_exporter": "python",
      "pygments_lexer": "ipython3",
      "version": "3.10.11"
    },
    "colab": {
      "provenance": []
    }
  },
  "nbformat": 4,
  "nbformat_minor": 5
}