{
  "cells": [
    {
      "cell_type": "markdown",
      "id": "2e87f7bd-ced5-4d79-ae82-3226766a0471",
      "metadata": {
        "id": "2e87f7bd-ced5-4d79-ae82-3226766a0471"
      },
      "source": [
        "# Assignment 6 - 2D Arrays\n",
        "\n"
      ]
    },
    {
      "cell_type": "markdown",
      "id": "3eaa29b4",
      "metadata": {
        "id": "3eaa29b4"
      },
      "source": [
        "**Q1. A permutation perm of n + 1 integers of all the integers in the range [0, n] can be represented as a string s of length n where:**\n",
        "\n",
        "- s[i] == 'I' if perm[i] < perm[i + 1], and\n",
        "- s[i] == 'D' if perm[i] > perm[i + 1].\n",
        "\n",
        "Given a string s, reconstruct the permutation perm and return it. If there are multiple valid permutations perm, return **any of them**.\n",
        "\n",
        "**Example 1:**\n",
        "\n",
        "**Input:** s = \"IDID\"\n",
        "\n",
        "**Output:**\n",
        "\n",
        "[0,4,1,3,2]\n",
        "\n",
        "</aside>"
      ]
    },
    {
      "cell_type": "code",
      "execution_count": null,
      "id": "bde493ab",
      "metadata": {
        "id": "bde493ab",
        "outputId": "151d216e-4286-4613-8579-bb935d39c900"
      },
      "outputs": [
        {
          "name": "stdout",
          "output_type": "stream",
          "text": [
            "[0, 4, 1, 3, 2]\n"
          ]
        }
      ],
      "source": [
        "def findPermutation(s):\n",
        "    n = len(s)\n",
        "    perm = []\n",
        "    low = 0\n",
        "    high = n\n",
        "\n",
        "    for char in s:\n",
        "        if char == 'I':\n",
        "            perm.append(low)\n",
        "            low += 1\n",
        "        else:\n",
        "            perm.append(high)\n",
        "            high -= 1\n",
        "\n",
        "    # Append the remaining number\n",
        "    perm.append(low)\n",
        "\n",
        "    return perm\n",
        "\n",
        "s = \"IDID\"\n",
        "print(findPermutation(s))"
      ]
    },
    {
      "cell_type": "markdown",
      "id": "e9d23c9a",
      "metadata": {
        "id": "e9d23c9a"
      },
      "source": [
        "**Q2. You are given an m x n integer matrix matrix with the following two properties:**\n",
        "\n",
        "- Each row is sorted in non-decreasing order.\n",
        "- The first integer of each row is greater than the last integer of the previous row.\n",
        "\n",
        "Given an integer target, return true *if* target *is in* matrix *or* false *otherwise*.\n",
        "\n",
        "You must write a solution in O(log(m * n)) time complexity.\n",
        "\n",
        "Example 1:\n",
        "![Screenshot_2023-05-29_005303.png](attachment:19acf559-5190-41cd-8c01-0fb8d042c586.png)\n",
        "\n",
        "**Input:** matrix = [[1,3,5,7],[10,11,16,20],[23,30,34,60]], target = 3\n",
        "\n",
        "**Output:** true\n"
      ]
    },
    {
      "cell_type": "code",
      "execution_count": null,
      "id": "c9c80f19",
      "metadata": {
        "id": "c9c80f19",
        "outputId": "0213cfbf-004a-4d66-ac17-7cc87d9508ee"
      },
      "outputs": [
        {
          "name": "stdout",
          "output_type": "stream",
          "text": [
            "True\n"
          ]
        }
      ],
      "source": [
        "def searchMatrix(matrix, target):\n",
        "    m = len(matrix)\n",
        "    n = len(matrix[0])\n",
        "\n",
        "    left = 0\n",
        "    right = m * n - 1\n",
        "\n",
        "    while left <= right:\n",
        "        mid = (left + right) // 2\n",
        "        row = mid // n\n",
        "        col = mid % n\n",
        "\n",
        "        if matrix[row][col] == target:\n",
        "            return True\n",
        "        elif matrix[row][col] < target:\n",
        "            left = mid + 1\n",
        "        else:\n",
        "            right = mid - 1\n",
        "\n",
        "    return False\n",
        "\n",
        "matrix = [[1, 3, 5, 7], [10, 11, 16, 20], [23, 30, 34, 60]]\n",
        "target = 3\n",
        "\n",
        "print(searchMatrix(matrix, target))"
      ]
    },
    {
      "cell_type": "markdown",
      "id": "2b30d49d",
      "metadata": {
        "id": "2b30d49d"
      },
      "source": [
        "**Q3. Given an array of integers arr, return *true if and only if it is a valid mountain array*. Recall that arr is a mountain array if and only if:**\n",
        "\n",
        "- arr.length >= 3\n",
        "- There exists some i with 0 < i < arr.length - 1 such that:\n",
        "    - arr[0] < arr[1] < ... < arr[i - 1] < arr[i]\n",
        "    - arr[i] > arr[i + 1] > ... > arr[arr.length - 1]\n",
        "</aside>"
      ]
    },
    {
      "cell_type": "markdown",
      "id": "47b9fc41-d08e-4157-a2aa-fc51a66bb30e",
      "metadata": {
        "id": "47b9fc41-d08e-4157-a2aa-fc51a66bb30e"
      },
      "source": [
        "![Screenshot_2023-05-29_005352.png](attachment:c2454375-bb8f-436a-99e4-7101eb2f970f.png)\n",
        "\n",
        "**Example 1:**\n",
        "\n",
        "**Input:** arr = [2,1]\n",
        "\n",
        "**Output:**\n",
        "\n",
        "false"
      ]
    },
    {
      "cell_type": "code",
      "execution_count": null,
      "id": "a4aac84a",
      "metadata": {
        "id": "a4aac84a",
        "outputId": "95f22f43-dd6b-455c-b8e1-82edcfc6fab8"
      },
      "outputs": [
        {
          "name": "stdout",
          "output_type": "stream",
          "text": [
            "False\n"
          ]
        }
      ],
      "source": [
        "def validMountainArray(arr):\n",
        "    n = len(arr)\n",
        "\n",
        "    if n < 3:\n",
        "        return False\n",
        "\n",
        "    left = 0\n",
        "    right = n - 1\n",
        "\n",
        "    while left < right:\n",
        "        if arr[left] >= arr[left + 1] or arr[right] >= arr[right - 1]:\n",
        "            return False\n",
        "\n",
        "        left += 1\n",
        "        right -= 1\n",
        "\n",
        "    return left == right\n",
        "\n",
        "arr = [2, 1]\n",
        "print(validMountainArray(arr))"
      ]
    },
    {
      "cell_type": "markdown",
      "id": "47f3371f",
      "metadata": {
        "id": "47f3371f"
      },
      "source": [
        "**Q4. Given a binary array nums, return *the maximum length of a contiguous subarray with an equal number of* 0 *and* 1.**\n",
        "\n",
        "**Example 1:**\n",
        "\n",
        "**Input:** nums = [0,1]\n",
        "\n",
        "**Output:** 2\n",
        "\n",
        "**Explanation:**\n",
        "\n",
        "[0, 1] is the longest contiguous subarray with an equal number of 0 and 1."
      ]
    },
    {
      "cell_type": "code",
      "execution_count": null,
      "id": "9e2f5289",
      "metadata": {
        "id": "9e2f5289",
        "outputId": "f7eac470-af49-4dce-8519-348984981ec5"
      },
      "outputs": [
        {
          "name": "stdout",
          "output_type": "stream",
          "text": [
            "2\n"
          ]
        }
      ],
      "source": [
        "def findMaxLength(nums):\n",
        "    max_length = 0\n",
        "    count = 0\n",
        "    sum_count = {0: -1}\n",
        "\n",
        "    for i in range(len(nums)):\n",
        "        if nums[i] == 1:\n",
        "            count += 1\n",
        "        else:\n",
        "            count -= 1\n",
        "\n",
        "        if count in sum_count:\n",
        "            length = i - sum_count[count]\n",
        "            max_length = max(max_length, length)\n",
        "        else:\n",
        "            sum_count[count] = i\n",
        "\n",
        "    return max_length\n",
        "\n",
        "nums = [0, 1]\n",
        "print(findMaxLength(nums))"
      ]
    },
    {
      "cell_type": "markdown",
      "id": "af7a68ae",
      "metadata": {
        "id": "af7a68ae"
      },
      "source": [
        "**Q5. The **product sum** of two equal-length arrays a and b is equal to the sum of a[i] * b[i] for all 0 <= i < a.length (**0-indexed**).**\n",
        "- For example, if a = [1,2,3,4] and b = [5,2,3,1], the **product sum** would be 1*5 + 2*2 + 3*3 + 4*1 = 22.\n",
        "\n",
        "Given two arrays nums1 and nums2 of length n, return *the **minimum product sum** if you are allowed to **rearrange** the **order** of the elements in* nums1.\n",
        "\n",
        "**Example 1:**\n",
        "\n",
        "**Input:** nums1 = [5,3,4,2], nums2 = [4,2,2,5]\n",
        "\n",
        "**Output:** 40\n",
        "\n",
        "**Explanation:**\n",
        "\n",
        "We can rearrange nums1 to become [3,5,4,2]. The product sum of [3,5,4,2] and [4,2,2,5] is 3*4 + 5*2 + 4*2 + 2*5 = 40.\n"
      ]
    },
    {
      "cell_type": "code",
      "execution_count": null,
      "id": "ffdb1bd0",
      "metadata": {
        "id": "ffdb1bd0",
        "outputId": "72620548-c709-4771-f877-5cfa8c9355cf"
      },
      "outputs": [
        {
          "name": "stdout",
          "output_type": "stream",
          "text": [
            "40\n"
          ]
        }
      ],
      "source": [
        "def minProductSum(nums1, nums2):\n",
        "    nums1.sort()\n",
        "    nums2.sort(reverse=True)\n",
        "\n",
        "    min_product_sum = 0\n",
        "    for i in range(len(nums1)):\n",
        "        min_product_sum += nums1[i] * nums2[i]\n",
        "\n",
        "    return min_product_sum\n",
        "nums1 = [5, 3, 4, 2]\n",
        "nums2 = [4, 2, 2, 5]\n",
        "result = minProductSum(nums1, nums2)\n",
        "print(result)"
      ]
    },
    {
      "cell_type": "markdown",
      "id": "e9d17490",
      "metadata": {
        "id": "e9d17490"
      },
      "source": [
        "**Q6. An integer array original is transformed into a **doubled** array changed by appending **twice the value** of every element in original, and then randomly **shuffling** the resulting array.**\n",
        "\n",
        "Given an array changed, return original *if* changed *is a **doubled** array. If* changed *is not a **doubled** array, return an empty array. The elements in* original *may be returned in **any** order*.\n",
        "\n",
        "**Example 1:**\n",
        "\n",
        "**Input:** changed = [1,3,4,2,6,8]\n",
        "\n",
        "**Output:** [1,3,4]\n",
        "\n",
        "**Explanation:** One possible original array could be [1,3,4]:\n",
        "\n",
        "- Twice the value of 1 is 1 * 2 = 2.\n",
        "- Twice the value of 3 is 3 * 2 = 6.\n",
        "- Twice the value of 4 is 4 * 2 = 8.\n",
        "\n",
        "Other original arrays could be [4,3,1] or [3,1,4].\n"
      ]
    },
    {
      "cell_type": "code",
      "execution_count": null,
      "id": "8cb5d903",
      "metadata": {
        "id": "8cb5d903",
        "outputId": "277e8a7f-0bce-4dc4-fe73-b8aa510ddaaa"
      },
      "outputs": [
        {
          "name": "stdout",
          "output_type": "stream",
          "text": [
            "[1, 3, 4]\n"
          ]
        }
      ],
      "source": [
        "from typing import List\n",
        "\n",
        "def findOriginalArray(changed: List[int]) -> List[int]:\n",
        "    if len(changed) % 2 != 0:\n",
        "        return []\n",
        "\n",
        "    count = {}\n",
        "    for num in changed:\n",
        "        count[num] = count.get(num, 0) + 1\n",
        "\n",
        "    original = []\n",
        "    for num in sorted(changed):\n",
        "        if count.get(num, 0) == 0:\n",
        "            continue\n",
        "        if count.get(num * 2, 0) == 0:\n",
        "            return []\n",
        "        original.append(num)\n",
        "        count[num] -= 1\n",
        "        count[num * 2] -= 1\n",
        "\n",
        "    return original\n",
        "changed = [1, 3, 4, 2, 6, 8]\n",
        "original = findOriginalArray(changed)\n",
        "print(original)"
      ]
    },
    {
      "cell_type": "markdown",
      "id": "2037861a",
      "metadata": {
        "id": "2037861a"
      },
      "source": [
        "**Q7. Given a positive integer n, generate an n x n matrix filled with elements from 1 to n2 in spiral order**\n",
        "\n",
        "**Example 1:**\n",
        "![Screenshot_2023-05-29_005522.png](attachment:50df11b7-0bb1-4d70-8d1a-d64d5d6c3d62.png)\n",
        "\n",
        "**Input:** n = 3\n",
        "\n",
        "**Output:** [[1,2,3],[8,9,4],[7,6,5]]"
      ]
    },
    {
      "cell_type": "code",
      "execution_count": null,
      "id": "6bbbb20c",
      "metadata": {
        "id": "6bbbb20c",
        "outputId": "bef9da16-3d5b-4d78-cc55-2dde409d323d"
      },
      "outputs": [
        {
          "name": "stdout",
          "output_type": "stream",
          "text": [
            "[[1, 2, 3], [8, 9, 4], [7, 6, 5]]\n"
          ]
        }
      ],
      "source": [
        "def generateMatrix(n):\n",
        "    result = [[0] * n for _ in range(n)]\n",
        "\n",
        "    top = 0\n",
        "    bottom = n - 1\n",
        "    left = 0\n",
        "    right = n - 1\n",
        "\n",
        "    num = 1\n",
        "\n",
        "    while num <= n * n:\n",
        "        for i in range(left, right + 1):\n",
        "            result[top][i] = num\n",
        "            num += 1\n",
        "        top += 1\n",
        "\n",
        "        for i in range(top, bottom + 1):\n",
        "            result[i][right] = num\n",
        "            num += 1\n",
        "        right -= 1\n",
        "\n",
        "        for i in range(right, left - 1, -1):\n",
        "            result[bottom][i] = num\n",
        "            num += 1\n",
        "        bottom -= 1\n",
        "\n",
        "        for i in range(bottom, top - 1, -1):\n",
        "            result[i][left] = num\n",
        "            num += 1\n",
        "        left += 1\n",
        "\n",
        "    return result\n",
        "\n",
        "n = 3\n",
        "print(generateMatrix(n))"
      ]
    },
    {
      "cell_type": "markdown",
      "id": "2c7860a5",
      "metadata": {
        "id": "2c7860a5"
      },
      "source": [
        "**Q8. Given two [sparse matrices](https://en.wikipedia.org/wiki/Sparse_matrix) mat1 of size m x k and mat2 of size k x n, return the result of mat1 x mat2. You may assume that multiplication is always possible.**\n",
        "\n",
        "Example 1:\n",
        "\n",
        "![Screenshot_2023-05-29_005557.png](attachment:25ee2a0d-2b6b-4bf6-8f0a-6ff7f88bf15c.png)\n",
        "\n",
        "**Input:** mat1 = [[1,0,0],[-1,0,3]], mat2 = [[7,0,0],[0,0,0],[0,0,1]]\n",
        "\n",
        "**Output:**\n",
        "\n",
        "[[7,0,0],[-7,0,3]]"
      ]
    },
    {
      "cell_type": "code",
      "execution_count": null,
      "id": "df337045",
      "metadata": {
        "id": "df337045",
        "outputId": "9552ee6e-2e81-4385-f0ca-657109886c39"
      },
      "outputs": [
        {
          "name": "stdout",
          "output_type": "stream",
          "text": [
            "[[7, 0, 0], [-7, 0, 3]]\n"
          ]
        }
      ],
      "source": [
        "def multiply(mat1, mat2):\n",
        "    m = len(mat1)\n",
        "    k = len(mat1[0])\n",
        "    n = len(mat2[0])\n",
        "\n",
        "    result = [[0] * n for _ in range(m)]\n",
        "\n",
        "    for i in range(m):\n",
        "        for j in range(n):\n",
        "            for x in range(k):\n",
        "                if mat1[i][x] != 0 and mat2[x][j] != 0:\n",
        "                    result[i][j] += mat1[i][x] * mat2[x][j]\n",
        "\n",
        "    return result\n",
        "\n",
        "mat1 = [[1, 0, 0], [-1, 0, 3]]\n",
        "mat2 = [[7, 0, 0], [0, 0, 0], [0, 0, 1]]\n",
        "print(multiply(mat1, mat2))"
      ]
    },
    {
      "cell_type": "code",
      "execution_count": null,
      "id": "07a7ac30",
      "metadata": {
        "id": "07a7ac30"
      },
      "outputs": [],
      "source": []
    }
  ],
  "metadata": {
    "kernelspec": {
      "display_name": "Python 3 (ipykernel)",
      "language": "python",
      "name": "python3"
    },
    "language_info": {
      "codemirror_mode": {
        "name": "ipython",
        "version": 3
      },
      "file_extension": ".py",
      "mimetype": "text/x-python",
      "name": "python",
      "nbconvert_exporter": "python",
      "pygments_lexer": "ipython3",
      "version": "3.10.11"
    },
    "colab": {
      "provenance": []
    }
  },
  "nbformat": 4,
  "nbformat_minor": 5
}