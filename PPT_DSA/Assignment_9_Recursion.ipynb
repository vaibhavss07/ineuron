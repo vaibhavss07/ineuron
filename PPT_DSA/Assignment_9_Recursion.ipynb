{
  "cells": [
    {
      "cell_type": "markdown",
      "id": "6db747ef",
      "metadata": {
        "id": "6db747ef"
      },
      "source": [
        "# Assignment 9 - Recursion"
      ]
    },
    {
      "cell_type": "markdown",
      "id": "3ed643d1",
      "metadata": {
        "id": "3ed643d1"
      },
      "source": [
        "**Question 1**\n",
        "\n",
        "Given an integer `n`, return *`true` if it is a power of two. Otherwise, return `false`*.\n",
        "\n",
        "An integer `n` is a power of two, if there exists an integer `x` such that `n == 2x`.\n",
        "\n",
        "**Example 1:**\n",
        "Input: n = 1\n",
        "\n",
        "Output: true\n",
        "\n",
        "**Example 2:**\n",
        "Input: n = 16\n",
        "\n",
        "Output: true\n",
        "\n",
        "**Example 3:**\n",
        "Input: n = 3\n",
        "\n",
        "Output: false"
      ]
    },
    {
      "cell_type": "code",
      "execution_count": null,
      "id": "7854077a",
      "metadata": {
        "id": "7854077a",
        "outputId": "1a769923-d006-4dbd-f3b2-7334bdb9fc88"
      },
      "outputs": [
        {
          "name": "stdout",
          "output_type": "stream",
          "text": [
            "True\n"
          ]
        }
      ],
      "source": [
        "def isPowerOfTwo(n):\n",
        "    if n <= 0:\n",
        "        return False\n",
        "\n",
        "    while n > 1:\n",
        "        if n % 2 != 0:\n",
        "            return False\n",
        "        n = n // 2\n",
        "\n",
        "    return True\n",
        "\n",
        "n=1\n",
        "print(isPowerOfTwo(n=n))"
      ]
    },
    {
      "cell_type": "markdown",
      "id": "1054efac",
      "metadata": {
        "id": "1054efac"
      },
      "source": [
        "**Question 2**\n",
        "\n",
        "Given a number n, find the sum of the first natural numbers.\n",
        "\n",
        "**Example 1:**\n",
        "\n",
        "Input: n = 3\n",
        "\n",
        "Output: 6\n",
        "\n",
        "**Example 2:**\n",
        "\n",
        "Input  : 5\n",
        "\n",
        "Output : 15"
      ]
    },
    {
      "cell_type": "code",
      "execution_count": null,
      "id": "39054c36",
      "metadata": {
        "id": "39054c36",
        "outputId": "c560ebe3-71b1-4524-e458-3eadf0aafbb4"
      },
      "outputs": [
        {
          "name": "stdout",
          "output_type": "stream",
          "text": [
            "6\n"
          ]
        }
      ],
      "source": [
        "def sumOfNaturalNumbers(n):\n",
        "    sum = (n * (n + 1)) // 2\n",
        "    return sum\n",
        "\n",
        "n = 3\n",
        "print(sumOfNaturalNumbers(n=n))"
      ]
    },
    {
      "cell_type": "markdown",
      "id": "d26cc7f1",
      "metadata": {
        "id": "d26cc7f1"
      },
      "source": [
        "**Question 3**\n",
        "\n",
        "**Given a positive integer, N. Find the factorial of N.**\n",
        "\n",
        "**Example 1:**\n",
        "\n",
        "Input: N = 5\n",
        "\n",
        "Output: 120\n",
        "\n",
        "**Example 2:**\n",
        "\n",
        "Input: N = 4\n",
        "\n",
        "Output: 24"
      ]
    },
    {
      "cell_type": "code",
      "execution_count": null,
      "id": "084ac10c",
      "metadata": {
        "id": "084ac10c",
        "outputId": "807aaf8e-b8dd-4255-abf5-f709100b385d"
      },
      "outputs": [
        {
          "name": "stdout",
          "output_type": "stream",
          "text": [
            "24\n"
          ]
        }
      ],
      "source": [
        "def factorial(N):\n",
        "    result = 1\n",
        "    for i in range(1, N+1):\n",
        "        result *= i\n",
        "    return result\n",
        "\n",
        "N = 4\n",
        "print(factorial(N=N))"
      ]
    },
    {
      "cell_type": "markdown",
      "id": "da219ae0",
      "metadata": {
        "id": "da219ae0"
      },
      "source": [
        "**Question 4**\n",
        "\n",
        "Given a number N and a power P, the task is to find the exponent of this number raised to the given power, i.e. N^P.\n",
        "\n",
        "**Example 1 :**\n",
        "\n",
        "Input: N = 5, P = 2\n",
        "\n",
        "Output: 25\n",
        "\n",
        "**Example 2 :**\n",
        "Input: N = 2, P = 5\n",
        "\n",
        "Output: 32"
      ]
    },
    {
      "cell_type": "code",
      "execution_count": null,
      "id": "1c96f95e",
      "metadata": {
        "id": "1c96f95e",
        "outputId": "2ba91473-30c0-4c62-b7fe-e33770dcf3d1"
      },
      "outputs": [
        {
          "name": "stdout",
          "output_type": "stream",
          "text": [
            "32\n"
          ]
        }
      ],
      "source": [
        "def exponent(N, P):\n",
        "    result = pow(N, P)\n",
        "    return result\n",
        "\n",
        "N = 2\n",
        "P = 5\n",
        "print(exponent(N=N,P=P))"
      ]
    },
    {
      "cell_type": "markdown",
      "id": "3fec32c6",
      "metadata": {
        "id": "3fec32c6"
      },
      "source": [
        "**Question 5**\n",
        "\n",
        "Given an array of integers **arr**, the task is to find maximum element of that array using recursion.\n",
        "\n",
        "**Example 1:**\n",
        "\n",
        "Input: arr = {1, 4, 3, -5, -4, 8, 6};\n",
        "Output: 8\n",
        "\n",
        "**Example 2:**\n",
        "\n",
        "Input: arr = {1, 4, 45, 6, 10, -8};\n",
        "Output: 45"
      ]
    },
    {
      "cell_type": "code",
      "execution_count": null,
      "id": "46467f14",
      "metadata": {
        "id": "46467f14",
        "outputId": "b8c45a69-9949-48f4-84cf-b7ec8e0df393"
      },
      "outputs": [
        {
          "name": "stdout",
          "output_type": "stream",
          "text": [
            "8\n"
          ]
        }
      ],
      "source": [
        "def find_max(arr, n):\n",
        "    if n == 1:\n",
        "        return arr[0]\n",
        "    else:\n",
        "        return max(arr[n-1], find_max(arr, n-1))\n",
        "\n",
        "# Function to find the maximum element in the array\n",
        "def maximum_element(arr):\n",
        "    n = len(arr)\n",
        "    return find_max(arr, n)\n",
        "\n",
        "# Example usage\n",
        "arr = [1, 4, 3, -5, -4, 8, 6]\n",
        "max_element = maximum_element(arr)\n",
        "print(max_element)"
      ]
    },
    {
      "cell_type": "markdown",
      "id": "5cde5d19",
      "metadata": {
        "id": "5cde5d19"
      },
      "source": [
        "**Question 6**\n",
        "\n",
        "Given first term (a), common difference (d) and a integer N of the Arithmetic Progression series, the task is to find Nth term of the series.\n",
        "\n",
        "**Example 1:**\n",
        "\n",
        "Input : a = 2 d = 1 N = 5\n",
        "Output : 6\n",
        "The 5th term of the series is : 6\n",
        "\n",
        "**Example 2:**\n",
        "\n",
        "Input : a = 5 d = 2 N = 10\n",
        "Output : 23\n",
        "The 10th term of the series is : 23"
      ]
    },
    {
      "cell_type": "code",
      "execution_count": null,
      "id": "497364ff",
      "metadata": {
        "id": "497364ff",
        "outputId": "73e823a2-0a88-42e7-eb54-8d70ca0521bc"
      },
      "outputs": [
        {
          "name": "stdout",
          "output_type": "stream",
          "text": [
            "6\n"
          ]
        }
      ],
      "source": [
        "def nth_term_of_ap(a, d, N):\n",
        "    return a + (N - 1) * d\n",
        "\n",
        "# Example usage\n",
        "a = 2\n",
        "d = 1\n",
        "N = 5\n",
        "nth_term = nth_term_of_ap(a, d, N)\n",
        "print(nth_term)"
      ]
    },
    {
      "cell_type": "markdown",
      "id": "7f584b38",
      "metadata": {
        "id": "7f584b38"
      },
      "source": [
        "**Question 7**\n",
        "\n",
        "Given a string S, the task is to write a program to print all permutations of a given string.\n",
        "\n",
        "**Example 1:**\n",
        "\n",
        "***Input:***\n",
        "\n",
        "*S = “ABC”*\n",
        "\n",
        "***Output:***\n",
        "\n",
        "*“ABC”, “ACB”, “BAC”, “BCA”, “CBA”, “CAB”*\n",
        "\n",
        "**Example 2:**\n",
        "\n",
        "***Input:***\n",
        "\n",
        "*S = “XY”*\n",
        "\n",
        "***Output:***\n",
        "\n",
        "*“XY”, “YX”*"
      ]
    },
    {
      "cell_type": "code",
      "execution_count": null,
      "id": "c1a07df2",
      "metadata": {
        "id": "c1a07df2",
        "outputId": "11015841-eeb7-430d-b5e7-bc42cef5a37a"
      },
      "outputs": [
        {
          "name": "stdout",
          "output_type": "stream",
          "text": [
            "['ABC', 'ACB', 'BAC', 'BCA', 'CBA', 'CAB']\n"
          ]
        }
      ],
      "source": [
        "def generate_permutations(s):\n",
        "    # Convert the string to a list of characters\n",
        "    chars = list(s)\n",
        "    # Initialize an empty list to store the permutations\n",
        "    permutations = []\n",
        "\n",
        "    # Helper function to generate permutations\n",
        "    def backtrack(start):\n",
        "        # Base case: if start reaches the end of the string, add the current permutation to the list\n",
        "        if start == len(chars):\n",
        "            permutations.append(\"\".join(chars))\n",
        "            return\n",
        "\n",
        "        # Recursive case: generate permutations by swapping characters\n",
        "        for i in range(start, len(chars)):\n",
        "            # Swap characters at indices start and i\n",
        "            chars[start], chars[i] = chars[i], chars[start]\n",
        "            # Recursively generate permutations for the next index\n",
        "            backtrack(start + 1)\n",
        "            # Restore the original order of characters (backtrack)\n",
        "            chars[start], chars[i] = chars[i], chars[start]\n",
        "\n",
        "    # Start the backtracking process\n",
        "    backtrack(0)\n",
        "\n",
        "    return permutations\n",
        "\n",
        "# Example usage\n",
        "S = \"ABC\"\n",
        "permutations = generate_permutations(S)\n",
        "print(permutations)"
      ]
    },
    {
      "cell_type": "markdown",
      "id": "4147a626",
      "metadata": {
        "id": "4147a626"
      },
      "source": [
        "**Question 8**\n",
        "\n",
        "Given an array, find a product of all array elements.\n",
        "\n",
        "**Example 1:**\n",
        "\n",
        "Input  : arr[] = {1, 2, 3, 4, 5}\n",
        "Output : 120\n",
        "**Example 2:**\n",
        "\n",
        "Input  : arr[] = {1, 6, 3}\n",
        "Output : 18"
      ]
    },
    {
      "cell_type": "code",
      "execution_count": null,
      "id": "6cbb97cd",
      "metadata": {
        "id": "6cbb97cd",
        "outputId": "3beb706e-bae7-43c3-85dd-869a9db545e3"
      },
      "outputs": [
        {
          "name": "stdout",
          "output_type": "stream",
          "text": [
            "120\n"
          ]
        }
      ],
      "source": [
        "def product_of_array(arr):\n",
        "    # Initialize the product to 1\n",
        "    product = 1\n",
        "\n",
        "    # Iterate through the array and multiply each element with the product\n",
        "    for num in arr:\n",
        "        product *= num\n",
        "\n",
        "    return product\n",
        "\n",
        "# Example usage\n",
        "arr = [1, 2, 3, 4, 5]\n",
        "result = product_of_array(arr)\n",
        "print(result)"
      ]
    },
    {
      "cell_type": "code",
      "execution_count": null,
      "id": "6f57e2fa",
      "metadata": {
        "id": "6f57e2fa"
      },
      "outputs": [],
      "source": []
    }
  ],
  "metadata": {
    "kernelspec": {
      "display_name": "Python 3 (ipykernel)",
      "language": "python",
      "name": "python3"
    },
    "language_info": {
      "codemirror_mode": {
        "name": "ipython",
        "version": 3
      },
      "file_extension": ".py",
      "mimetype": "text/x-python",
      "name": "python",
      "nbconvert_exporter": "python",
      "pygments_lexer": "ipython3",
      "version": "3.10.11"
    },
    "colab": {
      "provenance": []
    }
  },
  "nbformat": 4,
  "nbformat_minor": 5
}