{
  "cells": [
    {
      "cell_type": "markdown",
      "id": "68738ac5-ad12-4e32-b2e9-4ff071492ef8",
      "metadata": {
        "id": "68738ac5-ad12-4e32-b2e9-4ff071492ef8"
      },
      "source": [
        "# Assignment 5 - 2D Arrays\n",
        "\n"
      ]
    },
    {
      "cell_type": "markdown",
      "id": "d6ece0de",
      "metadata": {
        "id": "d6ece0de"
      },
      "source": [
        "**Q1. Convert 1D Array Into 2D Array**\n",
        "\n",
        "You are given a **0-indexed** 1-dimensional (1D) integer array original, and two integers, m and n. You are tasked with creating a 2-dimensional (2D) array with  m rows and n columns using **all** the elements from original.\n",
        "\n",
        "The elements from indices 0 to n - 1 (**inclusive**) of original should form the first row of the constructed 2D array, the elements from indices n to 2 * n - 1 (**inclusive**) should form the second row of the constructed 2D array, and so on.\n",
        "\n",
        "Return *an* m x n *2D array constructed according to the above procedure, or an empty 2D array if it is impossible*.\n",
        "\n",
        "**Example 1:**\n",
        "![Screenshot_2023-05-29_004311.png](attachment:b6105844-cadf-408f-82c1-85e43b2239a1.png)\n",
        "\n",
        "\n",
        "**Input:** original = [1,2,3,4], m = 2, n = 2\n",
        "\n",
        "**Output:** [[1,2],[3,4]]\n",
        "\n",
        "**Explanation:** The constructed 2D array should contain 2 rows and 2 columns.\n",
        "\n",
        "The first group of n=2 elements in original, [1,2], becomes the first row in the constructed 2D array.\n",
        "\n",
        "The second group of n=2 elements in original, [3,4], becomes the second row in the constructed 2D array."
      ]
    },
    {
      "cell_type": "code",
      "execution_count": null,
      "id": "36ea99fe",
      "metadata": {
        "id": "36ea99fe",
        "outputId": "6d6ee708-bbc9-4d99-99bc-6ccbd1994122"
      },
      "outputs": [
        {
          "name": "stdout",
          "output_type": "stream",
          "text": [
            "[[1, 2], [3, 4]]\n"
          ]
        }
      ],
      "source": [
        "def convert_1d_to_2d(original, m, n):\n",
        "    if len(original) != m * n:\n",
        "        return []\n",
        "\n",
        "    result = [[0] * n for _ in range(m)]\n",
        "    for i in range(len(original)):\n",
        "        row = i // n\n",
        "        col = i % n\n",
        "        result[row][col] = original[i]\n",
        "\n",
        "    return result\n",
        "\n",
        "original = [1,2,3,4]\n",
        "m = 2\n",
        "n = 2\n",
        "print(convert_1d_to_2d(original=original,m=m,n=n))"
      ]
    },
    {
      "cell_type": "markdown",
      "id": "d40dccc6",
      "metadata": {
        "id": "d40dccc6"
      },
      "source": [
        "**Q2. You have n coins and you want to build a staircase with these coins. The staircase consists of k rows where the ith row has exactly i coins. The last row of the staircase **may be** incomplete.**\n",
        "Given the integer n, return *the number of **complete rows** of the staircase you will build*.\n",
        "\n",
        "Example 1:\n",
        "\n",
        "![Screenshot_2023-05-29_004404.png](attachment:3fac0dee-bbb7-4de7-b4ce-950142ad6404.png)\n",
        "\n",
        "**Input:** n = 5\n",
        "\n",
        "**Output:** 2\n",
        "\n",
        "**Explanation:** Because the 3rd row is incomplete, we return 2.\n"
      ]
    },
    {
      "cell_type": "code",
      "execution_count": null,
      "id": "16d84f58",
      "metadata": {
        "id": "16d84f58",
        "outputId": "4a45106d-51f2-4ebc-cea9-2b5031bae9ab"
      },
      "outputs": [
        {
          "name": "stdout",
          "output_type": "stream",
          "text": [
            "2\n"
          ]
        }
      ],
      "source": [
        "def arrangeCoins(n):\n",
        "    k = 0\n",
        "    while (k * (k + 1)) // 2 <= n:\n",
        "        k += 1\n",
        "    return k - 1\n",
        "\n",
        "n = 5\n",
        "print(arrangeCoins(n=n))"
      ]
    },
    {
      "cell_type": "markdown",
      "id": "1d7a5bef",
      "metadata": {
        "id": "1d7a5bef"
      },
      "source": [
        "**Q3. Given an integer array nums sorted in **non-decreasing** order, return *an array of **the squares of each number** sorted in non-decreasing order*.**\n",
        "\n",
        "**Example 1:**\n",
        "\n",
        "**Input:** nums = [-4,-1,0,3,10]\n",
        "\n",
        "**Output:** [0,1,9,16,100]\n",
        "\n",
        "**Explanation:** After squaring, the array becomes [16,1,0,9,100].\n",
        "\n",
        "After sorting, it becomes [0,1,9,16,100]."
      ]
    },
    {
      "cell_type": "code",
      "execution_count": null,
      "id": "b59d44f6",
      "metadata": {
        "id": "b59d44f6",
        "outputId": "12825a54-2f0a-432c-865b-33edce8ed7bb"
      },
      "outputs": [
        {
          "name": "stdout",
          "output_type": "stream",
          "text": [
            "[0, 1, 9, 16, 100]\n"
          ]
        }
      ],
      "source": [
        "def sortedSquares(nums):\n",
        "    n = len(nums)\n",
        "    result = [0] * n\n",
        "    left, right = 0, n - 1\n",
        "\n",
        "    for i in range(n - 1, -1, -1):\n",
        "        if abs(nums[left]) > abs(nums[right]):\n",
        "            result[i] = nums[left] ** 2\n",
        "            left += 1\n",
        "        else:\n",
        "            result[i] = nums[right] ** 2\n",
        "            right -= 1\n",
        "\n",
        "    return result\n",
        "\n",
        "nums = [-4, -1, 0, 3, 10]\n",
        "print(sortedSquares(nums))"
      ]
    },
    {
      "cell_type": "markdown",
      "id": "204d03d2",
      "metadata": {
        "id": "204d03d2"
      },
      "source": [
        "**Q4. Given two **0-indexed** integer arrays nums1 and nums2, return *a list* answer *of size* 2 *where:***\n",
        "- answer[0] *is a list of all **distinct** integers in* nums1 *which are **not** present in* nums2*.*\n",
        "- answer[1] *is a list of all **distinct** integers in* nums2 *which are **not** present in* nums1.\n",
        "\n",
        "**Note** that the integers in the lists may be returned in **any** order.\n",
        "\n",
        "**Example 1:**\n",
        "\n",
        "**Input:** nums1 = [1,2,3], nums2 = [2,4,6]\n",
        "\n",
        "**Output:** [[1,3],[4,6]]\n",
        "\n",
        "**Explanation:**\n",
        "\n",
        "For nums1, nums1[1] = 2 is present at index 0 of nums2, whereas nums1[0] = 1 and nums1[2] = 3 are not present in nums2. Therefore, answer[0] = [1,3].\n",
        "\n",
        "For nums2, nums2[0] = 2 is present at index 1 of nums1, whereas nums2[1] = 4 and nums2[2] = 6 are not present in nums2. Therefore, answer[1] = [4,6].\n",
        "\n",
        "</aside>"
      ]
    },
    {
      "cell_type": "code",
      "execution_count": null,
      "id": "3959ed0e",
      "metadata": {
        "id": "3959ed0e",
        "outputId": "eec4656f-367d-4cb2-da17-39b1349fde2a"
      },
      "outputs": [
        {
          "name": "stdout",
          "output_type": "stream",
          "text": [
            "[[1, 3], [4, 6]]\n"
          ]
        }
      ],
      "source": [
        "def findDisappearedNumbers(nums1, nums2):\n",
        "    set1 = set(nums1)\n",
        "    set2 = set(nums2)\n",
        "\n",
        "    result = []\n",
        "    result.append(list(set1 - set2))\n",
        "    result.append(list(set2 - set1))\n",
        "\n",
        "    return result\n",
        "\n",
        "nums1 = [1, 2, 3]\n",
        "nums2 = [2, 4, 6]\n",
        "print(findDisappearedNumbers(nums1, nums2))"
      ]
    },
    {
      "cell_type": "markdown",
      "id": "b3201480",
      "metadata": {
        "id": "b3201480"
      },
      "source": [
        "**Q5. Given two integer arrays arr1 and arr2, and the integer d, *return the distance value between the two arrays*. The distance value is defined as the number of elements arr1[i] such that there is not any element arr2[j] where |arr1[i]-arr2[j]| <= d.**\n",
        "\n",
        "**Example 1:**\n",
        "\n",
        "**Input:** arr1 = [4,5,8], arr2 = [10,9,1,8], d = 2\n",
        "\n",
        "**Output:** 2"
      ]
    },
    {
      "cell_type": "code",
      "execution_count": null,
      "id": "ddf948c5",
      "metadata": {
        "id": "ddf948c5",
        "outputId": "d434d0aa-6ea2-40f5-d4d2-bca582feea98"
      },
      "outputs": [
        {
          "name": "stdout",
          "output_type": "stream",
          "text": [
            "2\n"
          ]
        }
      ],
      "source": [
        "def findTheDistanceValue(arr1, arr2, d):\n",
        "    distance = 0\n",
        "\n",
        "    for num1 in arr1:\n",
        "        for num2 in arr2:\n",
        "            if abs(num1 - num2) <= d:\n",
        "                break\n",
        "        else:\n",
        "            distance += 1\n",
        "\n",
        "    return distance\n",
        "\n",
        "arr1 = [4, 5, 8]\n",
        "arr2 = [10, 9, 1, 8]\n",
        "d = 2\n",
        "print(findTheDistanceValue(arr1, arr2, d))"
      ]
    },
    {
      "cell_type": "markdown",
      "id": "e52dc98f",
      "metadata": {
        "id": "e52dc98f"
      },
      "source": [
        "**Q6. Given an integer array nums of length n where all the integers of nums are in the range [1, n] and each integer appears **once** or **twice**, return *an array of all the integers that appears **twice***. You must write an algorithm that runs in O(n) time and uses only constant extra space.**\n",
        "\n",
        "**Example 1:**\n",
        "\n",
        "**Input:** nums = [4,3,2,7,8,2,3,1]\n",
        "\n",
        "**Output:**\n",
        "\n",
        "[2,3]"
      ]
    },
    {
      "cell_type": "code",
      "execution_count": null,
      "id": "0534ec68",
      "metadata": {
        "id": "0534ec68",
        "outputId": "c7d0250c-e367-4d50-9c31-07ba76034a07"
      },
      "outputs": [
        {
          "name": "stdout",
          "output_type": "stream",
          "text": [
            "[2, 3]\n"
          ]
        }
      ],
      "source": [
        "def findDuplicates(nums):\n",
        "    result = []\n",
        "    for num in nums:\n",
        "        index = abs(num)\n",
        "        if nums[index - 1] < 0:\n",
        "            result.append(index)\n",
        "        else:\n",
        "            nums[index - 1] *= -1\n",
        "    return result\n",
        "\n",
        "nums = [4, 3, 2, 7, 8, 2, 3, 1]\n",
        "print(findDuplicates(nums))"
      ]
    },
    {
      "cell_type": "markdown",
      "id": "39356e42",
      "metadata": {
        "id": "39356e42"
      },
      "source": [
        "**Q7. Suppose an array of length n sorted in ascending order is **rotated** between 1 and n times. For example, the array nums = [0,1,2,4,5,6,7] might become:**\n",
        "\n",
        "- [4,5,6,7,0,1,2] if it was rotated 4 times.\n",
        "- [0,1,2,4,5,6,7] if it was rotated 7 times.\n",
        "\n",
        "Notice that **rotating** an array [a[0], a[1], a[2], ..., a[n-1]] 1 time results in the array [a[n-1], a[0], a[1], a[2], ..., a[n-2]].\n",
        "\n",
        "Given the sorted rotated array nums of **unique** elements, return *the minimum element of this array*.\n",
        "\n",
        "You must write an algorithm that runs in O(log n) time.\n",
        "\n",
        "**Example 1:**\n",
        "\n",
        "**Input:** nums = [3,4,5,1,2]\n",
        "\n",
        "**Output:** 1\n",
        "\n",
        "**Explanation:**\n",
        "\n",
        "The original array was [1,2,3,4,5] rotated 3 times."
      ]
    },
    {
      "cell_type": "code",
      "execution_count": null,
      "id": "ea1ba4b4",
      "metadata": {
        "id": "ea1ba4b4",
        "outputId": "88ab5224-158d-4740-8f67-32aee0284a7d"
      },
      "outputs": [
        {
          "name": "stdout",
          "output_type": "stream",
          "text": [
            "1\n"
          ]
        }
      ],
      "source": [
        "def findMin(nums):\n",
        "    left, right = 0, len(nums) - 1\n",
        "\n",
        "    while left < right:\n",
        "        mid = left + (right - left) // 2\n",
        "\n",
        "        if nums[mid] > nums[right]:\n",
        "            left = mid + 1\n",
        "        else:\n",
        "            right = mid\n",
        "\n",
        "    return nums[left]\n",
        "\n",
        "nums = [3, 4, 5, 1, 2]\n",
        "print(findMin(nums))"
      ]
    },
    {
      "cell_type": "markdown",
      "id": "7e43cab8",
      "metadata": {
        "id": "7e43cab8"
      },
      "source": [
        "**Q8. An integer array original is transformed into a **doubled** array changed by appending **twice the value** of every element in original, and then randomly **shuffling** the resulting array. Given an array changed, return original *if* changed *is a **doubled** array. If* changed *is not a **doubled** array, return an empty array. The elements in* original *may be returned in **any** order*.**\n",
        "\n",
        "**Example 1:**\n",
        "\n",
        "**Input:** changed = [1,3,4,2,6,8]\n",
        "\n",
        "**Output:** [1,3,4]\n",
        "\n",
        "**Explanation:** One possible original array could be [1,3,4]:\n",
        "\n",
        "- Twice the value of 1 is 1 * 2 = 2.\n",
        "- Twice the value of 3 is 3 * 2 = 6.\n",
        "- Twice the value of 4 is 4 * 2 = 8.\n",
        "\n",
        "Other original arrays could be [4,3,1] or [3,1,4]."
      ]
    },
    {
      "cell_type": "code",
      "execution_count": null,
      "id": "f66612c5",
      "metadata": {
        "id": "f66612c5",
        "outputId": "578475b9-f75b-4356-b10c-1bd655c981f7"
      },
      "outputs": [
        {
          "name": "stdout",
          "output_type": "stream",
          "text": [
            "[1, 3, 4]\n"
          ]
        }
      ],
      "source": [
        "from collections import defaultdict\n",
        "\n",
        "def findOriginalArray(changed):\n",
        "    if len(changed) % 2 != 0:\n",
        "        return []\n",
        "\n",
        "    freq = defaultdict(int)\n",
        "    original = []\n",
        "\n",
        "    for num in changed:\n",
        "        freq[num] += 1\n",
        "\n",
        "    for num in sorted(changed):\n",
        "        if freq[num] > 0:\n",
        "            if freq[num * 2] > 0:\n",
        "                freq[num * 2] -= 1\n",
        "                original.append(num)\n",
        "            else:\n",
        "                return []\n",
        "\n",
        "    return original\n",
        "changed = [1, 3, 4, 2, 6, 8]\n",
        "print(findOriginalArray(changed))"
      ]
    },
    {
      "cell_type": "code",
      "execution_count": null,
      "id": "35895048",
      "metadata": {
        "id": "35895048"
      },
      "outputs": [],
      "source": []
    }
  ],
  "metadata": {
    "kernelspec": {
      "display_name": "Python 3 (ipykernel)",
      "language": "python",
      "name": "python3"
    },
    "language_info": {
      "codemirror_mode": {
        "name": "ipython",
        "version": 3
      },
      "file_extension": ".py",
      "mimetype": "text/x-python",
      "name": "python",
      "nbconvert_exporter": "python",
      "pygments_lexer": "ipython3",
      "version": "3.10.11"
    },
    "colab": {
      "provenance": []
    }
  },
  "nbformat": 4,
  "nbformat_minor": 5
}