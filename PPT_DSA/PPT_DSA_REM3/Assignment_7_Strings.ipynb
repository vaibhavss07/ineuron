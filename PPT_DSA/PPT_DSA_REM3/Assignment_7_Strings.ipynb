{
  "cells": [
    {
      "cell_type": "markdown",
      "id": "2e87f7bd-ced5-4d79-ae82-3226766a0471",
      "metadata": {
        "id": "2e87f7bd-ced5-4d79-ae82-3226766a0471"
      },
      "source": [
        "# Assignment 7 - Strings\n",
        "\n"
      ]
    },
    {
      "cell_type": "markdown",
      "id": "73258056-eed3-4f3f-88d8-ed799755c8d2",
      "metadata": {
        "id": "73258056-eed3-4f3f-88d8-ed799755c8d2"
      },
      "source": [
        "**Q1.** Given two strings s and t, *determine if they are isomorphic*.\n",
        "\n",
        "Two strings s and t are isomorphic if the characters in s can be replaced to get t.\n",
        "\n",
        "All occurrences of a character must be replaced with another character while preserving the order of characters. No two characters may map to the same character, but a character may map to itself.\n",
        "\n",
        "**Example 1:**\n",
        "\n",
        "**Input:** s = \"egg\", t = \"add\"\n",
        "\n",
        "**Output:** true"
      ]
    },
    {
      "cell_type": "code",
      "execution_count": null,
      "id": "ddf0a956",
      "metadata": {
        "id": "ddf0a956",
        "outputId": "5b7e36df-03d0-4888-c2fe-317a63a87a87"
      },
      "outputs": [
        {
          "name": "stdout",
          "output_type": "stream",
          "text": [
            "True\n"
          ]
        }
      ],
      "source": [
        "def isIsomorphic(s, t):\n",
        "    s_to_t = {}\n",
        "    t_to_s = {}\n",
        "\n",
        "    for i in range(len(s)):\n",
        "        if s[i] not in s_to_t and t[i] not in t_to_s:\n",
        "            s_to_t[s[i]] = t[i]\n",
        "            t_to_s[t[i]] = s[i]\n",
        "        elif s[i] in s_to_t and t[i] in t_to_s:\n",
        "            if s_to_t[s[i]] != t[i] or t_to_s[t[i]] != s[i]:\n",
        "                return False\n",
        "        else:\n",
        "            return False\n",
        "\n",
        "    return True\n",
        "\n",
        "s = \"egg\"\n",
        "t = \"add\"\n",
        "print(isIsomorphic(s, t))"
      ]
    },
    {
      "cell_type": "markdown",
      "id": "8c362f94-966e-48b2-8d23-1c5ff9312279",
      "metadata": {
        "id": "8c362f94-966e-48b2-8d23-1c5ff9312279"
      },
      "source": [
        "**Q2.** Given a string num which represents an integer, return true *if* num *is a **strobogrammatic number***.\n",
        "\n",
        "A **strobogrammatic number** is a number that looks the same when rotated 180 degrees (looked at upside down).\n",
        "\n",
        "**Example 1:**\n",
        "\n",
        "**Input:** num = \"69\"\n",
        "\n",
        "**Output:**\n",
        "\n",
        "true"
      ]
    },
    {
      "cell_type": "code",
      "execution_count": null,
      "id": "0e744fa2",
      "metadata": {
        "id": "0e744fa2",
        "outputId": "6829d99b-6406-4d2c-b257-ac797aa91d63"
      },
      "outputs": [
        {
          "name": "stdout",
          "output_type": "stream",
          "text": [
            "True\n"
          ]
        }
      ],
      "source": [
        "def isStrobogrammatic(num):\n",
        "    rotated = \"\"\n",
        "    for c in reversed(num):\n",
        "        if c == '0':\n",
        "            rotated += '0'\n",
        "        elif c == '1':\n",
        "            rotated += '1'\n",
        "        elif c == '6':\n",
        "            rotated += '9'\n",
        "        elif c == '8':\n",
        "            rotated += '8'\n",
        "        elif c == '9':\n",
        "            rotated += '6'\n",
        "        else:\n",
        "            return False\n",
        "\n",
        "    return rotated == num\n",
        "\n",
        "num = \"69\"\n",
        "print(isStrobogrammatic(num))"
      ]
    },
    {
      "cell_type": "markdown",
      "id": "6db71b7c-1b87-4855-97bf-7d6984a6f5ab",
      "metadata": {
        "id": "6db71b7c-1b87-4855-97bf-7d6984a6f5ab"
      },
      "source": [
        "**Q3.** Given two non-negative integers, num1 and num2 represented as string, return *the sum of* num1 *and* num2 *as a string*.\n",
        "\n",
        "You must solve the problem without using any built-in library for handling large integers (such as BigInteger). You must also not convert the inputs to integers directly.\n",
        "\n",
        "**Example 1:**\n",
        "\n",
        "**Input:** num1 = \"11\", num2 = \"123\"\n",
        "\n",
        "**Output:**\n",
        "\n",
        "\"134\""
      ]
    },
    {
      "cell_type": "code",
      "execution_count": null,
      "id": "a7c10c3a",
      "metadata": {
        "id": "a7c10c3a",
        "outputId": "10772d53-c0c4-4462-8d22-afb07c4ce199"
      },
      "outputs": [
        {
          "name": "stdout",
          "output_type": "stream",
          "text": [
            "134\n"
          ]
        }
      ],
      "source": [
        "def addStrings(num1, num2):\n",
        "    result = \"\"\n",
        "    i = len(num1) - 1\n",
        "    j = len(num2) - 1\n",
        "    carry = 0\n",
        "\n",
        "    while i >= 0 or j >= 0 or carry:\n",
        "        digit1 = int(num1[i]) if i >= 0 else 0\n",
        "        digit2 = int(num2[j]) if j >= 0 else 0\n",
        "\n",
        "        total = digit1 + digit2 + carry\n",
        "        result += str(total % 10)\n",
        "        carry = total // 10\n",
        "\n",
        "        i -= 1\n",
        "        j -= 1\n",
        "\n",
        "    return result[::-1]\n",
        "\n",
        "num1 = \"11\"\n",
        "num2 = \"123\"\n",
        "print(addStrings(num1, num2))"
      ]
    },
    {
      "cell_type": "markdown",
      "id": "feac8d2a-68b9-451f-9cfd-5006c153a2fe",
      "metadata": {
        "id": "feac8d2a-68b9-451f-9cfd-5006c153a2fe"
      },
      "source": [
        "**Q4.** Given a string s, reverse the order of characters in each word within a sentence while still preserving whitespace and initial word order.\n",
        "\n",
        "**Example 1:**\n",
        "\n",
        "**Input:** s = \"Let's take LeetCode contest\"\n",
        "\n",
        "**Output:** \"s'teL ekat edoCteeL tsetnoc\""
      ]
    },
    {
      "cell_type": "code",
      "execution_count": null,
      "id": "59f02ca7",
      "metadata": {
        "id": "59f02ca7",
        "outputId": "00c7911e-7164-4c6a-f7e9-30a2bbb2cc3f"
      },
      "outputs": [
        {
          "name": "stdout",
          "output_type": "stream",
          "text": [
            "s'teL ekat edoCteeL tsetnoc\n"
          ]
        }
      ],
      "source": [
        "def reverseWords(s):\n",
        "    words = s.split()\n",
        "    reversed_words = [word[::-1] for word in words]\n",
        "    return ' '.join(reversed_words)\n",
        "\n",
        "s = \"Let's take LeetCode contest\"\n",
        "print(reverseWords(s))"
      ]
    },
    {
      "cell_type": "markdown",
      "id": "9a939710-d615-4d74-920c-49a479b330ec",
      "metadata": {
        "id": "9a939710-d615-4d74-920c-49a479b330ec"
      },
      "source": [
        "**Q5.** Given a string s and an integer k, reverse the first k characters for every 2k characters counting from the start of the string.\n",
        "\n",
        "If there are fewer than k characters left, reverse all of them. If there are less than 2k but greater than or equal to k characters, then reverse the first k characters and leave the other as original.\n",
        "\n",
        "**Example 1:**\n",
        "\n",
        "**Input:** s = \"abcdefg\", k = 2\n",
        "\n",
        "**Output:**\n",
        "\n",
        "\"bacdfeg\""
      ]
    },
    {
      "cell_type": "code",
      "execution_count": null,
      "id": "e4c5d45a",
      "metadata": {
        "id": "e4c5d45a",
        "outputId": "4de58761-88d5-4604-ebf0-8d23cf096408"
      },
      "outputs": [
        {
          "name": "stdout",
          "output_type": "stream",
          "text": [
            "bacdfeg\n"
          ]
        }
      ],
      "source": [
        "def reverseStr(s, k):\n",
        "    s = list(s)\n",
        "    n = len(s)\n",
        "\n",
        "    for i in range(0, n, 2 * k):\n",
        "        s[i:i + k] = s[i:i + k][::-1]\n",
        "\n",
        "    return ''.join(s)\n",
        "\n",
        "s = \"abcdefg\"\n",
        "k = 2\n",
        "print(reverseStr(s, k))"
      ]
    },
    {
      "cell_type": "markdown",
      "id": "2c3a6105-3da2-420b-9a16-fd05a32e2abe",
      "metadata": {
        "id": "2c3a6105-3da2-420b-9a16-fd05a32e2abe"
      },
      "source": [
        "**Q6.** Given two strings s and goal, return true *if and only if* s *can become* goal *after some number of **shifts** on* s.\n",
        "\n",
        "A **shift** on s consists of moving the leftmost character of s to the rightmost position.\n",
        "\n",
        "- For example, if s = \"abcde\", then it will be \"bcdea\" after one shift.\n",
        "\n",
        "**Example 1:**\n",
        "\n",
        "**Input:** s = \"abcde\", goal = \"cdeab\"\n",
        "\n",
        "**Output:**\n",
        "\n",
        "true"
      ]
    },
    {
      "cell_type": "code",
      "execution_count": null,
      "id": "9050fbcc",
      "metadata": {
        "id": "9050fbcc",
        "outputId": "1c000111-430d-4d7e-928a-0b90ac90291e"
      },
      "outputs": [
        {
          "name": "stdout",
          "output_type": "stream",
          "text": [
            "True\n"
          ]
        }
      ],
      "source": [
        "def rotateString(s, goal):\n",
        "    if len(s) != len(goal):\n",
        "        return False\n",
        "\n",
        "    concat = s + s\n",
        "    return goal in concat\n",
        "\n",
        "s = \"abcde\"\n",
        "goal = \"cdeab\"\n",
        "print(rotateString(s, goal))"
      ]
    },
    {
      "cell_type": "markdown",
      "id": "0b54bc36-d585-45ac-92d0-0d7fec82827c",
      "metadata": {
        "id": "0b54bc36-d585-45ac-92d0-0d7fec82827c"
      },
      "source": [
        "**Q7.** Given two strings s and t, return true *if they are equal when both are typed into empty text editors*. '#' means a backspace character.\n",
        "\n",
        "Note that after backspacing an empty text, the text will continue empty.\n",
        "\n",
        "**Example 1:**\n",
        "\n",
        "**Input:** s = \"ab#c\", t = \"ad#c\"\n",
        "\n",
        "**Output:** true\n",
        "\n",
        "**Explanation:**\n",
        "\n",
        "Both s and t become \"ac\"."
      ]
    },
    {
      "cell_type": "code",
      "execution_count": null,
      "id": "d0b59b6b",
      "metadata": {
        "id": "d0b59b6b",
        "outputId": "9b00abd4-29dc-4f39-bc01-c6e6dab97e6d"
      },
      "outputs": [
        {
          "name": "stdout",
          "output_type": "stream",
          "text": [
            "True\n"
          ]
        }
      ],
      "source": [
        "def applyBackspace(s):\n",
        "    result = []\n",
        "    for char in s:\n",
        "        if char != '#':\n",
        "            result.append(char)\n",
        "        elif result:\n",
        "            result.pop()\n",
        "    return ''.join(result)\n",
        "\n",
        "def processString(s, t):\n",
        "    processed_s = applyBackspace(s)\n",
        "    processed_t = applyBackspace(t)\n",
        "    return processed_s == processed_t\n",
        "\n",
        "def backspaceCompare(s, t):\n",
        "    return processString(s, t)\n",
        "\n",
        "s = \"ab#c\"\n",
        "t = \"ad#c\"\n",
        "print(backspaceCompare(s, t))"
      ]
    },
    {
      "cell_type": "markdown",
      "id": "b594ca43-aa94-476c-8756-f15ccd234a30",
      "metadata": {
        "id": "b594ca43-aa94-476c-8756-f15ccd234a30"
      },
      "source": [
        "**Q8.** You are given an array coordinates, coordinates[i] = [x, y], where [x, y] represents the coordinate of a point. Check if these points make a straight line in the XY plane.\n",
        "\n",
        "**Example 1:**\n",
        "\n",
        "![Screenshot_2023-05-29_010117.png](attachment:a9f9367a-71d0-4e02-9b13-cdf27acd2ca0.png)\n",
        "\n",
        "\n",
        "\n",
        "\n"
      ]
    },
    {
      "cell_type": "markdown",
      "id": "3570e868-617a-4865-8957-7e4ed7f890c7",
      "metadata": {
        "id": "3570e868-617a-4865-8957-7e4ed7f890c7"
      },
      "source": [
        "**Input:** coordinates = [[1,2],[2,3],[3,4],[4,5],[5,6],[6,7]]\n",
        "\n",
        "**Output:** true"
      ]
    },
    {
      "cell_type": "code",
      "execution_count": null,
      "id": "f5ce2b26",
      "metadata": {
        "id": "f5ce2b26",
        "outputId": "52411fdb-aee6-484a-d3e0-fa6b5cbdd79d"
      },
      "outputs": [
        {
          "name": "stdout",
          "output_type": "stream",
          "text": [
            "True\n"
          ]
        }
      ],
      "source": [
        "def checkStraightLine(coordinates):\n",
        "    x1, y1 = coordinates[0]\n",
        "    x2, y2 = coordinates[1]\n",
        "    initial_slope = (y2 - y1) / (x2 - x1)\n",
        "\n",
        "    for i in range(2, len(coordinates)):\n",
        "        x1, y1 = coordinates[i - 1]\n",
        "        x2, y2 = coordinates[i]\n",
        "        current_slope = (y2 - y1) / (x2 - x1)\n",
        "        if current_slope != initial_slope:\n",
        "            return False\n",
        "\n",
        "    return True\n",
        "\n",
        "coordinates = [[1, 2], [2, 3], [3, 4], [4, 5], [5, 6], [6, 7]]\n",
        "print(checkStraightLine(coordinates))"
      ]
    },
    {
      "cell_type": "code",
      "execution_count": null,
      "id": "bb9bef33",
      "metadata": {
        "id": "bb9bef33"
      },
      "outputs": [],
      "source": []
    }
  ],
  "metadata": {
    "kernelspec": {
      "display_name": "Python 3 (ipykernel)",
      "language": "python",
      "name": "python3"
    },
    "language_info": {
      "codemirror_mode": {
        "name": "ipython",
        "version": 3
      },
      "file_extension": ".py",
      "mimetype": "text/x-python",
      "name": "python",
      "nbconvert_exporter": "python",
      "pygments_lexer": "ipython3",
      "version": "3.10.11"
    },
    "colab": {
      "provenance": []
    }
  },
  "nbformat": 4,
  "nbformat_minor": 5
}