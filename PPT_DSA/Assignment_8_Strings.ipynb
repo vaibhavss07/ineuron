{
  "cells": [
    {
      "cell_type": "markdown",
      "id": "9135a49e",
      "metadata": {
        "id": "9135a49e"
      },
      "source": [
        "# Assignment 8 - Strings"
      ]
    },
    {
      "cell_type": "markdown",
      "id": "de141bc4",
      "metadata": {
        "id": "de141bc4"
      },
      "source": [
        "**Question 1**\n",
        "\n",
        "Given two strings s1 and s2, return *the lowest **ASCII** sum of deleted characters to make two strings equal*.\n",
        "\n",
        "**Example 1:**\n",
        "\n",
        "**Input:** s1 = \"sea\", s2 = \"eat\"\n",
        "\n",
        "**Output:** 231\n",
        "\n",
        "**Explanation:** Deleting \"s\" from \"sea\" adds the ASCII value of \"s\" (115) to the sum.\n",
        "\n",
        "Deleting \"t\" from \"eat\" adds 116 to the sum.\n",
        "\n",
        "At the end, both strings are equal, and 115 + 116 = 231 is the minimum sum possible to achieve this.\n",
        "\n",
        "\n"
      ]
    },
    {
      "cell_type": "code",
      "execution_count": null,
      "id": "cce63a08",
      "metadata": {
        "id": "cce63a08",
        "outputId": "f2b9647a-b13c-4de1-b8e1-60f6110e0aab"
      },
      "outputs": [
        {
          "name": "stdout",
          "output_type": "stream",
          "text": [
            "231\n"
          ]
        }
      ],
      "source": [
        "def minimumDeleteSum(s1, s2):\n",
        "    m, n = len(s1), len(s2)\n",
        "\n",
        "    # Create a 2D table to store the minimum ASCII sum of deleted characters\n",
        "    dp = [[0] * (n+1) for _ in range(m+1)]\n",
        "\n",
        "    # Initialize the first row and first column of the table\n",
        "    for i in range(1, m+1):\n",
        "        dp[i][0] = dp[i-1][0] + ord(s1[i-1])\n",
        "\n",
        "    for j in range(1, n+1):\n",
        "        dp[0][j] = dp[0][j-1] + ord(s2[j-1])\n",
        "\n",
        "    # Fill in the rest of the table\n",
        "    for i in range(1, m+1):\n",
        "        for j in range(1, n+1):\n",
        "            if s1[i-1] == s2[j-1]:\n",
        "                dp[i][j] = dp[i-1][j-1]\n",
        "            else:\n",
        "                dp[i][j] = min(dp[i-1][j] + ord(s1[i-1]), dp[i][j-1] + ord(s2[j-1]))\n",
        "\n",
        "    return dp[m][n]\n",
        "\n",
        "\n",
        "s1 = \"sea\"\n",
        "s2 = \"eat\"\n",
        "\n",
        "output = minimumDeleteSum(s1, s2)\n",
        "print(output)"
      ]
    },
    {
      "cell_type": "markdown",
      "id": "11962b68",
      "metadata": {
        "id": "11962b68"
      },
      "source": [
        "**Question 2**\n",
        "\n",
        "Given a string s containing only three types of characters: '(', ')' and '*', return true *if* s *is **valid***.\n",
        "\n",
        "The following rules define a **valid** string:\n",
        "\n",
        "- Any left parenthesis '(' must have a corresponding right parenthesis ')'.\n",
        "- Any right parenthesis ')' must have a corresponding left parenthesis '('.\n",
        "- Left parenthesis '(' must go before the corresponding right parenthesis ')'.\n",
        "- '*' could be treated as a single right parenthesis ')' or a single left parenthesis '(' or an empty string \"\".\n",
        "\n",
        "**Example 1:**\n",
        "\n",
        "**Input:** s = \"()\"\n",
        "\n",
        "**Output:**\n",
        "\n",
        "true"
      ]
    },
    {
      "cell_type": "code",
      "execution_count": null,
      "id": "6d44a71d",
      "metadata": {
        "id": "6d44a71d",
        "outputId": "c1cbfd1e-fa65-47c0-98c6-61fd0e5b2fc0"
      },
      "outputs": [
        {
          "name": "stdout",
          "output_type": "stream",
          "text": [
            "True\n"
          ]
        }
      ],
      "source": [
        "def checkValidString(s):\n",
        "    stack = []\n",
        "    star_stack = []\n",
        "\n",
        "    for i, ch in enumerate(s):\n",
        "        if ch == '(':\n",
        "            stack.append(i)\n",
        "        elif ch == '*':\n",
        "            star_stack.append(i)\n",
        "        else:\n",
        "            if stack:\n",
        "                stack.pop()\n",
        "            elif star_stack:\n",
        "                star_stack.pop()\n",
        "            else:\n",
        "                return False\n",
        "\n",
        "    while stack and star_stack:\n",
        "        if stack[-1] > star_stack[-1]:\n",
        "            return False\n",
        "        stack.pop()\n",
        "        star_stack.pop()\n",
        "\n",
        "    return len(stack) == 0\n",
        "\n",
        "s='()'\n",
        "print(checkValidString(s=s))"
      ]
    },
    {
      "cell_type": "markdown",
      "id": "b24e8365",
      "metadata": {
        "id": "b24e8365"
      },
      "source": [
        "**Question 3**\n",
        "\n",
        "Given two strings word1 and word2, return *the minimum number of **steps** required to make* word1 *and* word2 *the same*.\n",
        "\n",
        "In one **step**, you can delete exactly one character in either string.\n",
        "\n",
        "**Example 1:**\n",
        "\n",
        "**Input:** word1 = \"sea\", word2 = \"eat\"\n",
        "\n",
        "**Output:** 2\n",
        "\n",
        "**Explanation:** You need one step to make \"sea\" to \"ea\" and another step to make \"eat\" to \"ea\".\n"
      ]
    },
    {
      "cell_type": "code",
      "execution_count": null,
      "id": "c204e3f5",
      "metadata": {
        "id": "c204e3f5",
        "outputId": "b38c6b1e-581d-4be1-f6e7-2a6959564f54"
      },
      "outputs": [
        {
          "name": "stdout",
          "output_type": "stream",
          "text": [
            "2\n"
          ]
        }
      ],
      "source": [
        "def minDistance(word1, word2):\n",
        "    m, n = len(word1), len(word2)\n",
        "    dp = [[0] * (n + 1) for _ in range(m + 1)]\n",
        "\n",
        "    for i in range(1, m + 1):\n",
        "        for j in range(1, n + 1):\n",
        "            if word1[i - 1] == word2[j - 1]:\n",
        "                dp[i][j] = dp[i - 1][j - 1] + 1\n",
        "            else:\n",
        "                dp[i][j] = max(dp[i - 1][j], dp[i][j - 1])\n",
        "\n",
        "    lcs_length = dp[m][n]\n",
        "    return m + n - 2 * lcs_length\n",
        "\n",
        "word1 = \"sea\"\n",
        "word2 = \"eat\"\n",
        "print(minDistance(word1=word1,word2=word2))"
      ]
    },
    {
      "cell_type": "markdown",
      "id": "36e13163",
      "metadata": {
        "id": "36e13163"
      },
      "source": [
        "**Question 4**\n",
        "\n",
        "You need to construct a binary tree from a string consisting of parenthesis and integers.\n",
        "\n",
        "The whole input represents a binary tree. It contains an integer followed by zero, one or two pairs of parenthesis. The integer represents the root's value and a pair of parenthesis contains a child binary tree with the same structure.\n",
        "You always start to construct the **left** child node of the parent first if it exists.\n",
        "\n",
        "        "
      ]
    },
    {
      "cell_type": "markdown",
      "id": "0f95c362",
      "metadata": {
        "id": "0f95c362"
      },
      "source": [
        "![Screenshot 2023-05-29 010548.png](<attachment:Screenshot 2023-05-29 010548.png>)"
      ]
    },
    {
      "cell_type": "markdown",
      "id": "2d60904a",
      "metadata": {
        "id": "2d60904a"
      },
      "source": [
        "**Input:** s = \"4(2(3)(1))(6(5))\"\n",
        "\n",
        "**Output:** [4,2,6,3,1,5]"
      ]
    },
    {
      "cell_type": "raw",
      "id": "d4068946",
      "metadata": {
        "id": "d4068946"
      },
      "source": [
        "class TreeNode:\n",
        "    def __init__(self, val=0, left=None, right=None):\n",
        "        self.val = val\n",
        "        self.left = left\n",
        "        self.right = right\n",
        "\n",
        "def constructTree(s):\n",
        "    if not s:\n",
        "        return None\n",
        "\n",
        "    # Find the index of the first opening parenthesis\n",
        "    index = s.find('(')\n",
        "\n",
        "    if index == -1:\n",
        "        # No opening parenthesis found, so the entire string represents a single node\n",
        "        return TreeNode(int(s))\n",
        "\n",
        "    # Create the root node with the value before the opening parenthesis\n",
        "    root = TreeNode(int(s[:index]))\n",
        "\n",
        "    count = 0\n",
        "    start = index\n",
        "\n",
        "    for i in range(index, len(s)):\n",
        "        if s[i] == '(':\n",
        "            count += 1\n",
        "        elif s[i] == ')':\n",
        "            count -= 1\n",
        "\n",
        "        if count == 0:\n",
        "            # Found the closing parenthesis for the current child subtree\n",
        "            if start == index:\n",
        "                # Recursively construct the left child subtree\n",
        "                root.left = constructTree(s[start+1:i])\n",
        "            else:\n",
        "                # Recursively construct the right child subtree\n",
        "                root.right = constructTree(s[start+1:i])\n",
        "\n",
        "            # Update the start index for the next child subtree\n",
        "            start = i + 1\n",
        "\n",
        "    return root"
      ]
    },
    {
      "cell_type": "markdown",
      "id": "2a575db8",
      "metadata": {
        "id": "2a575db8"
      },
      "source": [
        "**Question 5**\n",
        "\n",
        "Given an array of characters chars, compress it using the following algorithm:\n",
        "\n",
        "Begin with an empty string s. For each group of **consecutive repeating characters** in chars:\n",
        "\n",
        "- If the group's length is 1, append the character to s.\n",
        "- Otherwise, append the character followed by the group's length.\n",
        "\n",
        "The compressed string s **should not be returned separately**, but instead, be stored **in the input character array chars**. Note that group lengths that are 10 or longer will be split into multiple characters in chars.\n",
        "\n",
        "After you are done **modifying the input array,** return *the new length of the array*.\n",
        "\n",
        "You must write an algorithm that uses only constant extra space.\n",
        "\n",
        "**Example 1:**\n",
        "\n",
        "**Input:** chars = [\"a\",\"a\",\"b\",\"b\",\"c\",\"c\",\"c\"]\n",
        "\n",
        "**Output:** Return 6, and the first 6 characters of the input array should be: [\"a\",\"2\",\"b\",\"2\",\"c\",\"3\"]\n",
        "\n",
        "**Explanation:**\n",
        "\n",
        "The groups are \"aa\", \"bb\", and \"ccc\". This compresses to \"a2b2c3\"."
      ]
    },
    {
      "cell_type": "code",
      "execution_count": null,
      "id": "29c86750",
      "metadata": {
        "id": "29c86750",
        "outputId": "d08a82a9-e72b-44b5-c4fb-c5a73be76dff"
      },
      "outputs": [
        {
          "name": "stdout",
          "output_type": "stream",
          "text": [
            "6\n"
          ]
        }
      ],
      "source": [
        "def compress(chars):\n",
        "    read = write = 0\n",
        "    count = 1\n",
        "\n",
        "    for i in range(1, len(chars)):\n",
        "        if chars[i] == chars[read]:\n",
        "            count += 1\n",
        "        else:\n",
        "            chars[write] = chars[read]\n",
        "            write += 1\n",
        "\n",
        "            if count > 1:\n",
        "                count_str = str(count)\n",
        "                for digit in count_str:\n",
        "                    chars[write] = digit\n",
        "                    write += 1\n",
        "\n",
        "            count = 1\n",
        "            read = i\n",
        "\n",
        "    chars[write] = chars[read]\n",
        "    write += 1\n",
        "\n",
        "    if count > 1:\n",
        "        count_str = str(count)\n",
        "        for digit in count_str:\n",
        "            chars[write] = digit\n",
        "            write += 1\n",
        "\n",
        "    return write\n",
        "\n",
        "chars = [\"a\",\"a\",\"b\",\"b\",\"c\",\"c\",\"c\"]\n",
        "print(compress(chars=chars))"
      ]
    },
    {
      "cell_type": "markdown",
      "id": "83d2b9fa",
      "metadata": {
        "id": "83d2b9fa"
      },
      "source": [
        "**Question 6**\n",
        "\n",
        "Given two strings s and p, return *an array of all the start indices of* p*'s anagrams in* s. You may return the answer in **any order**.\n",
        "\n",
        "An **Anagram** is a word or phrase formed by rearranging the letters of a different word or phrase, typically using all the original letters exactly once.\n",
        "\n",
        "**Example 1:**\n",
        "\n",
        "**Input:** s = \"cbaebabacd\", p = \"abc\"\n",
        "\n",
        "**Output:** [0,6]\n",
        "\n",
        "**Explanation:**\n",
        "\n",
        "The substring with start index = 0 is \"cba\", which is an anagram of \"abc\".\n",
        "\n",
        "The substring with start index = 6 is \"bac\", which is an anagram of \"abc\".\n",
        "\n"
      ]
    },
    {
      "cell_type": "code",
      "execution_count": null,
      "id": "5d3d50c4",
      "metadata": {
        "id": "5d3d50c4",
        "outputId": "fceefa34-e4b3-4cd6-983c-b1f5565af31a"
      },
      "outputs": [
        {
          "name": "stdout",
          "output_type": "stream",
          "text": [
            "[0, 6]\n"
          ]
        }
      ],
      "source": [
        "from collections import Counter\n",
        "\n",
        "def findAnagrams(s, p):\n",
        "    targetFreq = Counter(p)\n",
        "    windowFreq = Counter()\n",
        "    left = right = 0\n",
        "    count = 0\n",
        "    result = []\n",
        "\n",
        "    while right < len(s):\n",
        "        if s[right] in targetFreq:\n",
        "            windowFreq[s[right]] += 1\n",
        "            if windowFreq[s[right]] <= targetFreq[s[right]]:\n",
        "                count += 1\n",
        "\n",
        "        if right - left + 1 == len(p):\n",
        "            if count == len(p):\n",
        "                result.append(left)\n",
        "\n",
        "            if s[left] in targetFreq:\n",
        "                windowFreq[s[left]] -= 1\n",
        "                if windowFreq[s[left]] < targetFreq[s[left]]:\n",
        "                    count -= 1\n",
        "\n",
        "            left += 1\n",
        "\n",
        "        right += 1\n",
        "\n",
        "    return result\n",
        "\n",
        "s = \"cbaebabacd\"\n",
        "p = \"abc\"\n",
        "print(findAnagrams(s=s,p=p))"
      ]
    },
    {
      "cell_type": "markdown",
      "id": "e19a6e12",
      "metadata": {
        "id": "e19a6e12"
      },
      "source": [
        "**Question 7**\n",
        "\n",
        "Given an encoded string, return its decoded string.\n",
        "\n",
        "The encoding rule is: k[encoded_string], where the encoded_string inside the square brackets is being repeated exactly k times. Note that k is guaranteed to be a positive integer.\n",
        "\n",
        "You may assume that the input string is always valid; there are no extra white spaces, square brackets are well-formed, etc. Furthermore, you may assume that the original data does not contain any digits and that digits are only for those repeat numbers, k. For example, there will not be input like 3a or 2[4].\n",
        "\n",
        "The test cases are generated so that the length of the output will never exceed 105.\n",
        "\n",
        "**Example 1:**\n",
        "\n",
        "**Input:** s = \"3[a]2[bc]\"\n",
        "\n",
        "**Output:** \"aaabcbc\""
      ]
    },
    {
      "cell_type": "code",
      "execution_count": null,
      "id": "dbd54ef0",
      "metadata": {
        "id": "dbd54ef0",
        "outputId": "fc38708a-20fa-4050-cb17-ad29dc332aef"
      },
      "outputs": [
        {
          "name": "stdout",
          "output_type": "stream",
          "text": [
            "aaabcbc\n"
          ]
        }
      ],
      "source": [
        "def decodeString(s):\n",
        "    stack = []\n",
        "\n",
        "    for c in s:\n",
        "        if c != ']':\n",
        "            stack.append(c)\n",
        "        else:\n",
        "            repetition = ''\n",
        "            while stack[-1] != '[':\n",
        "                repetition = stack.pop() + repetition\n",
        "            stack.pop()  # Remove '['\n",
        "\n",
        "            count = ''\n",
        "            while stack and stack[-1].isdigit():\n",
        "                count = stack.pop() + count\n",
        "            count = int(count)\n",
        "\n",
        "            repeated_string = repetition * count\n",
        "            stack.append(repeated_string)\n",
        "\n",
        "    return ''.join(stack)\n",
        "\n",
        "s = \"3[a]2[bc]\"\n",
        "print(decodeString(s=s))"
      ]
    },
    {
      "cell_type": "markdown",
      "id": "fb1d0027",
      "metadata": {
        "id": "fb1d0027"
      },
      "source": [
        "**Question 8**\n",
        "\n",
        "Given two strings s and goal, return true *if you can swap two letters in* s *so the result is equal to* goal*, otherwise, return* false*.*\n",
        "\n",
        "Swapping letters is defined as taking two indices i and j (0-indexed) such that i != j and swapping the characters at s[i] and s[j].\n",
        "\n",
        "- For example, swapping at indices 0 and 2 in \"abcd\" results in \"cbad\".\n",
        "\n",
        "**Example 1:**\n",
        "\n",
        "**Input:** s = \"ab\", goal = \"ba\"\n",
        "\n",
        "**Output:** true\n",
        "\n",
        "**Explanation:** You can swap s[0] = 'a' and s[1] = 'b' to get \"ba\", which is equal to goal."
      ]
    },
    {
      "cell_type": "code",
      "execution_count": null,
      "id": "f0111e6f",
      "metadata": {
        "id": "f0111e6f",
        "outputId": "d0ccff20-c7c7-4cc1-fac0-1769033d6a03"
      },
      "outputs": [
        {
          "name": "stdout",
          "output_type": "stream",
          "text": [
            "True\n"
          ]
        }
      ],
      "source": [
        "def buddyStrings(s, goal):\n",
        "    if len(s) != len(goal):\n",
        "        return False\n",
        "\n",
        "    diff_s = []\n",
        "    diff_goal = []\n",
        "\n",
        "    for i in range(len(s)):\n",
        "        if s[i] != goal[i]:\n",
        "            diff_s.append(i)\n",
        "            diff_goal.append(i)\n",
        "\n",
        "    if len(diff_s) != 2 or len(diff_goal) != 2:\n",
        "        return False\n",
        "\n",
        "    if s[diff_s[0]] == goal[diff_goal[1]] and s[diff_s[1]] == goal[diff_goal[0]]:\n",
        "        return True\n",
        "\n",
        "    return False\n",
        "\n",
        "s = \"ab\"\n",
        "goal = \"ba\"\n",
        "print(buddyStrings(s=s,goal=goal))"
      ]
    }
  ],
  "metadata": {
    "kernelspec": {
      "display_name": "Python 3 (ipykernel)",
      "language": "python",
      "name": "python3"
    },
    "language_info": {
      "codemirror_mode": {
        "name": "ipython",
        "version": 3
      },
      "file_extension": ".py",
      "mimetype": "text/x-python",
      "name": "python",
      "nbconvert_exporter": "python",
      "pygments_lexer": "ipython3",
      "version": "3.10.11"
    },
    "colab": {
      "provenance": []
    }
  },
  "nbformat": 4,
  "nbformat_minor": 5
}