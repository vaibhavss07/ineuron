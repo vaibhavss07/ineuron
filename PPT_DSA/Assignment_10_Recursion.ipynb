{
  "cells": [
    {
      "cell_type": "markdown",
      "id": "63eb0522",
      "metadata": {
        "id": "63eb0522"
      },
      "source": [
        "# Assignment 10 - Recursion"
      ]
    },
    {
      "cell_type": "markdown",
      "id": "1d1d3a48",
      "metadata": {
        "id": "1d1d3a48"
      },
      "source": [
        "**Question 1**\n",
        "\n",
        "Given an integer `n`, return *`true` if it is a power of three. Otherwise, return `false`*.\n",
        "\n",
        "An integer `n` is a power of three, if there exists an integer `x` such that `n == 3x`.\n",
        "\n",
        "**Example 1:**\n",
        "\n",
        "```\n",
        "Input: n = 27\n",
        "Output: true\n",
        "Explanation: 27 = 33\n",
        "```\n",
        "\n",
        "**Example 2:**\n",
        "\n",
        "```\n",
        "Input: n = 0\n",
        "Output: false\n",
        "Explanation: There is no x where 3x = 0.\n",
        "\n",
        "```\n",
        "\n",
        "**Example 3:**\n",
        "\n",
        "```\n",
        "Input: n = -1\n",
        "Output: false\n",
        "Explanation: There is no x where 3x = (-1).\n",
        "```"
      ]
    },
    {
      "cell_type": "code",
      "execution_count": null,
      "id": "ed32309b",
      "metadata": {
        "id": "ed32309b",
        "outputId": "79a0588f-b30d-4d12-c0dd-87df7d46f697"
      },
      "outputs": [
        {
          "name": "stdout",
          "output_type": "stream",
          "text": [
            "True\n"
          ]
        }
      ],
      "source": [
        "import math\n",
        "\n",
        "def is_power_of_three(n):\n",
        "    if n <= 0:\n",
        "        return False\n",
        "    # Calculate the logarithm base 3 of n\n",
        "    log = math.log(n, 3)\n",
        "    # Check if the logarithm is an integer\n",
        "    return math.isclose(log, round(log))\n",
        "\n",
        "# Example usage\n",
        "n = 27\n",
        "result = is_power_of_three(n)\n",
        "print(result)"
      ]
    },
    {
      "cell_type": "markdown",
      "id": "637b2890",
      "metadata": {
        "id": "637b2890"
      },
      "source": [
        "**Question 2**\n",
        "\n",
        "You have a list `arr` of all integers in the range `[1, n]` sorted in a strictly increasing order. Apply the following algorithm on `arr`:\n",
        "\n",
        "- Starting from left to right, remove the first number and every other number afterward until you reach the end of the list.\n",
        "- Repeat the previous step again, but this time from right to left, remove the rightmost number and every other number from the remaining numbers.\n",
        "- Keep repeating the steps again, alternating left to right and right to left, until a single number remains.\n",
        "\n",
        "Given the integer `n`, return *the last number that remains in* `arr`.\n",
        "\n",
        "**Example 1:**\n",
        "\n",
        "```\n",
        "Input: n = 9\n",
        "Output: 6\n",
        "Explanation:\n",
        "arr = [1, 2,3, 4,5, 6,7, 8,9]\n",
        "arr = [2,4, 6,8]\n",
        "arr = [2, 6]\n",
        "arr = [6]\n",
        "\n",
        "```\n",
        "\n",
        "**Example 2:**\n",
        "\n",
        "```\n",
        "Input: n = 1\n",
        "Output: 1\n",
        "```\n",
        "\n",
        "</aside>"
      ]
    },
    {
      "cell_type": "code",
      "execution_count": null,
      "id": "20706f19",
      "metadata": {
        "id": "20706f19",
        "outputId": "17240060-b88a-4708-dbf5-bfc8041fd9bc"
      },
      "outputs": [
        {
          "name": "stdout",
          "output_type": "stream",
          "text": [
            "1\n"
          ]
        }
      ],
      "source": [
        "def lastRemaining(n):\n",
        "    if n == 1:\n",
        "        return 1\n",
        "\n",
        "    return 2 * lastRemaining(n // 2)\n",
        "\n",
        "# Example usage\n",
        "n = 1\n",
        "result = lastRemaining(n)\n",
        "print(result)"
      ]
    },
    {
      "cell_type": "markdown",
      "id": "32cef103",
      "metadata": {
        "id": "32cef103"
      },
      "source": [
        "**Question 3**\n",
        "\n",
        "Given a set represented as a string, write a recursive code to print all subsets of it. The subsets can be printed in any order.\n",
        "\n",
        "**Example 1:**\n",
        "\n",
        "Input :  set = “abc”\n",
        "\n",
        "Output : { “”, “a”, “b”, “c”, “ab”, “ac”, “bc”, “abc”}\n",
        "\n",
        "**Example 2:**\n",
        "\n",
        "Input : set = “abcd”\n",
        "\n",
        "Output : { “”, “a” ,”ab” ,”abc” ,”abcd”, “abd” ,”ac” ,”acd”, “ad” ,”b”, “bc” ,”bcd” ,”bd” ,”c” ,”cd” ,”d” }\n"
      ]
    },
    {
      "cell_type": "code",
      "execution_count": null,
      "id": "e7985307",
      "metadata": {
        "id": "e7985307",
        "outputId": "44c104e1-7aac-4b5d-f7fd-ce510128acba"
      },
      "outputs": [
        {
          "name": "stdout",
          "output_type": "stream",
          "text": [
            "['', 'a', 'b', 'ab', 'c', 'ac', 'bc', 'abc']\n"
          ]
        }
      ],
      "source": [
        "def print_subsets(set_str):\n",
        "    if not set_str:\n",
        "        return [\"\"]\n",
        "\n",
        "    first_char = set_str[0]\n",
        "    remaining_chars = set_str[1:]\n",
        "\n",
        "    subsets_remaining = print_subsets(remaining_chars)\n",
        "\n",
        "    subsets = []\n",
        "    for subset in subsets_remaining:\n",
        "        subsets.append(subset)\n",
        "        subsets.append(first_char + subset)\n",
        "\n",
        "    return subsets\n",
        "\n",
        "# Example usage\n",
        "set_str = \"abc\"\n",
        "subsets = print_subsets(set_str)\n",
        "print(subsets)"
      ]
    },
    {
      "cell_type": "markdown",
      "id": "1f84ad9e",
      "metadata": {
        "id": "1f84ad9e"
      },
      "source": [
        "**Question 4**\n",
        "\n",
        "Given a string calculate length of the string using recursion.\n",
        "\n",
        "**Examples:**\n",
        "\n",
        "Input : str = \"abcd\"\n",
        "Output :4\n",
        "\n",
        "Input : str = \"GEEKSFORGEEKS\"\n",
        "Output :13"
      ]
    },
    {
      "cell_type": "code",
      "execution_count": null,
      "id": "92244051",
      "metadata": {
        "id": "92244051",
        "outputId": "709bec3a-9977-4cbb-e7f9-99ce9008e4a3"
      },
      "outputs": [
        {
          "name": "stdout",
          "output_type": "stream",
          "text": [
            "13\n"
          ]
        }
      ],
      "source": [
        "def string_length(string):\n",
        "    # Base case: empty string\n",
        "    if string == \"\":\n",
        "        return 0\n",
        "    # Recursive case: remove the first character and calculate length of the remaining string\n",
        "    else:\n",
        "        return 1 + string_length(string[1:])\n",
        "\n",
        "# Example usage\n",
        "string = \"Hello, World!\"\n",
        "length = string_length(string)\n",
        "print(length)"
      ]
    },
    {
      "cell_type": "markdown",
      "id": "5a13d27d",
      "metadata": {
        "id": "5a13d27d"
      },
      "source": [
        "**Question 5**\n",
        "\n",
        "We are given a string S, we need to find count of all contiguous substrings starting and ending with same character.\n",
        "\n",
        "**Examples :**\n",
        "\n",
        "```\n",
        "Input  : S = \"abcab\"\n",
        "Output : 7\n",
        "There are 15 substrings of \"abcab\"\n",
        "a, ab, abc, abca, abcab, b, bc, bca\n",
        "bcab, c, ca, cab, a, ab, b\n",
        "Out of the above substrings, there\n",
        "are 7 substrings : a, abca, b, bcab,\n",
        "c, a and b.\n",
        "\n",
        "Input  : S = \"aba\"\n",
        "Output : 4\n",
        "The substrings are a, b, a and aba\n",
        "```"
      ]
    },
    {
      "cell_type": "code",
      "execution_count": null,
      "id": "5a0dfd9e",
      "metadata": {
        "id": "5a0dfd9e",
        "outputId": "38618350-bb53-4dbb-cee8-4099ebb3557e"
      },
      "outputs": [
        {
          "name": "stdout",
          "output_type": "stream",
          "text": [
            "7\n"
          ]
        }
      ],
      "source": [
        "def count_substrings(s):\n",
        "    count = 0\n",
        "    n = len(s)\n",
        "\n",
        "    # Iterate over all possible substrings\n",
        "    for i in range(n):\n",
        "        for j in range(i, n):\n",
        "            # Check if the substring starts and ends with the same character\n",
        "            if s[i] == s[j]:\n",
        "                count += 1\n",
        "\n",
        "    return count\n",
        "\n",
        "# Example usage\n",
        "string = \"abcab\"\n",
        "count = count_substrings(string)\n",
        "print(count)"
      ]
    },
    {
      "cell_type": "markdown",
      "id": "64738111",
      "metadata": {
        "id": "64738111"
      },
      "source": [
        "**Question 6**\n",
        "\n",
        "The [tower of Hanoi](https://en.wikipedia.org/wiki/Tower_of_Hanoi) is a famous puzzle where we have three rods and **N** disks. The objective of the puzzle is to move the entire stack to another rod. You are given the number of discs **N**. Initially, these discs are in the rod 1. You need to print all the steps of discs movement so that all the discs reach the 3rd rod. Also, you need to find the total moves.**Note:** The discs are arranged such that the **top disc is numbered 1** and the **bottom-most disc is numbered N**. Also, all the discs have **different sizes** and a bigger disc **cannot** be put on the top of a smaller disc. Refer the provided link to get a better clarity about the puzzle.\n",
        "\n",
        "**Example 1:**\n",
        "\n",
        "```\n",
        "Input:\n",
        "N = 2\n",
        "Output:\n",
        "move disk 1 from rod 1 to rod 2\n",
        "move disk 2 from rod 1 to rod 3\n",
        "move disk 1 from rod 2 to rod 3\n",
        "3\n",
        "Explanation:For N=2 , steps will be\n",
        "as follows in the example and total\n",
        "3 steps will be taken.\n",
        "```\n",
        "\n",
        "**Example 2:**\n",
        "\n",
        "```\n",
        "Input:\n",
        "N = 3\n",
        "Output:\n",
        "move disk 1 from rod 1 to rod 3\n",
        "move disk 2 from rod 1 to rod 2\n",
        "move disk 1 from rod 3 to rod 2\n",
        "move disk 3 from rod 1 to rod 3\n",
        "move disk 1 from rod 2 to rod 1\n",
        "move disk 2 from rod 2 to rod 3\n",
        "move disk 1 from rod 1 to rod 3\n",
        "7\n",
        "Explanation:For N=3 , steps will be\n",
        "as follows in the example and total\n",
        "7 steps will be taken.\n",
        "```"
      ]
    },
    {
      "cell_type": "code",
      "execution_count": null,
      "id": "3e1ef05c",
      "metadata": {
        "id": "3e1ef05c",
        "outputId": "2b9da888-afe9-42ca-bfc5-a7c6badeded8"
      },
      "outputs": [
        {
          "name": "stdout",
          "output_type": "stream",
          "text": [
            "Move disk 1 from 1 to 3\n",
            "Move disk 2 from 1 to 2\n",
            "Move disk 1 from 3 to 2\n",
            "Move disk 3 from 1 to 3\n",
            "Move disk 1 from 2 to 1\n",
            "Move disk 2 from 2 to 3\n",
            "Move disk 1 from 1 to 3\n",
            "Total moves: 7\n"
          ]
        }
      ],
      "source": [
        "def tower_of_hanoi(n, source, auxiliary, destination):\n",
        "    if n == 1:\n",
        "        print(f\"Move disk 1 from {source} to {destination}\")\n",
        "        return 1\n",
        "\n",
        "    moves = 0\n",
        "\n",
        "    moves += tower_of_hanoi(n - 1, source, destination, auxiliary)\n",
        "\n",
        "    print(f\"Move disk {n} from {source} to {destination}\")\n",
        "    moves += 1\n",
        "\n",
        "    moves += tower_of_hanoi(n - 1, auxiliary, source, destination)\n",
        "\n",
        "    return moves\n",
        "\n",
        "# Example usage\n",
        "n = 3\n",
        "source = '1'\n",
        "auxiliary = '2'\n",
        "destination = '3'\n",
        "\n",
        "total_moves = tower_of_hanoi(n, source, auxiliary, destination)\n",
        "print(f\"Total moves: {total_moves}\")"
      ]
    },
    {
      "cell_type": "markdown",
      "id": "83b7964e",
      "metadata": {
        "id": "83b7964e"
      },
      "source": [
        "**Question 7**\n",
        "\n",
        "Given a string **str**, the task is to print all the permutations of **str**. A **permutation** is an arrangement of all or part of a set of objects, with regard to the order of the arrangement. For instance, the words ‘bat’ and ‘tab’ represents two distinct permutation (or arrangements) of a similar three letter word.\n",
        "\n",
        "**Examples:**\n",
        "\n",
        "> Input: str = “cd”\n",
        ">\n",
        ">\n",
        "> **Output:** cd dc\n",
        ">\n",
        "> **Input:** str = “abb”\n",
        ">\n",
        "> **Output:** abb abb bab bba bab bba\n",
        ">\n",
        "</aside>"
      ]
    },
    {
      "cell_type": "code",
      "execution_count": null,
      "id": "f037ecf4",
      "metadata": {
        "id": "f037ecf4",
        "outputId": "f1a3be00-3283-412f-8c24-bf100720143a"
      },
      "outputs": [
        {
          "name": "stdout",
          "output_type": "stream",
          "text": [
            "cd dc "
          ]
        }
      ],
      "source": [
        "def print_permutations(string):\n",
        "    permutations = []\n",
        "    backtrack(list(string), 0, len(string) - 1, permutations)\n",
        "    for permutation in permutations:\n",
        "        print(permutation, end=\" \")\n",
        "\n",
        "def backtrack(string_list, left, right, permutations):\n",
        "    if left == right:\n",
        "        permutations.append(''.join(string_list))\n",
        "    else:\n",
        "        for i in range(left, right + 1):\n",
        "            string_list[left], string_list[i] = string_list[i], string_list[left]\n",
        "            backtrack(string_list, left + 1, right, permutations)\n",
        "            string_list[left], string_list[i] = string_list[i], string_list[left]\n",
        "\n",
        "# Example usage\n",
        "str = \"cd\"\n",
        "print_permutations(str)"
      ]
    },
    {
      "cell_type": "markdown",
      "id": "39529461",
      "metadata": {
        "id": "39529461"
      },
      "source": [
        "**Question 8**\n",
        "\n",
        "Given a string, count total number of consonants in it. A consonant is an English alphabet character that is not vowel (a, e, i, o and u). Examples of constants are b, c, d, f, and g.\n",
        "\n",
        "**Examples :**\n",
        "\n",
        "```\n",
        "Input : abc de\n",
        "Output : 3\n",
        "There are three consonants b, c and d.\n",
        "\n",
        "Input : geeksforgeeks portal\n",
        "Output : 12\n",
        "```"
      ]
    },
    {
      "cell_type": "code",
      "execution_count": null,
      "id": "ab643a2f",
      "metadata": {
        "id": "ab643a2f",
        "outputId": "92a75e8f-baf7-4b52-de06-ee32cb7e67eb"
      },
      "outputs": [
        {
          "name": "stdout",
          "output_type": "stream",
          "text": [
            "Number of consonants: 3\n"
          ]
        }
      ],
      "source": [
        "def count_consonants(s):\n",
        "    consonants = 0\n",
        "    vowels = \"aeiouAEIOU\"\n",
        "\n",
        "    for char in s:\n",
        "        if char.isalpha() and char not in vowels:\n",
        "            consonants += 1\n",
        "\n",
        "    return consonants\n",
        "\n",
        "# Example usage\n",
        "str = \"abc de\"\n",
        "consonant_count = count_consonants(str)\n",
        "print(\"Number of consonants:\", consonant_count)"
      ]
    },
    {
      "cell_type": "markdown",
      "id": "fd98080f",
      "metadata": {
        "id": "fd98080f"
      },
      "source": []
    }
  ],
  "metadata": {
    "kernelspec": {
      "display_name": "Python 3 (ipykernel)",
      "language": "python",
      "name": "python3"
    },
    "language_info": {
      "codemirror_mode": {
        "name": "ipython",
        "version": 3
      },
      "file_extension": ".py",
      "mimetype": "text/x-python",
      "name": "python",
      "nbconvert_exporter": "python",
      "pygments_lexer": "ipython3",
      "version": "3.10.11"
    },
    "colab": {
      "provenance": []
    }
  },
  "nbformat": 4,
  "nbformat_minor": 5
}