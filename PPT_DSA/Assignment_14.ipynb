{
  "nbformat": 4,
  "nbformat_minor": 0,
  "metadata": {
    "colab": {
      "provenance": []
    },
    "kernelspec": {
      "name": "python3",
      "display_name": "Python 3"
    },
    "language_info": {
      "name": "python"
    }
  },
  "cells": [
    {
      "cell_type": "markdown",
      "source": [
        "<aside>\n",
        "💡 **Question 1**\n",
        "\n",
        "Given a linked list of **N** nodes such that it may contain a loop.\n",
        "\n",
        "A loop here means that the last node of the link list is connected to the node at position X(1-based index). If the link list does not have any loop, X=0.\n",
        "\n",
        "Remove the loop from the linked list, if it is present, i.e. unlink the last node which is forming the loop.\n",
        "\n",
        "**Example 1:**\n",
        "\n",
        "```\n",
        "Input:\n",
        "N = 3\n",
        "value[] = {1,3,4}\n",
        "X = 2\n",
        "Output:1\n",
        "Explanation:The link list looks like\n",
        "1 -> 3 -> 4\n",
        "     ^    |\n",
        "     |____|\n",
        "A loop is present. If you remove it\n",
        "successfully, the answer will be 1.\n",
        "\n",
        "```\n",
        "\n",
        "**Example 2:**\n",
        "\n",
        "```\n",
        "Input:\n",
        "N = 4\n",
        "value[] = {1,8,3,4}\n",
        "X = 0\n",
        "Output:1\n",
        "Explanation:The Linked list does not\n",
        "contains any loop.\n",
        "```\n",
        "\n",
        "**Example 3:**\n",
        "\n",
        "</aside>"
      ],
      "metadata": {
        "id": "thfqRghObqRO"
      }
    },
    {
      "cell_type": "code",
      "execution_count": 1,
      "metadata": {
        "colab": {
          "base_uri": "https://localhost:8080/"
        },
        "id": "UjDo3-etbgKW",
        "outputId": "09d3963a-8f70-4562-e40b-21e129c5555e"
      },
      "outputs": [
        {
          "output_type": "stream",
          "name": "stdout",
          "text": [
            "Loop removed successfully\n"
          ]
        }
      ],
      "source": [
        "class Node:\n",
        "    def __init__(self, value):\n",
        "        self.value = value\n",
        "        self.next = None\n",
        "\n",
        "def detect_and_remove_loop(head):\n",
        "    slow = head\n",
        "    fast = head\n",
        "\n",
        "    while fast and fast.next:\n",
        "        slow = slow.next\n",
        "        fast = fast.next.next\n",
        "\n",
        "        if slow == fast:\n",
        "            break\n",
        "\n",
        "    if fast is None:\n",
        "        return False\n",
        "\n",
        "    # Find the entry point of the loop\n",
        "    slow = head\n",
        "    while slow != fast:\n",
        "        slow = slow.next\n",
        "        fast = fast.next\n",
        "\n",
        "    # Break the loop by making the next pointer of the entry point node to None\n",
        "    fast.next = None\n",
        "\n",
        "    return True\n",
        "\n",
        "def main():\n",
        "    head = Node(1)\n",
        "    head.next = Node(3)\n",
        "    head.next.next = Node(4)\n",
        "    head.next.next.next = head\n",
        "\n",
        "    if detect_and_remove_loop(head):\n",
        "        print(\"Loop removed successfully\")\n",
        "    else:\n",
        "        print(\"No loop exists\")\n",
        "\n",
        "if __name__ == \"__main__\":\n",
        "    main()\n"
      ]
    },
    {
      "cell_type": "markdown",
      "source": [
        "<aside>\n",
        "💡 **Question 2**\n",
        "\n",
        "A number **N** is represented in Linked List such that each digit corresponds to a node in linked list. You need to add 1 to it.\n",
        "\n",
        "**Example 1:**\n",
        "\n",
        "```\n",
        "Input:\n",
        "LinkedList: 4->5->6\n",
        "Output:457\n",
        "\n",
        "```\n",
        "\n",
        "**Example 2:**\n",
        "\n",
        "</aside>"
      ],
      "metadata": {
        "id": "RvQcJjO_b5KG"
      }
    },
    {
      "cell_type": "code",
      "source": [
        "class Node:\n",
        "    def __init__(self, value):\n",
        "        self.value = value\n",
        "        self.next = None\n",
        "\n",
        "def add_one(head):\n",
        "    carry = 1\n",
        "    prev = None\n",
        "    curr = head\n",
        "\n",
        "    while curr:\n",
        "        next_val = curr.value + carry\n",
        "        carry = next_val // 10\n",
        "        next_val %= 10\n",
        "        curr.value = next_val\n",
        "        prev = curr\n",
        "        curr = curr.next\n",
        "\n",
        "    if carry:\n",
        "        prev.next = Node(carry)\n",
        "\n",
        "    return head\n",
        "\n",
        "def main():\n",
        "    head = Node(4)\n",
        "    head.next = Node(5)\n",
        "    head.next.next = Node(6)\n",
        "\n",
        "    print(\"Linked list before adding 1:\")\n",
        "    print_linked_list(head)\n",
        "\n",
        "    head = add_one(head)\n",
        "\n",
        "    print(\"Linked list after adding 1:\")\n",
        "    print_linked_list(head)\n",
        "\n",
        "def print_linked_list(head):\n",
        "    curr = head\n",
        "    while curr:\n",
        "        print(curr.value, end=\" \")\n",
        "        curr = curr.next\n",
        "\n",
        "if __name__ == \"__main__\":\n",
        "    main()\n"
      ],
      "metadata": {
        "colab": {
          "base_uri": "https://localhost:8080/"
        },
        "id": "0A7Isi6jbz7I",
        "outputId": "b2348e65-e5e1-4a77-ca02-53a8719f7ea0"
      },
      "execution_count": 2,
      "outputs": [
        {
          "output_type": "stream",
          "name": "stdout",
          "text": [
            "Linked list before adding 1:\n",
            "4 5 6 Linked list after adding 1:\n",
            "5 5 6 "
          ]
        }
      ]
    },
    {
      "cell_type": "markdown",
      "source": [
        "<aside>\n",
        "💡 **Question 3**\n",
        "\n",
        "Given a Linked List of size N, where every node represents a sub-linked-list and contains two pointers:(i) a **next** pointer to the next node,(ii) a **bottom** pointer to a linked list where this node is head.Each of the sub-linked-list is in sorted order.Flatten the Link List such that all the nodes appear in a single level while maintaining the sorted order. **Note:** The flattened list will be printed using the bottom pointer instead of next pointer.\n",
        "\n",
        "**Example 1:**\n",
        "\n",
        "```\n",
        "Input:\n",
        "5 -> 10 -> 19 -> 28\n",
        "|     |     |     |\n",
        "7     20    22   35\n",
        "|           |     |\n",
        "8          50    40\n",
        "|                 |\n",
        "30               45\n",
        "Output: 5-> 7-> 8- > 10 -> 19-> 20->\n",
        "22-> 28-> 30-> 35-> 40-> 45-> 50.\n",
        "Explanation:\n",
        "The resultant linked lists has every\n",
        "node in a single level.(Note:| represents the bottom pointer.)\n",
        "\n",
        "```\n",
        "\n",
        "**Example 2:**\n",
        "\n",
        "</aside>"
      ],
      "metadata": {
        "id": "KskW3m4icD2u"
      }
    },
    {
      "cell_type": "code",
      "source": [
        "class Node:\n",
        "    def __init__(self, value, bottom=None):\n",
        "        self.value = value\n",
        "        self.bottom = bottom\n",
        "        self.next = None\n",
        "\n",
        "def flatten_linked_list(head):\n",
        "    if head is None:\n",
        "        return None\n",
        "\n",
        "    current = head\n",
        "    while current:\n",
        "        if current.bottom is not None:\n",
        "            next_node = current.next\n",
        "            current.next = current.bottom\n",
        "            current.bottom = None\n",
        "\n",
        "            if next_node is not None:\n",
        "                while next_node.bottom is not None:\n",
        "                    next_node = next_node.bottom\n",
        "\n",
        "                next_node.bottom = current.next\n",
        "\n",
        "        current = current.next\n",
        "\n",
        "    return head\n",
        "\n",
        "def main():\n",
        "    head = Node(5, Node(7, Node(8)))\n",
        "    head.next = Node(10, Node(19, Node(20)))\n",
        "    head.next.next = Node(28, Node(35))\n",
        "    head.next.next.next = Node(40, Node(45, Node(50)))\n",
        "\n",
        "    print(\"Flattened linked list:\")\n",
        "    print_linked_list(flatten_linked_list(head))\n",
        "\n",
        "def print_linked_list(head):\n",
        "    curr = head\n",
        "    while curr:\n",
        "        print(curr.value, end=\" \")\n",
        "        curr = curr.next\n",
        "\n",
        "if __name__ == \"__main__\":\n",
        "    main()\n"
      ],
      "metadata": {
        "colab": {
          "base_uri": "https://localhost:8080/"
        },
        "id": "BoFlaXWVcCEx",
        "outputId": "173e13ed-200d-4b57-d99c-0476ea286a15"
      },
      "execution_count": 3,
      "outputs": [
        {
          "output_type": "stream",
          "name": "stdout",
          "text": [
            "Flattened linked list:\n",
            "5 7 8 "
          ]
        }
      ]
    },
    {
      "cell_type": "markdown",
      "source": [
        "<aside>\n",
        "💡 **Question 4**\n",
        "\n",
        "You are given a special linked list with **N** nodes where each node has a next pointer pointing to its next node. You are also given **M** random pointers, where you will be given **M** number of pairs denoting two nodes **a** and **b**  **i.e. a->arb = b** (arb is pointer to random node)**.**\n",
        "\n",
        "Construct a copy of the given list. The copy should consist of exactly **N** new nodes, where each new node has its value set to the value of its corresponding original node. Both the next and random pointer of the new nodes should point to new nodes in the copied list such that the pointers in the original list and copied list represent the same list state. None of the pointers in the new list should point to nodes in the original list.\n",
        "\n",
        "For example, if there are two nodes **X** and **Y** in the original list, where **X.arb** **-->** **Y**, then for the corresponding two nodes **x** and **y** in the copied list, **x.arb --> y.**\n",
        "\n",
        "Return the head of the copied linked list.\n",
        "\n",
        "!https://contribute.geeksforgeeks.org/wp-content/uploads/clone.jpg\n",
        "\n",
        "**Note** :- The diagram isn't part of any example, it just depicts an example of how the linked list may look like.\n",
        "\n",
        "**Example 1:**\n",
        "\n",
        "```\n",
        "Input:\n",
        "N = 4, M = 2\n",
        "value = {1,2,3,4}\n",
        "pairs = {{1,2},{2,4}}\n",
        "Output:1\n",
        "Explanation:In this test case, there\n",
        "are 4 nodes in linked list.  Among these\n",
        "4 nodes,  2 nodes have arbitrary pointer\n",
        "set, rest two nodes have arbitrary pointer\n",
        "as NULL. Second line tells us the value\n",
        "of four nodes. The third line gives the\n",
        "information about arbitrary pointers.\n",
        "The first node arbitrary pointer is set to\n",
        "node 2.  The second node arbitrary pointer\n",
        "is set to node 4.\n",
        "\n",
        "```\n",
        "\n",
        "**Example 2:**\n",
        "\n",
        "</aside>"
      ],
      "metadata": {
        "id": "Tv_NS7a4cRaN"
      }
    },
    {
      "cell_type": "code",
      "source": [
        "class Node:\n",
        "    def __init__(self, value, next=None, random=None):\n",
        "        self.value = value\n",
        "        self.next = next\n",
        "        self.random = random\n",
        "\n",
        "def clone_linked_list_with_random_pointers(head):\n",
        "    if head is None:\n",
        "        return None\n",
        "\n",
        "    # Create a copy of the original linked list.\n",
        "    copy = Node(head.value)\n",
        "    copy_map = {head: copy}\n",
        "\n",
        "    curr = head\n",
        "    next_node = head.next\n",
        "\n",
        "    while next_node:\n",
        "        copy_node = Node(next_node.value)\n",
        "        copy_map[next_node] = copy_node\n",
        "\n",
        "        copy.next = copy_node\n",
        "        copy = copy_node\n",
        "        next_node = next_node.next\n",
        "\n",
        "    # Set the random pointers of the copied linked list.\n",
        "    for node, copy_node in copy_map.items():\n",
        "        if node.random:\n",
        "            copy_node.random = copy_map[node.random]\n",
        "\n",
        "    return copy\n",
        "\n",
        "def main():\n",
        "    head = Node(1)\n",
        "    head.next = Node(2)\n",
        "    head.next.next = Node(3)\n",
        "    head.next.next.next = Node(4)\n",
        "\n",
        "    head.random = head.next.next\n",
        "    head.next.random = head.next.next.next\n",
        "\n",
        "    copied_head = clone_linked_list_with_random_pointers(head)\n",
        "\n",
        "    print(\"Original linked list:\")\n",
        "    print_linked_list(head)\n",
        "\n",
        "    print(\"Copied linked list:\")\n",
        "    print_linked_list(copied_head)\n",
        "\n",
        "def print_linked_list(head):\n",
        "    curr = head\n",
        "    while curr:\n",
        "        print(curr.value, end=\" \")\n",
        "        curr = curr.next\n",
        "\n",
        "if __name__ == \"__main__\":\n",
        "    main()\n"
      ],
      "metadata": {
        "colab": {
          "base_uri": "https://localhost:8080/"
        },
        "id": "8oalDH89cPpZ",
        "outputId": "f7fc4b21-2c0d-483b-d15b-d04265731a67"
      },
      "execution_count": 4,
      "outputs": [
        {
          "output_type": "stream",
          "name": "stdout",
          "text": [
            "Original linked list:\n",
            "1 2 3 4 Copied linked list:\n",
            "4 "
          ]
        }
      ]
    },
    {
      "cell_type": "markdown",
      "source": [
        "<aside>\n",
        "💡 **Question 5**\n",
        "\n",
        "Given the `head` of a singly linked list, group all the nodes with odd indices together followed by the nodes with even indices, and return *the reordered list*.\n",
        "\n",
        "The **first** node is considered **odd**, and the **second** node is **even**, and so on.\n",
        "\n",
        "Note that the relative order inside both the even and odd groups should remain as it was in the input.\n",
        "\n",
        "You must solve the problem in `O(1)` extra space complexity and `O(n)` time complexity.\n",
        "\n",
        "**Example 1:**\n",
        "\n",
        "!https://assets.leetcode.com/uploads/2021/03/10/oddeven-linked-list.jpg\n",
        "\n",
        "```\n",
        "Input: head = [1,2,3,4,5]\n",
        "Output: [1,3,5,2,4]\n",
        "\n",
        "```\n",
        "\n",
        "**Example 2:**\n",
        "\n",
        "</aside>"
      ],
      "metadata": {
        "id": "CqyWlFsYcfvX"
      }
    },
    {
      "cell_type": "code",
      "source": [
        "class Node:\n",
        "    def __init__(self, value):\n",
        "        self.value = value\n",
        "        self.next = None\n",
        "\n",
        "def odd_even_linked_list(head):\n",
        "    if head is None:\n",
        "        return None\n",
        "\n",
        "    odd = head\n",
        "    even = head.next\n",
        "    even_head = even\n",
        "\n",
        "    while even and even.next:\n",
        "        odd.next = even.next\n",
        "        odd = odd.next\n",
        "        even.next = odd.next\n",
        "        even = even.next\n",
        "\n",
        "    odd.next = even_head\n",
        "\n",
        "    return head\n",
        "\n",
        "def main():\n",
        "    head = Node(1)\n",
        "    head.next = Node(2)\n",
        "    head.next.next = Node(3)\n",
        "    head.next.next.next = Node(4)\n",
        "    head.next.next.next.next = Node(5)\n",
        "\n",
        "    new_head = odd_even_linked_list(head)\n",
        "\n",
        "    print(\"Original linked list:\")\n",
        "    print_linked_list(head)\n",
        "\n",
        "    print(\"Reordered linked list:\")\n",
        "    print_linked_list(new_head)\n",
        "\n",
        "def print_linked_list(head):\n",
        "    curr = head\n",
        "    while curr:\n",
        "        print(curr.value, end=\" \")\n",
        "        curr = curr.next\n",
        "\n",
        "if __name__ == \"__main__\":\n",
        "    main()\n"
      ],
      "metadata": {
        "colab": {
          "base_uri": "https://localhost:8080/"
        },
        "id": "2dp4fQX9ceN3",
        "outputId": "2f399420-4c92-40ab-e014-f805c5d2b12d"
      },
      "execution_count": 5,
      "outputs": [
        {
          "output_type": "stream",
          "name": "stdout",
          "text": [
            "Original linked list:\n",
            "1 3 5 2 4 Reordered linked list:\n",
            "1 3 5 2 4 "
          ]
        }
      ]
    },
    {
      "cell_type": "markdown",
      "source": [
        "<aside>\n",
        "💡 **Question 6**\n",
        "\n",
        "Given a singly linked list of size **N**. The task is to **left-shift** the linked list by **k** nodes, where **k** is a given positive integer smaller than or equal to length of the linked list.\n",
        "\n",
        "**Example 1:**\n",
        "\n",
        "```\n",
        "Input:\n",
        "N = 5\n",
        "value[] = {2, 4, 7, 8, 9}\n",
        "k = 3\n",
        "Output:8 9 2 4 7\n",
        "Explanation:Rotate 1:4 -> 7 -> 8 -> 9 -> 2\n",
        "Rotate 2: 7 -> 8 -> 9 -> 2 -> 4\n",
        "Rotate 3: 8 -> 9 -> 2 -> 4 -> 7\n",
        "\n",
        "```\n",
        "\n",
        "**Example 2:**\n",
        "\n",
        "</aside>"
      ],
      "metadata": {
        "id": "sGQfZT0HcsTu"
      }
    },
    {
      "cell_type": "code",
      "source": [
        "class Node:\n",
        "    def __init__(self, value):\n",
        "        self.value = value\n",
        "        self.next = None\n",
        "\n",
        "def left_shift_linked_list(head, k):\n",
        "    if head is None or k == 0:\n",
        "        return head\n",
        "\n",
        "    curr = head\n",
        "    for _ in range(k - 1):\n",
        "        if curr.next is None:\n",
        "            return head\n",
        "        curr = curr.next\n",
        "\n",
        "    new_head = curr.next\n",
        "    curr.next = None\n",
        "    tail = new_head\n",
        "\n",
        "    while tail.next is not None:\n",
        "        tail = tail.next\n",
        "\n",
        "    tail.next = head\n",
        "\n",
        "    return new_head\n",
        "\n",
        "def main():\n",
        "    head = Node(2)\n",
        "    head.next = Node(4)\n",
        "    head.next.next = Node(7)\n",
        "    head.next.next.next = Node(8)\n",
        "    head.next.next.next.next = Node(9)\n",
        "\n",
        "    new_head = left_shift_linked_list(head, 3)\n",
        "\n",
        "    print(\"Original linked list:\")\n",
        "    print_linked_list(head)\n",
        "\n",
        "    print(\"Left-shifted linked list:\")\n",
        "    print_linked_list(new_head)\n",
        "\n",
        "def print_linked_list(head):\n",
        "    curr = head\n",
        "    while curr:\n",
        "        print(curr.value, end=\" \")\n",
        "        curr = curr.next\n",
        "\n",
        "if __name__ == \"__main__\":\n",
        "    main()\n"
      ],
      "metadata": {
        "colab": {
          "base_uri": "https://localhost:8080/"
        },
        "id": "wnFTGjXlcqzC",
        "outputId": "c8917bcf-d17c-4659-e9dd-39225ea2b2b4"
      },
      "execution_count": 13,
      "outputs": [
        {
          "output_type": "stream",
          "name": "stdout",
          "text": [
            "Original linked list:\n",
            "2 4 7 Left-shifted linked list:\n",
            "8 9 2 4 7 "
          ]
        }
      ]
    },
    {
      "cell_type": "markdown",
      "source": [
        "<aside>\n",
        "💡 **Question 7**\n",
        "\n",
        "You are given the `head` of a linked list with `n` nodes.\n",
        "\n",
        "For each node in the list, find the value of the **next greater node**. That is, for each node, find the value of the first node that is next to it and has a **strictly larger** value than it.\n",
        "\n",
        "Return an integer array `answer` where `answer[i]` is the value of the next greater node of the `ith` node (**1-indexed**). If the `ith` node does not have a next greater node, set `answer[i] = 0`.\n",
        "\n",
        "**Example 1:**\n",
        "\n",
        "!https://assets.leetcode.com/uploads/2021/08/05/linkedlistnext1.jpg\n",
        "\n",
        "```\n",
        "Input: head = [2,1,5]\n",
        "Output: [5,5,0]\n",
        "\n",
        "```\n",
        "\n",
        "**Example 2:**\n",
        "\n",
        "</aside>"
      ],
      "metadata": {
        "id": "wgSWdThEc4NR"
      }
    },
    {
      "cell_type": "code",
      "source": [
        "class ListNode:\n",
        "    def __init__(self, val=0, next=None):\n",
        "        self.val = val\n",
        "        self.next = next\n",
        "\n",
        "def nextLargerNodes(head):\n",
        "    # Convert the linked list to a list\n",
        "    node_list = []\n",
        "    current = head\n",
        "    while current:\n",
        "        node_list.append(current.val)\n",
        "        current = current.next\n",
        "\n",
        "    # Initialize the result list with zeros\n",
        "    result = [0] * len(node_list)\n",
        "\n",
        "    # Stack to track the potential next greater nodes\n",
        "    stack = []\n",
        "\n",
        "    for i in range(len(node_list)):\n",
        "        # While the stack is not empty and the current node is greater than the top of the stack\n",
        "        while stack and node_list[i] > node_list[stack[-1]]:\n",
        "            prev_index = stack.pop()\n",
        "            result[prev_index] = node_list[i]\n",
        "\n",
        "        # Push the current node index to the stack\n",
        "        stack.append(i)\n",
        "\n",
        "    return result\n",
        "\n",
        "# Example usage\n",
        "head = ListNode(2)\n",
        "head.next = ListNode(1)\n",
        "head.next.next = ListNode(5)\n",
        "\n",
        "result = nextLargerNodes(head)\n",
        "print(\"Output:\", result)\n"
      ],
      "metadata": {
        "colab": {
          "base_uri": "https://localhost:8080/"
        },
        "id": "6wo_48AJc22J",
        "outputId": "b0d5d7c7-0fa7-42fe-c696-780e9be78c3d"
      },
      "execution_count": 12,
      "outputs": [
        {
          "output_type": "stream",
          "name": "stdout",
          "text": [
            "Output: [5, 5, 0]\n"
          ]
        }
      ]
    },
    {
      "cell_type": "markdown",
      "source": [
        "<aside>\n",
        "💡 **Question 8**\n",
        "\n",
        "Given the `head` of a linked list, we repeatedly delete consecutive sequences of nodes that sum to `0` until there are no such sequences.\n",
        "\n",
        "After doing so, return the head of the final linked list.  You may return any such answer.\n",
        "\n",
        "(Note that in the examples below, all sequences are serializations of `ListNode` objects.)\n",
        "\n",
        "**Example 1:**\n",
        "\n",
        "```\n",
        "Input: head = [1,2,-3,3,1]\n",
        "Output: [3,1]\n",
        "Note: The answer [1,2,1] would also be accepted.\n",
        "\n",
        "```\n",
        "\n",
        "**Example 2:**\n",
        "\n",
        "```\n",
        "Input: head = [1,2,3,-3,4]\n",
        "Output: [1,2,4]\n",
        "\n",
        "```\n",
        "\n",
        "**Example 3:**\n",
        "\n",
        "```\n",
        "Input: head = [1,2,3,-3,-2]\n",
        "Output: [1]\n",
        "```\n",
        "\n",
        "</aside>"
      ],
      "metadata": {
        "id": "VJGQZSiieS0v"
      }
    },
    {
      "cell_type": "code",
      "source": [
        "class Node:\n",
        "    def __init__(self, value):\n",
        "        self.value = value\n",
        "        self.next = None\n",
        "\n",
        "def delete_zero_sum_sequences(head):\n",
        "    curr = head\n",
        "    seen = set()\n",
        "\n",
        "    while curr:\n",
        "        sum_so_far = 0\n",
        "        while curr and sum_so_far in seen:\n",
        "            sum_so_far -= curr.value\n",
        "            curr = curr.next\n",
        "\n",
        "        if curr:\n",
        "            sum_so_far += curr.value\n",
        "            seen.add(sum_so_far)\n",
        "            curr = curr.next\n",
        "\n",
        "    return head\n",
        "\n",
        "def main():\n",
        "    head = Node(1)\n",
        "    head.next = Node(2)\n",
        "    head.next.next = Node(-3)\n",
        "    head.next.next.next = Node(3)\n",
        "    head.next.next.next.next = Node(1)\n",
        "\n",
        "    new_head = delete_zero_sum_sequences(head)\n",
        "\n",
        "    print(\"Original linked list:\")\n",
        "    print_linked_list(head)\n",
        "\n",
        "    print(\"Linked list after deleting zero sum sequences:\")\n",
        "    print_linked_list(new_head)\n",
        "\n",
        "def print_linked_list(head):\n",
        "    curr = head\n",
        "    while curr:\n",
        "        print(curr.value, end=\" \")\n",
        "        curr = curr.next\n",
        "\n",
        "if __name__ == \"__main__\":\n",
        "    main()\n"
      ],
      "metadata": {
        "colab": {
          "base_uri": "https://localhost:8080/"
        },
        "id": "Hj22OXrWdHgc",
        "outputId": "8198600a-e4c3-4b59-ba6a-fab3f83f10eb"
      },
      "execution_count": 14,
      "outputs": [
        {
          "output_type": "stream",
          "name": "stdout",
          "text": [
            "Original linked list:\n",
            "1 2 -3 3 1 Linked list after deleting zero sum sequences:\n",
            "1 2 -3 3 1 "
          ]
        }
      ]
    },
    {
      "cell_type": "code",
      "source": [],
      "metadata": {
        "id": "v8Ag1eO8ec_7"
      },
      "execution_count": null,
      "outputs": []
    }
  ]
}