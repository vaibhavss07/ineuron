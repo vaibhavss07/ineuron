{
  "cells": [
    {
      "cell_type": "markdown",
      "id": "e4c2a4d4",
      "metadata": {
        "id": "e4c2a4d4"
      },
      "source": [
        "# Assignment 3 - Arrays\n",
        "\n"
      ]
    },
    {
      "cell_type": "markdown",
      "id": "edb488cc",
      "metadata": {
        "id": "edb488cc"
      },
      "source": [
        "**Q1. Given an integer array nums of length n and an integer target, find three integers in nums such that the sum is closest to the target. Return the sum of the three integers. You may assume that each input would have exactly one solution.**\n",
        "\n",
        "Example 1:\n",
        "\n",
        "Input: nums = [-1,2,1,-4], target = 1\n",
        "\n",
        "Output: 2\n",
        "\n",
        "Explanation: The sum that is closest to the target is 2. (-1 + 2 + 1 = 2)."
      ]
    },
    {
      "cell_type": "code",
      "execution_count": null,
      "id": "0b3de55c",
      "metadata": {
        "id": "0b3de55c",
        "outputId": "965c3755-1b98-49c9-f7ec-ac5eaa80b0f4"
      },
      "outputs": [
        {
          "name": "stdout",
          "output_type": "stream",
          "text": [
            "2\n"
          ]
        }
      ],
      "source": [
        "def threeSumClosest(nums, target):\n",
        "    nums.sort()\n",
        "    n = len(nums)\n",
        "    closestSum = float('inf')\n",
        "\n",
        "    for i in range(n - 2):\n",
        "        left = i + 1\n",
        "        right = n - 1\n",
        "\n",
        "        while left < right:\n",
        "            currSum = nums[i] + nums[left] + nums[right]\n",
        "\n",
        "            if abs(currSum - target) < abs(closestSum - target):\n",
        "                closestSum = currSum\n",
        "\n",
        "            if currSum < target:\n",
        "                left += 1\n",
        "            elif currSum > target:\n",
        "                right -= 1\n",
        "            else:\n",
        "                return target\n",
        "\n",
        "    return closestSum\n",
        "\n",
        "nums = [-1, 2, 1, -4]\n",
        "target = 1\n",
        "print(threeSumClosest(nums, target))\n"
      ]
    },
    {
      "cell_type": "markdown",
      "id": "0b8db0ec",
      "metadata": {
        "id": "0b8db0ec"
      },
      "source": [
        "**Q2. Given an array nums of n integers, return an array of all the unique quadruplets [nums[a], nums[b], nums[c], nums[d]] such that:**\n",
        "\n",
        "           ● 0 <= a, b, c, d < n\n",
        "           ● a, b, c, and d are distinct.\n",
        "           ● nums[a] + nums[b] + nums[c] + nums[d] == target\n",
        "           \n",
        "**You may return the answer in any order.**\n",
        "\n",
        "Example 1:\n",
        "\n",
        "Input: nums = [1,0,-1,0,-2,2], target = 0\n",
        "\n",
        "Output: [[-2,-1,1,2],[-2,0,0,2],[-1,0,0,1]]"
      ]
    },
    {
      "cell_type": "code",
      "execution_count": null,
      "id": "a8509c59",
      "metadata": {
        "id": "a8509c59",
        "outputId": "29f4ce68-8e0d-44d7-a0a6-80e5ddc575dd"
      },
      "outputs": [
        {
          "name": "stdout",
          "output_type": "stream",
          "text": [
            "[[-2, -1, 1, 2], [-2, 0, 0, 2], [-1, 0, 0, 1]]\n"
          ]
        }
      ],
      "source": [
        "def fourSum(nums, target):\n",
        "    nums.sort()\n",
        "    n = len(nums)\n",
        "    result = []\n",
        "\n",
        "    for i in range(n - 3):\n",
        "        if i > 0 and nums[i] == nums[i - 1]:\n",
        "            continue\n",
        "\n",
        "        for j in range(i + 1, n - 2):\n",
        "            if j > i + 1 and nums[j] == nums[j - 1]:\n",
        "                continue\n",
        "\n",
        "            left = j + 1\n",
        "            right = n - 1\n",
        "\n",
        "            while left < right:\n",
        "                currSum = nums[i] + nums[j] + nums[left] + nums[right]\n",
        "\n",
        "                if currSum == target:\n",
        "                    result.append([nums[i], nums[j], nums[left], nums[right]])\n",
        "                    left += 1\n",
        "                    right -= 1\n",
        "                    while left < right and nums[left] == nums[left - 1]:\n",
        "                        left += 1\n",
        "                    while left < right and nums[right] == nums[right + 1]:\n",
        "                        right -= 1\n",
        "                elif currSum < target:\n",
        "                    left += 1\n",
        "                else:\n",
        "                    right -= 1\n",
        "\n",
        "    return result\n",
        "\n",
        "nums = [1, 0, -1, 0, -2, 2]\n",
        "target = 0\n",
        "print(fourSum(nums, target))"
      ]
    },
    {
      "cell_type": "markdown",
      "id": "4d34e122",
      "metadata": {
        "id": "4d34e122"
      },
      "source": [
        "**Q3. A permutation of an array of integers is an arrangement of its members into a sequence or linear order.**\n",
        "\n",
        "For example, for arr = [1,2,3], the following are all the permutations of arr:\n",
        "[1,2,3], [1,3,2], [2, 1, 3], [2, 3, 1], [3,1,2], [3,2,1].\n",
        "\n",
        "**The next permutation of an array of integers is the next lexicographically greater\n",
        "permutation of its integer. More formally, if all the permutations of the array are\n",
        "sorted in one container according to their lexicographical order, then the next permutation of that array is the permutation that follows it in the sorted container.**\n",
        "\n",
        "**If such an arrangement is not possible, the array must be rearranged as the\n",
        "lowest possible order (i.e., sorted in ascending order).**\n",
        "\n",
        "● For example, the next permutation of arr = [1,2,3] is [1,3,2].\n",
        "\n",
        "● Similarly, the next permutation of arr = [2,3,1] is [3,1,2].\n",
        "\n",
        "● While the next permutation of arr = [3,2,1] is [1,2,3] because [3,2,1] does not\n",
        "have a lexicographical larger rearrangement.\n",
        "\n",
        "**Given an array of integers nums, find the next permutation of nums.\n",
        "The replacement must be in place and use only constant extra memory.**\n",
        "\n",
        "**Example 1:**\n",
        "\n",
        "Input: nums = [1,2,3]\n",
        "\n",
        "Output: [1,3,2]\n",
        "\n",
        "</aside>"
      ]
    },
    {
      "cell_type": "code",
      "execution_count": null,
      "id": "30511fad",
      "metadata": {
        "id": "30511fad",
        "outputId": "2b908448-b453-4909-d15c-021eb4e8ff72"
      },
      "outputs": [
        {
          "name": "stdout",
          "output_type": "stream",
          "text": [
            "[1, 3, 2]\n"
          ]
        }
      ],
      "source": [
        "def nextPermutation(nums):\n",
        "    n = len(nums)\n",
        "    i = n - 2\n",
        "\n",
        "    # Find the first pair from the right where nums[i] < nums[i+1]\n",
        "    while i >= 0 and nums[i] >= nums[i + 1]:\n",
        "        i -= 1\n",
        "\n",
        "    if i >= 0:\n",
        "        j = n - 1\n",
        "\n",
        "        # Find the next greater element to swap with nums[i]\n",
        "        while j >= 0 and nums[j] <= nums[i]:\n",
        "            j -= 1\n",
        "\n",
        "        nums[i], nums[j] = nums[j], nums[i]\n",
        "\n",
        "    # Reverse the subarray starting from index i+1\n",
        "    left = i + 1\n",
        "    right = n - 1\n",
        "    while left < right:\n",
        "        nums[left], nums[right] = nums[right], nums[left]\n",
        "        left += 1\n",
        "        right -= 1\n",
        "\n",
        "    return nums\n",
        "\n",
        "nums = [1, 2, 3]\n",
        "print(nextPermutation(nums))"
      ]
    },
    {
      "cell_type": "markdown",
      "id": "c14dd135",
      "metadata": {
        "id": "c14dd135"
      },
      "source": [
        "**Q4. Given a sorted array of distinct integers and a target value, return the index if the target is found. If not, return the index where it would be if it were inserted in order.**\n",
        "\n",
        "**You must write an algorithm with O(log n) runtime complexity.**\n",
        "\n",
        "Example 1:\n",
        "Input: nums = [1,3,5,6], target = 5\n",
        "Output: 2"
      ]
    },
    {
      "cell_type": "code",
      "execution_count": null,
      "id": "5d1391ce",
      "metadata": {
        "id": "5d1391ce",
        "outputId": "61a11c8d-3527-4307-8245-91ca1c8113e0"
      },
      "outputs": [
        {
          "name": "stdout",
          "output_type": "stream",
          "text": [
            "2\n"
          ]
        }
      ],
      "source": [
        "def searchInsert(nums, target):\n",
        "    left = 0\n",
        "    right = len(nums) - 1\n",
        "\n",
        "    while left <= right:\n",
        "        mid = (left + right) // 2\n",
        "\n",
        "        if nums[mid] == target:\n",
        "            return mid\n",
        "        elif nums[mid] < target:\n",
        "            left = mid + 1\n",
        "        else:\n",
        "            right = mid - 1\n",
        "\n",
        "    return left\n",
        "\n",
        "nums = [1, 3, 5, 6]\n",
        "target = 5\n",
        "print(searchInsert(nums, target))"
      ]
    },
    {
      "cell_type": "markdown",
      "id": "47e0bbbc",
      "metadata": {
        "id": "47e0bbbc"
      },
      "source": [
        "**Q5. You are given a large integer represented as an integer array digits, where each digits[i] is the ith digit of the integer. The digits are ordered from most significant to least significant in left-to-right order. The large integer does not contain any leading 0's.**\n",
        "\n",
        "**Increment the large integer by one and return the resulting array of digits.**\n",
        "\n",
        "**Example 1:**\n",
        "\n",
        "Input: digits = [1,2,3]\n",
        "\n",
        "Output: [1,2,4]\n",
        "\n",
        "**Explanation:** The array represents the integer 123.\n",
        "Incrementing by one gives 123 + 1 = 124.\n",
        "Thus, the result should be [1,2,4].\n",
        "\n",
        "</aside>"
      ]
    },
    {
      "cell_type": "code",
      "execution_count": null,
      "id": "9d85a30b",
      "metadata": {
        "id": "9d85a30b",
        "outputId": "80d56984-1e56-49ec-959c-c7134c8dfb82"
      },
      "outputs": [
        {
          "name": "stdout",
          "output_type": "stream",
          "text": [
            "[1, 2, 4]\n"
          ]
        }
      ],
      "source": [
        "def plusOne(digits):\n",
        "    carry = 1\n",
        "    for i in range(len(digits) - 1, -1, -1):\n",
        "        digits[i] += carry\n",
        "        if digits[i] < 10:\n",
        "            carry = 0\n",
        "            break\n",
        "        else:\n",
        "            digits[i] = 0\n",
        "\n",
        "    if carry == 1:\n",
        "        digits.insert(0, 1)\n",
        "\n",
        "    return digits\n",
        "\n",
        "digits = [1, 2, 3]\n",
        "print(plusOne(digits))"
      ]
    },
    {
      "cell_type": "markdown",
      "id": "a836699d",
      "metadata": {
        "id": "a836699d"
      },
      "source": [
        "**Q6. Given a non-empty array of integers nums, every element appears twice except for one. Find that single one.**\n",
        "\n",
        "**You must implement a solution with a linear runtime complexity and use only\n",
        "constant extra space.**\n",
        "\n",
        "Example 1:\n",
        "Input: nums = [2,2,1]\n",
        "Output: 1"
      ]
    },
    {
      "cell_type": "code",
      "execution_count": null,
      "id": "e4f5b27d",
      "metadata": {
        "id": "e4f5b27d",
        "outputId": "9c9cdd8e-7f0b-4765-8591-e2dca7f75a1f"
      },
      "outputs": [
        {
          "name": "stdout",
          "output_type": "stream",
          "text": [
            "1\n"
          ]
        }
      ],
      "source": [
        "def singleNumber(nums):\n",
        "    result = 0\n",
        "    for num in nums:\n",
        "        result ^= num\n",
        "    return result\n",
        "\n",
        "nums = [2, 2, 1]\n",
        "print(singleNumber(nums))"
      ]
    },
    {
      "cell_type": "markdown",
      "id": "beca2392",
      "metadata": {
        "id": "beca2392"
      },
      "source": [
        "**Q7. You are given an inclusive range [lower, upper] and a sorted unique integer array nums, where all elements are within the inclusive range. A number x is considered missing if x is in the range [lower, upper] and x is not in nums.**\n",
        "\n",
        "**Return the shortest sorted list of ranges that exactly covers all the missing\n",
        "numbers. That is, no element of nums is included in any of the ranges, and each\n",
        "missing number is covered by one of the ranges.**\n",
        "\n",
        "Example 1:\n",
        "Input: nums = [0,1,3,50,75], lower = 0, upper = 99\n",
        "Output: [[2,2],[4,49],[51,74],[76,99]]\n",
        "\n",
        "Explanation: The ranges are:\n",
        "[2,2]\n",
        "[4,49]\n",
        "[51,74]\n",
        "[76,99]"
      ]
    },
    {
      "cell_type": "code",
      "execution_count": null,
      "id": "a0dbd733",
      "metadata": {
        "id": "a0dbd733",
        "outputId": "044f0d17-7b05-4993-8ef6-8da251fd48d5"
      },
      "outputs": [
        {
          "name": "stdout",
          "output_type": "stream",
          "text": [
            "[[2, 2], [4, 49], [51, 74], [76, 99]]\n"
          ]
        }
      ],
      "source": [
        "def findMissingRanges(nums, lower, upper):\n",
        "    result = []\n",
        "    start = lower\n",
        "\n",
        "    for num in nums:\n",
        "        if num == start:\n",
        "            start += 1\n",
        "        elif num > start:\n",
        "            result.append([start, num - 1])\n",
        "            start = num + 1\n",
        "\n",
        "    if start <= upper:\n",
        "        result.append([start, upper])\n",
        "\n",
        "    return result\n",
        "\n",
        "nums = [0, 1, 3, 50, 75]\n",
        "lower = 0\n",
        "upper = 99\n",
        "print(findMissingRanges(nums, lower, upper))"
      ]
    },
    {
      "cell_type": "markdown",
      "id": "b39cc7aa",
      "metadata": {
        "id": "b39cc7aa"
      },
      "source": [
        "**Q8. Given an array of meeting time intervals where intervals[i] = [starti, endi], determine if a person could attend all meetings.**\n",
        "\n",
        "Example 1:\n",
        "Input: intervals = [[0,30],[5,10],[15,20]]\n",
        "Output: false"
      ]
    },
    {
      "cell_type": "code",
      "execution_count": null,
      "id": "d687f52e",
      "metadata": {
        "id": "d687f52e",
        "outputId": "1396b4b3-3c32-4dbf-e7c6-f95a759f444d"
      },
      "outputs": [
        {
          "name": "stdout",
          "output_type": "stream",
          "text": [
            "False\n"
          ]
        }
      ],
      "source": [
        "def canAttendMeetings(intervals):\n",
        "    intervals.sort(key=lambda x: x[0])\n",
        "\n",
        "    for i in range(1, len(intervals)):\n",
        "        if intervals[i][0] < intervals[i-1][1]:\n",
        "            return False\n",
        "\n",
        "    return True\n",
        "\n",
        "intervals = [[0, 30], [5, 10], [15, 20]]\n",
        "print(canAttendMeetings(intervals))"
      ]
    },
    {
      "cell_type": "code",
      "execution_count": null,
      "id": "9d033027",
      "metadata": {
        "id": "9d033027"
      },
      "outputs": [],
      "source": []
    }
  ],
  "metadata": {
    "kernelspec": {
      "display_name": "Python 3 (ipykernel)",
      "language": "python",
      "name": "python3"
    },
    "language_info": {
      "codemirror_mode": {
        "name": "ipython",
        "version": 3
      },
      "file_extension": ".py",
      "mimetype": "text/x-python",
      "name": "python",
      "nbconvert_exporter": "python",
      "pygments_lexer": "ipython3",
      "version": "3.10.11"
    },
    "colab": {
      "provenance": []
    }
  },
  "nbformat": 4,
  "nbformat_minor": 5
}