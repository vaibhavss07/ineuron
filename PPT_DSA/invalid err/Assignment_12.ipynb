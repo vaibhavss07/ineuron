{
  "nbformat": 4,
  "nbformat_minor": 0,
  "metadata": {
    "colab": {
      "provenance": []
    },
    "kernelspec": {
      "name": "python3",
      "display_name": "Python 3"
    },
    "language_info": {
      "name": "python"
    }
  },
  "cells": [
    {
      "cell_type": "markdown",
      "source": [
        "Question 1\n",
        "\n",
        "Given a singly linked list, delete middle of the linked list. For example, if given linked list is 1->2->3->4->5 then linked list should be modified to 1->2->4->5.If there are even nodes, then there would be two middle nodes, we need to delete the second middle element. For example, if given linked list is 1->2->3->4->5->6 then it should be modified to 1->2->3->5->6.If the input linked list is NULL or has 1 node, then it should return NULL\n",
        "\n",
        "Example 1:\n",
        "\n",
        "Input:\n",
        "LinkedList: 1->2->3->4->5\n",
        "Output:1 2 4 5\n",
        "Example 2:\n",
        "\n",
        "Input:\n",
        "LinkedList: 2->4->6->7->5->1\n",
        "Output:2 4 6 5 1"
      ],
      "metadata": {
        "id": "h5x0j9rdfM_u"
      }
    },
    {
      "cell_type": "code",
      "execution_count": 9,
      "metadata": {
        "colab": {
          "base_uri": "https://localhost:8080/"
        },
        "id": "e0YuMFFIfKfL",
        "outputId": "2adabeda-db6f-40ab-9453-0591775d9e2d"
      },
      "outputs": [
        {
          "output_type": "stream",
          "name": "stdout",
          "text": [
            "Original linked list:\n",
            "1 2 3 4 5 \n",
            "Modified linked list:\n",
            "1 2 4 5 \n"
          ]
        }
      ],
      "source": [
        "class ListNode:\n",
        "    def __init__(self, val=0, next=None):\n",
        "        self.val = val\n",
        "        self.next = next\n",
        "\n",
        "def deleteMiddleNode(head):\n",
        "    if head is None or head.next is None:\n",
        "        return head\n",
        "\n",
        "    slow_ptr = head\n",
        "    fast_ptr = head\n",
        "    prev_ptr = None\n",
        "\n",
        "    while fast_ptr is not None and fast_ptr.next is not None:\n",
        "        fast_ptr = fast_ptr.next.next\n",
        "        prev_ptr = slow_ptr\n",
        "        slow_ptr = slow_ptr.next\n",
        "\n",
        "    # If there are even number of nodes, move slow_ptr one step ahead\n",
        "    if fast_ptr is None:\n",
        "        slow_ptr = slow_ptr.next\n",
        "\n",
        "    # Delete the middle node\n",
        "    if prev_ptr is not None:\n",
        "        prev_ptr.next = slow_ptr.next\n",
        "    else:\n",
        "        head = slow_ptr.next\n",
        "\n",
        "    return head\n",
        "\n",
        "# Helper function to print the linked list\n",
        "def printLinkedList(head):\n",
        "    current = head\n",
        "    while current is not None:\n",
        "        print(current.val, end=\" \")\n",
        "        current = current.next\n",
        "    print()\n",
        "\n",
        "# Example usage\n",
        "# Create the linked list: 1 -> 2 -> 3 -> 4 -> 5\n",
        "head = ListNode(1)\n",
        "head.next = ListNode(2)\n",
        "head.next.next = ListNode(3)\n",
        "head.next.next.next = ListNode(4)\n",
        "head.next.next.next.next = ListNode(5)\n",
        "\n",
        "print(\"Original linked list:\")\n",
        "printLinkedList(head)\n",
        "\n",
        "head = deleteMiddleNode(head)\n",
        "\n",
        "print(\"Modified linked list:\")\n",
        "printLinkedList(head)"
      ]
    },
    {
      "cell_type": "markdown",
      "source": [
        "Question 2\n",
        "\n",
        "Given a linked list of N nodes. The task is to check if the linked list has a loop. Linked list can contain self loop.\n",
        "\n",
        "Example 1:\n",
        "\n",
        "Input:\n",
        "N = 3\n",
        "value[] = {1,3,4}\n",
        "x(position at which tail is connected) = 2\n",
        "Output:True\n",
        "Explanation:In above test case N = 3.\n",
        "The linked list with nodes N = 3 is\n",
        "given. Then value of x=2 is given which\n",
        "means last node is connected with xth\n",
        "node of linked list. Therefore, there\n",
        "exists a loop.\n",
        "Example 2:\n",
        "\n",
        "Input:\n",
        "N = 4\n",
        "value[] = {1,8,3,4}\n",
        "x = 0\n",
        "Output:False\n",
        "Explanation:For N = 4 ,x = 0 means\n",
        "then lastNode->next = NULL, then\n",
        "the Linked list does not contains\n",
        "any loop."
      ],
      "metadata": {
        "id": "Bv58RIeXfSPd"
      }
    },
    {
      "cell_type": "code",
      "source": [
        "class ListNode:\n",
        "    def __init__(self, val=0, next=None):\n",
        "        self.val = val\n",
        "        self.next = next\n",
        "\n",
        "def hasCycle(head):\n",
        "    if head is None or head.next is None:\n",
        "        return False\n",
        "\n",
        "    slow_ptr = head\n",
        "    fast_ptr = head\n",
        "\n",
        "    while fast_ptr is not None and fast_ptr.next is not None:\n",
        "        slow_ptr = slow_ptr.next\n",
        "        fast_ptr = fast_ptr.next.next\n",
        "\n",
        "        if slow_ptr == fast_ptr:\n",
        "            return True\n",
        "\n",
        "    return False\n",
        "\n",
        "# Example usage\n",
        "# Create the linked list: 1 -> 3 -> 4 -> 2 (loop)\n",
        "head = ListNode(1)\n",
        "head.next = ListNode(3)\n",
        "head.next.next = ListNode(4)\n",
        "head.next.next.next = ListNode(2)\n",
        "head.next.next.next.next = head.next\n",
        "\n",
        "has_cycle = hasCycle(head)\n",
        "\n",
        "if has_cycle:\n",
        "    print(\"The linked list has a loop\")\n",
        "else:\n",
        "    print(\"The linked list does not have a loop\")"
      ],
      "metadata": {
        "colab": {
          "base_uri": "https://localhost:8080/"
        },
        "id": "t_mNLknKfRBI",
        "outputId": "1cf69940-e90b-4856-b16d-1a6e4e5e71e6"
      },
      "execution_count": 10,
      "outputs": [
        {
          "output_type": "stream",
          "name": "stdout",
          "text": [
            "The linked list has a loop\n"
          ]
        }
      ]
    },
    {
      "cell_type": "markdown",
      "source": [
        "Question 3\n",
        "\n",
        "Given a linked list consisting of L nodes and given a number N. The task is to find the Nth node from the end of the linked list.\n",
        "\n",
        "Example 1:\n",
        "\n",
        "Input:\n",
        "N = 2\n",
        "LinkedList: 1->2->3->4->5->6->7->8->9\n",
        "Output:8\n",
        "Explanation:In the first example, there\n",
        "are 9 nodes in linked list and we need\n",
        "to find 2nd node from end. 2nd node\n",
        "from end is 8.\n",
        "Example 2:\n",
        "\n",
        "Input:\n",
        "N = 5\n",
        "LinkedList: 10->5->100->5\n",
        "Output:-1\n",
        "Explanation:In the second example, there\n",
        "are 4 nodes in the linked list and we\n",
        "need to find 5th from the end. Since 'n'\n",
        "is more than the number of nodes in the\n",
        "linked list, the output is -1."
      ],
      "metadata": {
        "id": "Xe-R2JYtfaC-"
      }
    },
    {
      "cell_type": "code",
      "source": [
        "class ListNode:\n",
        "    def __init__(self, val=0, next=None):\n",
        "        self.val = val\n",
        "        self.next = next\n",
        "\n",
        "def findNthFromEnd(head, N):\n",
        "    if head is None:\n",
        "        return None\n",
        "\n",
        "    slow_ptr = head\n",
        "    fast_ptr = head\n",
        "\n",
        "    # Move the fast pointer N positions ahead\n",
        "    for _ in range(N):\n",
        "        if fast_ptr is None:\n",
        "            return None\n",
        "        fast_ptr = fast_ptr.next\n",
        "\n",
        "    # Move both pointers until the fast pointer reaches the end\n",
        "    while fast_ptr is not None:\n",
        "        slow_ptr = slow_ptr.next\n",
        "        fast_ptr = fast_ptr.next\n",
        "\n",
        "    # Slow pointer now points to the Nth node from the end\n",
        "    return slow_ptr.val\n",
        "\n",
        "# Example usage\n",
        "# Create the linked list: 1 -> 2 -> 3 -> 4 -> 5 -> 6 -> 7 -> 8 -> 9\n",
        "head = ListNode(1)\n",
        "head.next = ListNode(2)\n",
        "head.next.next = ListNode(3)\n",
        "head.next.next.next = ListNode(4)\n",
        "head.next.next.next.next = ListNode(5)\n",
        "head.next.next.next.next.next = ListNode(6)\n",
        "head.next.next.next.next.next.next = ListNode(7)\n",
        "head.next.next.next.next.next.next.next = ListNode(8)\n",
        "head.next.next.next.next.next.next.next.next = ListNode(9)\n",
        "\n",
        "N = 2\n",
        "result = findNthFromEnd(head, N)\n",
        "print(result)"
      ],
      "metadata": {
        "colab": {
          "base_uri": "https://localhost:8080/"
        },
        "id": "q_fAwpFbfYnw",
        "outputId": "70b40656-c9ba-454d-fbfd-62bc0c54e6c9"
      },
      "execution_count": 11,
      "outputs": [
        {
          "output_type": "stream",
          "name": "stdout",
          "text": [
            "8\n"
          ]
        }
      ]
    },
    {
      "cell_type": "markdown",
      "source": [
        "Question 4\n",
        "\n",
        "Given a singly linked list of characters, write a function that returns true if the given list is a palindrome, else false.\n",
        "\n",
        "LLdrawio.png\n",
        "\n",
        "Examples:\n",
        "\n",
        "Input: R->A->D->A->R->NULL\n",
        "\n",
        "Output: Yes\n",
        "\n",
        "Input: C->O->D->E->NULL\n",
        "\n",
        "Output: No"
      ],
      "metadata": {
        "id": "X7ErYXK7fiwh"
      }
    },
    {
      "cell_type": "code",
      "source": [
        "class Node:\n",
        "    def __init__(self, data=None):\n",
        "        self.data = data\n",
        "        self.next = None\n",
        "\n",
        "\n",
        "def isPalindrome(head):\n",
        "    # Store characters in a list or stack\n",
        "    characters = []\n",
        "    current = head\n",
        "    while current:\n",
        "        characters.append(current.data)\n",
        "        current = current.next\n",
        "\n",
        "    # Initialize pointers\n",
        "    start = 0\n",
        "    end = len(characters) - 1\n",
        "\n",
        "    # Compare characters at corresponding positions\n",
        "    while start < end:\n",
        "        if characters[start] != characters[end]:\n",
        "            return False\n",
        "        start += 1\n",
        "        end -= 1\n",
        "\n",
        "    return True\n",
        "\n",
        "\n",
        "# Create the linked list: R->A->D->A->R->NULL\n",
        "head = Node(\"R\")\n",
        "head.next = Node(\"A\")\n",
        "head.next.next = Node(\"D\")\n",
        "# ... Continue creating the rest of the nodes\n",
        "\n",
        "result = isPalindrome(head)\n",
        "print(result)\n",
        "\n",
        "# Create the linked list: C->O->D->E->NULL\n",
        "head = Node(\"C\")\n",
        "head.next = Node(\"O\")\n",
        "head.next.next = Node(\"D\")\n",
        "# ... Continue creating the rest of the nodes\n",
        "\n",
        "result = isPalindrome(head)\n",
        "print(result)"
      ],
      "metadata": {
        "colab": {
          "base_uri": "https://localhost:8080/"
        },
        "id": "yxY2N2hHfiBQ",
        "outputId": "067016c1-30a8-4554-d16a-112e3d95374a"
      },
      "execution_count": 12,
      "outputs": [
        {
          "output_type": "stream",
          "name": "stdout",
          "text": [
            "False\n",
            "False\n"
          ]
        }
      ]
    },
    {
      "cell_type": "markdown",
      "source": [
        "Question 5\n",
        "\n",
        "Given a linked list of N nodes such that it may contain a loop.\n",
        "\n",
        "A loop here means that the last node of the link list is connected to the node at position X(1-based index). If the link list does not have any loop, X=0.\n",
        "\n",
        "Remove the loop from the linked list, if it is present, i.e. unlink the last node which is forming the loop.\n",
        "\n",
        "Example 1:\n",
        "\n",
        "Input:\n",
        "N = 3\n",
        "value[] = {1,3,4}\n",
        "X = 2\n",
        "Output:1\n",
        "Explanation:The link list looks like\n",
        "1 -> 3 -> 4\n",
        "     ^    |\n",
        "     |____|\n",
        "A loop is present. If you remove it\n",
        "successfully, the answer will be 1.\n",
        "Example 2:\n",
        "\n",
        "Input:\n",
        "N = 4\n",
        "value[] = {1,8,3,4}\n",
        "X = 0\n",
        "Output:1\n",
        "Explanation:The Linked list does not\n",
        "contains any loop.\n",
        "Example 3:\n",
        "\n",
        "Input:\n",
        "N = 4\n",
        "value[] = {1,2,3,4}\n",
        "X = 1\n",
        "Output:1\n",
        "Explanation:The link list looks like\n",
        "1 -> 2 -> 3 -> 4\n",
        "^              |\n",
        "|______________|\n",
        "A loop is present.\n",
        "If you remove it successfully,\n",
        "the answer will be 1."
      ],
      "metadata": {
        "id": "wTkVYu_MfpYn"
      }
    },
    {
      "cell_type": "code",
      "source": [
        "class Node:\n",
        "    def __init__(self, data=None):\n",
        "        self.data = data\n",
        "        self.next = None\n",
        "\n",
        "\n",
        "def detectAndRemoveLoop(head):\n",
        "    # Initialize pointers\n",
        "    slow = fast = head\n",
        "\n",
        "    # Find the meeting point of slow and fast pointers\n",
        "    while fast and fast.next:\n",
        "        slow = slow.next\n",
        "        fast = fast.next.next\n",
        "        if slow == fast:\n",
        "            break\n",
        "\n",
        "    # If no loop is found, return from the function\n",
        "    if fast is None or fast.next is None:\n",
        "        return\n",
        "\n",
        "    # Move the slow pointer to the head\n",
        "    slow = head\n",
        "\n",
        "    # Move both pointers one step at a time until they meet again\n",
        "    while slow.next != fast.next:\n",
        "        slow = slow.next\n",
        "        fast = fast.next\n",
        "\n",
        "    # Set the next pointer of the node just before the loop to None\n",
        "    fast.next = None\n",
        "\n",
        "    return head\n",
        "\n",
        "\n",
        "# Create the linked list: 1 -> 3 -> 4\n",
        "head = Node(1)\n",
        "head.next = Node(3)\n",
        "head.next.next = Node(4)\n",
        "\n",
        "# Create the loop by connecting the last node to the node at position X=2\n",
        "head.next.next.next = head.next\n",
        "\n",
        "result = detectAndRemoveLoop(head)\n",
        "print(result.data)"
      ],
      "metadata": {
        "colab": {
          "base_uri": "https://localhost:8080/"
        },
        "id": "Fre8VvKsfooT",
        "outputId": "265ce3f8-45a3-4e16-ab78-e4db97c1b296"
      },
      "execution_count": 13,
      "outputs": [
        {
          "output_type": "stream",
          "name": "stdout",
          "text": [
            "1\n"
          ]
        }
      ]
    },
    {
      "cell_type": "markdown",
      "source": [
        "Question 6\n",
        "\n",
        "Given a linked list and two integers M and N. Traverse the linked list such that you retain M nodes then delete next N nodes, continue the same till end of the linked list.\n",
        "\n",
        "Difficulty Level: Rookie\n",
        "\n",
        "Examples:\n",
        "\n",
        "Input:\n",
        "M = 2, N = 2\n",
        "Linked List: 1->2->3->4->5->6->7->8\n",
        "Output:\n",
        "Linked List: 1->2->5->6\n",
        "\n",
        "Input:\n",
        "M = 3, N = 2\n",
        "Linked List: 1->2->3->4->5->6->7->8->9->10\n",
        "Output:\n",
        "Linked List: 1->2->3->6->7->8\n",
        "\n",
        "Input:\n",
        "M = 1, N = 1\n",
        "Linked List: 1->2->3->4->5->6->7->8->9->10\n",
        "Output:\n",
        "Linked List: 1->3->5->7->9"
      ],
      "metadata": {
        "id": "JPoRWAIEfwlw"
      }
    },
    {
      "cell_type": "code",
      "source": [
        "class ListNode:\n",
        "    def __init__(self, val=0, next=None):\n",
        "        self.val = val\n",
        "        self.next = next\n",
        "\n",
        "def retainDelete(head, M, N):\n",
        "    if head is None or M == 0:\n",
        "        return head\n",
        "\n",
        "    current = head\n",
        "\n",
        "    while current is not None:\n",
        "        # Skip M-1 nodes\n",
        "        for _ in range(M-1):\n",
        "            if current is None:\n",
        "                return head\n",
        "            current = current.next\n",
        "\n",
        "        # Delete N nodes\n",
        "        temp = current.next\n",
        "        for _ in range(N):\n",
        "            if temp is None:\n",
        "                break\n",
        "            temp = temp.next\n",
        "\n",
        "        current.next = temp\n",
        "\n",
        "        current = temp\n",
        "\n",
        "    return head\n",
        "\n",
        "# Function to print the linked list\n",
        "def printLinkedList(head):\n",
        "    current = head\n",
        "    while current is not None:\n",
        "        print(current.val, end=\" \")\n",
        "        current = current.next\n",
        "    print()\n",
        "\n",
        "# Example usage\n",
        "# Create the linked list: 1 -> 2 -> 3 -> 4 -> 5 -> 6 -> 7 -> 8\n",
        "head = ListNode(1)\n",
        "head.next = ListNode(2)\n",
        "head.next.next = ListNode(3)\n",
        "head.next.next.next = ListNode(4)\n",
        "head.next.next.next.next = ListNode(5)\n",
        "head.next.next.next.next.next = ListNode(6)\n",
        "head.next.next.next.next.next.next = ListNode(7)\n",
        "head.next.next.next.next.next.next.next = ListNode(8)\n",
        "\n",
        "M = 2\n",
        "N = 2\n",
        "\n",
        "print(\"Original linked list:\")\n",
        "printLinkedList(head)\n",
        "\n",
        "head = retainDelete(head, M, N)\n",
        "\n",
        "print(\"Modified linked list:\")\n",
        "printLinkedList(head)\n"
      ],
      "metadata": {
        "colab": {
          "base_uri": "https://localhost:8080/"
        },
        "id": "eXRGyrJHfvSF",
        "outputId": "9defe816-9817-40b1-e5a9-520174ee5a20"
      },
      "execution_count": 14,
      "outputs": [
        {
          "output_type": "stream",
          "name": "stdout",
          "text": [
            "Original linked list:\n",
            "1 2 3 4 5 6 7 8 \n",
            "Modified linked list:\n",
            "1 2 5 6 \n"
          ]
        }
      ]
    },
    {
      "cell_type": "markdown",
      "source": [
        "Question 7\n",
        "\n",
        "Given two linked lists, insert nodes of second list into first list at alternate positions of first list. For example, if first list is 5->7->17->13->11 and second is 12->10->2->4->6, the first list should become 5->12->7->10->17->2->13->4->11->6 and second list should become empty. The nodes of second list should only be inserted when there are positions available. For example, if the first list is 1->2->3 and second list is 4->5->6->7->8, then first list should become 1->4->2->5->3->6 and second list to 7->8.\n",
        "\n",
        "Use of extra space is not allowed (Not allowed to create additional nodes), i.e., insertion must be done in-place. Expected time complexity is O(n) where n is number of nodes in first list."
      ],
      "metadata": {
        "id": "hQIOkKM1f3IK"
      }
    },
    {
      "cell_type": "code",
      "source": [
        "class Node:\n",
        "    def __init__(self, data=None):\n",
        "        self.data = data\n",
        "        self.next = None\n",
        "\n",
        "\n",
        "def mergeAlternate(first, second):\n",
        "    if first is None:\n",
        "        return second\n",
        "\n",
        "    if second is None:\n",
        "        return first\n",
        "\n",
        "    current_first = first\n",
        "    current_second = second\n",
        "\n",
        "    while current_first and current_second:\n",
        "        next_first = current_first.next\n",
        "        next_second = current_second.next\n",
        "\n",
        "        current_first.next = current_second\n",
        "        current_second.next = next_first\n",
        "\n",
        "        current_first = next_first\n",
        "        current_second = next_second\n",
        "\n",
        "    if current_second:\n",
        "        current_first.next = current_second\n",
        "\n",
        "    second = None  # Empty the second list\n",
        "\n",
        "    return first\n",
        "\n",
        "\n",
        "# Create the first linked list:\n",
        "first = Node(5)\n",
        "first.next = Node(7)\n",
        "first.next.next = Node(17)\n",
        "# ... Continue creating the rest of the nodes\n",
        "\n",
        "# Create the second linked list:\n",
        "second = Node(12)\n",
        "second.next = Node(10)\n",
        "second.next.next = Node(2)\n",
        "# ... Continue creating the rest of the nodes\n",
        "\n",
        "result = mergeAlternate(first, second)\n",
        "\n",
        "# Print the modified first linked list\n",
        "current = result\n",
        "while current:\n",
        "    print(current.data, end=\" \")\n",
        "    current = current.next\n",
        "\n",
        "\n",
        "# Print the modified second linked list\n",
        "current = second\n",
        "while current:\n",
        "    print(current.data, end=\" \")\n",
        "    current = current.next"
      ],
      "metadata": {
        "colab": {
          "base_uri": "https://localhost:8080/"
        },
        "id": "CDbgJ57of2Zn",
        "outputId": "06a294fa-e8e7-4f9f-9e08-09a4274e2905"
      },
      "execution_count": 15,
      "outputs": [
        {
          "output_type": "stream",
          "name": "stdout",
          "text": [
            "5 12 7 10 17 2 12 7 10 17 2 "
          ]
        }
      ]
    },
    {
      "cell_type": "markdown",
      "source": [
        "Question 8\n",
        "\n",
        "Given a singly linked list, find if the linked list is [circular] or not.\n",
        "\n",
        "A linked list is called circular if it is not NULL-terminated and all nodes are connected in the form of a cycle. Below is an example of a circular linked list."
      ],
      "metadata": {
        "id": "sfQ4W5pif-MS"
      }
    },
    {
      "cell_type": "code",
      "source": [
        "class Node:\n",
        "    def __init__(self, data=None):\n",
        "        self.data = data\n",
        "        self.next = None\n",
        "\n",
        "\n",
        "def isCircular(head):\n",
        "    if head is None:\n",
        "        return False\n",
        "\n",
        "    slow = fast = head\n",
        "\n",
        "    while fast and fast.next:\n",
        "        slow = slow.next\n",
        "        fast = fast.next.next\n",
        "\n",
        "        if slow == fast:\n",
        "            return True\n",
        "\n",
        "    return False\n",
        "\n",
        "\n",
        "# Create a circular linked list: 1->2->3->4->5->6->7->8->(back to 1)\n",
        "head = Node(1)\n",
        "head.next = Node(2)\n",
        "head.next.next = Node(3)\n",
        "# ... Continue creating the rest of the nodes\n",
        "\n",
        "# Make the last node connect back to the first node, creating a cycle\n",
        "current = head\n",
        "while current.next:\n",
        "    current = current.next\n",
        "current.next = head\n",
        "\n",
        "result = isCircular(head)\n",
        "print(result)"
      ],
      "metadata": {
        "colab": {
          "base_uri": "https://localhost:8080/"
        },
        "id": "_FTst-X-f9HE",
        "outputId": "fafd52bc-a137-479e-f9bb-0c0df13b94ea"
      },
      "execution_count": 16,
      "outputs": [
        {
          "output_type": "stream",
          "name": "stdout",
          "text": [
            "True\n"
          ]
        }
      ]
    },
    {
      "cell_type": "code",
      "source": [],
      "metadata": {
        "id": "-cP5H0lXgDTr"
      },
      "execution_count": null,
      "outputs": []
    }
  ]
}