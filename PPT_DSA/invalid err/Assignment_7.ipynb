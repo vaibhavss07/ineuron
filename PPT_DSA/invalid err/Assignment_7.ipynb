{
  "nbformat": 4,
  "nbformat_minor": 0,
  "metadata": {
    "colab": {
      "provenance": []
    },
    "kernelspec": {
      "name": "python3",
      "display_name": "Python 3"
    },
    "language_info": {
      "name": "python"
    }
  },
  "cells": [
    {
      "cell_type": "markdown",
      "source": [
        "Q1. Given two strings s and t, determine if they are isomorphic.\n",
        "\n",
        "Two strings s and t are isomorphic if the characters in s can be replaced to get t.\n",
        "\n",
        "All occurrences of a character must be replaced with another character while preserving the order of characters. No two characters may map to the same character, but a character may map to itself.\n",
        "\n",
        "Example 1:\n",
        "\n",
        "Input: s = \"egg\", t = \"add\"\n",
        "\n",
        "Output: true"
      ],
      "metadata": {
        "id": "h5x0j9rdfM_u"
      }
    },
    {
      "cell_type": "code",
      "execution_count": 1,
      "metadata": {
        "colab": {
          "base_uri": "https://localhost:8080/"
        },
        "id": "e0YuMFFIfKfL",
        "outputId": "472ccbf1-1c66-4076-c11b-bdc161b1d3a8"
      },
      "outputs": [
        {
          "output_type": "stream",
          "name": "stdout",
          "text": [
            "True\n"
          ]
        }
      ],
      "source": [
        "def isIsomorphic(s, t):\n",
        "    s_to_t = {}\n",
        "    t_to_s = {}\n",
        "\n",
        "    for i in range(len(s)):\n",
        "        if s[i] not in s_to_t and t[i] not in t_to_s:\n",
        "            s_to_t[s[i]] = t[i]\n",
        "            t_to_s[t[i]] = s[i]\n",
        "        elif s[i] in s_to_t and t[i] in t_to_s:\n",
        "            if s_to_t[s[i]] != t[i] or t_to_s[t[i]] != s[i]:\n",
        "                return False\n",
        "        else:\n",
        "            return False\n",
        "\n",
        "    return True\n",
        "\n",
        "s = \"egg\"\n",
        "t = \"add\"\n",
        "print(isIsomorphic(s, t))"
      ]
    },
    {
      "cell_type": "markdown",
      "source": [
        "Q2. Given a string num which represents an integer, return true if num is a *strobogrammatic number***.\n",
        "\n",
        "A strobogrammatic number is a number that looks the same when rotated 180 degrees (looked at upside down).\n",
        "\n",
        "Example 1:\n",
        "\n",
        "Input: num = \"69\"\n",
        "\n",
        "Output:\n",
        "\n",
        "true"
      ],
      "metadata": {
        "id": "Bv58RIeXfSPd"
      }
    },
    {
      "cell_type": "code",
      "source": [
        "def isStrobogrammatic(num):\n",
        "    rotated = \"\"\n",
        "    for c in reversed(num):\n",
        "        if c == '0':\n",
        "            rotated += '0'\n",
        "        elif c == '1':\n",
        "            rotated += '1'\n",
        "        elif c == '6':\n",
        "            rotated += '9'\n",
        "        elif c == '8':\n",
        "            rotated += '8'\n",
        "        elif c == '9':\n",
        "            rotated += '6'\n",
        "        else:\n",
        "            return False\n",
        "\n",
        "    return rotated == num\n",
        "\n",
        "num = \"69\"\n",
        "print(isStrobogrammatic(num))"
      ],
      "metadata": {
        "colab": {
          "base_uri": "https://localhost:8080/"
        },
        "id": "t_mNLknKfRBI",
        "outputId": "074d62b6-fa75-4975-b7d2-66da484a5c0a"
      },
      "execution_count": 2,
      "outputs": [
        {
          "output_type": "stream",
          "name": "stdout",
          "text": [
            "True\n"
          ]
        }
      ]
    },
    {
      "cell_type": "markdown",
      "source": [
        "Q3. Given two non-negative integers, num1 and num2 represented as string, return the sum of num1 and num2 as a string.\n",
        "\n",
        "You must solve the problem without using any built-in library for handling large integers (such as BigInteger). You must also not convert the inputs to integers directly.\n",
        "\n",
        "Example 1:\n",
        "\n",
        "Input: num1 = \"11\", num2 = \"123\"\n",
        "\n",
        "Output:\n",
        "\n",
        "\"134\""
      ],
      "metadata": {
        "id": "Xe-R2JYtfaC-"
      }
    },
    {
      "cell_type": "code",
      "source": [
        "def addStrings(num1, num2):\n",
        "    result = \"\"\n",
        "    i = len(num1) - 1\n",
        "    j = len(num2) - 1\n",
        "    carry = 0\n",
        "\n",
        "    while i >= 0 or j >= 0 or carry:\n",
        "        digit1 = int(num1[i]) if i >= 0 else 0\n",
        "        digit2 = int(num2[j]) if j >= 0 else 0\n",
        "\n",
        "        total = digit1 + digit2 + carry\n",
        "        result += str(total % 10)\n",
        "        carry = total // 10\n",
        "\n",
        "        i -= 1\n",
        "        j -= 1\n",
        "\n",
        "    return result[::-1]\n",
        "\n",
        "num1 = \"11\"\n",
        "num2 = \"123\"\n",
        "print(addStrings(num1, num2))"
      ],
      "metadata": {
        "colab": {
          "base_uri": "https://localhost:8080/"
        },
        "id": "q_fAwpFbfYnw",
        "outputId": "14531345-64a1-41bf-e2bc-bd4b846137a0"
      },
      "execution_count": 3,
      "outputs": [
        {
          "output_type": "stream",
          "name": "stdout",
          "text": [
            "134\n"
          ]
        }
      ]
    },
    {
      "cell_type": "markdown",
      "source": [
        "Q4. Given a string s, reverse the order of characters in each word within a sentence while still preserving whitespace and initial word order.\n",
        "\n",
        "Example 1:\n",
        "\n",
        "Input: s = \"Let's take LeetCode contest\"\n",
        "\n",
        "Output: \"s'teL ekat edoCteeL tsetnoc\""
      ],
      "metadata": {
        "id": "X7ErYXK7fiwh"
      }
    },
    {
      "cell_type": "code",
      "source": [
        "def reverseWords(s):\n",
        "    words = s.split()\n",
        "    reversed_words = [word[::-1] for word in words]\n",
        "    return ' '.join(reversed_words)\n",
        "\n",
        "s = \"Let's take LeetCode contest\"\n",
        "print(reverseWords(s))"
      ],
      "metadata": {
        "colab": {
          "base_uri": "https://localhost:8080/"
        },
        "id": "yxY2N2hHfiBQ",
        "outputId": "87134241-e353-44ac-878c-29fe9d17562d"
      },
      "execution_count": 4,
      "outputs": [
        {
          "output_type": "stream",
          "name": "stdout",
          "text": [
            "s'teL ekat edoCteeL tsetnoc\n"
          ]
        }
      ]
    },
    {
      "cell_type": "markdown",
      "source": [
        "Q5. Given a string s and an integer k, reverse the first k characters for every 2k characters counting from the start of the string.\n",
        "\n",
        "If there are fewer than k characters left, reverse all of them. If there are less than 2k but greater than or equal to k characters, then reverse the first k characters and leave the other as original.\n",
        "\n",
        "Example 1:\n",
        "\n",
        "Input: s = \"abcdefg\", k = 2\n",
        "\n",
        "Output:\n",
        "\n",
        "\"bacdfeg\""
      ],
      "metadata": {
        "id": "wTkVYu_MfpYn"
      }
    },
    {
      "cell_type": "code",
      "source": [
        "def reverseStr(s, k):\n",
        "    s = list(s)\n",
        "    n = len(s)\n",
        "\n",
        "    for i in range(0, n, 2 * k):\n",
        "        s[i:i + k] = s[i:i + k][::-1]\n",
        "\n",
        "    return ''.join(s)\n",
        "\n",
        "s = \"abcdefg\"\n",
        "k = 2\n",
        "print(reverseStr(s, k))"
      ],
      "metadata": {
        "colab": {
          "base_uri": "https://localhost:8080/"
        },
        "id": "Fre8VvKsfooT",
        "outputId": "03b2de40-474c-4756-dd92-65bc0233c18a"
      },
      "execution_count": 5,
      "outputs": [
        {
          "output_type": "stream",
          "name": "stdout",
          "text": [
            "bacdfeg\n"
          ]
        }
      ]
    },
    {
      "cell_type": "markdown",
      "source": [
        "Q6. Given two strings s and goal, return true if and only if s can become goal after some number of shifts on s.\n",
        "\n",
        "A shift on s consists of moving the leftmost character of s to the rightmost position.\n",
        "\n",
        "For example, if s = \"abcde\", then it will be \"bcdea\" after one shift.\n",
        "Example 1:\n",
        "\n",
        "Input: s = \"abcde\", goal = \"cdeab\"\n",
        "\n",
        "Output:\n",
        "\n",
        "true"
      ],
      "metadata": {
        "id": "JPoRWAIEfwlw"
      }
    },
    {
      "cell_type": "code",
      "source": [
        "def rotateString(s, goal):\n",
        "    if len(s) != len(goal):\n",
        "        return False\n",
        "\n",
        "    concat = s + s\n",
        "    return goal in concat\n",
        "\n",
        "s = \"abcde\"\n",
        "goal = \"cdeab\"\n",
        "print(rotateString(s, goal))"
      ],
      "metadata": {
        "colab": {
          "base_uri": "https://localhost:8080/"
        },
        "id": "eXRGyrJHfvSF",
        "outputId": "1921c907-2980-41d0-b93f-efdcfa798132"
      },
      "execution_count": 6,
      "outputs": [
        {
          "output_type": "stream",
          "name": "stdout",
          "text": [
            "True\n"
          ]
        }
      ]
    },
    {
      "cell_type": "markdown",
      "source": [
        "Q7. Given two strings s and t, return true if they are equal when both are typed into empty text editors. '#' means a backspace character.\n",
        "\n",
        "Note that after backspacing an empty text, the text will continue empty.\n",
        "\n",
        "Example 1:\n",
        "\n",
        "Input: s = \"ab#c\", t = \"ad#c\"\n",
        "\n",
        "Output: true\n",
        "\n",
        "Explanation:\n",
        "\n",
        "Both s and t become \"ac\"."
      ],
      "metadata": {
        "id": "hQIOkKM1f3IK"
      }
    },
    {
      "cell_type": "code",
      "source": [
        "def applyBackspace(s):\n",
        "    result = []\n",
        "    for char in s:\n",
        "        if char != '#':\n",
        "            result.append(char)\n",
        "        elif result:\n",
        "            result.pop()\n",
        "    return ''.join(result)\n",
        "\n",
        "def processString(s, t):\n",
        "    processed_s = applyBackspace(s)\n",
        "    processed_t = applyBackspace(t)\n",
        "    return processed_s == processed_t\n",
        "\n",
        "def backspaceCompare(s, t):\n",
        "    return processString(s, t)\n",
        "\n",
        "s = \"ab#c\"\n",
        "t = \"ad#c\"\n",
        "print(backspaceCompare(s, t))"
      ],
      "metadata": {
        "colab": {
          "base_uri": "https://localhost:8080/"
        },
        "id": "CDbgJ57of2Zn",
        "outputId": "810e562a-17f1-4c42-f8de-dfdd792f9908"
      },
      "execution_count": 7,
      "outputs": [
        {
          "output_type": "stream",
          "name": "stdout",
          "text": [
            "True\n"
          ]
        }
      ]
    },
    {
      "cell_type": "markdown",
      "source": [
        "Q8. You are given an array coordinates, coordinates[i] = [x, y], where [x, y] represents the coordinate of a point. Check if these points make a straight line in the XY plane.\n",
        "\n",
        "Example 1:\n",
        "\n",
        "Screenshot_2023-05-29_010117.png\n",
        "\n",
        "Input: coordinates = [[1,2],[2,3],[3,4],[4,5],[5,6],[6,7]]\n",
        "\n",
        "Output: true"
      ],
      "metadata": {
        "id": "sfQ4W5pif-MS"
      }
    },
    {
      "cell_type": "code",
      "source": [
        "def checkStraightLine(coordinates):\n",
        "    x1, y1 = coordinates[0]\n",
        "    x2, y2 = coordinates[1]\n",
        "    initial_slope = (y2 - y1) / (x2 - x1)\n",
        "\n",
        "    for i in range(2, len(coordinates)):\n",
        "        x1, y1 = coordinates[i - 1]\n",
        "        x2, y2 = coordinates[i]\n",
        "        current_slope = (y2 - y1) / (x2 - x1)\n",
        "        if current_slope != initial_slope:\n",
        "            return False\n",
        "\n",
        "    return True\n",
        "\n",
        "coordinates = [[1, 2], [2, 3], [3, 4], [4, 5], [5, 6], [6, 7]]\n",
        "print(checkStraightLine(coordinates))"
      ],
      "metadata": {
        "colab": {
          "base_uri": "https://localhost:8080/"
        },
        "id": "_FTst-X-f9HE",
        "outputId": "36baec1e-e46d-4ec8-fb18-5c6c9b8a9607"
      },
      "execution_count": 8,
      "outputs": [
        {
          "output_type": "stream",
          "name": "stdout",
          "text": [
            "True\n"
          ]
        }
      ]
    },
    {
      "cell_type": "code",
      "source": [],
      "metadata": {
        "id": "-cP5H0lXgDTr"
      },
      "execution_count": null,
      "outputs": []
    }
  ]
}