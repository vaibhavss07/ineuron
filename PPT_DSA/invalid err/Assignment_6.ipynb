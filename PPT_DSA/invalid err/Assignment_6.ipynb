{
  "nbformat": 4,
  "nbformat_minor": 0,
  "metadata": {
    "colab": {
      "provenance": []
    },
    "kernelspec": {
      "name": "python3",
      "display_name": "Python 3"
    },
    "language_info": {
      "name": "python"
    }
  },
  "cells": [
    {
      "cell_type": "markdown",
      "source": [
        "Q1. A permutation perm of n + 1 integers of all the integers in the range [0, n] can be represented as a string s of length n where:\n",
        "\n",
        "s[i] == 'I' if perm[i] < perm[i + 1], and\n",
        "s[i] == 'D' if perm[i] > perm[i + 1].\n",
        "Given a string s, reconstruct the permutation perm and return it. If there are multiple valid permutations perm, return any of them.\n",
        "\n",
        "Example 1:\n",
        "\n",
        "Input: s = \"IDID\"\n",
        "\n",
        "Output:\n",
        "\n",
        "[0,4,1,3,2]"
      ],
      "metadata": {
        "id": "h5x0j9rdfM_u"
      }
    },
    {
      "cell_type": "code",
      "execution_count": 24,
      "metadata": {
        "colab": {
          "base_uri": "https://localhost:8080/"
        },
        "id": "e0YuMFFIfKfL",
        "outputId": "28fe39e9-84c0-423a-d892-bafb5ce3e72a"
      },
      "outputs": [
        {
          "output_type": "stream",
          "name": "stdout",
          "text": [
            "[0, 4, 1, 3, 2]\n"
          ]
        }
      ],
      "source": [
        "def findPermutation(s):\n",
        "    n = len(s)\n",
        "    perm = []\n",
        "    low = 0\n",
        "    high = n\n",
        "\n",
        "    for char in s:\n",
        "        if char == 'I':\n",
        "            perm.append(low)\n",
        "            low += 1\n",
        "        else:\n",
        "            perm.append(high)\n",
        "            high -= 1\n",
        "\n",
        "    # Append the remaining number\n",
        "    perm.append(low)\n",
        "\n",
        "    return perm\n",
        "\n",
        "s = \"IDID\"\n",
        "print(findPermutation(s))"
      ]
    },
    {
      "cell_type": "markdown",
      "source": [
        "Q2. You are given an m x n integer matrix matrix with the following two properties:\n",
        "\n",
        "Each row is sorted in non-decreasing order.\n",
        "The first integer of each row is greater than the last integer of the previous row.\n",
        "Given an integer target, return true if target is in matrix or false otherwise.\n",
        "\n",
        "You must write a solution in O(log(m * n)) time complexity.\n",
        "\n",
        "Example 1: Screenshot_2023-05-29_005303.png\n",
        "\n",
        "Input: matrix = [[1,3,5,7],[10,11,16,20],[23,30,34,60]], target = 3\n",
        "\n",
        "Output: true"
      ],
      "metadata": {
        "id": "Bv58RIeXfSPd"
      }
    },
    {
      "cell_type": "code",
      "source": [
        "def searchMatrix(matrix, target):\n",
        "    m = len(matrix)\n",
        "    n = len(matrix[0])\n",
        "\n",
        "    left = 0\n",
        "    right = m * n - 1\n",
        "\n",
        "    while left <= right:\n",
        "        mid = (left + right) // 2\n",
        "        row = mid // n\n",
        "        col = mid % n\n",
        "\n",
        "        if matrix[row][col] == target:\n",
        "            return True\n",
        "        elif matrix[row][col] < target:\n",
        "            left = mid + 1\n",
        "        else:\n",
        "            right = mid - 1\n",
        "\n",
        "    return False\n",
        "\n",
        "matrix = [[1, 3, 5, 7], [10, 11, 16, 20], [23, 30, 34, 60]]\n",
        "target = 3\n",
        "\n",
        "print(searchMatrix(matrix, target))"
      ],
      "metadata": {
        "colab": {
          "base_uri": "https://localhost:8080/"
        },
        "id": "t_mNLknKfRBI",
        "outputId": "4418e621-0843-4269-819b-bf818120db5a"
      },
      "execution_count": 25,
      "outputs": [
        {
          "output_type": "stream",
          "name": "stdout",
          "text": [
            "True\n"
          ]
        }
      ]
    },
    {
      "cell_type": "markdown",
      "source": [
        "Q3. Given an array of integers arr, return true if and only if it is a valid mountain array. Recall that arr is a mountain array if and only if:\n",
        "\n",
        "arr.length >= 3\n",
        "There exists some i with 0 < i < arr.length - 1 such that:\n",
        "arr[0] < arr[1] < ... < arr[i - 1] < arr[i]\n",
        "arr[i] > arr[i + 1] > ... > arr[arr.length - 1]\n",
        "Screenshot_2023-05-29_005352.png\n",
        "\n",
        "Example 1:\n",
        "\n",
        "Input: arr = [2,1]\n",
        "\n",
        "Output:\n",
        "\n",
        "false"
      ],
      "metadata": {
        "id": "Xe-R2JYtfaC-"
      }
    },
    {
      "cell_type": "code",
      "source": [
        "def validMountainArray(arr):\n",
        "    n = len(arr)\n",
        "\n",
        "    if n < 3:\n",
        "        return False\n",
        "\n",
        "    left = 0\n",
        "    right = n - 1\n",
        "\n",
        "    while left < right:\n",
        "        if arr[left] >= arr[left + 1] or arr[right] >= arr[right - 1]:\n",
        "            return False\n",
        "\n",
        "        left += 1\n",
        "        right -= 1\n",
        "\n",
        "    return left == right\n",
        "\n",
        "arr = [2, 1]\n",
        "print(validMountainArray(arr))"
      ],
      "metadata": {
        "colab": {
          "base_uri": "https://localhost:8080/"
        },
        "id": "q_fAwpFbfYnw",
        "outputId": "047ef425-f9cd-4605-ab86-d7fe6e32324a"
      },
      "execution_count": 26,
      "outputs": [
        {
          "output_type": "stream",
          "name": "stdout",
          "text": [
            "False\n"
          ]
        }
      ]
    },
    {
      "cell_type": "markdown",
      "source": [
        "Q4. Given a binary array nums, return the maximum length of a contiguous subarray with an equal number of 0 and 1.\n",
        "\n",
        "Example 1:\n",
        "\n",
        "Input: nums = [0,1]\n",
        "\n",
        "Output: 2\n",
        "\n",
        "Explanation:\n",
        "\n",
        "[0, 1] is the longest contiguous subarray with an equal number of 0 and 1."
      ],
      "metadata": {
        "id": "X7ErYXK7fiwh"
      }
    },
    {
      "cell_type": "code",
      "source": [
        "def findMaxLength(nums):\n",
        "    max_length = 0\n",
        "    count = 0\n",
        "    sum_count = {0: -1}\n",
        "\n",
        "    for i in range(len(nums)):\n",
        "        if nums[i] == 1:\n",
        "            count += 1\n",
        "        else:\n",
        "            count -= 1\n",
        "\n",
        "        if count in sum_count:\n",
        "            length = i - sum_count[count]\n",
        "            max_length = max(max_length, length)\n",
        "        else:\n",
        "            sum_count[count] = i\n",
        "\n",
        "    return max_length\n",
        "\n",
        "nums = [0, 1]\n",
        "print(findMaxLength(nums))"
      ],
      "metadata": {
        "colab": {
          "base_uri": "https://localhost:8080/"
        },
        "id": "yxY2N2hHfiBQ",
        "outputId": "37717f4b-6cdd-4b86-9ecb-a2bef87ee86a"
      },
      "execution_count": 27,
      "outputs": [
        {
          "output_type": "stream",
          "name": "stdout",
          "text": [
            "2\n"
          ]
        }
      ]
    },
    {
      "cell_type": "markdown",
      "source": [
        "Q5. The **product sum of two equal-length arrays a and b is equal to the sum of a[i] * b[i] for all 0 <= i < a.length (0-indexed).**\n",
        "\n",
        "For example, if a = [1,2,3,4] and b = [5,2,3,1], the product sum would be 15 + 22 + 33 + 41 = 22.\n",
        "Given two arrays nums1 and nums2 of length n, return the minimum product sum if you are allowed to rearrange the order of the elements in nums1.\n",
        "\n",
        "Example 1:\n",
        "\n",
        "Input: nums1 = [5,3,4,2], nums2 = [4,2,2,5]\n",
        "\n",
        "Output: 40\n",
        "\n",
        "Explanation:\n",
        "\n",
        "We can rearrange nums1 to become [3,5,4,2]. The product sum of [3,5,4,2] and [4,2,2,5] is 34 + 52 + 42 + 25 = 40."
      ],
      "metadata": {
        "id": "wTkVYu_MfpYn"
      }
    },
    {
      "cell_type": "code",
      "source": [
        "def minProductSum(nums1, nums2):\n",
        "    nums1.sort()\n",
        "    nums2.sort(reverse=True)\n",
        "\n",
        "    min_product_sum = 0\n",
        "    for i in range(len(nums1)):\n",
        "        min_product_sum += nums1[i] * nums2[i]\n",
        "\n",
        "    return min_product_sum\n",
        "nums1 = [5, 3, 4, 2]\n",
        "nums2 = [4, 2, 2, 5]\n",
        "result = minProductSum(nums1, nums2)\n",
        "print(result)"
      ],
      "metadata": {
        "colab": {
          "base_uri": "https://localhost:8080/"
        },
        "id": "Fre8VvKsfooT",
        "outputId": "4c781264-4d60-46e3-a35b-afe3f8d15495"
      },
      "execution_count": 28,
      "outputs": [
        {
          "output_type": "stream",
          "name": "stdout",
          "text": [
            "40\n"
          ]
        }
      ]
    },
    {
      "cell_type": "markdown",
      "source": [
        "Q6. An integer array original is transformed into a **doubled array changed by appending twice the value of every element in original, and then randomly shuffling the resulting array.**\n",
        "\n",
        "Given an array changed, return original if changed is a doubled array. If changed is not a doubled array, return an empty array. The elements in original may be returned in any order.\n",
        "\n",
        "Example 1:\n",
        "\n",
        "Input: changed = [1,3,4,2,6,8]\n",
        "\n",
        "Output: [1,3,4]\n",
        "\n",
        "Explanation: One possible original array could be [1,3,4]:\n",
        "\n",
        "Twice the value of 1 is 1 * 2 = 2.\n",
        "Twice the value of 3 is 3 * 2 = 6.\n",
        "Twice the value of 4 is 4 * 2 = 8.\n",
        "Other original arrays could be [4,3,1] or [3,1,4]."
      ],
      "metadata": {
        "id": "JPoRWAIEfwlw"
      }
    },
    {
      "cell_type": "code",
      "source": [
        "from typing import List\n",
        "\n",
        "def findOriginalArray(changed: List[int]) -> List[int]:\n",
        "    if len(changed) % 2 != 0:\n",
        "        return []\n",
        "\n",
        "    count = {}\n",
        "    for num in changed:\n",
        "        count[num] = count.get(num, 0) + 1\n",
        "\n",
        "    original = []\n",
        "    for num in sorted(changed):\n",
        "        if count.get(num, 0) == 0:\n",
        "            continue\n",
        "        if count.get(num * 2, 0) == 0:\n",
        "            return []\n",
        "        original.append(num)\n",
        "        count[num] -= 1\n",
        "        count[num * 2] -= 1\n",
        "\n",
        "    return original\n",
        "changed = [1, 3, 4, 2, 6, 8]\n",
        "original = findOriginalArray(changed)\n",
        "print(original)"
      ],
      "metadata": {
        "colab": {
          "base_uri": "https://localhost:8080/"
        },
        "id": "eXRGyrJHfvSF",
        "outputId": "3d5d32d0-666f-49ec-81b6-5c1cb0038ea3"
      },
      "execution_count": 29,
      "outputs": [
        {
          "output_type": "stream",
          "name": "stdout",
          "text": [
            "[1, 3, 4]\n"
          ]
        }
      ]
    },
    {
      "cell_type": "markdown",
      "source": [
        "Q7. Given a positive integer n, generate an n x n matrix filled with elements from 1 to n2 in spiral order\n",
        "\n",
        "Example 1: Screenshot_2023-05-29_005522.png\n",
        "\n",
        "Input: n = 3\n",
        "\n",
        "Output: [[1,2,3],[8,9,4],[7,6,5]]"
      ],
      "metadata": {
        "id": "hQIOkKM1f3IK"
      }
    },
    {
      "cell_type": "code",
      "source": [
        "def generateMatrix(n):\n",
        "    result = [[0] * n for _ in range(n)]\n",
        "\n",
        "    top = 0\n",
        "    bottom = n - 1\n",
        "    left = 0\n",
        "    right = n - 1\n",
        "\n",
        "    num = 1\n",
        "\n",
        "    while num <= n * n:\n",
        "        for i in range(left, right + 1):\n",
        "            result[top][i] = num\n",
        "            num += 1\n",
        "        top += 1\n",
        "\n",
        "        for i in range(top, bottom + 1):\n",
        "            result[i][right] = num\n",
        "            num += 1\n",
        "        right -= 1\n",
        "\n",
        "        for i in range(right, left - 1, -1):\n",
        "            result[bottom][i] = num\n",
        "            num += 1\n",
        "        bottom -= 1\n",
        "\n",
        "        for i in range(bottom, top - 1, -1):\n",
        "            result[i][left] = num\n",
        "            num += 1\n",
        "        left += 1\n",
        "\n",
        "    return result\n",
        "\n",
        "n = 3\n",
        "print(generateMatrix(n))"
      ],
      "metadata": {
        "colab": {
          "base_uri": "https://localhost:8080/"
        },
        "id": "CDbgJ57of2Zn",
        "outputId": "212352ad-8001-41fc-9a07-939c2534c379"
      },
      "execution_count": 30,
      "outputs": [
        {
          "output_type": "stream",
          "name": "stdout",
          "text": [
            "[[1, 2, 3], [8, 9, 4], [7, 6, 5]]\n"
          ]
        }
      ]
    },
    {
      "cell_type": "markdown",
      "source": [
        "Q8. Given two sparse matrices mat1 of size m x k and mat2 of size k x n, return the result of mat1 x mat2. You may assume that multiplication is always possible.\n",
        "\n",
        "Example 1:\n",
        "\n",
        "Screenshot_2023-05-29_005557.png\n",
        "\n",
        "Input: mat1 = [[1,0,0],[-1,0,3]], mat2 = [[7,0,0],[0,0,0],[0,0,1]]\n",
        "\n",
        "Output:\n",
        "\n",
        "[[7,0,0],[-7,0,3]]"
      ],
      "metadata": {
        "id": "sfQ4W5pif-MS"
      }
    },
    {
      "cell_type": "code",
      "source": [
        "def multiply(mat1, mat2):\n",
        "    m = len(mat1)\n",
        "    k = len(mat1[0])\n",
        "    n = len(mat2[0])\n",
        "\n",
        "    result = [[0] * n for _ in range(m)]\n",
        "\n",
        "    for i in range(m):\n",
        "        for j in range(n):\n",
        "            for x in range(k):\n",
        "                if mat1[i][x] != 0 and mat2[x][j] != 0:\n",
        "                    result[i][j] += mat1[i][x] * mat2[x][j]\n",
        "\n",
        "    return result\n",
        "\n",
        "mat1 = [[1, 0, 0], [-1, 0, 3]]\n",
        "mat2 = [[7, 0, 0], [0, 0, 0], [0, 0, 1]]\n",
        "print(multiply(mat1, mat2))"
      ],
      "metadata": {
        "colab": {
          "base_uri": "https://localhost:8080/"
        },
        "id": "_FTst-X-f9HE",
        "outputId": "0f0734f0-dd16-40fa-94aa-be34616d39ed"
      },
      "execution_count": 31,
      "outputs": [
        {
          "output_type": "stream",
          "name": "stdout",
          "text": [
            "[[7, 0, 0], [-7, 0, 3]]\n"
          ]
        }
      ]
    },
    {
      "cell_type": "code",
      "source": [],
      "metadata": {
        "id": "-cP5H0lXgDTr"
      },
      "execution_count": null,
      "outputs": []
    }
  ]
}