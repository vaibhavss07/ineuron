{
  "nbformat": 4,
  "nbformat_minor": 0,
  "metadata": {
    "colab": {
      "provenance": []
    },
    "kernelspec": {
      "name": "python3",
      "display_name": "Python 3"
    },
    "language_info": {
      "name": "python"
    }
  },
  "cells": [
    {
      "cell_type": "markdown",
      "source": [
        "Q1. Convert 1D Array Into 2D Array\n",
        "\n",
        "You are given a 0-indexed 1-dimensional (1D) integer array original, and two integers, m and n. You are tasked with creating a 2-dimensional (2D) array with m rows and n columns using all the elements from original.\n",
        "\n",
        "The elements from indices 0 to n - 1 (inclusive) of original should form the first row of the constructed 2D array, the elements from indices n to 2 * n - 1 (inclusive) should form the second row of the constructed 2D array, and so on.\n",
        "\n",
        "Return an m x n 2D array constructed according to the above procedure, or an empty 2D array if it is impossible.\n",
        "\n",
        "Example 1: Screenshot_2023-05-29_004311.png\n",
        "\n",
        "Input: original = [1,2,3,4], m = 2, n = 2\n",
        "\n",
        "Output: [[1,2],[3,4]]\n",
        "\n",
        "Explanation: The constructed 2D array should contain 2 rows and 2 columns.\n",
        "\n",
        "The first group of n=2 elements in original, [1,2], becomes the first row in the constructed 2D array.\n",
        "\n",
        "The second group of n=2 elements in original, [3,4], becomes the second row in the constructed 2D array."
      ],
      "metadata": {
        "id": "h5x0j9rdfM_u"
      }
    },
    {
      "cell_type": "code",
      "execution_count": 17,
      "metadata": {
        "colab": {
          "base_uri": "https://localhost:8080/"
        },
        "id": "e0YuMFFIfKfL",
        "outputId": "56520a23-f0ac-453c-f831-270205ed2382"
      },
      "outputs": [
        {
          "output_type": "stream",
          "name": "stdout",
          "text": [
            "[[1, 2], [3, 4]]\n"
          ]
        }
      ],
      "source": [
        "def convert_1d_to_2d(original, m, n):\n",
        "    if len(original) != m * n:\n",
        "        return []\n",
        "\n",
        "    result = [[0] * n for _ in range(m)]\n",
        "    for i in range(len(original)):\n",
        "        row = i // n\n",
        "        col = i % n\n",
        "        result[row][col] = original[i]\n",
        "\n",
        "    return result\n",
        "\n",
        "original = [1,2,3,4]\n",
        "m = 2\n",
        "n = 2\n",
        "print(convert_1d_to_2d(original=original,m=m,n=n))"
      ]
    },
    {
      "cell_type": "markdown",
      "source": [
        "Q2. You have n coins and you want to build a staircase with these coins. The staircase consists of k rows where the ith row has exactly i coins. The last row of the staircase **may be incomplete.* Given the integer n, return the number of *complete rows** of the staircase you will build.\n",
        "\n",
        "Example 1:\n",
        "\n",
        "Screenshot_2023-05-29_004404.png\n",
        "\n",
        "Input: n = 5\n",
        "\n",
        "Output: 2\n",
        "\n",
        "Explanation: Because the 3rd row is incomplete, we return 2."
      ],
      "metadata": {
        "id": "Bv58RIeXfSPd"
      }
    },
    {
      "cell_type": "code",
      "source": [
        "def arrangeCoins(n):\n",
        "    k = 0\n",
        "    while (k * (k + 1)) // 2 <= n:\n",
        "        k += 1\n",
        "    return k - 1\n",
        "\n",
        "n = 5\n",
        "print(arrangeCoins(n=n))"
      ],
      "metadata": {
        "colab": {
          "base_uri": "https://localhost:8080/"
        },
        "id": "t_mNLknKfRBI",
        "outputId": "3e9eb56a-e0b6-4c1b-c1be-9efe1af3d83d"
      },
      "execution_count": 18,
      "outputs": [
        {
          "output_type": "stream",
          "name": "stdout",
          "text": [
            "2\n"
          ]
        }
      ]
    },
    {
      "cell_type": "markdown",
      "source": [
        "Q3. Given an integer array nums sorted in **non-decreasing order, return an array of the squares of each number sorted in non-decreasing order.**\n",
        "\n",
        "Example 1:\n",
        "\n",
        "Input: nums = [-4,-1,0,3,10]\n",
        "\n",
        "Output: [0,1,9,16,100]\n",
        "\n",
        "Explanation: After squaring, the array becomes [16,1,0,9,100].\n",
        "\n",
        "After sorting, it becomes [0,1,9,16,100]."
      ],
      "metadata": {
        "id": "Xe-R2JYtfaC-"
      }
    },
    {
      "cell_type": "code",
      "source": [
        "def sortedSquares(nums):\n",
        "    n = len(nums)\n",
        "    result = [0] * n\n",
        "    left, right = 0, n - 1\n",
        "\n",
        "    for i in range(n - 1, -1, -1):\n",
        "        if abs(nums[left]) > abs(nums[right]):\n",
        "            result[i] = nums[left] ** 2\n",
        "            left += 1\n",
        "        else:\n",
        "            result[i] = nums[right] ** 2\n",
        "            right -= 1\n",
        "\n",
        "    return result\n",
        "\n",
        "nums = [-4, -1, 0, 3, 10]\n",
        "print(sortedSquares(nums))"
      ],
      "metadata": {
        "colab": {
          "base_uri": "https://localhost:8080/"
        },
        "id": "q_fAwpFbfYnw",
        "outputId": "189a2a6f-179b-4e43-dff9-b1848f5733e4"
      },
      "execution_count": 19,
      "outputs": [
        {
          "output_type": "stream",
          "name": "stdout",
          "text": [
            "[0, 1, 9, 16, 100]\n"
          ]
        }
      ]
    },
    {
      "cell_type": "markdown",
      "source": [
        "Q4. Given two **0-indexed integer arrays nums1 and nums2, return a list answer of size 2 where:**\n",
        "\n",
        "answer[0] is a list of all distinct integers in nums1 which are not present in nums2.\n",
        "answer[1] is a list of all distinct integers in nums2 which are not present in nums1.\n",
        "Note that the integers in the lists may be returned in any order.\n",
        "\n",
        "Example 1:\n",
        "\n",
        "Input: nums1 = [1,2,3], nums2 = [2,4,6]\n",
        "\n",
        "Output: [[1,3],[4,6]]\n",
        "\n",
        "Explanation:\n",
        "\n",
        "For nums1, nums1[1] = 2 is present at index 0 of nums2, whereas nums1[0] = 1 and nums1[2] = 3 are not present in nums2. Therefore, answer[0] = [1,3].\n",
        "\n",
        "For nums2, nums2[0] = 2 is present at index 1 of nums1, whereas nums2[1] = 4 and nums2[2] = 6 are not present in nums2. Therefore, answer[1] = [4,6]."
      ],
      "metadata": {
        "id": "X7ErYXK7fiwh"
      }
    },
    {
      "cell_type": "code",
      "source": [
        "def findDisappearedNumbers(nums1, nums2):\n",
        "    set1 = set(nums1)\n",
        "    set2 = set(nums2)\n",
        "\n",
        "    result = []\n",
        "    result.append(list(set1 - set2))\n",
        "    result.append(list(set2 - set1))\n",
        "\n",
        "    return result\n",
        "\n",
        "nums1 = [1, 2, 3]\n",
        "nums2 = [2, 4, 6]\n",
        "print(findDisappearedNumbers(nums1, nums2))"
      ],
      "metadata": {
        "colab": {
          "base_uri": "https://localhost:8080/"
        },
        "id": "yxY2N2hHfiBQ",
        "outputId": "d12cd341-49ac-4436-c524-843df1606f8c"
      },
      "execution_count": 20,
      "outputs": [
        {
          "output_type": "stream",
          "name": "stdout",
          "text": [
            "[[1, 3], [4, 6]]\n"
          ]
        }
      ]
    },
    {
      "cell_type": "markdown",
      "source": [
        "Q5. Given two integer arrays arr1 and arr2, and the integer d, return the distance value between the two arrays. The distance value is defined as the number of elements arr1[i] such that there is not any element arr2[j] where |arr1[i]-arr2[j]| <= d.\n",
        "\n",
        "Example 1:\n",
        "\n",
        "Input: arr1 = [4,5,8], arr2 = [10,9,1,8], d = 2\n",
        "\n",
        "Output: 2"
      ],
      "metadata": {
        "id": "wTkVYu_MfpYn"
      }
    },
    {
      "cell_type": "code",
      "source": [
        "def findTheDistanceValue(arr1, arr2, d):\n",
        "    distance = 0\n",
        "\n",
        "    for num1 in arr1:\n",
        "        for num2 in arr2:\n",
        "            if abs(num1 - num2) <= d:\n",
        "                break\n",
        "        else:\n",
        "            distance += 1\n",
        "\n",
        "    return distance\n",
        "\n",
        "arr1 = [4, 5, 8]\n",
        "arr2 = [10, 9, 1, 8]\n",
        "d = 2\n",
        "print(findTheDistanceValue(arr1, arr2, d))"
      ],
      "metadata": {
        "colab": {
          "base_uri": "https://localhost:8080/"
        },
        "id": "Fre8VvKsfooT",
        "outputId": "f6c7f82d-9cfc-47ac-c5bb-1cd3d5b97f2c"
      },
      "execution_count": 21,
      "outputs": [
        {
          "output_type": "stream",
          "name": "stdout",
          "text": [
            "2\n"
          ]
        }
      ]
    },
    {
      "cell_type": "markdown",
      "source": [
        "Q6. Given an integer array nums of length n where all the integers of nums are in the range [1, n] and each integer appears **once or twice, return an array of all the integers that appears *twice*. You must write an algorithm that runs in O(n) time and uses only constant extra space.\n",
        "\n",
        "Example 1:\n",
        "\n",
        "Input: nums = [4,3,2,7,8,2,3,1]\n",
        "\n",
        "Output:\n",
        "\n",
        "[2,3]"
      ],
      "metadata": {
        "id": "JPoRWAIEfwlw"
      }
    },
    {
      "cell_type": "code",
      "source": [
        "def findDuplicates(nums):\n",
        "    result = []\n",
        "    for num in nums:\n",
        "        index = abs(num)\n",
        "        if nums[index - 1] < 0:\n",
        "            result.append(index)\n",
        "        else:\n",
        "            nums[index - 1] *= -1\n",
        "    return result\n",
        "\n",
        "nums = [4, 3, 2, 7, 8, 2, 3, 1]\n",
        "print(findDuplicates(nums))"
      ],
      "metadata": {
        "colab": {
          "base_uri": "https://localhost:8080/"
        },
        "id": "eXRGyrJHfvSF",
        "outputId": "a2a810be-ec8b-48f7-cffe-1fcf96dab2a2"
      },
      "execution_count": 22,
      "outputs": [
        {
          "output_type": "stream",
          "name": "stdout",
          "text": [
            "[2, 3]\n"
          ]
        }
      ]
    },
    {
      "cell_type": "markdown",
      "source": [
        "Q7. Suppose an array of length n sorted in ascending order is **rotated between 1 and n times. For example, the array nums = [0,1,2,4,5,6,7] might become:**\n",
        "\n",
        "[4,5,6,7,0,1,2] if it was rotated 4 times.\n",
        "[0,1,2,4,5,6,7] if it was rotated 7 times.\n",
        "Notice that rotating an array [a[0], a[1], a[2], ..., a[n-1]] 1 time results in the array [a[n-1], a[0], a[1], a[2], ..., a[n-2]].\n",
        "\n",
        "Given the sorted rotated array nums of unique elements, return the minimum element of this array.\n",
        "\n",
        "You must write an algorithm that runs in O(log n) time.\n",
        "\n",
        "Example 1:\n",
        "\n",
        "Input: nums = [3,4,5,1,2]\n",
        "\n",
        "Output: 1\n",
        "\n",
        "Explanation:\n",
        "\n",
        "The original array was [1,2,3,4,5] rotated 3 times."
      ],
      "metadata": {
        "id": "hQIOkKM1f3IK"
      }
    },
    {
      "cell_type": "code",
      "source": [
        "def findMin(nums):\n",
        "    left, right = 0, len(nums) - 1\n",
        "\n",
        "    while left < right:\n",
        "        mid = left + (right - left) // 2\n",
        "\n",
        "        if nums[mid] > nums[right]:\n",
        "            left = mid + 1\n",
        "        else:\n",
        "            right = mid\n",
        "\n",
        "    return nums[left]\n",
        "\n",
        "nums = [3, 4, 5, 1, 2]\n",
        "print(findMin(nums))"
      ],
      "metadata": {
        "colab": {
          "base_uri": "https://localhost:8080/"
        },
        "id": "CDbgJ57of2Zn",
        "outputId": "06a294fa-e8e7-4f9f-9e08-09a4274e2905"
      },
      "execution_count": 15,
      "outputs": [
        {
          "output_type": "stream",
          "name": "stdout",
          "text": [
            "5 12 7 10 17 2 12 7 10 17 2 "
          ]
        }
      ]
    },
    {
      "cell_type": "markdown",
      "source": [
        "Q8. An integer array original is transformed into a **doubled array changed by appending twice the value of every element in original, and then randomly shuffling the resulting array. Given an array changed, return original if changed is a doubled array. If changed is not a doubled array, return an empty array. The elements in original may be returned in any order.**\n",
        "\n",
        "Example 1:\n",
        "\n",
        "Input: changed = [1,3,4,2,6,8]\n",
        "\n",
        "Output: [1,3,4]\n",
        "\n",
        "Explanation: One possible original array could be [1,3,4]:\n",
        "\n",
        "Twice the value of 1 is 1 * 2 = 2.\n",
        "Twice the value of 3 is 3 * 2 = 6.\n",
        "Twice the value of 4 is 4 * 2 = 8.\n",
        "Other original arrays could be [4,3,1] or [3,1,4]."
      ],
      "metadata": {
        "id": "sfQ4W5pif-MS"
      }
    },
    {
      "cell_type": "code",
      "source": [
        "from collections import defaultdict\n",
        "\n",
        "def findOriginalArray(changed):\n",
        "    if len(changed) % 2 != 0:\n",
        "        return []\n",
        "\n",
        "    freq = defaultdict(int)\n",
        "    original = []\n",
        "\n",
        "    for num in changed:\n",
        "        freq[num] += 1\n",
        "\n",
        "    for num in sorted(changed):\n",
        "        if freq[num] > 0:\n",
        "            if freq[num * 2] > 0:\n",
        "                freq[num * 2] -= 1\n",
        "                original.append(num)\n",
        "            else:\n",
        "                return []\n",
        "\n",
        "    return original\n",
        "changed = [1, 3, 4, 2, 6, 8]\n",
        "print(findOriginalArray(changed))"
      ],
      "metadata": {
        "colab": {
          "base_uri": "https://localhost:8080/"
        },
        "id": "_FTst-X-f9HE",
        "outputId": "591dab7e-4716-4e52-ddbc-7ec3e01b3675"
      },
      "execution_count": 23,
      "outputs": [
        {
          "output_type": "stream",
          "name": "stdout",
          "text": [
            "[1, 3, 4]\n"
          ]
        }
      ]
    },
    {
      "cell_type": "code",
      "source": [],
      "metadata": {
        "id": "-cP5H0lXgDTr"
      },
      "execution_count": null,
      "outputs": []
    }
  ]
}