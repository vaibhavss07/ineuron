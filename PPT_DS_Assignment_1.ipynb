{
  "nbformat": 4,
  "nbformat_minor": 0,
  "metadata": {
    "colab": {
      "provenance": []
    },
    "kernelspec": {
      "name": "python3",
      "display_name": "Python 3"
    },
    "language_info": {
      "name": "python"
    }
  },
  "cells": [
    {
      "cell_type": "markdown",
      "source": [
        "1. Write a Python program to reverse a string without using any built-in string reversal functions.\n",
        "2. Implement a function to check if a given string is a palindrome.\n",
        "3. Write a program to find the largest element in a given list.\n",
        "4. Implement a function to count the occurrence of each element in a list.\n",
        "5. Write a Python program to find the second largest number in a list.\n",
        "6. Implement a function to remove duplicate elements from a list.\n",
        "7. Write a program to calculate the factorial of a given number.\n",
        "8. Implement a function to check if a given number is prime.\n",
        "9. Write a Python program to sort a list of integers in ascending order.\n",
        "10. Implement a function to find the sum of all numbers in a list.\n",
        "11. Write a program to find the common elements between two lists.\n",
        "12. Implement a function to check if a given string is an anagram of another string.\n",
        "13. Write a Python program to generate all permutations of a given string.\n",
        "14. Implement a function to calculate the Fibonacci sequence up to a given number of terms.\n",
        "15. Write a program to find the median of a list of numbers.\n",
        "16. Implement a function to check if a given list is sorted in non-decreasing order.\n",
        "17. Write a Python program to find the intersection of two lists.\n",
        "18. Implement a function to find the maximum subarray sum in a given list.\n",
        "19. Write a program to remove all vowels from a given string.\n",
        "20. Implement a function to reverse the order of words in a given sentence.\n",
        "21. Write a Python program to check if two strings are anagrams of each other.\n",
        "22. Implement a function to find the first non-repeating character in a string.\n",
        "23. Write a program to find the prime factors of a given number.\n",
        "24. Implement a function to check if a given number is a power of two.\n",
        "25. Write a Python program to merge two sorted lists into a single sorted list.\n",
        "26. Implement a function to find the mode of a list of numbers.\n",
        "27. Write a program to find the greatest common divisor (GCD) of two numbers.\n",
        "28. Implement a function to calculate the square root of a given number.\n",
        "29. Write a Python program to check if a given string is a valid palindrome ignoring non-alphanumeric characters.\n",
        "30. Implement a function to find the minimum element in a rotated sorted list.\n",
        "31. Write a program to find the sum of all even numbers in a list.\n",
        "32. Implement a function to calculate the power of a number using recursion.\n",
        "33. Write a Python program to remove duplicates from a list while preserving the order.\n",
        "34. Implement a function to find the longest common prefix among a list of strings.\n",
        "35. Write a program to check if a given number is a perfect square.\n",
        "36. Implement a function to calculate the product of all elements in a list.\n",
        "37. Write a Python program to reverse the order of words in a sentence while preserving the word order.\n",
        "38. Implement a function to find the missing number in a given list of consecutive numbers.\n",
        "39. Write a program to find the sum of digits of a given number.\n",
        "40. Implement a function to check if a given string is a valid palindrome considering case sensitivity.\n",
        "41. Write a Python program to find the smallest missing positive integer in a list.\n",
        "42. Implement a function to find the longest palindrome substring in a given string.\n",
        "43. Write a program to find the number of occurrences of a given element in a list.\n",
        "44. Implement a function to check if a given number is a perfect number.\n",
        "45. Write a Python program to remove all duplicates from a string.\n",
        "46. Implement a function to find the first missing positive"
      ],
      "metadata": {
        "id": "ievnD88r47ZJ"
      }
    },
    {
      "cell_type": "code",
      "execution_count": 1,
      "metadata": {
        "id": "y_wRqfqritYq"
      },
      "outputs": [],
      "source": [
        "#1\n",
        "def find_first_missing_positive(nums):\n",
        "    n = len(nums)\n",
        "\n",
        "    # Move all non-positive numbers to the left\n",
        "    i = 0\n",
        "    while i < n:\n",
        "        if nums[i] <= 0 or nums[i] > n:\n",
        "            i += 1\n",
        "        elif nums[nums[i] - 1] != nums[i]:\n",
        "            nums[nums[i] - 1], nums[i] = nums[i], nums[nums[i] - 1]\n",
        "        else:\n",
        "            i += 1\n",
        "\n",
        "    # Find the first missing positive\n",
        "    for i in range(n):\n",
        "        if nums[i] != i + 1:\n",
        "            return i + 1\n",
        "\n",
        "    return n + 1\n"
      ]
    },
    {
      "cell_type": "code",
      "source": [
        "#2\n",
        "def remove_duplicates(string):\n",
        "    unique_chars = set()\n",
        "    result = ''\n",
        "\n",
        "    for char in string:\n",
        "        if char not in unique_chars:\n",
        "            result += char\n",
        "            unique_chars.add(char)\n",
        "\n",
        "    return result\n"
      ],
      "metadata": {
        "id": "zQwR3GVO5JK2"
      },
      "execution_count": 47,
      "outputs": []
    },
    {
      "cell_type": "code",
      "source": [
        "#3\n",
        "def is_perfect_number(num):\n",
        "    if num <= 1:\n",
        "        return False\n",
        "\n",
        "    divisors = [1]\n",
        "    for i in range(2, int(num**0.5) + 1):\n",
        "        if num % i == 0:\n",
        "            divisors.append(i)\n",
        "            if i != num // i:\n",
        "                divisors.append(num // i)\n",
        "\n",
        "    return sum(divisors) == num\n"
      ],
      "metadata": {
        "id": "EuiuQ1Tn5S2D"
      },
      "execution_count": 48,
      "outputs": []
    },
    {
      "cell_type": "code",
      "source": [
        "#4\n",
        "def count_occurrences(nums, target):\n",
        "    count = 0\n",
        "    for num in nums:\n",
        "        if num == target:\n",
        "            count += 1\n",
        "    return count\n"
      ],
      "metadata": {
        "id": "nc0tpC8o5T8O"
      },
      "execution_count": 49,
      "outputs": []
    },
    {
      "cell_type": "code",
      "source": [
        "#5\n",
        "def longest_palindrome_substring(string):\n",
        "    n = len(string)\n",
        "    longest_palindrome = ''\n",
        "\n",
        "    # Check odd-length palindromes\n",
        "    for i in range(n):\n",
        "        left = right = i\n",
        "        while left >= 0 and right < n and string[left] == string[right]:\n",
        "            left -= 1\n",
        "            right += 1\n",
        "        current_palindrome = string[left + 1:right]\n",
        "        if len(current_palindrome) > len(longest_palindrome):\n",
        "            longest_palindrome = current_palindrome\n",
        "\n",
        "    # Check even-length palindromes\n",
        "    for i in range(n - 1):\n",
        "        left = i\n",
        "        right = i + 1\n",
        "        while left >= 0 and right < n and string[left] == string[right]:\n",
        "            left -= 1\n",
        "            right += 1\n",
        "        current_palindrome = string[left + 1:right]\n",
        "        if len(current_palindrome) > len(longest_palindrome):\n",
        "            longest_palindrome = current_palindrome\n",
        "\n",
        "    return longest_palindrome\n"
      ],
      "metadata": {
        "id": "RSJIG49J5VJS"
      },
      "execution_count": 50,
      "outputs": []
    },
    {
      "cell_type": "code",
      "source": [
        "#6\n",
        "def find_smallest_missing_positive(nums):\n",
        "    n = len(nums)\n",
        "\n",
        "    # Move all non-positive numbers to the left\n",
        "    i = 0\n",
        "    while i < n:\n",
        "        if nums[i] <= 0 or nums[i] > n:\n",
        "            i += 1\n",
        "        elif nums[nums[i] - 1] != nums[i]:\n",
        "            nums[nums[i] - 1], nums[i] = nums[i], nums[nums[i] - 1]\n",
        "        else:\n",
        "            i += 1\n",
        "\n",
        "    # Find the smallest missing positive\n",
        "    for i in range(n):\n",
        "        if nums[i] != i + 1:\n",
        "            return i + 1\n",
        "\n",
        "    return n + 1\n"
      ],
      "metadata": {
        "id": "Xuu2CW-b5WJe"
      },
      "execution_count": 51,
      "outputs": []
    },
    {
      "cell_type": "code",
      "source": [
        "#7\n",
        "def is_valid_palindrome(string):\n",
        "    left = 0\n",
        "    right = len(string) - 1\n",
        "\n",
        "    while left < right:\n",
        "        if string[left] != string[right]:\n",
        "            return False\n",
        "        left += 1\n",
        "        right -= 1\n",
        "\n",
        "    return True\n"
      ],
      "metadata": {
        "id": "0IH_uiIR5XGA"
      },
      "execution_count": 52,
      "outputs": []
    },
    {
      "cell_type": "code",
      "source": [
        "#8\n",
        "def sum_of_digits(num):\n",
        "    total = 0\n",
        "    while num > 0:\n",
        "        total += num % 10\n",
        "        num //= 10\n",
        "    return total\n"
      ],
      "metadata": {
        "id": "XANqq6OM5Y2V"
      },
      "execution_count": 53,
      "outputs": []
    },
    {
      "cell_type": "code",
      "source": [
        "#9\n",
        "def find_missing_number(nums):\n",
        "    n = len(nums) + 1\n",
        "    expected_sum = (n * (n + 1)) // 2\n",
        "    actual_sum = sum(nums)\n",
        "    return expected_sum - actual_sum\n"
      ],
      "metadata": {
        "id": "Z5urFNCt5aov"
      },
      "execution_count": 54,
      "outputs": []
    },
    {
      "cell_type": "code",
      "source": [
        "#10\n",
        "def reverse_sentence(sentence):\n",
        "    words = sentence.split()\n",
        "    reversed_words = words[::-1]\n",
        "    reversed_sentence = ' '.join(reversed_words)\n",
        "    return reversed_sentence\n"
      ],
      "metadata": {
        "id": "pAiTS5ml5cB8"
      },
      "execution_count": 55,
      "outputs": []
    },
    {
      "cell_type": "code",
      "source": [
        "#11\n",
        "def calculate_product(nums):\n",
        "    product = 1\n",
        "    for num in nums:\n",
        "        product *= num\n",
        "    return product\n"
      ],
      "metadata": {
        "id": "VfqHt_mU5cqA"
      },
      "execution_count": 56,
      "outputs": []
    },
    {
      "cell_type": "code",
      "source": [
        "#12\n",
        "def is_perfect_square(num):\n",
        "    root = int(num ** 0.5)\n",
        "    return root * root == num\n"
      ],
      "metadata": {
        "id": "M7x5xLCM5dOj"
      },
      "execution_count": 57,
      "outputs": []
    },
    {
      "cell_type": "code",
      "source": [
        "#13\n",
        "def longest_common_prefix(strings):\n",
        "    if not strings:\n",
        "        return ''\n",
        "\n",
        "    prefix = ''\n",
        "    for char in strings[0]:\n",
        "        for string in strings[1:]:\n",
        "            if len(string) < len(prefix) + 1 or string[len(prefix)] != char:\n",
        "                return prefix\n",
        "        prefix += char\n",
        "\n",
        "    return prefix\n"
      ],
      "metadata": {
        "id": "y-x-P6Bn5dy2"
      },
      "execution_count": 58,
      "outputs": []
    },
    {
      "cell_type": "code",
      "source": [
        "#14\n",
        "def remove_duplicates_preserve_order(nums):\n",
        "    unique_nums = []\n",
        "    for num in nums:\n",
        "        if num not in unique_nums:\n",
        "            unique_nums.append(num)\n",
        "    return unique_nums\n"
      ],
      "metadata": {
        "id": "vvXzSf7U5fHV"
      },
      "execution_count": 59,
      "outputs": []
    },
    {
      "cell_type": "code",
      "source": [
        "#15\n",
        "def power(base, exponent):\n",
        "    if exponent == 0:\n",
        "        return 1\n",
        "    elif exponent < 0:\n",
        "        return 1 / power(base, -exponent)\n",
        "    elif exponent % 2 == 0:\n",
        "        return power(base * base, exponent // 2)\n",
        "    else:\n",
        "        return base * power(base * base, (exponent - 1) // 2)\n"
      ],
      "metadata": {
        "id": "os-ujypU5f9T"
      },
      "execution_count": 60,
      "outputs": []
    },
    {
      "cell_type": "code",
      "source": [
        "#16\n",
        "def sum_of_even_numbers(nums):\n",
        "    return sum(num for num in nums if num % 2 == 0)\n"
      ],
      "metadata": {
        "id": "JBAWZaxa5gj3"
      },
      "execution_count": 61,
      "outputs": []
    },
    {
      "cell_type": "code",
      "source": [
        "#17\n",
        "def find_minimum(nums):\n",
        "    left = 0\n",
        "    right = len(nums) - 1\n",
        "\n",
        "    while left < right:\n",
        "        mid = (left + right) // 2\n",
        "\n",
        "        if nums[mid] > nums[right]:\n",
        "            left = mid + 1\n",
        "        else:\n",
        "            right = mid\n",
        "\n",
        "    return nums[left]\n"
      ],
      "metadata": {
        "id": "rx0-vj7H5hcK"
      },
      "execution_count": 63,
      "outputs": []
    },
    {
      "cell_type": "code",
      "source": [
        "#18\n",
        "def is_valid_palindrome_ignore_non_alphanumeric(string):\n",
        "    alphanumeric_chars = [char.lower() for char in string if char.isalnum()]\n",
        "    return alphanumeric_chars == alphanumeric_chars[::-1]\n"
      ],
      "metadata": {
        "id": "0MF6kYBw5iqV"
      },
      "execution_count": 64,
      "outputs": []
    },
    {
      "cell_type": "code",
      "source": [
        "#19\n",
        "def square_root(num):\n",
        "    if num < 0:\n",
        "        raise ValueError(\"Square root is not defined for negative numbers.\")\n",
        "\n",
        "    if num == 0:\n",
        "        return 0\n",
        "\n",
        "    # Initial guess for square root\n",
        "    guess = num / 2\n",
        "\n",
        "    # Newton's method for approximating square root\n",
        "    while True:\n",
        "        new_guess = (guess + num / guess) / 2\n",
        "        if abs(new_guess - guess) < 1e-6:\n",
        "            return new_guess\n",
        "        guess = new_guess\n"
      ],
      "metadata": {
        "id": "hoB3W0Hs5jqR"
      },
      "execution_count": 65,
      "outputs": []
    },
    {
      "cell_type": "code",
      "source": [
        "#20\n",
        "def gcd(a, b):\n",
        "    while b != 0:\n",
        "        a, b = b, a % b\n",
        "    return a\n"
      ],
      "metadata": {
        "id": "vFDKi2QI5klM"
      },
      "execution_count": 66,
      "outputs": []
    },
    {
      "cell_type": "code",
      "source": [
        "#21\n",
        "from collections import Counter\n",
        "\n",
        "def find_mode(nums):\n",
        "    counter = Counter(nums)\n",
        "    max_count = max(counter.values())\n",
        "    modes = [num for num, count in counter.items() if count == max_count]\n",
        "    return modes\n"
      ],
      "metadata": {
        "id": "N2OG1Vqz5lcU"
      },
      "execution_count": 67,
      "outputs": []
    },
    {
      "cell_type": "code",
      "source": [
        "#22\n",
        "def merge_sorted_lists(list1, list2):\n",
        "    merged_list = []\n",
        "    i = j = 0\n",
        "\n",
        "    while i < len(list1) and j < len(list2):\n",
        "        if list1[i] < list2[j]:\n",
        "            merged_list.append(list1[i])\n",
        "            i += 1\n",
        "        else:\n",
        "            merged_list.append(list2[j])\n",
        "            j += 1\n",
        "\n",
        "    merged_list.extend(list1[i:])\n",
        "    merged_list.extend(list2[j:])\n",
        "\n",
        "    return merged_list\n"
      ],
      "metadata": {
        "id": "LdVMMPbE5mOS"
      },
      "execution_count": 68,
      "outputs": []
    },
    {
      "cell_type": "code",
      "source": [
        "#23\n",
        "def is_power_of_two(num):\n",
        "    if num <= 0:\n",
        "        return False\n",
        "    return (num & (num - 1)) == 0\n"
      ],
      "metadata": {
        "id": "fld_PDSN5m3r"
      },
      "execution_count": 69,
      "outputs": []
    },
    {
      "cell_type": "code",
      "source": [
        "#24\n",
        "def prime_factors(num):\n",
        "    factors = []\n",
        "    divisor = 2\n",
        "\n",
        "    while divisor * divisor <= num:\n",
        "        if num % divisor == 0:\n",
        "            factors.append(divisor)\n",
        "            num //= divisor\n",
        "        else:\n",
        "            divisor += 1\n",
        "\n",
        "    if num > 1:\n",
        "        factors.append(num)\n",
        "\n",
        "    return factors\n"
      ],
      "metadata": {
        "id": "9llTjwqS5ngX"
      },
      "execution_count": 70,
      "outputs": []
    },
    {
      "cell_type": "code",
      "source": [
        "#25\n",
        "from collections import Counter\n",
        "\n",
        "def first_non_repeating_character(string):\n",
        "    counter = Counter(string)\n",
        "    for char in string:\n",
        "        if counter[char] == 1:\n",
        "            return char\n",
        "    return None\n"
      ],
      "metadata": {
        "id": "YBG8B-Yo5oWA"
      },
      "execution_count": 71,
      "outputs": []
    },
    {
      "cell_type": "code",
      "source": [
        "#26\n",
        "def is_anagram(string1, string2):\n",
        "    return sorted(string1) == sorted(string2)\n"
      ],
      "metadata": {
        "id": "bOUbpiqK5pDn"
      },
      "execution_count": 72,
      "outputs": []
    },
    {
      "cell_type": "code",
      "source": [
        "#27\n",
        "def reverse_words(sentence):\n",
        "    words = sentence.split()\n",
        "    reversed_words = words[::-1]\n",
        "    reversed_sentence = ' '.join(reversed_words)\n",
        "    return reversed_sentence\n"
      ],
      "metadata": {
        "id": "V3jPXykc5qRP"
      },
      "execution_count": 73,
      "outputs": []
    },
    {
      "cell_type": "code",
      "source": [
        "#28\n",
        "def remove_vowels(string):\n",
        "    vowels = 'aeiouAEIOU'\n",
        "    return ''.join(char for char in string if char not in vowels)\n"
      ],
      "metadata": {
        "id": "YAPeO9R25q3X"
      },
      "execution_count": 74,
      "outputs": []
    },
    {
      "cell_type": "code",
      "source": [
        "#29\n",
        "def find_maximum_subarray_sum(nums):\n",
        "    max_sum = float('-inf')\n",
        "    current_sum = 0\n",
        "\n",
        "    for num in nums:\n",
        "        current_sum = max(current_sum + num, num)\n",
        "        max_sum = max(max_sum, current_sum)\n",
        "\n",
        "    return max_sum\n"
      ],
      "metadata": {
        "id": "g6CSona_5rl0"
      },
      "execution_count": 75,
      "outputs": []
    },
    {
      "cell_type": "code",
      "source": [
        "#30\n",
        "def find_intersection(list1, list2):\n",
        "    set1 = set(list1)\n",
        "    set2 = set(list2)\n",
        "    intersection = set1.intersection(set2)\n",
        "    return list(intersection)\n"
      ],
      "metadata": {
        "id": "3IPAIcdY5sRL"
      },
      "execution_count": 76,
      "outputs": []
    },
    {
      "cell_type": "code",
      "source": [
        "#31\n",
        "def is_sorted(nums):\n",
        "    return all(nums[i] <= nums[i + 1] for i in range(len(nums) - 1))\n"
      ],
      "metadata": {
        "id": "aqgEl0_65tEp"
      },
      "execution_count": 77,
      "outputs": []
    },
    {
      "cell_type": "code",
      "source": [
        "#32\n",
        "def find_median(nums):\n",
        "    sorted_nums = sorted(nums)\n",
        "    n = len(sorted_nums)\n",
        "\n",
        "    if n % 2 == 0:\n",
        "        return (sorted_nums[n // 2 - 1] + sorted_nums[n // 2]) / 2\n",
        "    else:\n",
        "        return sorted_nums[n // 2]\n"
      ],
      "metadata": {
        "id": "ozRNs4EL5t8l"
      },
      "execution_count": 78,
      "outputs": []
    },
    {
      "cell_type": "code",
      "source": [
        "#33\n",
        "def fibonacci_sequence(n):\n",
        "    sequence = [0, 1]\n",
        "\n",
        "    for i in range(2, n):\n",
        "        next_term = sequence[i - 1] + sequence[i - 2]\n",
        "        sequence.append(next_term)\n",
        "\n",
        "    return sequence[:n]\n"
      ],
      "metadata": {
        "id": "zHrqzWsf5uk-"
      },
      "execution_count": 79,
      "outputs": []
    },
    {
      "cell_type": "code",
      "source": [
        "#34\n",
        "from itertools import permutations\n",
        "\n",
        "def generate_permutations(string):\n",
        "    return [''.join(perm) for perm in permutations(string)]\n"
      ],
      "metadata": {
        "id": "fiQVPEcd5vNR"
      },
      "execution_count": 80,
      "outputs": []
    },
    {
      "cell_type": "code",
      "source": [
        "#35\n",
        "def is_anagram(string1, string2):\n",
        "    return sorted(string1) == sorted(string2)\n"
      ],
      "metadata": {
        "id": "Da9TS1yw5v3y"
      },
      "execution_count": 81,
      "outputs": []
    },
    {
      "cell_type": "code",
      "source": [
        "#36\n",
        "def find_common_elements(list1, list2):\n",
        "    set1 = set(list1)\n",
        "    set2 = set(list2)\n",
        "    common_elements = set1.intersection(set2)\n",
        "    return list(common_elements)\n"
      ],
      "metadata": {
        "id": "_1_uMz3Z5wja"
      },
      "execution_count": 82,
      "outputs": []
    },
    {
      "cell_type": "code",
      "source": [
        "#37\n",
        "def calculate_sum(nums):\n",
        "    return sum(nums)\n"
      ],
      "metadata": {
        "id": "DCMowgHF5xLJ"
      },
      "execution_count": 83,
      "outputs": []
    },
    {
      "cell_type": "code",
      "source": [
        "#38\n",
        "def sort_list(nums):\n",
        "    return sorted(nums)\n"
      ],
      "metadata": {
        "id": "xgEGCxJp5yIO"
      },
      "execution_count": 84,
      "outputs": []
    },
    {
      "cell_type": "code",
      "source": [
        "#39\n",
        "def is_prime(num):\n",
        "    if num < 2:\n",
        "        return False\n",
        "\n",
        "    for i in range(2, int(num ** 0.5) + 1):\n",
        "        if num % i == 0:\n",
        "            return False\n",
        "\n",
        "    return True\n"
      ],
      "metadata": {
        "id": "bFyufPwp5y81"
      },
      "execution_count": 85,
      "outputs": []
    },
    {
      "cell_type": "code",
      "source": [
        "#40\n",
        "def factorial(num):\n",
        "    if num < 0:\n",
        "        raise ValueError(\"Factorial is not defined for negative numbers.\")\n",
        "\n",
        "    result = 1\n",
        "    for i in range(1, num + 1):\n",
        "        result *= i\n",
        "\n",
        "    return result\n"
      ],
      "metadata": {
        "id": "dyxhFQYf5zrH"
      },
      "execution_count": 86,
      "outputs": []
    },
    {
      "cell_type": "code",
      "source": [
        "#41\n",
        "def remove_duplicates(nums):\n",
        "    return list(set(nums))\n"
      ],
      "metadata": {
        "id": "xB9b3WEC50Vh"
      },
      "execution_count": 87,
      "outputs": []
    },
    {
      "cell_type": "code",
      "source": [
        "#42\n",
        "def find_second_largest(nums):\n",
        "    if len(nums) < 2:\n",
        "        raise ValueError(\"List must contain at least two elements.\")\n",
        "\n",
        "    largest = second_largest = float('-inf')\n",
        "\n",
        "    for num in nums:\n",
        "        if num > largest:\n",
        "            second_largest = largest\n",
        "            largest = num\n",
        "        elif num > second_largest and num < largest:\n",
        "            second_largest = num\n",
        "\n",
        "    return second_largest\n"
      ],
      "metadata": {
        "id": "rZ7RhUM2514_"
      },
      "execution_count": 88,
      "outputs": []
    },
    {
      "cell_type": "code",
      "source": [
        "#43\n",
        "def count_occurrences(nums):\n",
        "    counter = {}\n",
        "\n",
        "    for num in nums:\n",
        "        counter[num] = counter.get(num, 0) + 1\n",
        "\n",
        "    return counter\n"
      ],
      "metadata": {
        "id": "phsr4o9C52gy"
      },
      "execution_count": 89,
      "outputs": []
    },
    {
      "cell_type": "code",
      "source": [
        "#44\n",
        "def find_largest(nums):\n",
        "    if not nums:\n",
        "        raise ValueError(\"List is empty.\")\n",
        "\n",
        "    largest = float('-inf')\n",
        "\n",
        "    for num in nums:\n",
        "        if num > largest:\n",
        "            largest = num\n",
        "\n",
        "    return largest\n"
      ],
      "metadata": {
        "id": "c1-Qc1Ot53KE"
      },
      "execution_count": 90,
      "outputs": []
    },
    {
      "cell_type": "code",
      "source": [
        "#45\n",
        "def is_palindrome(string):\n",
        "    return string == string[::-1]\n"
      ],
      "metadata": {
        "id": "AaPql1mk531p"
      },
      "execution_count": 91,
      "outputs": []
    },
    {
      "cell_type": "code",
      "source": [
        "#46\n",
        "def reverse_string(string):\n",
        "    return string[::-1]\n"
      ],
      "metadata": {
        "id": "OOpzft9O54a5"
      },
      "execution_count": 92,
      "outputs": []
    },
    {
      "cell_type": "code",
      "source": [],
      "metadata": {
        "id": "0gGhaaPU55KT"
      },
      "execution_count": null,
      "outputs": []
    }
  ]
}